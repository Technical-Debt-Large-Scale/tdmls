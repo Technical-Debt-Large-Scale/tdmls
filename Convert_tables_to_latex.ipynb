{
 "cells": [
  {
   "cell_type": "code",
   "execution_count": 1,
   "metadata": {},
   "outputs": [],
   "source": [
    "import pandas as pd"
   ]
  },
  {
   "cell_type": "code",
   "execution_count": 2,
   "metadata": {},
   "outputs": [],
   "source": [
    "my_findings = ['It is necessary to identify not only TD regarding code but other types of TD',\n",
    "'There is more influence of no Technical TD prioritization then Technical prioritization',\n",
    "'It is essential to define a systematic and integration process to manage TD in GSE large-scale projects',\n",
    "'The main strategy to pay TD is refactoring, test automation, build automation and news implementations to satisfy the customer prioritization',\n",
    "'The main aspect to control the communication in GSE large-scale project is periodical meetings and steering meetings',\n",
    "'It is necessary to define systematic and formal process documentation to record the TD and the traceability of TD',\n",
    "'It is essential the adoption of good practices and software patterns during the planning phase, during the implementation, code reviews and use of automatic tools for review of code implementation',\n",
    "'The complexity of TD grows as the GSE large-scale project complexity increased',\n",
    "'The amount of existing TD and the required time for reducing TD depends on the common understanding between development teams and business team',\n",
    "'Team experience has repercussions on the existing percentage of TD',\n",
    "'A convergence in understanding between Technical Team and Business Team is necessary to reducing the TD',\n",
    "'It is required to allocate more resources such as time, integration tool, budget and systematic process is considered to reducing TD']"
   ]
  },
  {
   "cell_type": "code",
   "execution_count": 4,
   "metadata": {},
   "outputs": [
    {
     "data": {
      "text/plain": [
       "['It is necessary to identify not only TD regarding code but other types of TD',\n",
       " 'There is more influence of no Technical TD prioritization then Technical prioritization',\n",
       " 'It is essential to define a systematic and integration process to manage TD in GSE large-scale projects',\n",
       " 'The main strategy to pay TD is refactoring, test automation, build automation and news implementations to satisfy the customer prioritization',\n",
       " 'The main aspect to control the communication in GSE large-scale project is periodical meetings and steering meetings',\n",
       " 'It is necessary to define systematic and formal process documentation to record the TD and the traceability of TD',\n",
       " 'It is essential the adoption of good practices and software patterns during the planning phase, during the implementation, code reviews and use of automatic tools for review of code implementation',\n",
       " 'The complexity of TD grows as the GSE large-scale project complexity increased',\n",
       " 'The amount of existing TD and the required time for reducing TD depends on the common understanding between development teams and business team',\n",
       " 'Team experience has repercussions on the existing percentage of TD',\n",
       " 'A convergence in understanding between Technical Team and Business Team is necessary to reducing the TD',\n",
       " 'It is required to allocate more resources such as time, integration tool, budget and systematic process is considered to reducing TD']"
      ]
     },
     "execution_count": 4,
     "metadata": {},
     "output_type": "execute_result"
    }
   ],
   "source": [
    "my_findings"
   ]
  },
  {
   "cell_type": "code",
   "execution_count": 5,
   "metadata": {},
   "outputs": [
    {
     "data": {
      "text/plain": [
       "12"
      ]
     },
     "execution_count": 5,
     "metadata": {},
     "output_type": "execute_result"
    }
   ],
   "source": [
    "len(my_findings)"
   ]
  },
  {
   "cell_type": "code",
   "execution_count": 8,
   "metadata": {},
   "outputs": [],
   "source": [
    "my_findings_id = list(range(1,len(my_findings)+1))"
   ]
  },
  {
   "cell_type": "code",
   "execution_count": 9,
   "metadata": {},
   "outputs": [
    {
     "data": {
      "text/plain": [
       "[1, 2, 3, 4, 5, 6, 7, 8, 9, 10, 11, 12]"
      ]
     },
     "execution_count": 9,
     "metadata": {},
     "output_type": "execute_result"
    }
   ],
   "source": [
    "my_findings_id"
   ]
  },
  {
   "cell_type": "code",
   "execution_count": 10,
   "metadata": {},
   "outputs": [],
   "source": [
    "my_dict_findings = {'Id':my_findings_id, 'Findings':my_findings}"
   ]
  },
  {
   "cell_type": "code",
   "execution_count": 11,
   "metadata": {},
   "outputs": [
    {
     "data": {
      "text/plain": [
       "{'Id': [1, 2, 3, 4, 5, 6, 7, 8, 9, 10, 11, 12],\n",
       " 'Findings': ['It is necessary to identify not only TD regarding code but other types of TD',\n",
       "  'There is more influence of no Technical TD prioritization then Technical prioritization',\n",
       "  'It is essential to define a systematic and integration process to manage TD in GSE large-scale projects',\n",
       "  'The main strategy to pay TD is refactoring, test automation, build automation and news implementations to satisfy the customer prioritization',\n",
       "  'The main aspect to control the communication in GSE large-scale project is periodical meetings and steering meetings',\n",
       "  'It is necessary to define systematic and formal process documentation to record the TD and the traceability of TD',\n",
       "  'It is essential the adoption of good practices and software patterns during the planning phase, during the implementation, code reviews and use of automatic tools for review of code implementation',\n",
       "  'The complexity of TD grows as the GSE large-scale project complexity increased',\n",
       "  'The amount of existing TD and the required time for reducing TD depends on the common understanding between development teams and business team',\n",
       "  'Team experience has repercussions on the existing percentage of TD',\n",
       "  'A convergence in understanding between Technical Team and Business Team is necessary to reducing the TD',\n",
       "  'It is required to allocate more resources such as time, integration tool, budget and systematic process is considered to reducing TD']}"
      ]
     },
     "execution_count": 11,
     "metadata": {},
     "output_type": "execute_result"
    }
   ],
   "source": [
    "my_dict_findings"
   ]
  },
  {
   "cell_type": "code",
   "execution_count": 15,
   "metadata": {},
   "outputs": [],
   "source": [
    "df_my_findings = pd.DataFrame(my_dict_findings)\n",
    "df_my_findings.reset_index(drop=True, inplace=True)"
   ]
  },
  {
   "cell_type": "code",
   "execution_count": 16,
   "metadata": {},
   "outputs": [
    {
     "data": {
      "text/html": [
       "<div>\n",
       "<style scoped>\n",
       "    .dataframe tbody tr th:only-of-type {\n",
       "        vertical-align: middle;\n",
       "    }\n",
       "\n",
       "    .dataframe tbody tr th {\n",
       "        vertical-align: top;\n",
       "    }\n",
       "\n",
       "    .dataframe thead th {\n",
       "        text-align: right;\n",
       "    }\n",
       "</style>\n",
       "<table border=\"1\" class=\"dataframe\">\n",
       "  <thead>\n",
       "    <tr style=\"text-align: right;\">\n",
       "      <th></th>\n",
       "      <th>Id</th>\n",
       "      <th>Findings</th>\n",
       "    </tr>\n",
       "  </thead>\n",
       "  <tbody>\n",
       "    <tr>\n",
       "      <th>0</th>\n",
       "      <td>1</td>\n",
       "      <td>It is necessary to identify not only TD regard...</td>\n",
       "    </tr>\n",
       "    <tr>\n",
       "      <th>1</th>\n",
       "      <td>2</td>\n",
       "      <td>There is more influence of no Technical TD pri...</td>\n",
       "    </tr>\n",
       "    <tr>\n",
       "      <th>2</th>\n",
       "      <td>3</td>\n",
       "      <td>It is essential to define a systematic and int...</td>\n",
       "    </tr>\n",
       "    <tr>\n",
       "      <th>3</th>\n",
       "      <td>4</td>\n",
       "      <td>The main strategy to pay TD is refactoring, te...</td>\n",
       "    </tr>\n",
       "    <tr>\n",
       "      <th>4</th>\n",
       "      <td>5</td>\n",
       "      <td>The main aspect to control the communication i...</td>\n",
       "    </tr>\n",
       "    <tr>\n",
       "      <th>5</th>\n",
       "      <td>6</td>\n",
       "      <td>It is necessary to define systematic and forma...</td>\n",
       "    </tr>\n",
       "    <tr>\n",
       "      <th>6</th>\n",
       "      <td>7</td>\n",
       "      <td>It is essential the adoption of good practices...</td>\n",
       "    </tr>\n",
       "    <tr>\n",
       "      <th>7</th>\n",
       "      <td>8</td>\n",
       "      <td>The complexity of TD grows as the GSE large-sc...</td>\n",
       "    </tr>\n",
       "    <tr>\n",
       "      <th>8</th>\n",
       "      <td>9</td>\n",
       "      <td>The amount of existing TD and the required tim...</td>\n",
       "    </tr>\n",
       "    <tr>\n",
       "      <th>9</th>\n",
       "      <td>10</td>\n",
       "      <td>Team experience has repercussions on the exist...</td>\n",
       "    </tr>\n",
       "    <tr>\n",
       "      <th>10</th>\n",
       "      <td>11</td>\n",
       "      <td>A convergence in understanding between Technic...</td>\n",
       "    </tr>\n",
       "    <tr>\n",
       "      <th>11</th>\n",
       "      <td>12</td>\n",
       "      <td>It is required to allocate more resources such...</td>\n",
       "    </tr>\n",
       "  </tbody>\n",
       "</table>\n",
       "</div>"
      ],
      "text/plain": [
       "    Id                                           Findings\n",
       "0    1  It is necessary to identify not only TD regard...\n",
       "1    2  There is more influence of no Technical TD pri...\n",
       "2    3  It is essential to define a systematic and int...\n",
       "3    4  The main strategy to pay TD is refactoring, te...\n",
       "4    5  The main aspect to control the communication i...\n",
       "5    6  It is necessary to define systematic and forma...\n",
       "6    7  It is essential the adoption of good practices...\n",
       "7    8  The complexity of TD grows as the GSE large-sc...\n",
       "8    9  The amount of existing TD and the required tim...\n",
       "9   10  Team experience has repercussions on the exist...\n",
       "10  11  A convergence in understanding between Technic...\n",
       "11  12  It is required to allocate more resources such..."
      ]
     },
     "execution_count": 16,
     "metadata": {},
     "output_type": "execute_result"
    }
   ],
   "source": [
    "df_my_findings"
   ]
  },
  {
   "cell_type": "code",
   "execution_count": 17,
   "metadata": {},
   "outputs": [],
   "source": [
    "with open('latex/mytable_findings.tex','w') as tf:\n",
    "    tf.write(df_my_findings.to_latex(index=False))"
   ]
  }
 ],
 "metadata": {
  "kernelspec": {
   "display_name": "Python 3",
   "language": "python",
   "name": "python3"
  },
  "language_info": {
   "codemirror_mode": {
    "name": "ipython",
    "version": 3
   },
   "file_extension": ".py",
   "mimetype": "text/x-python",
   "name": "python",
   "nbconvert_exporter": "python",
   "pygments_lexer": "ipython3",
   "version": "3.6.9"
  }
 },
 "nbformat": 4,
 "nbformat_minor": 2
}
