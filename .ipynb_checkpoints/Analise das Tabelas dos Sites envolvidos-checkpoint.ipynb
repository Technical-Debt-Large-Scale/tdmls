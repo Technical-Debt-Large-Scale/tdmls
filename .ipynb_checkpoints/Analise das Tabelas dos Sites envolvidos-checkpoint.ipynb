{
 "cells": [
  {
   "cell_type": "code",
   "execution_count": 1,
   "metadata": {},
   "outputs": [],
   "source": [
    "%%capture\n",
    "%run 'main.py'"
   ]
  },
  {
   "cell_type": "markdown",
   "metadata": {},
   "source": [
    "# 2. Tabela do Time da India"
   ]
  },
  {
   "cell_type": "code",
   "execution_count": 43,
   "metadata": {},
   "outputs": [
    {
     "name": "stdout",
     "output_type": "stream",
     "text": [
      "<class 'pandas.core.frame.DataFrame'>\n",
      "RangeIndex: 163 entries, 0 to 162\n",
      "Data columns (total 7 columns):\n",
      "taskID             163 non-null object\n",
      "employeeID         163 non-null object\n",
      "employeeName       163 non-null object\n",
      "team               151 non-null object\n",
      "role               151 non-null object\n",
      "experienceYears    158 non-null object\n",
      "country            163 non-null object\n",
      "dtypes: object(7)\n",
      "memory usage: 9.0+ KB\n"
     ]
    }
   ],
   "source": [
    "df_indian_team.info()"
   ]
  },
  {
   "cell_type": "markdown",
   "metadata": {},
   "source": [
    "## 2.1 Amostra de Dados"
   ]
  },
  {
   "cell_type": "code",
   "execution_count": 44,
   "metadata": {},
   "outputs": [],
   "source": [
    "df_indian_team = content_comma_to_float(df_indian_team, 'experienceYears')"
   ]
  },
  {
   "cell_type": "code",
   "execution_count": 45,
   "metadata": {},
   "outputs": [
    {
     "data": {
      "text/html": [
       "<div>\n",
       "<style scoped>\n",
       "    .dataframe tbody tr th:only-of-type {\n",
       "        vertical-align: middle;\n",
       "    }\n",
       "\n",
       "    .dataframe tbody tr th {\n",
       "        vertical-align: top;\n",
       "    }\n",
       "\n",
       "    .dataframe thead th {\n",
       "        text-align: right;\n",
       "    }\n",
       "</style>\n",
       "<table border=\"1\" class=\"dataframe\">\n",
       "  <thead>\n",
       "    <tr style=\"text-align: right;\">\n",
       "      <th></th>\n",
       "      <th>taskID</th>\n",
       "      <th>employeeID</th>\n",
       "      <th>employeeName</th>\n",
       "      <th>team</th>\n",
       "      <th>role</th>\n",
       "      <th>experienceYears</th>\n",
       "      <th>country</th>\n",
       "    </tr>\n",
       "  </thead>\n",
       "  <tbody>\n",
       "    <tr>\n",
       "      <th>0</th>\n",
       "      <td>TURK-372I</td>\n",
       "      <td>23477969</td>\n",
       "      <td>Employee-Indian#0</td>\n",
       "      <td>EGI 1</td>\n",
       "      <td>Developer</td>\n",
       "      <td>0.03</td>\n",
       "      <td>Indian</td>\n",
       "    </tr>\n",
       "    <tr>\n",
       "      <th>1</th>\n",
       "      <td>TURK-372I</td>\n",
       "      <td>23481147</td>\n",
       "      <td>Employee-Indian#1</td>\n",
       "      <td>EGI 2</td>\n",
       "      <td>Developer</td>\n",
       "      <td>0.03</td>\n",
       "      <td>Indian</td>\n",
       "    </tr>\n",
       "    <tr>\n",
       "      <th>2</th>\n",
       "      <td>TURK-372I</td>\n",
       "      <td>23427308</td>\n",
       "      <td>Employee-Indian#2</td>\n",
       "      <td>EGI 2</td>\n",
       "      <td>Developer</td>\n",
       "      <td>0.03</td>\n",
       "      <td>Indian</td>\n",
       "    </tr>\n",
       "    <tr>\n",
       "      <th>3</th>\n",
       "      <td>TURK-372I</td>\n",
       "      <td>23453687</td>\n",
       "      <td>Employee-Indian#3</td>\n",
       "      <td>EGI 1</td>\n",
       "      <td>Developer</td>\n",
       "      <td>0.03</td>\n",
       "      <td>Indian</td>\n",
       "    </tr>\n",
       "    <tr>\n",
       "      <th>4</th>\n",
       "      <td>TURK-372I</td>\n",
       "      <td>23460099</td>\n",
       "      <td>Employee-Indian#4</td>\n",
       "      <td>EGI 1</td>\n",
       "      <td>Developer</td>\n",
       "      <td>0.03</td>\n",
       "      <td>Indian</td>\n",
       "    </tr>\n",
       "  </tbody>\n",
       "</table>\n",
       "</div>"
      ],
      "text/plain": [
       "      taskID employeeID       employeeName   team       role  experienceYears  \\\n",
       "0  TURK-372I   23477969  Employee-Indian#0  EGI 1  Developer             0.03   \n",
       "1  TURK-372I   23481147  Employee-Indian#1  EGI 2  Developer             0.03   \n",
       "2  TURK-372I   23427308  Employee-Indian#2  EGI 2  Developer             0.03   \n",
       "3  TURK-372I   23453687  Employee-Indian#3  EGI 1  Developer             0.03   \n",
       "4  TURK-372I   23460099  Employee-Indian#4  EGI 1  Developer             0.03   \n",
       "\n",
       "  country  \n",
       "0  Indian  \n",
       "1  Indian  \n",
       "2  Indian  \n",
       "3  Indian  \n",
       "4  Indian  "
      ]
     },
     "execution_count": 45,
     "metadata": {},
     "output_type": "execute_result"
    }
   ],
   "source": [
    "df_indian_team.head(5)"
   ]
  },
  {
   "cell_type": "code",
   "execution_count": 46,
   "metadata": {},
   "outputs": [
    {
     "data": {
      "text/plain": [
       "array(['TURK-372I', 'BHA-328I', 'TELSTRA-038', 'TURK-362', 'IDEA-173',\n",
       "       'TELSTRA-039', 'VOICE-447I', 'WIND-206', 'VOICE-454I', 'TURK-394',\n",
       "       'CHTT-036', 'VOICE-438', 'IND-176', 'VOICE-516', 'CIN-296',\n",
       "       'VOICE-526', 'ZAINK-057', 'VOICE-555I', 'CIN-300', 'CIN-301',\n",
       "       'ZAINK-066I', 'VOICE-562I', 'FTML-066', 'ZAINK-069', 'VOICE-563'],\n",
       "      dtype=object)"
      ]
     },
     "execution_count": 46,
     "metadata": {},
     "output_type": "execute_result"
    }
   ],
   "source": [
    "df_indian_team.taskID.unique()"
   ]
  },
  {
   "cell_type": "code",
   "execution_count": 47,
   "metadata": {},
   "outputs": [
    {
     "data": {
      "text/plain": [
       "25"
      ]
     },
     "execution_count": 47,
     "metadata": {},
     "output_type": "execute_result"
    }
   ],
   "source": [
    "len(df_indian_team.taskID.unique())"
   ]
  },
  {
   "cell_type": "code",
   "execution_count": 48,
   "metadata": {},
   "outputs": [
    {
     "data": {
      "text/plain": [
       "array(['Developer', 'Design lead', nan, 'Design Lead', 'Desing lead'],\n",
       "      dtype=object)"
      ]
     },
     "execution_count": 48,
     "metadata": {},
     "output_type": "execute_result"
    }
   ],
   "source": [
    "df_indian_team.role.unique()"
   ]
  },
  {
   "cell_type": "markdown",
   "metadata": {},
   "source": [
    "## 2.2 Estatísticas da Tabela do Time da Índia"
   ]
  },
  {
   "cell_type": "code",
   "execution_count": 67,
   "metadata": {},
   "outputs": [
    {
     "data": {
      "text/html": [
       "<div>\n",
       "<style scoped>\n",
       "    .dataframe tbody tr th:only-of-type {\n",
       "        vertical-align: middle;\n",
       "    }\n",
       "\n",
       "    .dataframe tbody tr th {\n",
       "        vertical-align: top;\n",
       "    }\n",
       "\n",
       "    .dataframe thead th {\n",
       "        text-align: right;\n",
       "    }\n",
       "</style>\n",
       "<table border=\"1\" class=\"dataframe\">\n",
       "  <thead>\n",
       "    <tr style=\"text-align: right;\">\n",
       "      <th></th>\n",
       "      <th>experienceYears</th>\n",
       "    </tr>\n",
       "  </thead>\n",
       "  <tbody>\n",
       "    <tr>\n",
       "      <th>count</th>\n",
       "      <td>158.00</td>\n",
       "    </tr>\n",
       "    <tr>\n",
       "      <th>mean</th>\n",
       "      <td>0.69</td>\n",
       "    </tr>\n",
       "    <tr>\n",
       "      <th>std</th>\n",
       "      <td>0.49</td>\n",
       "    </tr>\n",
       "    <tr>\n",
       "      <th>min</th>\n",
       "      <td>0.00</td>\n",
       "    </tr>\n",
       "    <tr>\n",
       "      <th>25%</th>\n",
       "      <td>0.25</td>\n",
       "    </tr>\n",
       "    <tr>\n",
       "      <th>50%</th>\n",
       "      <td>0.62</td>\n",
       "    </tr>\n",
       "    <tr>\n",
       "      <th>75%</th>\n",
       "      <td>1.04</td>\n",
       "    </tr>\n",
       "    <tr>\n",
       "      <th>max</th>\n",
       "      <td>1.79</td>\n",
       "    </tr>\n",
       "  </tbody>\n",
       "</table>\n",
       "</div>"
      ],
      "text/plain": [
       "       experienceYears\n",
       "count           158.00\n",
       "mean              0.69\n",
       "std               0.49\n",
       "min               0.00\n",
       "25%               0.25\n",
       "50%               0.62\n",
       "75%               1.04\n",
       "max               1.79"
      ]
     },
     "execution_count": 67,
     "metadata": {},
     "output_type": "execute_result"
    }
   ],
   "source": [
    "df_indian_team.describe().round(2)"
   ]
  },
  {
   "cell_type": "code",
   "execution_count": 82,
   "metadata": {},
   "outputs": [
    {
     "data": {
      "text/plain": [
       "<matplotlib.axes._subplots.AxesSubplot at 0x11512fb38>"
      ]
     },
     "execution_count": 82,
     "metadata": {},
     "output_type": "execute_result"
    },
    {
     "data": {
      "image/png": "[encoded data removed]",
      "text/plain": [
       "<Figure size 432x288 with 1 Axes>"
      ]
     },
     "metadata": {
      "needs_background": "light"
     },
     "output_type": "display_data"
    }
   ],
   "source": [
    "sns.boxplot(data=df_indian_team['experienceYears'], orient='h')"
   ]
  },
  {
   "cell_type": "markdown",
   "metadata": {},
   "source": [
    "# 3. Tabela do Time da Suécia"
   ]
  },
  {
   "cell_type": "code",
   "execution_count": 50,
   "metadata": {},
   "outputs": [
    {
     "name": "stdout",
     "output_type": "stream",
     "text": [
      "<class 'pandas.core.frame.DataFrame'>\n",
      "RangeIndex: 28 entries, 0 to 27\n",
      "Data columns (total 7 columns):\n",
      "taskID             28 non-null object\n",
      "employeeID         28 non-null int64\n",
      "employeeName       28 non-null object\n",
      "team               28 non-null object\n",
      "role               28 non-null object\n",
      "experienceYears    28 non-null object\n",
      "country            28 non-null object\n",
      "dtypes: int64(1), object(6)\n",
      "memory usage: 1.6+ KB\n"
     ]
    }
   ],
   "source": [
    "df_sweden_team.info()"
   ]
  },
  {
   "cell_type": "markdown",
   "metadata": {},
   "source": [
    "## 3.1 Amostra de Dados"
   ]
  },
  {
   "cell_type": "code",
   "execution_count": 51,
   "metadata": {},
   "outputs": [],
   "source": [
    "df_sweden_team = content_comma_to_float(df_sweden_team, 'experienceYears')"
   ]
  },
  {
   "cell_type": "code",
   "execution_count": 52,
   "metadata": {},
   "outputs": [
    {
     "data": {
      "text/html": [
       "<div>\n",
       "<style scoped>\n",
       "    .dataframe tbody tr th:only-of-type {\n",
       "        vertical-align: middle;\n",
       "    }\n",
       "\n",
       "    .dataframe tbody tr th {\n",
       "        vertical-align: top;\n",
       "    }\n",
       "\n",
       "    .dataframe thead th {\n",
       "        text-align: right;\n",
       "    }\n",
       "</style>\n",
       "<table border=\"1\" class=\"dataframe\">\n",
       "  <thead>\n",
       "    <tr style=\"text-align: right;\">\n",
       "      <th></th>\n",
       "      <th>taskID</th>\n",
       "      <th>employeeID</th>\n",
       "      <th>employeeName</th>\n",
       "      <th>team</th>\n",
       "      <th>role</th>\n",
       "      <th>experienceYears</th>\n",
       "      <th>country</th>\n",
       "    </tr>\n",
       "  </thead>\n",
       "  <tbody>\n",
       "    <tr>\n",
       "      <th>0</th>\n",
       "      <td>TURK-372S</td>\n",
       "      <td>23379205</td>\n",
       "      <td>Employee-Sweden#0</td>\n",
       "      <td>SDP 3</td>\n",
       "      <td>Developer</td>\n",
       "      <td>2.650</td>\n",
       "      <td>Sweden</td>\n",
       "    </tr>\n",
       "    <tr>\n",
       "      <th>1</th>\n",
       "      <td>TURK-372S</td>\n",
       "      <td>23477119</td>\n",
       "      <td>Employee-Sweden#1</td>\n",
       "      <td>SDP 3</td>\n",
       "      <td>Developer</td>\n",
       "      <td>0.350</td>\n",
       "      <td>Sweden</td>\n",
       "    </tr>\n",
       "    <tr>\n",
       "      <th>2</th>\n",
       "      <td>TURK-372S</td>\n",
       "      <td>23477128</td>\n",
       "      <td>Employee-Sweden#2</td>\n",
       "      <td>SDP 3</td>\n",
       "      <td>Developer</td>\n",
       "      <td>0.350</td>\n",
       "      <td>Sweden</td>\n",
       "    </tr>\n",
       "    <tr>\n",
       "      <th>3</th>\n",
       "      <td>TURK-372S</td>\n",
       "      <td>23477149</td>\n",
       "      <td>Employee-Sweden#3</td>\n",
       "      <td>SDP 3</td>\n",
       "      <td>Developer</td>\n",
       "      <td>0.350</td>\n",
       "      <td>Sweden</td>\n",
       "    </tr>\n",
       "    <tr>\n",
       "      <th>4</th>\n",
       "      <td>TURK-372S</td>\n",
       "      <td>23493724</td>\n",
       "      <td>Employee-Sweden#4</td>\n",
       "      <td>SDP 3</td>\n",
       "      <td>Developer</td>\n",
       "      <td>0.002</td>\n",
       "      <td>Sweden</td>\n",
       "    </tr>\n",
       "    <tr>\n",
       "      <th>5</th>\n",
       "      <td>VOICE-407</td>\n",
       "      <td>23042077</td>\n",
       "      <td>Employee-Sweden#5</td>\n",
       "      <td>SDP 7</td>\n",
       "      <td>Developer</td>\n",
       "      <td>0.820</td>\n",
       "      <td>Sweden</td>\n",
       "    </tr>\n",
       "    <tr>\n",
       "      <th>6</th>\n",
       "      <td>VOICE-407</td>\n",
       "      <td>23310420</td>\n",
       "      <td>Employee-Sweden#6</td>\n",
       "      <td>SDP 7</td>\n",
       "      <td>Developer</td>\n",
       "      <td>3.760</td>\n",
       "      <td>Sweden</td>\n",
       "    </tr>\n",
       "    <tr>\n",
       "      <th>7</th>\n",
       "      <td>VOICE-407</td>\n",
       "      <td>23056592</td>\n",
       "      <td>Employee-Sweden#7</td>\n",
       "      <td>SDP 4</td>\n",
       "      <td>SP writer</td>\n",
       "      <td>10.000</td>\n",
       "      <td>Sweden</td>\n",
       "    </tr>\n",
       "    <tr>\n",
       "      <th>8</th>\n",
       "      <td>VOICE-407</td>\n",
       "      <td>23323137</td>\n",
       "      <td>Employee-Sweden#8</td>\n",
       "      <td>SDP 4</td>\n",
       "      <td>Developer</td>\n",
       "      <td>0.650</td>\n",
       "      <td>Sweden</td>\n",
       "    </tr>\n",
       "    <tr>\n",
       "      <th>9</th>\n",
       "      <td>VOICE-407</td>\n",
       "      <td>23490351</td>\n",
       "      <td>Employee-Sweden#9</td>\n",
       "      <td>SDP 4</td>\n",
       "      <td>Developer</td>\n",
       "      <td>0.700</td>\n",
       "      <td>Sweden</td>\n",
       "    </tr>\n",
       "  </tbody>\n",
       "</table>\n",
       "</div>"
      ],
      "text/plain": [
       "      taskID  employeeID       employeeName   team       role  \\\n",
       "0  TURK-372S    23379205  Employee-Sweden#0  SDP 3  Developer   \n",
       "1  TURK-372S    23477119  Employee-Sweden#1  SDP 3  Developer   \n",
       "2  TURK-372S    23477128  Employee-Sweden#2  SDP 3  Developer   \n",
       "3  TURK-372S    23477149  Employee-Sweden#3  SDP 3  Developer   \n",
       "4  TURK-372S    23493724  Employee-Sweden#4  SDP 3  Developer   \n",
       "5  VOICE-407    23042077  Employee-Sweden#5  SDP 7  Developer   \n",
       "6  VOICE-407    23310420  Employee-Sweden#6  SDP 7  Developer   \n",
       "7  VOICE-407    23056592  Employee-Sweden#7  SDP 4  SP writer   \n",
       "8  VOICE-407    23323137  Employee-Sweden#8  SDP 4  Developer   \n",
       "9  VOICE-407    23490351  Employee-Sweden#9  SDP 4  Developer   \n",
       "\n",
       "   experienceYears country  \n",
       "0            2.650  Sweden  \n",
       "1            0.350  Sweden  \n",
       "2            0.350  Sweden  \n",
       "3            0.350  Sweden  \n",
       "4            0.002  Sweden  \n",
       "5            0.820  Sweden  \n",
       "6            3.760  Sweden  \n",
       "7           10.000  Sweden  \n",
       "8            0.650  Sweden  \n",
       "9            0.700  Sweden  "
      ]
     },
     "execution_count": 52,
     "metadata": {},
     "output_type": "execute_result"
    }
   ],
   "source": [
    "df_sweden_team.head(10)"
   ]
  },
  {
   "cell_type": "code",
   "execution_count": 53,
   "metadata": {},
   "outputs": [
    {
     "data": {
      "text/plain": [
       "array(['TURK-372S', 'VOICE-407', 'VOICE-419', 'VOICE-436S', 'VOICE-555S',\n",
       "       'VOICE-562S'], dtype=object)"
      ]
     },
     "execution_count": 53,
     "metadata": {},
     "output_type": "execute_result"
    }
   ],
   "source": [
    "df_sweden_team.taskID.unique()"
   ]
  },
  {
   "cell_type": "code",
   "execution_count": 54,
   "metadata": {},
   "outputs": [
    {
     "data": {
      "text/plain": [
       "6"
      ]
     },
     "execution_count": 54,
     "metadata": {},
     "output_type": "execute_result"
    }
   ],
   "source": [
    "len(df_sweden_team.taskID.unique())"
   ]
  },
  {
   "cell_type": "code",
   "execution_count": 55,
   "metadata": {},
   "outputs": [
    {
     "data": {
      "text/plain": [
       "array(['Developer', 'SP writer', 'Design Lead', 'Design lead',\n",
       "       'Developers'], dtype=object)"
      ]
     },
     "execution_count": 55,
     "metadata": {},
     "output_type": "execute_result"
    }
   ],
   "source": [
    "df_sweden_team.role.unique()"
   ]
  },
  {
   "cell_type": "markdown",
   "metadata": {},
   "source": [
    "## 3.2 Estatisticas da Tabela de Amostra"
   ]
  },
  {
   "cell_type": "code",
   "execution_count": 68,
   "metadata": {},
   "outputs": [],
   "source": [
    "df_sweden_team = convert_int_to_string(df_sweden_team, 'employeeID')"
   ]
  },
  {
   "cell_type": "code",
   "execution_count": 69,
   "metadata": {},
   "outputs": [
    {
     "data": {
      "text/html": [
       "<div>\n",
       "<style scoped>\n",
       "    .dataframe tbody tr th:only-of-type {\n",
       "        vertical-align: middle;\n",
       "    }\n",
       "\n",
       "    .dataframe tbody tr th {\n",
       "        vertical-align: top;\n",
       "    }\n",
       "\n",
       "    .dataframe thead th {\n",
       "        text-align: right;\n",
       "    }\n",
       "</style>\n",
       "<table border=\"1\" class=\"dataframe\">\n",
       "  <thead>\n",
       "    <tr style=\"text-align: right;\">\n",
       "      <th></th>\n",
       "      <th>experienceYears</th>\n",
       "    </tr>\n",
       "  </thead>\n",
       "  <tbody>\n",
       "    <tr>\n",
       "      <th>count</th>\n",
       "      <td>28.00</td>\n",
       "    </tr>\n",
       "    <tr>\n",
       "      <th>mean</th>\n",
       "      <td>3.15</td>\n",
       "    </tr>\n",
       "    <tr>\n",
       "      <th>std</th>\n",
       "      <td>3.39</td>\n",
       "    </tr>\n",
       "    <tr>\n",
       "      <th>min</th>\n",
       "      <td>0.00</td>\n",
       "    </tr>\n",
       "    <tr>\n",
       "      <th>25%</th>\n",
       "      <td>0.62</td>\n",
       "    </tr>\n",
       "    <tr>\n",
       "      <th>50%</th>\n",
       "      <td>1.06</td>\n",
       "    </tr>\n",
       "    <tr>\n",
       "      <th>75%</th>\n",
       "      <td>5.00</td>\n",
       "    </tr>\n",
       "    <tr>\n",
       "      <th>max</th>\n",
       "      <td>10.00</td>\n",
       "    </tr>\n",
       "  </tbody>\n",
       "</table>\n",
       "</div>"
      ],
      "text/plain": [
       "       experienceYears\n",
       "count            28.00\n",
       "mean              3.15\n",
       "std               3.39\n",
       "min               0.00\n",
       "25%               0.62\n",
       "50%               1.06\n",
       "75%               5.00\n",
       "max              10.00"
      ]
     },
     "execution_count": 69,
     "metadata": {},
     "output_type": "execute_result"
    }
   ],
   "source": [
    "df_sweden_team.describe().round(2)"
   ]
  },
  {
   "cell_type": "code",
   "execution_count": 83,
   "metadata": {},
   "outputs": [
    {
     "data": {
      "text/plain": [
       "<matplotlib.axes._subplots.AxesSubplot at 0x1145c1668>"
      ]
     },
     "execution_count": 83,
     "metadata": {},
     "output_type": "execute_result"
    },
    {
     "data": {
      "image/png": "[encoded data removed]",
      "text/plain": [
       "<Figure size 432x288 with 1 Axes>"
      ]
     },
     "metadata": {
      "needs_background": "light"
     },
     "output_type": "display_data"
    }
   ],
   "source": [
    "sns.boxplot(data=df_sweden_team['experienceYears'], orient='h')"
   ]
  },
  {
   "cell_type": "markdown",
   "metadata": {},
   "source": [
    "# 4. Tabela da Itália"
   ]
  },
  {
   "cell_type": "code",
   "execution_count": 57,
   "metadata": {},
   "outputs": [
    {
     "name": "stdout",
     "output_type": "stream",
     "text": [
      "<class 'pandas.core.frame.DataFrame'>\n",
      "RangeIndex: 12 entries, 0 to 11\n",
      "Data columns (total 7 columns):\n",
      "taskID             12 non-null object\n",
      "employeeID         11 non-null float64\n",
      "employeeName       12 non-null object\n",
      "team               12 non-null object\n",
      "role               12 non-null object\n",
      "experienceYears    11 non-null object\n",
      "country            12 non-null object\n",
      "dtypes: float64(1), object(6)\n",
      "memory usage: 752.0+ bytes\n"
     ]
    }
   ],
   "source": [
    "df_italy_team.info()"
   ]
  },
  {
   "cell_type": "markdown",
   "metadata": {},
   "source": [
    "## 4.1 Amostra de Dados"
   ]
  },
  {
   "cell_type": "code",
   "execution_count": 70,
   "metadata": {},
   "outputs": [],
   "source": [
    "df_italy_team = content_comma_to_float(df_italy_team, 'experienceYears')"
   ]
  },
  {
   "cell_type": "code",
   "execution_count": 71,
   "metadata": {},
   "outputs": [],
   "source": [
    "df_italy_team = convert_int_to_string(df_italy_team, 'employeeID')"
   ]
  },
  {
   "cell_type": "code",
   "execution_count": 73,
   "metadata": {},
   "outputs": [
    {
     "data": {
      "text/html": [
       "<div>\n",
       "<style scoped>\n",
       "    .dataframe tbody tr th:only-of-type {\n",
       "        vertical-align: middle;\n",
       "    }\n",
       "\n",
       "    .dataframe tbody tr th {\n",
       "        vertical-align: top;\n",
       "    }\n",
       "\n",
       "    .dataframe thead th {\n",
       "        text-align: right;\n",
       "    }\n",
       "</style>\n",
       "<table border=\"1\" class=\"dataframe\">\n",
       "  <thead>\n",
       "    <tr style=\"text-align: right;\">\n",
       "      <th></th>\n",
       "      <th>taskID</th>\n",
       "      <th>employeeID</th>\n",
       "      <th>employeeName</th>\n",
       "      <th>team</th>\n",
       "      <th>role</th>\n",
       "      <th>experienceYears</th>\n",
       "      <th>country</th>\n",
       "    </tr>\n",
       "  </thead>\n",
       "  <tbody>\n",
       "    <tr>\n",
       "      <th>0</th>\n",
       "      <td>BHA-300</td>\n",
       "      <td>20065915.0</td>\n",
       "      <td>Employee-Italy#0</td>\n",
       "      <td>TEI</td>\n",
       "      <td>Developer</td>\n",
       "      <td>2.20</td>\n",
       "      <td>Italy</td>\n",
       "    </tr>\n",
       "    <tr>\n",
       "      <th>1</th>\n",
       "      <td>BHA-300</td>\n",
       "      <td>23088103.0</td>\n",
       "      <td>Employee-Italy#1</td>\n",
       "      <td>TEI</td>\n",
       "      <td>Developer</td>\n",
       "      <td>1.54</td>\n",
       "      <td>Italy</td>\n",
       "    </tr>\n",
       "    <tr>\n",
       "      <th>2</th>\n",
       "      <td>BHA-300</td>\n",
       "      <td>23173442.0</td>\n",
       "      <td>Employee-Italy#2</td>\n",
       "      <td>TEI</td>\n",
       "      <td>Developer</td>\n",
       "      <td>5.00</td>\n",
       "      <td>Italy</td>\n",
       "    </tr>\n",
       "    <tr>\n",
       "      <th>3</th>\n",
       "      <td>BHA-300</td>\n",
       "      <td>23257746.0</td>\n",
       "      <td>Employee-Italy#3</td>\n",
       "      <td>TEI</td>\n",
       "      <td>Developer</td>\n",
       "      <td>5.00</td>\n",
       "      <td>Italy</td>\n",
       "    </tr>\n",
       "    <tr>\n",
       "      <th>4</th>\n",
       "      <td>WATA-070</td>\n",
       "      <td>20065915.0</td>\n",
       "      <td>Employee-Italy#0</td>\n",
       "      <td>TEI</td>\n",
       "      <td>Developer</td>\n",
       "      <td>2.28</td>\n",
       "      <td>Italy</td>\n",
       "    </tr>\n",
       "    <tr>\n",
       "      <th>5</th>\n",
       "      <td>WATA-070</td>\n",
       "      <td>23088103.0</td>\n",
       "      <td>Employee-Italy#1</td>\n",
       "      <td>TEI</td>\n",
       "      <td>Developer</td>\n",
       "      <td>1.53</td>\n",
       "      <td>Italy</td>\n",
       "    </tr>\n",
       "    <tr>\n",
       "      <th>6</th>\n",
       "      <td>WATA-070</td>\n",
       "      <td>23173442.0</td>\n",
       "      <td>Employee-Italy#2</td>\n",
       "      <td>TEI</td>\n",
       "      <td>Developer</td>\n",
       "      <td>5.00</td>\n",
       "      <td>Italy</td>\n",
       "    </tr>\n",
       "    <tr>\n",
       "      <th>7</th>\n",
       "      <td>BHA-328T</td>\n",
       "      <td>23103635.0</td>\n",
       "      <td>Employee-Italy#4</td>\n",
       "      <td>TEI</td>\n",
       "      <td>Developer</td>\n",
       "      <td>0.35</td>\n",
       "      <td>Italy</td>\n",
       "    </tr>\n",
       "    <tr>\n",
       "      <th>8</th>\n",
       "      <td>BHA-328T</td>\n",
       "      <td>20065915.0</td>\n",
       "      <td>Employee-Italy#0</td>\n",
       "      <td>TEI</td>\n",
       "      <td>Developer</td>\n",
       "      <td>2.60</td>\n",
       "      <td>Italy</td>\n",
       "    </tr>\n",
       "    <tr>\n",
       "      <th>9</th>\n",
       "      <td>BHA-328T</td>\n",
       "      <td>23088103.0</td>\n",
       "      <td>Employee-Italy#1</td>\n",
       "      <td>TEI</td>\n",
       "      <td>Developer</td>\n",
       "      <td>2.00</td>\n",
       "      <td>Italy</td>\n",
       "    </tr>\n",
       "  </tbody>\n",
       "</table>\n",
       "</div>"
      ],
      "text/plain": [
       "     taskID  employeeID      employeeName team       role  experienceYears  \\\n",
       "0   BHA-300  20065915.0  Employee-Italy#0  TEI  Developer             2.20   \n",
       "1   BHA-300  23088103.0  Employee-Italy#1  TEI  Developer             1.54   \n",
       "2   BHA-300  23173442.0  Employee-Italy#2  TEI  Developer             5.00   \n",
       "3   BHA-300  23257746.0  Employee-Italy#3  TEI  Developer             5.00   \n",
       "4  WATA-070  20065915.0  Employee-Italy#0  TEI  Developer             2.28   \n",
       "5  WATA-070  23088103.0  Employee-Italy#1  TEI  Developer             1.53   \n",
       "6  WATA-070  23173442.0  Employee-Italy#2  TEI  Developer             5.00   \n",
       "7  BHA-328T  23103635.0  Employee-Italy#4  TEI  Developer             0.35   \n",
       "8  BHA-328T  20065915.0  Employee-Italy#0  TEI  Developer             2.60   \n",
       "9  BHA-328T  23088103.0  Employee-Italy#1  TEI  Developer             2.00   \n",
       "\n",
       "  country  \n",
       "0   Italy  \n",
       "1   Italy  \n",
       "2   Italy  \n",
       "3   Italy  \n",
       "4   Italy  \n",
       "5   Italy  \n",
       "6   Italy  \n",
       "7   Italy  \n",
       "8   Italy  \n",
       "9   Italy  "
      ]
     },
     "execution_count": 73,
     "metadata": {},
     "output_type": "execute_result"
    }
   ],
   "source": [
    "df_italy_team.head(10)"
   ]
  },
  {
   "cell_type": "code",
   "execution_count": 59,
   "metadata": {},
   "outputs": [
    {
     "data": {
      "text/plain": [
       "array(['BHA-300', 'WATA-070', 'BHA-328T'], dtype=object)"
      ]
     },
     "execution_count": 59,
     "metadata": {},
     "output_type": "execute_result"
    }
   ],
   "source": [
    "df_italy_team.taskID.unique()"
   ]
  },
  {
   "cell_type": "code",
   "execution_count": 60,
   "metadata": {},
   "outputs": [
    {
     "data": {
      "text/plain": [
       "3"
      ]
     },
     "execution_count": 60,
     "metadata": {},
     "output_type": "execute_result"
    }
   ],
   "source": [
    "len(df_italy_team.taskID.unique())"
   ]
  },
  {
   "cell_type": "markdown",
   "metadata": {},
   "source": [
    "## 4.2 Estatísticas da Tabela da Itália"
   ]
  },
  {
   "cell_type": "code",
   "execution_count": 76,
   "metadata": {},
   "outputs": [
    {
     "data": {
      "text/html": [
       "<div>\n",
       "<style scoped>\n",
       "    .dataframe tbody tr th:only-of-type {\n",
       "        vertical-align: middle;\n",
       "    }\n",
       "\n",
       "    .dataframe tbody tr th {\n",
       "        vertical-align: top;\n",
       "    }\n",
       "\n",
       "    .dataframe thead th {\n",
       "        text-align: right;\n",
       "    }\n",
       "</style>\n",
       "<table border=\"1\" class=\"dataframe\">\n",
       "  <thead>\n",
       "    <tr style=\"text-align: right;\">\n",
       "      <th></th>\n",
       "      <th>experienceYears</th>\n",
       "    </tr>\n",
       "  </thead>\n",
       "  <tbody>\n",
       "    <tr>\n",
       "      <th>count</th>\n",
       "      <td>11.00</td>\n",
       "    </tr>\n",
       "    <tr>\n",
       "      <th>mean</th>\n",
       "      <td>2.62</td>\n",
       "    </tr>\n",
       "    <tr>\n",
       "      <th>std</th>\n",
       "      <td>1.64</td>\n",
       "    </tr>\n",
       "    <tr>\n",
       "      <th>min</th>\n",
       "      <td>0.35</td>\n",
       "    </tr>\n",
       "    <tr>\n",
       "      <th>25%</th>\n",
       "      <td>1.54</td>\n",
       "    </tr>\n",
       "    <tr>\n",
       "      <th>50%</th>\n",
       "      <td>2.20</td>\n",
       "    </tr>\n",
       "    <tr>\n",
       "      <th>75%</th>\n",
       "      <td>3.80</td>\n",
       "    </tr>\n",
       "    <tr>\n",
       "      <th>max</th>\n",
       "      <td>5.00</td>\n",
       "    </tr>\n",
       "  </tbody>\n",
       "</table>\n",
       "</div>"
      ],
      "text/plain": [
       "       experienceYears\n",
       "count            11.00\n",
       "mean              2.62\n",
       "std               1.64\n",
       "min               0.35\n",
       "25%               1.54\n",
       "50%               2.20\n",
       "75%               3.80\n",
       "max               5.00"
      ]
     },
     "execution_count": 76,
     "metadata": {},
     "output_type": "execute_result"
    }
   ],
   "source": [
    "df_italy_team.describe().round(2)"
   ]
  },
  {
   "cell_type": "code",
   "execution_count": 84,
   "metadata": {},
   "outputs": [
    {
     "data": {
      "text/plain": [
       "<matplotlib.axes._subplots.AxesSubplot at 0x1151e0940>"
      ]
     },
     "execution_count": 84,
     "metadata": {},
     "output_type": "execute_result"
    },
    {
     "data": {
      "image/png": "[encoded data removed]",
      "text/plain": [
       "<Figure size 432x288 with 1 Axes>"
      ]
     },
     "metadata": {
      "needs_background": "light"
     },
     "output_type": "display_data"
    }
   ],
   "source": [
    "sns.boxplot(data=df_italy_team['experienceYears'], orient='h')"
   ]
  },
  {
   "cell_type": "markdown",
   "metadata": {},
   "source": [
    "# 5. Tabela dos EUA"
   ]
  },
  {
   "cell_type": "code",
   "execution_count": 62,
   "metadata": {},
   "outputs": [
    {
     "name": "stdout",
     "output_type": "stream",
     "text": [
      "<class 'pandas.core.frame.DataFrame'>\n",
      "RangeIndex: 14 entries, 0 to 13\n",
      "Data columns (total 7 columns):\n",
      "taskID             14 non-null object\n",
      "employeeID         12 non-null float64\n",
      "employeeName       14 non-null object\n",
      "team               14 non-null object\n",
      "role               14 non-null object\n",
      "experienceYears    14 non-null object\n",
      "country            14 non-null object\n",
      "dtypes: float64(1), object(6)\n",
      "memory usage: 864.0+ bytes\n"
     ]
    }
   ],
   "source": [
    "df_usa_team.info()"
   ]
  },
  {
   "cell_type": "markdown",
   "metadata": {},
   "source": [
    "## 5.1 Amostra de Dados"
   ]
  },
  {
   "cell_type": "code",
   "execution_count": 77,
   "metadata": {},
   "outputs": [],
   "source": [
    "df_usa_team = content_comma_to_float(df_usa_team, 'experienceYears')"
   ]
  },
  {
   "cell_type": "code",
   "execution_count": 78,
   "metadata": {},
   "outputs": [],
   "source": [
    "df_usa_team = convert_int_to_string(df_usa_team, 'employeeID')"
   ]
  },
  {
   "cell_type": "code",
   "execution_count": 79,
   "metadata": {},
   "outputs": [
    {
     "data": {
      "text/html": [
       "<div>\n",
       "<style scoped>\n",
       "    .dataframe tbody tr th:only-of-type {\n",
       "        vertical-align: middle;\n",
       "    }\n",
       "\n",
       "    .dataframe tbody tr th {\n",
       "        vertical-align: top;\n",
       "    }\n",
       "\n",
       "    .dataframe thead th {\n",
       "        text-align: right;\n",
       "    }\n",
       "</style>\n",
       "<table border=\"1\" class=\"dataframe\">\n",
       "  <thead>\n",
       "    <tr style=\"text-align: right;\">\n",
       "      <th></th>\n",
       "      <th>taskID</th>\n",
       "      <th>employeeID</th>\n",
       "      <th>employeeName</th>\n",
       "      <th>team</th>\n",
       "      <th>role</th>\n",
       "      <th>experienceYears</th>\n",
       "      <th>country</th>\n",
       "    </tr>\n",
       "  </thead>\n",
       "  <tbody>\n",
       "    <tr>\n",
       "      <th>0</th>\n",
       "      <td>VOICE-453</td>\n",
       "      <td>20088694.0</td>\n",
       "      <td>Employee-USA#0</td>\n",
       "      <td>EUS-Dallas</td>\n",
       "      <td>Developer</td>\n",
       "      <td>5.00</td>\n",
       "      <td>USA</td>\n",
       "    </tr>\n",
       "    <tr>\n",
       "      <th>1</th>\n",
       "      <td>VOICE-453</td>\n",
       "      <td>20089561.0</td>\n",
       "      <td>Employee-USA#1</td>\n",
       "      <td>EUS-Dallas</td>\n",
       "      <td>Design lead</td>\n",
       "      <td>15.00</td>\n",
       "      <td>USA</td>\n",
       "    </tr>\n",
       "    <tr>\n",
       "      <th>2</th>\n",
       "      <td>VOICE-453</td>\n",
       "      <td>23499132.0</td>\n",
       "      <td>Employee-USA#2</td>\n",
       "      <td>EUS-Dallas</td>\n",
       "      <td>Developer</td>\n",
       "      <td>0.71</td>\n",
       "      <td>USA</td>\n",
       "    </tr>\n",
       "    <tr>\n",
       "      <th>3</th>\n",
       "      <td>VOICE-458</td>\n",
       "      <td>20088694.0</td>\n",
       "      <td>Employee-USA#0</td>\n",
       "      <td>EUS-Dallas</td>\n",
       "      <td>Developer</td>\n",
       "      <td>5.00</td>\n",
       "      <td>USA</td>\n",
       "    </tr>\n",
       "    <tr>\n",
       "      <th>4</th>\n",
       "      <td>VOICE-458</td>\n",
       "      <td>20089561.0</td>\n",
       "      <td>Employee-USA#1</td>\n",
       "      <td>EUS-Dallas</td>\n",
       "      <td>Design lead</td>\n",
       "      <td>15.00</td>\n",
       "      <td>USA</td>\n",
       "    </tr>\n",
       "    <tr>\n",
       "      <th>5</th>\n",
       "      <td>VOICE-458</td>\n",
       "      <td>23499132.0</td>\n",
       "      <td>Employee-USA#2</td>\n",
       "      <td>EUS-Dallas</td>\n",
       "      <td>Developer</td>\n",
       "      <td>0.94</td>\n",
       "      <td>USA</td>\n",
       "    </tr>\n",
       "    <tr>\n",
       "      <th>6</th>\n",
       "      <td>VOICE-465</td>\n",
       "      <td>20089561.0</td>\n",
       "      <td>Employee-USA#1</td>\n",
       "      <td>EUS-Dallas</td>\n",
       "      <td>Design lead</td>\n",
       "      <td>15.00</td>\n",
       "      <td>USA</td>\n",
       "    </tr>\n",
       "    <tr>\n",
       "      <th>7</th>\n",
       "      <td>VOICE-465</td>\n",
       "      <td>23499132.0</td>\n",
       "      <td>Employee-USA#2</td>\n",
       "      <td>EUS-Dallas</td>\n",
       "      <td>Developer</td>\n",
       "      <td>1.11</td>\n",
       "      <td>USA</td>\n",
       "    </tr>\n",
       "    <tr>\n",
       "      <th>8</th>\n",
       "      <td>VOICE-465</td>\n",
       "      <td>20088694.0</td>\n",
       "      <td>Employee-USA#0</td>\n",
       "      <td>EUS-Dallas</td>\n",
       "      <td>Developer</td>\n",
       "      <td>5.00</td>\n",
       "      <td>USA</td>\n",
       "    </tr>\n",
       "    <tr>\n",
       "      <th>9</th>\n",
       "      <td>VOICE-553</td>\n",
       "      <td>20089561.0</td>\n",
       "      <td>Employee-USA#1</td>\n",
       "      <td>EUS-Dallas</td>\n",
       "      <td>Design lead</td>\n",
       "      <td>15.00</td>\n",
       "      <td>USA</td>\n",
       "    </tr>\n",
       "  </tbody>\n",
       "</table>\n",
       "</div>"
      ],
      "text/plain": [
       "      taskID  employeeID    employeeName        team         role  \\\n",
       "0  VOICE-453  20088694.0  Employee-USA#0  EUS-Dallas    Developer   \n",
       "1  VOICE-453  20089561.0  Employee-USA#1  EUS-Dallas  Design lead   \n",
       "2  VOICE-453  23499132.0  Employee-USA#2  EUS-Dallas    Developer   \n",
       "3  VOICE-458  20088694.0  Employee-USA#0  EUS-Dallas    Developer   \n",
       "4  VOICE-458  20089561.0  Employee-USA#1  EUS-Dallas  Design lead   \n",
       "5  VOICE-458  23499132.0  Employee-USA#2  EUS-Dallas    Developer   \n",
       "6  VOICE-465  20089561.0  Employee-USA#1  EUS-Dallas  Design lead   \n",
       "7  VOICE-465  23499132.0  Employee-USA#2  EUS-Dallas    Developer   \n",
       "8  VOICE-465  20088694.0  Employee-USA#0  EUS-Dallas    Developer   \n",
       "9  VOICE-553  20089561.0  Employee-USA#1  EUS-Dallas  Design lead   \n",
       "\n",
       "   experienceYears country  \n",
       "0             5.00     USA  \n",
       "1            15.00     USA  \n",
       "2             0.71     USA  \n",
       "3             5.00     USA  \n",
       "4            15.00     USA  \n",
       "5             0.94     USA  \n",
       "6            15.00     USA  \n",
       "7             1.11     USA  \n",
       "8             5.00     USA  \n",
       "9            15.00     USA  "
      ]
     },
     "execution_count": 79,
     "metadata": {},
     "output_type": "execute_result"
    }
   ],
   "source": [
    "df_usa_team.head(10)"
   ]
  },
  {
   "cell_type": "code",
   "execution_count": 64,
   "metadata": {},
   "outputs": [
    {
     "data": {
      "text/plain": [
       "array(['VOICE-453', 'VOICE-458', 'VOICE-465', 'VOICE-553', 'VOICE-392'],\n",
       "      dtype=object)"
      ]
     },
     "execution_count": 64,
     "metadata": {},
     "output_type": "execute_result"
    }
   ],
   "source": [
    "df_usa_team.taskID.unique()"
   ]
  },
  {
   "cell_type": "code",
   "execution_count": 65,
   "metadata": {},
   "outputs": [
    {
     "data": {
      "text/plain": [
       "5"
      ]
     },
     "execution_count": 65,
     "metadata": {},
     "output_type": "execute_result"
    }
   ],
   "source": [
    "len(df_usa_team.taskID.unique())"
   ]
  },
  {
   "cell_type": "markdown",
   "metadata": {},
   "source": [
    "## 5.2 Estatísticas da Tabela USA"
   ]
  },
  {
   "cell_type": "code",
   "execution_count": 81,
   "metadata": {},
   "outputs": [
    {
     "data": {
      "text/html": [
       "<div>\n",
       "<style scoped>\n",
       "    .dataframe tbody tr th:only-of-type {\n",
       "        vertical-align: middle;\n",
       "    }\n",
       "\n",
       "    .dataframe tbody tr th {\n",
       "        vertical-align: top;\n",
       "    }\n",
       "\n",
       "    .dataframe thead th {\n",
       "        text-align: right;\n",
       "    }\n",
       "</style>\n",
       "<table border=\"1\" class=\"dataframe\">\n",
       "  <thead>\n",
       "    <tr style=\"text-align: right;\">\n",
       "      <th></th>\n",
       "      <th>experienceYears</th>\n",
       "    </tr>\n",
       "  </thead>\n",
       "  <tbody>\n",
       "    <tr>\n",
       "      <th>count</th>\n",
       "      <td>14.00</td>\n",
       "    </tr>\n",
       "    <tr>\n",
       "      <th>mean</th>\n",
       "      <td>6.70</td>\n",
       "    </tr>\n",
       "    <tr>\n",
       "      <th>std</th>\n",
       "      <td>5.71</td>\n",
       "    </tr>\n",
       "    <tr>\n",
       "      <th>min</th>\n",
       "      <td>0.71</td>\n",
       "    </tr>\n",
       "    <tr>\n",
       "      <th>25%</th>\n",
       "      <td>2.08</td>\n",
       "    </tr>\n",
       "    <tr>\n",
       "      <th>50%</th>\n",
       "      <td>5.00</td>\n",
       "    </tr>\n",
       "    <tr>\n",
       "      <th>75%</th>\n",
       "      <td>12.50</td>\n",
       "    </tr>\n",
       "    <tr>\n",
       "      <th>max</th>\n",
       "      <td>15.00</td>\n",
       "    </tr>\n",
       "  </tbody>\n",
       "</table>\n",
       "</div>"
      ],
      "text/plain": [
       "       experienceYears\n",
       "count            14.00\n",
       "mean              6.70\n",
       "std               5.71\n",
       "min               0.71\n",
       "25%               2.08\n",
       "50%               5.00\n",
       "75%              12.50\n",
       "max              15.00"
      ]
     },
     "execution_count": 81,
     "metadata": {},
     "output_type": "execute_result"
    }
   ],
   "source": [
    "df_usa_team.describe().round(2)"
   ]
  },
  {
   "cell_type": "code",
   "execution_count": 85,
   "metadata": {},
   "outputs": [
    {
     "data": {
      "text/plain": [
       "<matplotlib.axes._subplots.AxesSubplot at 0x118974a20>"
      ]
     },
     "execution_count": 85,
     "metadata": {},
     "output_type": "execute_result"
    },
    {
     "data": {
      "image/png": "[encoded data removed]",
      "text/plain": [
       "<Figure size 432x288 with 1 Axes>"
      ]
     },
     "metadata": {
      "needs_background": "light"
     },
     "output_type": "display_data"
    }
   ],
   "source": [
    "sns.boxplot(data=df_usa_team['experienceYears'], orient='h')"
   ]
  }
 ],
 "metadata": {
  "kernelspec": {
   "display_name": "Python 3",
   "language": "python",
   "name": "python3"
  },
  "language_info": {
   "codemirror_mode": {
    "name": "ipython",
    "version": 3
   },
   "file_extension": ".py",
   "mimetype": "text/x-python",
   "name": "python",
   "nbconvert_exporter": "python",
   "pygments_lexer": "ipython3",
   "version": "3.6.3"
  }
 },
 "nbformat": 4,
 "nbformat_minor": 2
}
