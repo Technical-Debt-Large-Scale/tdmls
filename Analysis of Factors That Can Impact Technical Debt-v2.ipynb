{
 "cells": [
  {
   "cell_type": "code",
   "execution_count": 30,
   "metadata": {
    "scrolled": true
   },
   "outputs": [],
   "source": [
    "%%capture\n",
    "%run 'main.py'"
   ]
  },
  {
   "cell_type": "markdown",
   "metadata": {},
   "source": [
    "# 1. The Project and Dataset\n",
    "\n",
    "## Description \n",
    "<p>Analysis of data related to metrics of the Ericson Technical Debt Project. The archival data was collected from 33 product customization tasks (PCs) of this studied project between 2013 and 2016.\n",
    "</p>\n",
    "\n",
    "## Data\n",
    "<ul>\n",
    "    <li>Metrics Table</li>\n",
    "    <li>India Table Site</li>\n",
    "    <li>Sweden Table Site</li>\n",
    "    <li>Italy Table Site</li>\n",
    "    <li>USA Table Site</li>\n",
    "</ul>"
   ]
  },
  {
   "cell_type": "code",
   "execution_count": 31,
   "metadata": {},
   "outputs": [
    {
     "data": {
      "text/html": [
       "\n",
       "        <script>\n",
       "            function code_toggle_9433560236137608350() {\n",
       "                $('div.cell.code_cell.rendered.selected').find('div.input').toggle();\n",
       "            }\n",
       "\n",
       "            \n",
       "        </script>\n",
       "\n",
       "        <a href=\"javascript:code_toggle_9433560236137608350()\">Toggle show/hide</a>\n",
       "    "
      ],
      "text/plain": [
       "<IPython.core.display.HTML object>"
      ]
     },
     "execution_count": 31,
     "metadata": {},
     "output_type": "execute_result"
    }
   ],
   "source": [
    "from IPython.display import HTML\n",
    "import random\n",
    "\n",
    "def hide_toggle(for_next=False):\n",
    "    this_cell = \"\"\"$('div.cell.code_cell.rendered.selected')\"\"\"\n",
    "    next_cell = this_cell + '.next()'\n",
    "\n",
    "    toggle_text = 'Toggle show/hide'  # text shown on toggle link\n",
    "    target_cell = this_cell  # target cell to control with toggle\n",
    "    js_hide_current = ''  # bit of JS to permanently hide code in current cell (only when toggling next cell)\n",
    "\n",
    "    if for_next:\n",
    "        target_cell = next_cell\n",
    "        toggle_text += ' next cell'\n",
    "        js_hide_current = this_cell + '.find(\"div.input\").hide();'\n",
    "\n",
    "    js_f_name = 'code_toggle_{}'.format(str(random.randint(1,2**64)))\n",
    "\n",
    "    html = \"\"\"\n",
    "        <script>\n",
    "            function {f_name}() {{\n",
    "                {cell_selector}.find('div.input').toggle();\n",
    "            }}\n",
    "\n",
    "            {js_hide_current}\n",
    "        </script>\n",
    "\n",
    "        <a href=\"javascript:{f_name}()\">{toggle_text}</a>\n",
    "    \"\"\".format(\n",
    "        f_name=js_f_name,\n",
    "        cell_selector=target_cell,\n",
    "        js_hide_current=js_hide_current, \n",
    "        toggle_text=toggle_text\n",
    "    )\n",
    "\n",
    "    return HTML(html)\n",
    "\n",
    "hide_toggle()"
   ]
  },
  {
   "cell_type": "markdown",
   "metadata": {},
   "source": [
    "### Importing libs"
   ]
  },
  {
   "cell_type": "code",
   "execution_count": 32,
   "metadata": {},
   "outputs": [],
   "source": [
    "# importando o pyplot\n",
    "from matplotlib import pyplot\n",
    "# importando o stats \n",
    "from scipy import stats"
   ]
  },
  {
   "cell_type": "code",
   "execution_count": 33,
   "metadata": {},
   "outputs": [
    {
     "name": "stdout",
     "output_type": "stream",
     "text": [
      "<class 'pandas.core.frame.DataFrame'>\n",
      "Int64Index: 32 entries, 0 to 31\n",
      "Data columns (total 12 columns):\n",
      "uniqueID              32 non-null object\n",
      "ID                    32 non-null object\n",
      "location              32 non-null object\n",
      "maturity              32 non-null float64\n",
      "totalDevelopers       32 non-null float64\n",
      "complexityPoints      32 non-null float64\n",
      "start                 32 non-null object\n",
      "end                   32 non-null object\n",
      "leadTime              32 non-null float64\n",
      "technicalDebt         32 non-null float64\n",
      "taskScaling           32 non-null float64\n",
      "taskGlobalDistance    32 non-null float64\n",
      "dtypes: float64(7), object(5)\n",
      "memory usage: 4.5+ KB\n"
     ]
    }
   ],
   "source": [
    "# 1. Tabela de Métricas\n",
    "df_all_metrics.info()"
   ]
  },
  {
   "cell_type": "code",
   "execution_count": 34,
   "metadata": {
    "scrolled": false
   },
   "outputs": [
    {
     "data": {
      "text/html": [
       "<div>\n",
       "<style scoped>\n",
       "    .dataframe tbody tr th:only-of-type {\n",
       "        vertical-align: middle;\n",
       "    }\n",
       "\n",
       "    .dataframe tbody tr th {\n",
       "        vertical-align: top;\n",
       "    }\n",
       "\n",
       "    .dataframe thead th {\n",
       "        text-align: right;\n",
       "    }\n",
       "</style>\n",
       "<table border=\"1\" class=\"dataframe\">\n",
       "  <thead>\n",
       "    <tr style=\"text-align: right;\">\n",
       "      <th></th>\n",
       "      <th>uniqueID</th>\n",
       "      <th>ID</th>\n",
       "      <th>location</th>\n",
       "      <th>maturity</th>\n",
       "      <th>totalDevelopers</th>\n",
       "      <th>complexityPoints</th>\n",
       "      <th>start</th>\n",
       "      <th>end</th>\n",
       "      <th>leadTime</th>\n",
       "      <th>technicalDebt</th>\n",
       "      <th>taskScaling</th>\n",
       "      <th>taskGlobalDistance</th>\n",
       "    </tr>\n",
       "  </thead>\n",
       "  <tbody>\n",
       "    <tr>\n",
       "      <th>0</th>\n",
       "      <td>PC:14187</td>\n",
       "      <td>TURK-372</td>\n",
       "      <td>India</td>\n",
       "      <td>4.0</td>\n",
       "      <td>13.0</td>\n",
       "      <td>60.0</td>\n",
       "      <td>2014-08-11 00:00:00</td>\n",
       "      <td>2015-02-06 00:00:00</td>\n",
       "      <td>179.0</td>\n",
       "      <td>796.0</td>\n",
       "      <td>0.216667</td>\n",
       "      <td>1.250000</td>\n",
       "    </tr>\n",
       "    <tr>\n",
       "      <th>1</th>\n",
       "      <td>PC:15448</td>\n",
       "      <td>BHA-328</td>\n",
       "      <td>Virtual</td>\n",
       "      <td>4.0</td>\n",
       "      <td>25.0</td>\n",
       "      <td>170.0</td>\n",
       "      <td>2015-01-19 00:00:00</td>\n",
       "      <td>2015-06-05 00:00:00</td>\n",
       "      <td>137.0</td>\n",
       "      <td>2474.0</td>\n",
       "      <td>0.147059</td>\n",
       "      <td>6.244748</td>\n",
       "    </tr>\n",
       "    <tr>\n",
       "      <th>2</th>\n",
       "      <td>PC:13350</td>\n",
       "      <td>TELSTRA-038</td>\n",
       "      <td>India</td>\n",
       "      <td>4.0</td>\n",
       "      <td>7.0</td>\n",
       "      <td>35.0</td>\n",
       "      <td>2015-02-09 00:00:00</td>\n",
       "      <td>2015-04-02 00:00:00</td>\n",
       "      <td>52.0</td>\n",
       "      <td>202.0</td>\n",
       "      <td>0.200000</td>\n",
       "      <td>3.463991</td>\n",
       "    </tr>\n",
       "    <tr>\n",
       "      <th>3</th>\n",
       "      <td>PC:13708</td>\n",
       "      <td>TURK-362</td>\n",
       "      <td>India</td>\n",
       "      <td>4.0</td>\n",
       "      <td>2.0</td>\n",
       "      <td>15.0</td>\n",
       "      <td>2015-04-27 00:00:00</td>\n",
       "      <td>2015-06-05 00:00:00</td>\n",
       "      <td>39.0</td>\n",
       "      <td>0.0</td>\n",
       "      <td>0.133333</td>\n",
       "      <td>3.463991</td>\n",
       "    </tr>\n",
       "    <tr>\n",
       "      <th>4</th>\n",
       "      <td>PC:13756</td>\n",
       "      <td>IDEA-173</td>\n",
       "      <td>India</td>\n",
       "      <td>4.0</td>\n",
       "      <td>4.0</td>\n",
       "      <td>25.0</td>\n",
       "      <td>2015-04-27 00:00:00</td>\n",
       "      <td>2015-06-12 00:00:00</td>\n",
       "      <td>46.0</td>\n",
       "      <td>626.0</td>\n",
       "      <td>0.160000</td>\n",
       "      <td>3.463991</td>\n",
       "    </tr>\n",
       "    <tr>\n",
       "      <th>5</th>\n",
       "      <td>PC:14475</td>\n",
       "      <td>TELSTRA-039</td>\n",
       "      <td>India</td>\n",
       "      <td>4.0</td>\n",
       "      <td>6.0</td>\n",
       "      <td>20.0</td>\n",
       "      <td>2015-05-04 00:00:00</td>\n",
       "      <td>2015-07-10 00:00:00</td>\n",
       "      <td>67.0</td>\n",
       "      <td>52.0</td>\n",
       "      <td>0.300000</td>\n",
       "      <td>3.463991</td>\n",
       "    </tr>\n",
       "    <tr>\n",
       "      <th>6</th>\n",
       "      <td>PC:16334</td>\n",
       "      <td>VOICE-447</td>\n",
       "      <td>Virtual</td>\n",
       "      <td>4.0</td>\n",
       "      <td>9.0</td>\n",
       "      <td>70.0</td>\n",
       "      <td>2015-07-27 00:00:00</td>\n",
       "      <td>2015-10-30 00:00:00</td>\n",
       "      <td>95.0</td>\n",
       "      <td>517.0</td>\n",
       "      <td>0.128571</td>\n",
       "      <td>3.463991</td>\n",
       "    </tr>\n",
       "    <tr>\n",
       "      <th>7</th>\n",
       "      <td>PC:16573</td>\n",
       "      <td>WIND-206</td>\n",
       "      <td>India</td>\n",
       "      <td>4.0</td>\n",
       "      <td>9.0</td>\n",
       "      <td>110.0</td>\n",
       "      <td>2015-08-10 00:00:00</td>\n",
       "      <td>2015-10-16 00:00:00</td>\n",
       "      <td>67.0</td>\n",
       "      <td>3085.0</td>\n",
       "      <td>0.081818</td>\n",
       "      <td>3.463991</td>\n",
       "    </tr>\n",
       "    <tr>\n",
       "      <th>8</th>\n",
       "      <td>PC:16456</td>\n",
       "      <td>VOICE-454</td>\n",
       "      <td>India</td>\n",
       "      <td>4.0</td>\n",
       "      <td>8.0</td>\n",
       "      <td>350.0</td>\n",
       "      <td>2015-08-10 00:00:00</td>\n",
       "      <td>2015-11-06 00:00:00</td>\n",
       "      <td>88.0</td>\n",
       "      <td>3270.0</td>\n",
       "      <td>0.022857</td>\n",
       "      <td>3.463991</td>\n",
       "    </tr>\n",
       "    <tr>\n",
       "      <th>9</th>\n",
       "      <td>PC:15952</td>\n",
       "      <td>TURK-394</td>\n",
       "      <td>India</td>\n",
       "      <td>4.0</td>\n",
       "      <td>2.0</td>\n",
       "      <td>10.0</td>\n",
       "      <td>2015-08-10 00:00:00</td>\n",
       "      <td>2015-08-28 00:00:00</td>\n",
       "      <td>18.0</td>\n",
       "      <td>20.0</td>\n",
       "      <td>0.200000</td>\n",
       "      <td>3.463991</td>\n",
       "    </tr>\n",
       "    <tr>\n",
       "      <th>10</th>\n",
       "      <td>PC:14110</td>\n",
       "      <td>CHTT-036</td>\n",
       "      <td>India</td>\n",
       "      <td>4.0</td>\n",
       "      <td>8.0</td>\n",
       "      <td>100.0</td>\n",
       "      <td>2015-08-10 00:00:00</td>\n",
       "      <td>2015-12-18 00:00:00</td>\n",
       "      <td>130.0</td>\n",
       "      <td>3834.0</td>\n",
       "      <td>0.080000</td>\n",
       "      <td>3.463991</td>\n",
       "    </tr>\n",
       "    <tr>\n",
       "      <th>11</th>\n",
       "      <td>PC:16121</td>\n",
       "      <td>VOICE-438</td>\n",
       "      <td>India</td>\n",
       "      <td>4.0</td>\n",
       "      <td>10.0</td>\n",
       "      <td>95.0</td>\n",
       "      <td>2015-08-31 00:00:00</td>\n",
       "      <td>2015-12-04 00:00:00</td>\n",
       "      <td>95.0</td>\n",
       "      <td>1778.0</td>\n",
       "      <td>0.105263</td>\n",
       "      <td>3.463991</td>\n",
       "    </tr>\n",
       "    <tr>\n",
       "      <th>12</th>\n",
       "      <td>PC:15193</td>\n",
       "      <td>IND-176</td>\n",
       "      <td>India</td>\n",
       "      <td>4.0</td>\n",
       "      <td>6.0</td>\n",
       "      <td>50.0</td>\n",
       "      <td>2015-10-12 00:00:00</td>\n",
       "      <td>2016-01-15 00:00:00</td>\n",
       "      <td>95.0</td>\n",
       "      <td>5429.0</td>\n",
       "      <td>0.120000</td>\n",
       "      <td>3.463991</td>\n",
       "    </tr>\n",
       "    <tr>\n",
       "      <th>13</th>\n",
       "      <td>PC:17377</td>\n",
       "      <td>VOICE-516</td>\n",
       "      <td>India</td>\n",
       "      <td>4.0</td>\n",
       "      <td>5.0</td>\n",
       "      <td>25.0</td>\n",
       "      <td>2015-11-09 00:00:00</td>\n",
       "      <td>2016-03-11 00:00:00</td>\n",
       "      <td>123.0</td>\n",
       "      <td>666.0</td>\n",
       "      <td>0.200000</td>\n",
       "      <td>3.463991</td>\n",
       "    </tr>\n",
       "    <tr>\n",
       "      <th>14</th>\n",
       "      <td>PC:15940</td>\n",
       "      <td>CIN-296</td>\n",
       "      <td>India</td>\n",
       "      <td>2.0</td>\n",
       "      <td>6.0</td>\n",
       "      <td>100.0</td>\n",
       "      <td>2016-01-18 00:00:00</td>\n",
       "      <td>2016-05-13 00:00:00</td>\n",
       "      <td>116.0</td>\n",
       "      <td>3329.0</td>\n",
       "      <td>0.060000</td>\n",
       "      <td>3.463991</td>\n",
       "    </tr>\n",
       "    <tr>\n",
       "      <th>15</th>\n",
       "      <td>PC:12670</td>\n",
       "      <td>VOICE-526</td>\n",
       "      <td>India</td>\n",
       "      <td>4.0</td>\n",
       "      <td>6.0</td>\n",
       "      <td>20.0</td>\n",
       "      <td>2016-02-01 00:00:00</td>\n",
       "      <td>2016-03-24 00:00:00</td>\n",
       "      <td>52.0</td>\n",
       "      <td>4.2</td>\n",
       "      <td>0.300000</td>\n",
       "      <td>3.463991</td>\n",
       "    </tr>\n",
       "    <tr>\n",
       "      <th>16</th>\n",
       "      <td>PC:16519</td>\n",
       "      <td>ZAINK-057</td>\n",
       "      <td>India</td>\n",
       "      <td>4.0</td>\n",
       "      <td>3.0</td>\n",
       "      <td>25.0</td>\n",
       "      <td>2016-03-07 00:00:00</td>\n",
       "      <td>2016-05-04 00:00:00</td>\n",
       "      <td>58.0</td>\n",
       "      <td>34.0</td>\n",
       "      <td>0.120000</td>\n",
       "      <td>3.463991</td>\n",
       "    </tr>\n",
       "    <tr>\n",
       "      <th>17</th>\n",
       "      <td>PC:16119</td>\n",
       "      <td>CIN-301</td>\n",
       "      <td>India</td>\n",
       "      <td>4.0</td>\n",
       "      <td>7.0</td>\n",
       "      <td>15.0</td>\n",
       "      <td>2016-04-11 00:00:00</td>\n",
       "      <td>2016-06-24 00:00:00</td>\n",
       "      <td>74.0</td>\n",
       "      <td>37.0</td>\n",
       "      <td>0.466667</td>\n",
       "      <td>3.463991</td>\n",
       "    </tr>\n",
       "    <tr>\n",
       "      <th>18</th>\n",
       "      <td>PC:16528</td>\n",
       "      <td>ZAINK-066</td>\n",
       "      <td>India</td>\n",
       "      <td>4.0</td>\n",
       "      <td>5.0</td>\n",
       "      <td>20.0</td>\n",
       "      <td>2016-04-11 00:00:00</td>\n",
       "      <td>2016-06-03 00:00:00</td>\n",
       "      <td>53.0</td>\n",
       "      <td>740.0</td>\n",
       "      <td>0.250000</td>\n",
       "      <td>3.463991</td>\n",
       "    </tr>\n",
       "    <tr>\n",
       "      <th>19</th>\n",
       "      <td>PC:18692</td>\n",
       "      <td>VOICE-562</td>\n",
       "      <td>Virtual</td>\n",
       "      <td>4.0</td>\n",
       "      <td>7.0</td>\n",
       "      <td>20.0</td>\n",
       "      <td>2016-04-11 00:00:00</td>\n",
       "      <td>2016-05-28 00:00:00</td>\n",
       "      <td>47.0</td>\n",
       "      <td>1656.0</td>\n",
       "      <td>0.350000</td>\n",
       "      <td>6.103278</td>\n",
       "    </tr>\n",
       "    <tr>\n",
       "      <th>20</th>\n",
       "      <td>Pc:17363</td>\n",
       "      <td>FTML-066</td>\n",
       "      <td>India</td>\n",
       "      <td>4.0</td>\n",
       "      <td>5.0</td>\n",
       "      <td>30.0</td>\n",
       "      <td>2016-04-25 00:00:00</td>\n",
       "      <td>2016-07-15 00:00:00</td>\n",
       "      <td>81.0</td>\n",
       "      <td>33.0</td>\n",
       "      <td>0.166667</td>\n",
       "      <td>3.463991</td>\n",
       "    </tr>\n",
       "    <tr>\n",
       "      <th>21</th>\n",
       "      <td>PC:16582</td>\n",
       "      <td>ZAINK-069</td>\n",
       "      <td>India</td>\n",
       "      <td>4.0</td>\n",
       "      <td>7.0</td>\n",
       "      <td>60.0</td>\n",
       "      <td>2016-05-09 00:00:00</td>\n",
       "      <td>2016-09-02 00:00:00</td>\n",
       "      <td>116.0</td>\n",
       "      <td>876.0</td>\n",
       "      <td>0.116667</td>\n",
       "      <td>3.463991</td>\n",
       "    </tr>\n",
       "    <tr>\n",
       "      <th>22</th>\n",
       "      <td>PC:18718</td>\n",
       "      <td>VOICE-563</td>\n",
       "      <td>India</td>\n",
       "      <td>4.0</td>\n",
       "      <td>6.0</td>\n",
       "      <td>15.0</td>\n",
       "      <td>2016-06-03 00:00:00</td>\n",
       "      <td>2016-07-06 00:00:00</td>\n",
       "      <td>33.0</td>\n",
       "      <td>260.0</td>\n",
       "      <td>0.400000</td>\n",
       "      <td>3.463991</td>\n",
       "    </tr>\n",
       "    <tr>\n",
       "      <th>23</th>\n",
       "      <td>PC:14113</td>\n",
       "      <td>BHA-300</td>\n",
       "      <td>Italy</td>\n",
       "      <td>0.0</td>\n",
       "      <td>4.0</td>\n",
       "      <td>50.0</td>\n",
       "      <td>2014-08-11 00:00:00</td>\n",
       "      <td>2014-11-21 00:00:00</td>\n",
       "      <td>102.0</td>\n",
       "      <td>133.0</td>\n",
       "      <td>0.080000</td>\n",
       "      <td>0.754329</td>\n",
       "    </tr>\n",
       "    <tr>\n",
       "      <th>24</th>\n",
       "      <td>PC:14688</td>\n",
       "      <td>WATA-070</td>\n",
       "      <td>Italy</td>\n",
       "      <td>0.0</td>\n",
       "      <td>3.0</td>\n",
       "      <td>30.0</td>\n",
       "      <td>2014-10-13 00:00:00</td>\n",
       "      <td>2014-12-12 00:00:00</td>\n",
       "      <td>60.0</td>\n",
       "      <td>1115.0</td>\n",
       "      <td>0.100000</td>\n",
       "      <td>0.754329</td>\n",
       "    </tr>\n",
       "    <tr>\n",
       "      <th>25</th>\n",
       "      <td>PC:16455</td>\n",
       "      <td>VOICE-453</td>\n",
       "      <td>USA</td>\n",
       "      <td>0.0</td>\n",
       "      <td>3.0</td>\n",
       "      <td>60.0</td>\n",
       "      <td>2015-08-03 00:00:00</td>\n",
       "      <td>2015-09-15 00:00:00</td>\n",
       "      <td>43.0</td>\n",
       "      <td>18.0</td>\n",
       "      <td>0.050000</td>\n",
       "      <td>4.082389</td>\n",
       "    </tr>\n",
       "    <tr>\n",
       "      <th>26</th>\n",
       "      <td>PC:16498</td>\n",
       "      <td>VOICE-458</td>\n",
       "      <td>USA</td>\n",
       "      <td>0.0</td>\n",
       "      <td>3.0</td>\n",
       "      <td>110.0</td>\n",
       "      <td>2015-08-24 00:00:00</td>\n",
       "      <td>2015-12-04 00:00:00</td>\n",
       "      <td>102.0</td>\n",
       "      <td>504.0</td>\n",
       "      <td>0.027273</td>\n",
       "      <td>4.082389</td>\n",
       "    </tr>\n",
       "    <tr>\n",
       "      <th>27</th>\n",
       "      <td>PC:16604</td>\n",
       "      <td>VOICE-465</td>\n",
       "      <td>USA</td>\n",
       "      <td>0.0</td>\n",
       "      <td>3.0</td>\n",
       "      <td>100.0</td>\n",
       "      <td>2015-12-07 00:00:00</td>\n",
       "      <td>2016-02-12 00:00:00</td>\n",
       "      <td>67.0</td>\n",
       "      <td>1643.0</td>\n",
       "      <td>0.030000</td>\n",
       "      <td>4.082389</td>\n",
       "    </tr>\n",
       "    <tr>\n",
       "      <th>28</th>\n",
       "      <td>PC:18315</td>\n",
       "      <td>VOICE-553</td>\n",
       "      <td>USA</td>\n",
       "      <td>0.0</td>\n",
       "      <td>4.0</td>\n",
       "      <td>50.0</td>\n",
       "      <td>2016-05-09 00:00:00</td>\n",
       "      <td>2016-07-09 00:00:00</td>\n",
       "      <td>61.0</td>\n",
       "      <td>893.0</td>\n",
       "      <td>0.080000</td>\n",
       "      <td>4.082389</td>\n",
       "    </tr>\n",
       "    <tr>\n",
       "      <th>29</th>\n",
       "      <td>PC:15696</td>\n",
       "      <td>VOICE-419</td>\n",
       "      <td>Sweden</td>\n",
       "      <td>4.0</td>\n",
       "      <td>4.0</td>\n",
       "      <td>35.0</td>\n",
       "      <td>2015-04-13 00:00:00</td>\n",
       "      <td>2015-05-22 00:00:00</td>\n",
       "      <td>39.0</td>\n",
       "      <td>518.0</td>\n",
       "      <td>0.114286</td>\n",
       "      <td>0.000000</td>\n",
       "    </tr>\n",
       "    <tr>\n",
       "      <th>30</th>\n",
       "      <td>PC:16084</td>\n",
       "      <td>VOICE-436</td>\n",
       "      <td>Sweden</td>\n",
       "      <td>0.0</td>\n",
       "      <td>8.0</td>\n",
       "      <td>600.0</td>\n",
       "      <td>2015-08-24 00:00:00</td>\n",
       "      <td>2015-12-07 00:00:00</td>\n",
       "      <td>105.0</td>\n",
       "      <td>4455.0</td>\n",
       "      <td>0.013333</td>\n",
       "      <td>0.000000</td>\n",
       "    </tr>\n",
       "    <tr>\n",
       "      <th>31</th>\n",
       "      <td>PC:18374</td>\n",
       "      <td>VOICE-555</td>\n",
       "      <td>Virtual</td>\n",
       "      <td>2.0</td>\n",
       "      <td>4.0</td>\n",
       "      <td>30.0</td>\n",
       "      <td>2016-03-21 00:00:00</td>\n",
       "      <td>2016-04-15 00:00:00</td>\n",
       "      <td>25.0</td>\n",
       "      <td>943.0</td>\n",
       "      <td>0.133333</td>\n",
       "      <td>6.122464</td>\n",
       "    </tr>\n",
       "  </tbody>\n",
       "</table>\n",
       "</div>"
      ],
      "text/plain": [
       "    uniqueID           ID location  maturity  totalDevelopers  \\\n",
       "0   PC:14187     TURK-372    India       4.0             13.0   \n",
       "1   PC:15448      BHA-328  Virtual       4.0             25.0   \n",
       "2   PC:13350  TELSTRA-038    India       4.0              7.0   \n",
       "3   PC:13708     TURK-362    India       4.0              2.0   \n",
       "4   PC:13756     IDEA-173    India       4.0              4.0   \n",
       "5   PC:14475  TELSTRA-039    India       4.0              6.0   \n",
       "6   PC:16334    VOICE-447  Virtual       4.0              9.0   \n",
       "7   PC:16573     WIND-206    India       4.0              9.0   \n",
       "8   PC:16456    VOICE-454    India       4.0              8.0   \n",
       "9   PC:15952     TURK-394    India       4.0              2.0   \n",
       "10  PC:14110     CHTT-036    India       4.0              8.0   \n",
       "11  PC:16121    VOICE-438    India       4.0             10.0   \n",
       "12  PC:15193      IND-176    India       4.0              6.0   \n",
       "13  PC:17377    VOICE-516    India       4.0              5.0   \n",
       "14  PC:15940      CIN-296    India       2.0              6.0   \n",
       "15  PC:12670    VOICE-526    India       4.0              6.0   \n",
       "16  PC:16519    ZAINK-057    India       4.0              3.0   \n",
       "17  PC:16119      CIN-301    India       4.0              7.0   \n",
       "18  PC:16528    ZAINK-066    India       4.0              5.0   \n",
       "19  PC:18692    VOICE-562  Virtual       4.0              7.0   \n",
       "20  Pc:17363     FTML-066    India       4.0              5.0   \n",
       "21  PC:16582    ZAINK-069    India       4.0              7.0   \n",
       "22  PC:18718    VOICE-563    India       4.0              6.0   \n",
       "23  PC:14113      BHA-300    Italy       0.0              4.0   \n",
       "24  PC:14688     WATA-070    Italy       0.0              3.0   \n",
       "25  PC:16455    VOICE-453      USA       0.0              3.0   \n",
       "26  PC:16498    VOICE-458      USA       0.0              3.0   \n",
       "27  PC:16604    VOICE-465      USA       0.0              3.0   \n",
       "28  PC:18315    VOICE-553      USA       0.0              4.0   \n",
       "29  PC:15696   VOICE-419    Sweden       4.0              4.0   \n",
       "30  PC:16084    VOICE-436   Sweden       0.0              8.0   \n",
       "31  PC:18374    VOICE-555  Virtual       2.0              4.0   \n",
       "\n",
       "    complexityPoints                start                  end  leadTime  \\\n",
       "0               60.0  2014-08-11 00:00:00  2015-02-06 00:00:00     179.0   \n",
       "1              170.0  2015-01-19 00:00:00  2015-06-05 00:00:00     137.0   \n",
       "2               35.0  2015-02-09 00:00:00  2015-04-02 00:00:00      52.0   \n",
       "3               15.0  2015-04-27 00:00:00  2015-06-05 00:00:00      39.0   \n",
       "4               25.0  2015-04-27 00:00:00  2015-06-12 00:00:00      46.0   \n",
       "5               20.0  2015-05-04 00:00:00  2015-07-10 00:00:00      67.0   \n",
       "6               70.0  2015-07-27 00:00:00  2015-10-30 00:00:00      95.0   \n",
       "7              110.0  2015-08-10 00:00:00  2015-10-16 00:00:00      67.0   \n",
       "8              350.0  2015-08-10 00:00:00  2015-11-06 00:00:00      88.0   \n",
       "9               10.0  2015-08-10 00:00:00  2015-08-28 00:00:00      18.0   \n",
       "10             100.0  2015-08-10 00:00:00  2015-12-18 00:00:00     130.0   \n",
       "11              95.0  2015-08-31 00:00:00  2015-12-04 00:00:00      95.0   \n",
       "12              50.0  2015-10-12 00:00:00  2016-01-15 00:00:00      95.0   \n",
       "13              25.0  2015-11-09 00:00:00  2016-03-11 00:00:00     123.0   \n",
       "14             100.0  2016-01-18 00:00:00  2016-05-13 00:00:00     116.0   \n",
       "15              20.0  2016-02-01 00:00:00  2016-03-24 00:00:00      52.0   \n",
       "16              25.0  2016-03-07 00:00:00  2016-05-04 00:00:00      58.0   \n",
       "17              15.0  2016-04-11 00:00:00  2016-06-24 00:00:00      74.0   \n",
       "18              20.0  2016-04-11 00:00:00  2016-06-03 00:00:00      53.0   \n",
       "19              20.0  2016-04-11 00:00:00  2016-05-28 00:00:00      47.0   \n",
       "20              30.0  2016-04-25 00:00:00  2016-07-15 00:00:00      81.0   \n",
       "21              60.0  2016-05-09 00:00:00  2016-09-02 00:00:00     116.0   \n",
       "22              15.0  2016-06-03 00:00:00  2016-07-06 00:00:00      33.0   \n",
       "23              50.0  2014-08-11 00:00:00  2014-11-21 00:00:00     102.0   \n",
       "24              30.0  2014-10-13 00:00:00  2014-12-12 00:00:00      60.0   \n",
       "25              60.0  2015-08-03 00:00:00  2015-09-15 00:00:00      43.0   \n",
       "26             110.0  2015-08-24 00:00:00  2015-12-04 00:00:00     102.0   \n",
       "27             100.0  2015-12-07 00:00:00  2016-02-12 00:00:00      67.0   \n",
       "28              50.0  2016-05-09 00:00:00  2016-07-09 00:00:00      61.0   \n",
       "29              35.0  2015-04-13 00:00:00  2015-05-22 00:00:00      39.0   \n",
       "30             600.0  2015-08-24 00:00:00  2015-12-07 00:00:00     105.0   \n",
       "31              30.0  2016-03-21 00:00:00  2016-04-15 00:00:00      25.0   \n",
       "\n",
       "    technicalDebt  taskScaling  taskGlobalDistance  \n",
       "0           796.0     0.216667            1.250000  \n",
       "1          2474.0     0.147059            6.244748  \n",
       "2           202.0     0.200000            3.463991  \n",
       "3             0.0     0.133333            3.463991  \n",
       "4           626.0     0.160000            3.463991  \n",
       "5            52.0     0.300000            3.463991  \n",
       "6           517.0     0.128571            3.463991  \n",
       "7          3085.0     0.081818            3.463991  \n",
       "8          3270.0     0.022857            3.463991  \n",
       "9            20.0     0.200000            3.463991  \n",
       "10         3834.0     0.080000            3.463991  \n",
       "11         1778.0     0.105263            3.463991  \n",
       "12         5429.0     0.120000            3.463991  \n",
       "13          666.0     0.200000            3.463991  \n",
       "14         3329.0     0.060000            3.463991  \n",
       "15            4.2     0.300000            3.463991  \n",
       "16           34.0     0.120000            3.463991  \n",
       "17           37.0     0.466667            3.463991  \n",
       "18          740.0     0.250000            3.463991  \n",
       "19         1656.0     0.350000            6.103278  \n",
       "20           33.0     0.166667            3.463991  \n",
       "21          876.0     0.116667            3.463991  \n",
       "22          260.0     0.400000            3.463991  \n",
       "23          133.0     0.080000            0.754329  \n",
       "24         1115.0     0.100000            0.754329  \n",
       "25           18.0     0.050000            4.082389  \n",
       "26          504.0     0.027273            4.082389  \n",
       "27         1643.0     0.030000            4.082389  \n",
       "28          893.0     0.080000            4.082389  \n",
       "29          518.0     0.114286            0.000000  \n",
       "30         4455.0     0.013333            0.000000  \n",
       "31          943.0     0.133333            6.122464  "
      ]
     },
     "execution_count": 34,
     "metadata": {},
     "output_type": "execute_result"
    }
   ],
   "source": [
    "df_all_metrics.head(32)"
   ]
  },
  {
   "cell_type": "code",
   "execution_count": 35,
   "metadata": {},
   "outputs": [
    {
     "name": "stdout",
     "output_type": "stream",
     "text": [
      "Alteração dos valores da coluna maturity da Tabela de Métricas de Dívida Técnica colocando 0 (zero) para Imaturo e 1 (um) para maduro, com isso, essa coluna só terá dois valores, 0 ou 1.\n"
     ]
    }
   ],
   "source": [
    "print(\"Alteração dos valores da coluna maturity da Tabela de Métricas de Dívida Técnica colocando 0 (zero) para Imaturo e 1 (um) para maduro, com isso, essa coluna só terá dois valores, 0 ou 1.\")"
   ]
  },
  {
   "cell_type": "code",
   "execution_count": 36,
   "metadata": {},
   "outputs": [],
   "source": [
    "df_all_metrics.iloc[31,3] = 1\n",
    "df_all_metrics.iloc[30,3] = 1\n",
    "df_all_metrics.iloc[29,3] = 0\n",
    "df_all_metrics.iloc[28,3] = 1\n",
    "df_all_metrics.iloc[27,3] = 1\n",
    "df_all_metrics.iloc[26,3] = 1\n",
    "df_all_metrics.iloc[25,3] = 1\n",
    "df_all_metrics.iloc[24,3] = 0\n",
    "df_all_metrics.iloc[23,3] = 0\n",
    "\n",
    "df_all_metrics.iloc[22,3] = 0\n",
    "df_all_metrics.iloc[21,3] = 0\n",
    "df_all_metrics.iloc[20,3] = 0\n",
    "df_all_metrics.iloc[19,3] = 0\n",
    "df_all_metrics.iloc[18,3] = 0\n",
    "df_all_metrics.iloc[17,3] = 0\n",
    "df_all_metrics.iloc[16,3] = 0\n",
    "df_all_metrics.iloc[15,3] = 0\n",
    "df_all_metrics.iloc[14,3] = 1\n",
    "df_all_metrics.iloc[13,3] = 0\n",
    "df_all_metrics.iloc[12,3] = 0\n",
    "df_all_metrics.iloc[11,3] = 0\n",
    "df_all_metrics.iloc[10,3] = 0\n",
    "df_all_metrics.iloc[9,3] = 0\n",
    "df_all_metrics.iloc[8,3] = 0\n",
    "df_all_metrics.iloc[7,3] = 0\n",
    "df_all_metrics.iloc[6,3] = 0\n",
    "df_all_metrics.iloc[5,3] = 0\n",
    "df_all_metrics.iloc[4,3] = 0\n",
    "df_all_metrics.iloc[3,3] = 0\n",
    "df_all_metrics.iloc[2,3] = 0\n",
    "df_all_metrics.iloc[1,3] = 0\n",
    "df_all_metrics.iloc[0,3] = 0"
   ]
  },
  {
   "cell_type": "code",
   "execution_count": 37,
   "metadata": {},
   "outputs": [
    {
     "data": {
      "text/html": [
       "<div>\n",
       "<style scoped>\n",
       "    .dataframe tbody tr th:only-of-type {\n",
       "        vertical-align: middle;\n",
       "    }\n",
       "\n",
       "    .dataframe tbody tr th {\n",
       "        vertical-align: top;\n",
       "    }\n",
       "\n",
       "    .dataframe thead th {\n",
       "        text-align: right;\n",
       "    }\n",
       "</style>\n",
       "<table border=\"1\" class=\"dataframe\">\n",
       "  <thead>\n",
       "    <tr style=\"text-align: right;\">\n",
       "      <th></th>\n",
       "      <th>uniqueID</th>\n",
       "      <th>ID</th>\n",
       "      <th>location</th>\n",
       "      <th>maturity</th>\n",
       "      <th>totalDevelopers</th>\n",
       "      <th>complexityPoints</th>\n",
       "      <th>start</th>\n",
       "      <th>end</th>\n",
       "      <th>leadTime</th>\n",
       "      <th>technicalDebt</th>\n",
       "      <th>taskScaling</th>\n",
       "      <th>taskGlobalDistance</th>\n",
       "    </tr>\n",
       "  </thead>\n",
       "  <tbody>\n",
       "    <tr>\n",
       "      <th>0</th>\n",
       "      <td>PC:14187</td>\n",
       "      <td>TURK-372</td>\n",
       "      <td>India</td>\n",
       "      <td>0.0</td>\n",
       "      <td>13.0</td>\n",
       "      <td>60.0</td>\n",
       "      <td>2014-08-11 00:00:00</td>\n",
       "      <td>2015-02-06 00:00:00</td>\n",
       "      <td>179.0</td>\n",
       "      <td>796.0</td>\n",
       "      <td>0.216667</td>\n",
       "      <td>1.250000</td>\n",
       "    </tr>\n",
       "    <tr>\n",
       "      <th>1</th>\n",
       "      <td>PC:15448</td>\n",
       "      <td>BHA-328</td>\n",
       "      <td>Virtual</td>\n",
       "      <td>0.0</td>\n",
       "      <td>25.0</td>\n",
       "      <td>170.0</td>\n",
       "      <td>2015-01-19 00:00:00</td>\n",
       "      <td>2015-06-05 00:00:00</td>\n",
       "      <td>137.0</td>\n",
       "      <td>2474.0</td>\n",
       "      <td>0.147059</td>\n",
       "      <td>6.244748</td>\n",
       "    </tr>\n",
       "    <tr>\n",
       "      <th>2</th>\n",
       "      <td>PC:13350</td>\n",
       "      <td>TELSTRA-038</td>\n",
       "      <td>India</td>\n",
       "      <td>0.0</td>\n",
       "      <td>7.0</td>\n",
       "      <td>35.0</td>\n",
       "      <td>2015-02-09 00:00:00</td>\n",
       "      <td>2015-04-02 00:00:00</td>\n",
       "      <td>52.0</td>\n",
       "      <td>202.0</td>\n",
       "      <td>0.200000</td>\n",
       "      <td>3.463991</td>\n",
       "    </tr>\n",
       "    <tr>\n",
       "      <th>3</th>\n",
       "      <td>PC:13708</td>\n",
       "      <td>TURK-362</td>\n",
       "      <td>India</td>\n",
       "      <td>0.0</td>\n",
       "      <td>2.0</td>\n",
       "      <td>15.0</td>\n",
       "      <td>2015-04-27 00:00:00</td>\n",
       "      <td>2015-06-05 00:00:00</td>\n",
       "      <td>39.0</td>\n",
       "      <td>0.0</td>\n",
       "      <td>0.133333</td>\n",
       "      <td>3.463991</td>\n",
       "    </tr>\n",
       "    <tr>\n",
       "      <th>4</th>\n",
       "      <td>PC:13756</td>\n",
       "      <td>IDEA-173</td>\n",
       "      <td>India</td>\n",
       "      <td>0.0</td>\n",
       "      <td>4.0</td>\n",
       "      <td>25.0</td>\n",
       "      <td>2015-04-27 00:00:00</td>\n",
       "      <td>2015-06-12 00:00:00</td>\n",
       "      <td>46.0</td>\n",
       "      <td>626.0</td>\n",
       "      <td>0.160000</td>\n",
       "      <td>3.463991</td>\n",
       "    </tr>\n",
       "    <tr>\n",
       "      <th>5</th>\n",
       "      <td>PC:14475</td>\n",
       "      <td>TELSTRA-039</td>\n",
       "      <td>India</td>\n",
       "      <td>0.0</td>\n",
       "      <td>6.0</td>\n",
       "      <td>20.0</td>\n",
       "      <td>2015-05-04 00:00:00</td>\n",
       "      <td>2015-07-10 00:00:00</td>\n",
       "      <td>67.0</td>\n",
       "      <td>52.0</td>\n",
       "      <td>0.300000</td>\n",
       "      <td>3.463991</td>\n",
       "    </tr>\n",
       "    <tr>\n",
       "      <th>6</th>\n",
       "      <td>PC:16334</td>\n",
       "      <td>VOICE-447</td>\n",
       "      <td>Virtual</td>\n",
       "      <td>0.0</td>\n",
       "      <td>9.0</td>\n",
       "      <td>70.0</td>\n",
       "      <td>2015-07-27 00:00:00</td>\n",
       "      <td>2015-10-30 00:00:00</td>\n",
       "      <td>95.0</td>\n",
       "      <td>517.0</td>\n",
       "      <td>0.128571</td>\n",
       "      <td>3.463991</td>\n",
       "    </tr>\n",
       "    <tr>\n",
       "      <th>7</th>\n",
       "      <td>PC:16573</td>\n",
       "      <td>WIND-206</td>\n",
       "      <td>India</td>\n",
       "      <td>0.0</td>\n",
       "      <td>9.0</td>\n",
       "      <td>110.0</td>\n",
       "      <td>2015-08-10 00:00:00</td>\n",
       "      <td>2015-10-16 00:00:00</td>\n",
       "      <td>67.0</td>\n",
       "      <td>3085.0</td>\n",
       "      <td>0.081818</td>\n",
       "      <td>3.463991</td>\n",
       "    </tr>\n",
       "    <tr>\n",
       "      <th>8</th>\n",
       "      <td>PC:16456</td>\n",
       "      <td>VOICE-454</td>\n",
       "      <td>India</td>\n",
       "      <td>0.0</td>\n",
       "      <td>8.0</td>\n",
       "      <td>350.0</td>\n",
       "      <td>2015-08-10 00:00:00</td>\n",
       "      <td>2015-11-06 00:00:00</td>\n",
       "      <td>88.0</td>\n",
       "      <td>3270.0</td>\n",
       "      <td>0.022857</td>\n",
       "      <td>3.463991</td>\n",
       "    </tr>\n",
       "    <tr>\n",
       "      <th>9</th>\n",
       "      <td>PC:15952</td>\n",
       "      <td>TURK-394</td>\n",
       "      <td>India</td>\n",
       "      <td>0.0</td>\n",
       "      <td>2.0</td>\n",
       "      <td>10.0</td>\n",
       "      <td>2015-08-10 00:00:00</td>\n",
       "      <td>2015-08-28 00:00:00</td>\n",
       "      <td>18.0</td>\n",
       "      <td>20.0</td>\n",
       "      <td>0.200000</td>\n",
       "      <td>3.463991</td>\n",
       "    </tr>\n",
       "    <tr>\n",
       "      <th>10</th>\n",
       "      <td>PC:14110</td>\n",
       "      <td>CHTT-036</td>\n",
       "      <td>India</td>\n",
       "      <td>0.0</td>\n",
       "      <td>8.0</td>\n",
       "      <td>100.0</td>\n",
       "      <td>2015-08-10 00:00:00</td>\n",
       "      <td>2015-12-18 00:00:00</td>\n",
       "      <td>130.0</td>\n",
       "      <td>3834.0</td>\n",
       "      <td>0.080000</td>\n",
       "      <td>3.463991</td>\n",
       "    </tr>\n",
       "    <tr>\n",
       "      <th>11</th>\n",
       "      <td>PC:16121</td>\n",
       "      <td>VOICE-438</td>\n",
       "      <td>India</td>\n",
       "      <td>0.0</td>\n",
       "      <td>10.0</td>\n",
       "      <td>95.0</td>\n",
       "      <td>2015-08-31 00:00:00</td>\n",
       "      <td>2015-12-04 00:00:00</td>\n",
       "      <td>95.0</td>\n",
       "      <td>1778.0</td>\n",
       "      <td>0.105263</td>\n",
       "      <td>3.463991</td>\n",
       "    </tr>\n",
       "    <tr>\n",
       "      <th>12</th>\n",
       "      <td>PC:15193</td>\n",
       "      <td>IND-176</td>\n",
       "      <td>India</td>\n",
       "      <td>0.0</td>\n",
       "      <td>6.0</td>\n",
       "      <td>50.0</td>\n",
       "      <td>2015-10-12 00:00:00</td>\n",
       "      <td>2016-01-15 00:00:00</td>\n",
       "      <td>95.0</td>\n",
       "      <td>5429.0</td>\n",
       "      <td>0.120000</td>\n",
       "      <td>3.463991</td>\n",
       "    </tr>\n",
       "    <tr>\n",
       "      <th>13</th>\n",
       "      <td>PC:17377</td>\n",
       "      <td>VOICE-516</td>\n",
       "      <td>India</td>\n",
       "      <td>0.0</td>\n",
       "      <td>5.0</td>\n",
       "      <td>25.0</td>\n",
       "      <td>2015-11-09 00:00:00</td>\n",
       "      <td>2016-03-11 00:00:00</td>\n",
       "      <td>123.0</td>\n",
       "      <td>666.0</td>\n",
       "      <td>0.200000</td>\n",
       "      <td>3.463991</td>\n",
       "    </tr>\n",
       "    <tr>\n",
       "      <th>14</th>\n",
       "      <td>PC:15940</td>\n",
       "      <td>CIN-296</td>\n",
       "      <td>India</td>\n",
       "      <td>1.0</td>\n",
       "      <td>6.0</td>\n",
       "      <td>100.0</td>\n",
       "      <td>2016-01-18 00:00:00</td>\n",
       "      <td>2016-05-13 00:00:00</td>\n",
       "      <td>116.0</td>\n",
       "      <td>3329.0</td>\n",
       "      <td>0.060000</td>\n",
       "      <td>3.463991</td>\n",
       "    </tr>\n",
       "    <tr>\n",
       "      <th>15</th>\n",
       "      <td>PC:12670</td>\n",
       "      <td>VOICE-526</td>\n",
       "      <td>India</td>\n",
       "      <td>0.0</td>\n",
       "      <td>6.0</td>\n",
       "      <td>20.0</td>\n",
       "      <td>2016-02-01 00:00:00</td>\n",
       "      <td>2016-03-24 00:00:00</td>\n",
       "      <td>52.0</td>\n",
       "      <td>4.2</td>\n",
       "      <td>0.300000</td>\n",
       "      <td>3.463991</td>\n",
       "    </tr>\n",
       "    <tr>\n",
       "      <th>16</th>\n",
       "      <td>PC:16519</td>\n",
       "      <td>ZAINK-057</td>\n",
       "      <td>India</td>\n",
       "      <td>0.0</td>\n",
       "      <td>3.0</td>\n",
       "      <td>25.0</td>\n",
       "      <td>2016-03-07 00:00:00</td>\n",
       "      <td>2016-05-04 00:00:00</td>\n",
       "      <td>58.0</td>\n",
       "      <td>34.0</td>\n",
       "      <td>0.120000</td>\n",
       "      <td>3.463991</td>\n",
       "    </tr>\n",
       "    <tr>\n",
       "      <th>17</th>\n",
       "      <td>PC:16119</td>\n",
       "      <td>CIN-301</td>\n",
       "      <td>India</td>\n",
       "      <td>0.0</td>\n",
       "      <td>7.0</td>\n",
       "      <td>15.0</td>\n",
       "      <td>2016-04-11 00:00:00</td>\n",
       "      <td>2016-06-24 00:00:00</td>\n",
       "      <td>74.0</td>\n",
       "      <td>37.0</td>\n",
       "      <td>0.466667</td>\n",
       "      <td>3.463991</td>\n",
       "    </tr>\n",
       "    <tr>\n",
       "      <th>18</th>\n",
       "      <td>PC:16528</td>\n",
       "      <td>ZAINK-066</td>\n",
       "      <td>India</td>\n",
       "      <td>0.0</td>\n",
       "      <td>5.0</td>\n",
       "      <td>20.0</td>\n",
       "      <td>2016-04-11 00:00:00</td>\n",
       "      <td>2016-06-03 00:00:00</td>\n",
       "      <td>53.0</td>\n",
       "      <td>740.0</td>\n",
       "      <td>0.250000</td>\n",
       "      <td>3.463991</td>\n",
       "    </tr>\n",
       "    <tr>\n",
       "      <th>19</th>\n",
       "      <td>PC:18692</td>\n",
       "      <td>VOICE-562</td>\n",
       "      <td>Virtual</td>\n",
       "      <td>0.0</td>\n",
       "      <td>7.0</td>\n",
       "      <td>20.0</td>\n",
       "      <td>2016-04-11 00:00:00</td>\n",
       "      <td>2016-05-28 00:00:00</td>\n",
       "      <td>47.0</td>\n",
       "      <td>1656.0</td>\n",
       "      <td>0.350000</td>\n",
       "      <td>6.103278</td>\n",
       "    </tr>\n",
       "    <tr>\n",
       "      <th>20</th>\n",
       "      <td>Pc:17363</td>\n",
       "      <td>FTML-066</td>\n",
       "      <td>India</td>\n",
       "      <td>0.0</td>\n",
       "      <td>5.0</td>\n",
       "      <td>30.0</td>\n",
       "      <td>2016-04-25 00:00:00</td>\n",
       "      <td>2016-07-15 00:00:00</td>\n",
       "      <td>81.0</td>\n",
       "      <td>33.0</td>\n",
       "      <td>0.166667</td>\n",
       "      <td>3.463991</td>\n",
       "    </tr>\n",
       "    <tr>\n",
       "      <th>21</th>\n",
       "      <td>PC:16582</td>\n",
       "      <td>ZAINK-069</td>\n",
       "      <td>India</td>\n",
       "      <td>0.0</td>\n",
       "      <td>7.0</td>\n",
       "      <td>60.0</td>\n",
       "      <td>2016-05-09 00:00:00</td>\n",
       "      <td>2016-09-02 00:00:00</td>\n",
       "      <td>116.0</td>\n",
       "      <td>876.0</td>\n",
       "      <td>0.116667</td>\n",
       "      <td>3.463991</td>\n",
       "    </tr>\n",
       "    <tr>\n",
       "      <th>22</th>\n",
       "      <td>PC:18718</td>\n",
       "      <td>VOICE-563</td>\n",
       "      <td>India</td>\n",
       "      <td>0.0</td>\n",
       "      <td>6.0</td>\n",
       "      <td>15.0</td>\n",
       "      <td>2016-06-03 00:00:00</td>\n",
       "      <td>2016-07-06 00:00:00</td>\n",
       "      <td>33.0</td>\n",
       "      <td>260.0</td>\n",
       "      <td>0.400000</td>\n",
       "      <td>3.463991</td>\n",
       "    </tr>\n",
       "    <tr>\n",
       "      <th>23</th>\n",
       "      <td>PC:14113</td>\n",
       "      <td>BHA-300</td>\n",
       "      <td>Italy</td>\n",
       "      <td>0.0</td>\n",
       "      <td>4.0</td>\n",
       "      <td>50.0</td>\n",
       "      <td>2014-08-11 00:00:00</td>\n",
       "      <td>2014-11-21 00:00:00</td>\n",
       "      <td>102.0</td>\n",
       "      <td>133.0</td>\n",
       "      <td>0.080000</td>\n",
       "      <td>0.754329</td>\n",
       "    </tr>\n",
       "    <tr>\n",
       "      <th>24</th>\n",
       "      <td>PC:14688</td>\n",
       "      <td>WATA-070</td>\n",
       "      <td>Italy</td>\n",
       "      <td>0.0</td>\n",
       "      <td>3.0</td>\n",
       "      <td>30.0</td>\n",
       "      <td>2014-10-13 00:00:00</td>\n",
       "      <td>2014-12-12 00:00:00</td>\n",
       "      <td>60.0</td>\n",
       "      <td>1115.0</td>\n",
       "      <td>0.100000</td>\n",
       "      <td>0.754329</td>\n",
       "    </tr>\n",
       "    <tr>\n",
       "      <th>25</th>\n",
       "      <td>PC:16455</td>\n",
       "      <td>VOICE-453</td>\n",
       "      <td>USA</td>\n",
       "      <td>1.0</td>\n",
       "      <td>3.0</td>\n",
       "      <td>60.0</td>\n",
       "      <td>2015-08-03 00:00:00</td>\n",
       "      <td>2015-09-15 00:00:00</td>\n",
       "      <td>43.0</td>\n",
       "      <td>18.0</td>\n",
       "      <td>0.050000</td>\n",
       "      <td>4.082389</td>\n",
       "    </tr>\n",
       "    <tr>\n",
       "      <th>26</th>\n",
       "      <td>PC:16498</td>\n",
       "      <td>VOICE-458</td>\n",
       "      <td>USA</td>\n",
       "      <td>1.0</td>\n",
       "      <td>3.0</td>\n",
       "      <td>110.0</td>\n",
       "      <td>2015-08-24 00:00:00</td>\n",
       "      <td>2015-12-04 00:00:00</td>\n",
       "      <td>102.0</td>\n",
       "      <td>504.0</td>\n",
       "      <td>0.027273</td>\n",
       "      <td>4.082389</td>\n",
       "    </tr>\n",
       "    <tr>\n",
       "      <th>27</th>\n",
       "      <td>PC:16604</td>\n",
       "      <td>VOICE-465</td>\n",
       "      <td>USA</td>\n",
       "      <td>1.0</td>\n",
       "      <td>3.0</td>\n",
       "      <td>100.0</td>\n",
       "      <td>2015-12-07 00:00:00</td>\n",
       "      <td>2016-02-12 00:00:00</td>\n",
       "      <td>67.0</td>\n",
       "      <td>1643.0</td>\n",
       "      <td>0.030000</td>\n",
       "      <td>4.082389</td>\n",
       "    </tr>\n",
       "    <tr>\n",
       "      <th>28</th>\n",
       "      <td>PC:18315</td>\n",
       "      <td>VOICE-553</td>\n",
       "      <td>USA</td>\n",
       "      <td>1.0</td>\n",
       "      <td>4.0</td>\n",
       "      <td>50.0</td>\n",
       "      <td>2016-05-09 00:00:00</td>\n",
       "      <td>2016-07-09 00:00:00</td>\n",
       "      <td>61.0</td>\n",
       "      <td>893.0</td>\n",
       "      <td>0.080000</td>\n",
       "      <td>4.082389</td>\n",
       "    </tr>\n",
       "    <tr>\n",
       "      <th>29</th>\n",
       "      <td>PC:15696</td>\n",
       "      <td>VOICE-419</td>\n",
       "      <td>Sweden</td>\n",
       "      <td>0.0</td>\n",
       "      <td>4.0</td>\n",
       "      <td>35.0</td>\n",
       "      <td>2015-04-13 00:00:00</td>\n",
       "      <td>2015-05-22 00:00:00</td>\n",
       "      <td>39.0</td>\n",
       "      <td>518.0</td>\n",
       "      <td>0.114286</td>\n",
       "      <td>0.000000</td>\n",
       "    </tr>\n",
       "    <tr>\n",
       "      <th>30</th>\n",
       "      <td>PC:16084</td>\n",
       "      <td>VOICE-436</td>\n",
       "      <td>Sweden</td>\n",
       "      <td>1.0</td>\n",
       "      <td>8.0</td>\n",
       "      <td>600.0</td>\n",
       "      <td>2015-08-24 00:00:00</td>\n",
       "      <td>2015-12-07 00:00:00</td>\n",
       "      <td>105.0</td>\n",
       "      <td>4455.0</td>\n",
       "      <td>0.013333</td>\n",
       "      <td>0.000000</td>\n",
       "    </tr>\n",
       "    <tr>\n",
       "      <th>31</th>\n",
       "      <td>PC:18374</td>\n",
       "      <td>VOICE-555</td>\n",
       "      <td>Virtual</td>\n",
       "      <td>1.0</td>\n",
       "      <td>4.0</td>\n",
       "      <td>30.0</td>\n",
       "      <td>2016-03-21 00:00:00</td>\n",
       "      <td>2016-04-15 00:00:00</td>\n",
       "      <td>25.0</td>\n",
       "      <td>943.0</td>\n",
       "      <td>0.133333</td>\n",
       "      <td>6.122464</td>\n",
       "    </tr>\n",
       "  </tbody>\n",
       "</table>\n",
       "</div>"
      ],
      "text/plain": [
       "    uniqueID           ID location  maturity  totalDevelopers  \\\n",
       "0   PC:14187     TURK-372    India       0.0             13.0   \n",
       "1   PC:15448      BHA-328  Virtual       0.0             25.0   \n",
       "2   PC:13350  TELSTRA-038    India       0.0              7.0   \n",
       "3   PC:13708     TURK-362    India       0.0              2.0   \n",
       "4   PC:13756     IDEA-173    India       0.0              4.0   \n",
       "5   PC:14475  TELSTRA-039    India       0.0              6.0   \n",
       "6   PC:16334    VOICE-447  Virtual       0.0              9.0   \n",
       "7   PC:16573     WIND-206    India       0.0              9.0   \n",
       "8   PC:16456    VOICE-454    India       0.0              8.0   \n",
       "9   PC:15952     TURK-394    India       0.0              2.0   \n",
       "10  PC:14110     CHTT-036    India       0.0              8.0   \n",
       "11  PC:16121    VOICE-438    India       0.0             10.0   \n",
       "12  PC:15193      IND-176    India       0.0              6.0   \n",
       "13  PC:17377    VOICE-516    India       0.0              5.0   \n",
       "14  PC:15940      CIN-296    India       1.0              6.0   \n",
       "15  PC:12670    VOICE-526    India       0.0              6.0   \n",
       "16  PC:16519    ZAINK-057    India       0.0              3.0   \n",
       "17  PC:16119      CIN-301    India       0.0              7.0   \n",
       "18  PC:16528    ZAINK-066    India       0.0              5.0   \n",
       "19  PC:18692    VOICE-562  Virtual       0.0              7.0   \n",
       "20  Pc:17363     FTML-066    India       0.0              5.0   \n",
       "21  PC:16582    ZAINK-069    India       0.0              7.0   \n",
       "22  PC:18718    VOICE-563    India       0.0              6.0   \n",
       "23  PC:14113      BHA-300    Italy       0.0              4.0   \n",
       "24  PC:14688     WATA-070    Italy       0.0              3.0   \n",
       "25  PC:16455    VOICE-453      USA       1.0              3.0   \n",
       "26  PC:16498    VOICE-458      USA       1.0              3.0   \n",
       "27  PC:16604    VOICE-465      USA       1.0              3.0   \n",
       "28  PC:18315    VOICE-553      USA       1.0              4.0   \n",
       "29  PC:15696   VOICE-419    Sweden       0.0              4.0   \n",
       "30  PC:16084    VOICE-436   Sweden       1.0              8.0   \n",
       "31  PC:18374    VOICE-555  Virtual       1.0              4.0   \n",
       "\n",
       "    complexityPoints                start                  end  leadTime  \\\n",
       "0               60.0  2014-08-11 00:00:00  2015-02-06 00:00:00     179.0   \n",
       "1              170.0  2015-01-19 00:00:00  2015-06-05 00:00:00     137.0   \n",
       "2               35.0  2015-02-09 00:00:00  2015-04-02 00:00:00      52.0   \n",
       "3               15.0  2015-04-27 00:00:00  2015-06-05 00:00:00      39.0   \n",
       "4               25.0  2015-04-27 00:00:00  2015-06-12 00:00:00      46.0   \n",
       "5               20.0  2015-05-04 00:00:00  2015-07-10 00:00:00      67.0   \n",
       "6               70.0  2015-07-27 00:00:00  2015-10-30 00:00:00      95.0   \n",
       "7              110.0  2015-08-10 00:00:00  2015-10-16 00:00:00      67.0   \n",
       "8              350.0  2015-08-10 00:00:00  2015-11-06 00:00:00      88.0   \n",
       "9               10.0  2015-08-10 00:00:00  2015-08-28 00:00:00      18.0   \n",
       "10             100.0  2015-08-10 00:00:00  2015-12-18 00:00:00     130.0   \n",
       "11              95.0  2015-08-31 00:00:00  2015-12-04 00:00:00      95.0   \n",
       "12              50.0  2015-10-12 00:00:00  2016-01-15 00:00:00      95.0   \n",
       "13              25.0  2015-11-09 00:00:00  2016-03-11 00:00:00     123.0   \n",
       "14             100.0  2016-01-18 00:00:00  2016-05-13 00:00:00     116.0   \n",
       "15              20.0  2016-02-01 00:00:00  2016-03-24 00:00:00      52.0   \n",
       "16              25.0  2016-03-07 00:00:00  2016-05-04 00:00:00      58.0   \n",
       "17              15.0  2016-04-11 00:00:00  2016-06-24 00:00:00      74.0   \n",
       "18              20.0  2016-04-11 00:00:00  2016-06-03 00:00:00      53.0   \n",
       "19              20.0  2016-04-11 00:00:00  2016-05-28 00:00:00      47.0   \n",
       "20              30.0  2016-04-25 00:00:00  2016-07-15 00:00:00      81.0   \n",
       "21              60.0  2016-05-09 00:00:00  2016-09-02 00:00:00     116.0   \n",
       "22              15.0  2016-06-03 00:00:00  2016-07-06 00:00:00      33.0   \n",
       "23              50.0  2014-08-11 00:00:00  2014-11-21 00:00:00     102.0   \n",
       "24              30.0  2014-10-13 00:00:00  2014-12-12 00:00:00      60.0   \n",
       "25              60.0  2015-08-03 00:00:00  2015-09-15 00:00:00      43.0   \n",
       "26             110.0  2015-08-24 00:00:00  2015-12-04 00:00:00     102.0   \n",
       "27             100.0  2015-12-07 00:00:00  2016-02-12 00:00:00      67.0   \n",
       "28              50.0  2016-05-09 00:00:00  2016-07-09 00:00:00      61.0   \n",
       "29              35.0  2015-04-13 00:00:00  2015-05-22 00:00:00      39.0   \n",
       "30             600.0  2015-08-24 00:00:00  2015-12-07 00:00:00     105.0   \n",
       "31              30.0  2016-03-21 00:00:00  2016-04-15 00:00:00      25.0   \n",
       "\n",
       "    technicalDebt  taskScaling  taskGlobalDistance  \n",
       "0           796.0     0.216667            1.250000  \n",
       "1          2474.0     0.147059            6.244748  \n",
       "2           202.0     0.200000            3.463991  \n",
       "3             0.0     0.133333            3.463991  \n",
       "4           626.0     0.160000            3.463991  \n",
       "5            52.0     0.300000            3.463991  \n",
       "6           517.0     0.128571            3.463991  \n",
       "7          3085.0     0.081818            3.463991  \n",
       "8          3270.0     0.022857            3.463991  \n",
       "9            20.0     0.200000            3.463991  \n",
       "10         3834.0     0.080000            3.463991  \n",
       "11         1778.0     0.105263            3.463991  \n",
       "12         5429.0     0.120000            3.463991  \n",
       "13          666.0     0.200000            3.463991  \n",
       "14         3329.0     0.060000            3.463991  \n",
       "15            4.2     0.300000            3.463991  \n",
       "16           34.0     0.120000            3.463991  \n",
       "17           37.0     0.466667            3.463991  \n",
       "18          740.0     0.250000            3.463991  \n",
       "19         1656.0     0.350000            6.103278  \n",
       "20           33.0     0.166667            3.463991  \n",
       "21          876.0     0.116667            3.463991  \n",
       "22          260.0     0.400000            3.463991  \n",
       "23          133.0     0.080000            0.754329  \n",
       "24         1115.0     0.100000            0.754329  \n",
       "25           18.0     0.050000            4.082389  \n",
       "26          504.0     0.027273            4.082389  \n",
       "27         1643.0     0.030000            4.082389  \n",
       "28          893.0     0.080000            4.082389  \n",
       "29          518.0     0.114286            0.000000  \n",
       "30         4455.0     0.013333            0.000000  \n",
       "31          943.0     0.133333            6.122464  "
      ]
     },
     "execution_count": 37,
     "metadata": {},
     "output_type": "execute_result"
    }
   ],
   "source": [
    "df_all_metrics.head(32)"
   ]
  },
  {
   "cell_type": "code",
   "execution_count": 80,
   "metadata": {},
   "outputs": [
    {
     "data": {
      "text/html": [
       "<div>\n",
       "<style scoped>\n",
       "    .dataframe tbody tr th:only-of-type {\n",
       "        vertical-align: middle;\n",
       "    }\n",
       "\n",
       "    .dataframe tbody tr th {\n",
       "        vertical-align: top;\n",
       "    }\n",
       "\n",
       "    .dataframe thead th {\n",
       "        text-align: right;\n",
       "    }\n",
       "</style>\n",
       "<table border=\"1\" class=\"dataframe\">\n",
       "  <thead>\n",
       "    <tr style=\"text-align: right;\">\n",
       "      <th></th>\n",
       "      <th>maturity</th>\n",
       "      <th>totalDevelopers</th>\n",
       "      <th>complexityPoints</th>\n",
       "      <th>leadTime</th>\n",
       "      <th>technicalDebt</th>\n",
       "      <th>taskScaling</th>\n",
       "      <th>taskGlobalDistance</th>\n",
       "    </tr>\n",
       "  </thead>\n",
       "  <tbody>\n",
       "    <tr>\n",
       "      <th>count</th>\n",
       "      <td>32.000000</td>\n",
       "      <td>32.000000</td>\n",
       "      <td>32.000000</td>\n",
       "      <td>32.000000</td>\n",
       "      <td>32.000000</td>\n",
       "      <td>32.000000</td>\n",
       "      <td>32.000000</td>\n",
       "    </tr>\n",
       "    <tr>\n",
       "      <th>mean</th>\n",
       "      <td>0.218750</td>\n",
       "      <td>6.312500</td>\n",
       "      <td>78.281250</td>\n",
       "      <td>77.031250</td>\n",
       "      <td>1248.131250</td>\n",
       "      <td>0.154806</td>\n",
       "      <td>3.338704</td>\n",
       "    </tr>\n",
       "    <tr>\n",
       "      <th>std</th>\n",
       "      <td>0.420013</td>\n",
       "      <td>4.238362</td>\n",
       "      <td>115.161943</td>\n",
       "      <td>36.887348</td>\n",
       "      <td>1468.187932</td>\n",
       "      <td>0.110836</td>\n",
       "      <td>1.463293</td>\n",
       "    </tr>\n",
       "    <tr>\n",
       "      <th>min</th>\n",
       "      <td>0.000000</td>\n",
       "      <td>2.000000</td>\n",
       "      <td>10.000000</td>\n",
       "      <td>18.000000</td>\n",
       "      <td>0.000000</td>\n",
       "      <td>0.013333</td>\n",
       "      <td>0.000000</td>\n",
       "    </tr>\n",
       "    <tr>\n",
       "      <th>25%</th>\n",
       "      <td>0.000000</td>\n",
       "      <td>4.000000</td>\n",
       "      <td>23.750000</td>\n",
       "      <td>50.750000</td>\n",
       "      <td>112.750000</td>\n",
       "      <td>0.080000</td>\n",
       "      <td>3.463991</td>\n",
       "    </tr>\n",
       "    <tr>\n",
       "      <th>50%</th>\n",
       "      <td>0.000000</td>\n",
       "      <td>6.000000</td>\n",
       "      <td>42.500000</td>\n",
       "      <td>67.000000</td>\n",
       "      <td>703.000000</td>\n",
       "      <td>0.124286</td>\n",
       "      <td>3.463991</td>\n",
       "    </tr>\n",
       "    <tr>\n",
       "      <th>75%</th>\n",
       "      <td>0.000000</td>\n",
       "      <td>7.250000</td>\n",
       "      <td>96.250000</td>\n",
       "      <td>102.000000</td>\n",
       "      <td>1686.500000</td>\n",
       "      <td>0.200000</td>\n",
       "      <td>3.463991</td>\n",
       "    </tr>\n",
       "    <tr>\n",
       "      <th>max</th>\n",
       "      <td>1.000000</td>\n",
       "      <td>25.000000</td>\n",
       "      <td>600.000000</td>\n",
       "      <td>179.000000</td>\n",
       "      <td>5429.000000</td>\n",
       "      <td>0.466667</td>\n",
       "      <td>6.244748</td>\n",
       "    </tr>\n",
       "  </tbody>\n",
       "</table>\n",
       "</div>"
      ],
      "text/plain": [
       "        maturity  totalDevelopers  complexityPoints    leadTime  \\\n",
       "count  32.000000        32.000000         32.000000   32.000000   \n",
       "mean    0.218750         6.312500         78.281250   77.031250   \n",
       "std     0.420013         4.238362        115.161943   36.887348   \n",
       "min     0.000000         2.000000         10.000000   18.000000   \n",
       "25%     0.000000         4.000000         23.750000   50.750000   \n",
       "50%     0.000000         6.000000         42.500000   67.000000   \n",
       "75%     0.000000         7.250000         96.250000  102.000000   \n",
       "max     1.000000        25.000000        600.000000  179.000000   \n",
       "\n",
       "       technicalDebt  taskScaling  taskGlobalDistance  \n",
       "count      32.000000    32.000000           32.000000  \n",
       "mean     1248.131250     0.154806            3.338704  \n",
       "std      1468.187932     0.110836            1.463293  \n",
       "min         0.000000     0.013333            0.000000  \n",
       "25%       112.750000     0.080000            3.463991  \n",
       "50%       703.000000     0.124286            3.463991  \n",
       "75%      1686.500000     0.200000            3.463991  \n",
       "max      5429.000000     0.466667            6.244748  "
      ]
     },
     "execution_count": 80,
     "metadata": {},
     "output_type": "execute_result"
    }
   ],
   "source": [
    "df_all_metrics.describe()"
   ]
  },
  {
   "cell_type": "markdown",
   "metadata": {},
   "source": [
    "## 1.1 Data sample"
   ]
  },
  {
   "cell_type": "code",
   "execution_count": 81,
   "metadata": {},
   "outputs": [
    {
     "data": {
      "text/html": [
       "<div>\n",
       "<style scoped>\n",
       "    .dataframe tbody tr th:only-of-type {\n",
       "        vertical-align: middle;\n",
       "    }\n",
       "\n",
       "    .dataframe tbody tr th {\n",
       "        vertical-align: top;\n",
       "    }\n",
       "\n",
       "    .dataframe thead th {\n",
       "        text-align: right;\n",
       "    }\n",
       "</style>\n",
       "<table border=\"1\" class=\"dataframe\">\n",
       "  <thead>\n",
       "    <tr style=\"text-align: right;\">\n",
       "      <th></th>\n",
       "      <th>uniqueID</th>\n",
       "      <th>ID</th>\n",
       "      <th>location</th>\n",
       "      <th>maturity</th>\n",
       "      <th>totalDevelopers</th>\n",
       "      <th>complexityPoints</th>\n",
       "      <th>start</th>\n",
       "      <th>end</th>\n",
       "      <th>leadTime</th>\n",
       "      <th>technicalDebt</th>\n",
       "      <th>taskScaling</th>\n",
       "      <th>taskGlobalDistance</th>\n",
       "    </tr>\n",
       "  </thead>\n",
       "  <tbody>\n",
       "    <tr>\n",
       "      <th>0</th>\n",
       "      <td>PC:14187</td>\n",
       "      <td>TURK-372</td>\n",
       "      <td>India</td>\n",
       "      <td>0.0</td>\n",
       "      <td>13.0</td>\n",
       "      <td>60.0</td>\n",
       "      <td>2014-08-11 00:00:00</td>\n",
       "      <td>2015-02-06 00:00:00</td>\n",
       "      <td>179.0</td>\n",
       "      <td>796.0</td>\n",
       "      <td>0.216667</td>\n",
       "      <td>1.250000</td>\n",
       "    </tr>\n",
       "    <tr>\n",
       "      <th>1</th>\n",
       "      <td>PC:15448</td>\n",
       "      <td>BHA-328</td>\n",
       "      <td>Virtual</td>\n",
       "      <td>0.0</td>\n",
       "      <td>25.0</td>\n",
       "      <td>170.0</td>\n",
       "      <td>2015-01-19 00:00:00</td>\n",
       "      <td>2015-06-05 00:00:00</td>\n",
       "      <td>137.0</td>\n",
       "      <td>2474.0</td>\n",
       "      <td>0.147059</td>\n",
       "      <td>6.244748</td>\n",
       "    </tr>\n",
       "    <tr>\n",
       "      <th>2</th>\n",
       "      <td>PC:13350</td>\n",
       "      <td>TELSTRA-038</td>\n",
       "      <td>India</td>\n",
       "      <td>0.0</td>\n",
       "      <td>7.0</td>\n",
       "      <td>35.0</td>\n",
       "      <td>2015-02-09 00:00:00</td>\n",
       "      <td>2015-04-02 00:00:00</td>\n",
       "      <td>52.0</td>\n",
       "      <td>202.0</td>\n",
       "      <td>0.200000</td>\n",
       "      <td>3.463991</td>\n",
       "    </tr>\n",
       "  </tbody>\n",
       "</table>\n",
       "</div>"
      ],
      "text/plain": [
       "   uniqueID           ID location  maturity  totalDevelopers  \\\n",
       "0  PC:14187     TURK-372    India       0.0             13.0   \n",
       "1  PC:15448      BHA-328  Virtual       0.0             25.0   \n",
       "2  PC:13350  TELSTRA-038    India       0.0              7.0   \n",
       "\n",
       "   complexityPoints                start                  end  leadTime  \\\n",
       "0              60.0  2014-08-11 00:00:00  2015-02-06 00:00:00     179.0   \n",
       "1             170.0  2015-01-19 00:00:00  2015-06-05 00:00:00     137.0   \n",
       "2              35.0  2015-02-09 00:00:00  2015-04-02 00:00:00      52.0   \n",
       "\n",
       "   technicalDebt  taskScaling  taskGlobalDistance  \n",
       "0          796.0     0.216667            1.250000  \n",
       "1         2474.0     0.147059            6.244748  \n",
       "2          202.0     0.200000            3.463991  "
      ]
     },
     "execution_count": 81,
     "metadata": {},
     "output_type": "execute_result"
    }
   ],
   "source": [
    "df_all_metrics.head(3)"
   ]
  },
  {
   "cell_type": "code",
   "execution_count": 82,
   "metadata": {},
   "outputs": [],
   "source": [
    "df_all_metrics.to_csv('mytdmetrics.csv', sep=';', encoding='utf-8', index=False)"
   ]
  },
  {
   "cell_type": "code",
   "execution_count": 83,
   "metadata": {},
   "outputs": [
    {
     "data": {
      "text/plain": [
       "0      796.0\n",
       "1     2474.0\n",
       "2      202.0\n",
       "3        0.0\n",
       "4      626.0\n",
       "5       52.0\n",
       "6      517.0\n",
       "7     3085.0\n",
       "8     3270.0\n",
       "9       20.0\n",
       "10    3834.0\n",
       "11    1778.0\n",
       "12    5429.0\n",
       "13     666.0\n",
       "14    3329.0\n",
       "15       4.2\n",
       "16      34.0\n",
       "17      37.0\n",
       "18     740.0\n",
       "19    1656.0\n",
       "20      33.0\n",
       "21     876.0\n",
       "22     260.0\n",
       "23     133.0\n",
       "24    1115.0\n",
       "25      18.0\n",
       "26     504.0\n",
       "27    1643.0\n",
       "28     893.0\n",
       "29     518.0\n",
       "30    4455.0\n",
       "31     943.0\n",
       "Name: technicalDebt, dtype: float64"
      ]
     },
     "execution_count": 83,
     "metadata": {},
     "output_type": "execute_result"
    }
   ],
   "source": [
    "df_all_metrics.technicalDebt"
   ]
  },
  {
   "cell_type": "code",
   "execution_count": 84,
   "metadata": {},
   "outputs": [
    {
     "name": "stdout",
     "output_type": "stream",
     "text": [
      "Countries evaluated in the case study: \n",
      "India\n",
      "Virtual\n",
      "Italy\n",
      "USA\n",
      "Sweden\n"
     ]
    }
   ],
   "source": [
    "location = df_all_metrics.location.unique()\n",
    "print(\"Countries evaluated in the case study: \")\n",
    "for each in location:\n",
    "    print(each)"
   ]
  },
  {
   "cell_type": "code",
   "execution_count": 85,
   "metadata": {},
   "outputs": [],
   "source": [
    "with open('latex/mytable1.tex','w') as tf:\n",
    "    tf.write(df_all_metrics.to_latex(index=False))"
   ]
  },
  {
   "cell_type": "markdown",
   "metadata": {},
   "source": [
    "## 1.2 Summary Statistics from Metrics Table"
   ]
  },
  {
   "cell_type": "code",
   "execution_count": 86,
   "metadata": {},
   "outputs": [
    {
     "data": {
      "text/html": [
       "<div>\n",
       "<style scoped>\n",
       "    .dataframe tbody tr th:only-of-type {\n",
       "        vertical-align: middle;\n",
       "    }\n",
       "\n",
       "    .dataframe tbody tr th {\n",
       "        vertical-align: top;\n",
       "    }\n",
       "\n",
       "    .dataframe thead th {\n",
       "        text-align: right;\n",
       "    }\n",
       "</style>\n",
       "<table border=\"1\" class=\"dataframe\">\n",
       "  <thead>\n",
       "    <tr style=\"text-align: right;\">\n",
       "      <th></th>\n",
       "      <th>maturity</th>\n",
       "      <th>totalDevelopers</th>\n",
       "      <th>complexityPoints</th>\n",
       "      <th>leadTime</th>\n",
       "      <th>technicalDebt</th>\n",
       "      <th>taskScaling</th>\n",
       "      <th>taskGlobalDistance</th>\n",
       "    </tr>\n",
       "  </thead>\n",
       "  <tbody>\n",
       "    <tr>\n",
       "      <th>count</th>\n",
       "      <td>32.00</td>\n",
       "      <td>32.00</td>\n",
       "      <td>32.00</td>\n",
       "      <td>32.00</td>\n",
       "      <td>32.00</td>\n",
       "      <td>32.00</td>\n",
       "      <td>32.00</td>\n",
       "    </tr>\n",
       "    <tr>\n",
       "      <th>mean</th>\n",
       "      <td>0.22</td>\n",
       "      <td>6.31</td>\n",
       "      <td>78.28</td>\n",
       "      <td>77.03</td>\n",
       "      <td>1248.13</td>\n",
       "      <td>0.15</td>\n",
       "      <td>3.34</td>\n",
       "    </tr>\n",
       "    <tr>\n",
       "      <th>std</th>\n",
       "      <td>0.42</td>\n",
       "      <td>4.24</td>\n",
       "      <td>115.16</td>\n",
       "      <td>36.89</td>\n",
       "      <td>1468.19</td>\n",
       "      <td>0.11</td>\n",
       "      <td>1.46</td>\n",
       "    </tr>\n",
       "    <tr>\n",
       "      <th>min</th>\n",
       "      <td>0.00</td>\n",
       "      <td>2.00</td>\n",
       "      <td>10.00</td>\n",
       "      <td>18.00</td>\n",
       "      <td>0.00</td>\n",
       "      <td>0.01</td>\n",
       "      <td>0.00</td>\n",
       "    </tr>\n",
       "    <tr>\n",
       "      <th>25%</th>\n",
       "      <td>0.00</td>\n",
       "      <td>4.00</td>\n",
       "      <td>23.75</td>\n",
       "      <td>50.75</td>\n",
       "      <td>112.75</td>\n",
       "      <td>0.08</td>\n",
       "      <td>3.46</td>\n",
       "    </tr>\n",
       "    <tr>\n",
       "      <th>50%</th>\n",
       "      <td>0.00</td>\n",
       "      <td>6.00</td>\n",
       "      <td>42.50</td>\n",
       "      <td>67.00</td>\n",
       "      <td>703.00</td>\n",
       "      <td>0.12</td>\n",
       "      <td>3.46</td>\n",
       "    </tr>\n",
       "    <tr>\n",
       "      <th>75%</th>\n",
       "      <td>0.00</td>\n",
       "      <td>7.25</td>\n",
       "      <td>96.25</td>\n",
       "      <td>102.00</td>\n",
       "      <td>1686.50</td>\n",
       "      <td>0.20</td>\n",
       "      <td>3.46</td>\n",
       "    </tr>\n",
       "    <tr>\n",
       "      <th>max</th>\n",
       "      <td>1.00</td>\n",
       "      <td>25.00</td>\n",
       "      <td>600.00</td>\n",
       "      <td>179.00</td>\n",
       "      <td>5429.00</td>\n",
       "      <td>0.47</td>\n",
       "      <td>6.24</td>\n",
       "    </tr>\n",
       "  </tbody>\n",
       "</table>\n",
       "</div>"
      ],
      "text/plain": [
       "       maturity  totalDevelopers  complexityPoints  leadTime  technicalDebt  \\\n",
       "count     32.00            32.00             32.00     32.00          32.00   \n",
       "mean       0.22             6.31             78.28     77.03        1248.13   \n",
       "std        0.42             4.24            115.16     36.89        1468.19   \n",
       "min        0.00             2.00             10.00     18.00           0.00   \n",
       "25%        0.00             4.00             23.75     50.75         112.75   \n",
       "50%        0.00             6.00             42.50     67.00         703.00   \n",
       "75%        0.00             7.25             96.25    102.00        1686.50   \n",
       "max        1.00            25.00            600.00    179.00        5429.00   \n",
       "\n",
       "       taskScaling  taskGlobalDistance  \n",
       "count        32.00               32.00  \n",
       "mean          0.15                3.34  \n",
       "std           0.11                1.46  \n",
       "min           0.01                0.00  \n",
       "25%           0.08                3.46  \n",
       "50%           0.12                3.46  \n",
       "75%           0.20                3.46  \n",
       "max           0.47                6.24  "
      ]
     },
     "execution_count": 86,
     "metadata": {},
     "output_type": "execute_result"
    }
   ],
   "source": [
    "df_all_metrics.describe().round(2)"
   ]
  },
  {
   "cell_type": "markdown",
   "metadata": {},
   "source": [
    "### Correlation Matrix\n",
    "\n",
    "<p style='font-size: 18px; line-height: 2; margin: 10px 50px; text-align: justify;'> The <b>correlation coefficient </b> is a measure of linear association between two variables and is between <b>-1</b> and <b>+1</b> where <b>-1</b> indicates perfect negative association and <b>+1</b> indicates perfect positive association."
   ]
  },
  {
   "cell_type": "code",
   "execution_count": 87,
   "metadata": {},
   "outputs": [
    {
     "data": {
      "text/html": [
       "<div>\n",
       "<style scoped>\n",
       "    .dataframe tbody tr th:only-of-type {\n",
       "        vertical-align: middle;\n",
       "    }\n",
       "\n",
       "    .dataframe tbody tr th {\n",
       "        vertical-align: top;\n",
       "    }\n",
       "\n",
       "    .dataframe thead th {\n",
       "        text-align: right;\n",
       "    }\n",
       "</style>\n",
       "<table border=\"1\" class=\"dataframe\">\n",
       "  <thead>\n",
       "    <tr style=\"text-align: right;\">\n",
       "      <th></th>\n",
       "      <th>maturity</th>\n",
       "      <th>totalDevelopers</th>\n",
       "      <th>complexityPoints</th>\n",
       "      <th>leadTime</th>\n",
       "      <th>technicalDebt</th>\n",
       "      <th>taskScaling</th>\n",
       "      <th>taskGlobalDistance</th>\n",
       "    </tr>\n",
       "  </thead>\n",
       "  <tbody>\n",
       "    <tr>\n",
       "      <th>maturity</th>\n",
       "      <td>1.0000</td>\n",
       "      <td>-0.2390</td>\n",
       "      <td>0.3348</td>\n",
       "      <td>-0.0421</td>\n",
       "      <td>0.1594</td>\n",
       "      <td>-0.4779</td>\n",
       "      <td>0.1336</td>\n",
       "    </tr>\n",
       "    <tr>\n",
       "      <th>totalDevelopers</th>\n",
       "      <td>-0.2390</td>\n",
       "      <td>1.0000</td>\n",
       "      <td>0.2966</td>\n",
       "      <td>0.5913</td>\n",
       "      <td>0.3433</td>\n",
       "      <td>0.0765</td>\n",
       "      <td>0.2219</td>\n",
       "    </tr>\n",
       "    <tr>\n",
       "      <th>complexityPoints</th>\n",
       "      <td>0.3348</td>\n",
       "      <td>0.2966</td>\n",
       "      <td>1.0000</td>\n",
       "      <td>0.3300</td>\n",
       "      <td>0.6088</td>\n",
       "      <td>-0.4695</td>\n",
       "      <td>-0.2742</td>\n",
       "    </tr>\n",
       "    <tr>\n",
       "      <th>leadTime</th>\n",
       "      <td>-0.0421</td>\n",
       "      <td>0.5913</td>\n",
       "      <td>0.3300</td>\n",
       "      <td>1.0000</td>\n",
       "      <td>0.4088</td>\n",
       "      <td>-0.2425</td>\n",
       "      <td>-0.1703</td>\n",
       "    </tr>\n",
       "    <tr>\n",
       "      <th>technicalDebt</th>\n",
       "      <td>0.1594</td>\n",
       "      <td>0.3433</td>\n",
       "      <td>0.6088</td>\n",
       "      <td>0.4088</td>\n",
       "      <td>1.0000</td>\n",
       "      <td>-0.4190</td>\n",
       "      <td>-0.0258</td>\n",
       "    </tr>\n",
       "    <tr>\n",
       "      <th>taskScaling</th>\n",
       "      <td>-0.4779</td>\n",
       "      <td>0.0765</td>\n",
       "      <td>-0.4695</td>\n",
       "      <td>-0.2425</td>\n",
       "      <td>-0.4190</td>\n",
       "      <td>1.0000</td>\n",
       "      <td>0.2017</td>\n",
       "    </tr>\n",
       "    <tr>\n",
       "      <th>taskGlobalDistance</th>\n",
       "      <td>0.1336</td>\n",
       "      <td>0.2219</td>\n",
       "      <td>-0.2742</td>\n",
       "      <td>-0.1703</td>\n",
       "      <td>-0.0258</td>\n",
       "      <td>0.2017</td>\n",
       "      <td>1.0000</td>\n",
       "    </tr>\n",
       "  </tbody>\n",
       "</table>\n",
       "</div>"
      ],
      "text/plain": [
       "                    maturity  totalDevelopers  complexityPoints  leadTime  \\\n",
       "maturity              1.0000          -0.2390            0.3348   -0.0421   \n",
       "totalDevelopers      -0.2390           1.0000            0.2966    0.5913   \n",
       "complexityPoints      0.3348           0.2966            1.0000    0.3300   \n",
       "leadTime             -0.0421           0.5913            0.3300    1.0000   \n",
       "technicalDebt         0.1594           0.3433            0.6088    0.4088   \n",
       "taskScaling          -0.4779           0.0765           -0.4695   -0.2425   \n",
       "taskGlobalDistance    0.1336           0.2219           -0.2742   -0.1703   \n",
       "\n",
       "                    technicalDebt  taskScaling  taskGlobalDistance  \n",
       "maturity                   0.1594      -0.4779              0.1336  \n",
       "totalDevelopers            0.3433       0.0765              0.2219  \n",
       "complexityPoints           0.6088      -0.4695             -0.2742  \n",
       "leadTime                   0.4088      -0.2425             -0.1703  \n",
       "technicalDebt              1.0000      -0.4190             -0.0258  \n",
       "taskScaling               -0.4190       1.0000              0.2017  \n",
       "taskGlobalDistance        -0.0258       0.2017              1.0000  "
      ]
     },
     "execution_count": 87,
     "metadata": {},
     "output_type": "execute_result"
    }
   ],
   "source": [
    "df_all_metrics.corr().round(4)"
   ]
  },
  {
   "cell_type": "markdown",
   "metadata": {},
   "source": [
    "<p style='font-size: 18px; line-height: 2; margin: 10px 50px; text-align: justify;'>\n",
    "The most common correlation coefficient is the Pearson correlation, that uses p or r, measuring the degree of correlation, which is \n",
    "sensitive only to a linear relationship between two variables, however, it was chosen Spearmans rank correlation that have been developed \n",
    "to be more robust than Pearsons, that is, more sensitive to nonlinear relationships, because TD does not follow a Normal Distribution.    \n",
    "   </p>"
   ]
  },
  {
   "cell_type": "markdown",
   "metadata": {},
   "source": [
    "<p style='font-size: 18px; line-height: 2; margin: 10px 50px; text-align: justify;'>\n",
    "    Through the correlation matrix, considering the variable <b> technicalDebt </b>, it can be seen that the features <b> totalDevelopers </b>, <b> complexityPoints </b>, <b> leadTime </b> and <b> taskScaling </b> can have a good level of correlation\n",
    "</p>"
   ]
  },
  {
   "cell_type": "code",
   "execution_count": 88,
   "metadata": {},
   "outputs": [
    {
     "data": {
      "image/png": "[encoded data removed]",
      "text/plain": [
       "<Figure size 1260x1260 with 56 Axes>"
      ]
     },
     "metadata": {
      "needs_background": "light"
     },
     "output_type": "display_data"
    }
   ],
   "source": [
    "sns.pairplot(df_all_metrics)\n",
    "plt.show()"
   ]
  },
  {
   "cell_type": "markdown",
   "metadata": {},
   "source": [
    "## Ploting the pairplot of Technical Debt and another features"
   ]
  },
  {
   "cell_type": "code",
   "execution_count": 91,
   "metadata": {},
   "outputs": [
    {
     "data": {
      "text/plain": [
       "<seaborn.axisgrid.PairGrid at 0x110507128>"
      ]
     },
     "execution_count": 91,
     "metadata": {},
     "output_type": "execute_result"
    },
    {
     "data": {
      "image/png": "[encoded data removed]",
      "text/plain": [
       "<Figure size 1080x180 with 6 Axes>"
      ]
     },
     "metadata": {
      "needs_background": "light"
     },
     "output_type": "display_data"
    }
   ],
   "source": [
    "ax = sns.pairplot(df_all_metrics, y_vars='technicalDebt', x_vars=['maturity', 'totalDevelopers', 'complexityPoints', \n",
    "                                                                  'leadTime', 'taskScaling', 'taskGlobalDistance'])\n",
    "ax.fig.suptitle('Regression partial plots of independent variables against technical debt', fontsize=20, y=1.05)\n",
    "ax"
   ]
  },
  {
   "cell_type": "code",
   "execution_count": 92,
   "metadata": {},
   "outputs": [
    {
     "data": {
      "text/plain": [
       "<seaborn.axisgrid.PairGrid at 0x11665c978>"
      ]
     },
     "execution_count": 92,
     "metadata": {},
     "output_type": "execute_result"
    },
    {
     "data": {
      "image/png": "[encoded data removed]",
      "text/plain": [
       "<Figure size 1080x180 with 6 Axes>"
      ]
     },
     "metadata": {
      "needs_background": "light"
     },
     "output_type": "display_data"
    }
   ],
   "source": [
    "ax = sns.pairplot(df_all_metrics, y_vars='technicalDebt', x_vars=['maturity', 'totalDevelopers', 'complexityPoints', \n",
    "                                                                  'leadTime', 'taskScaling', 'taskGlobalDistance'])\n",
    "ax.fig.suptitle('', fontsize=20, y=1.05)\n",
    "ax"
   ]
  },
  {
   "cell_type": "markdown",
   "metadata": {},
   "source": [
    "### Ploting the *dependent* variable (y)\n",
    "(Technical Debt points over the evolution (in months) of the software)"
   ]
  },
  {
   "cell_type": "code",
   "execution_count": 93,
   "metadata": {},
   "outputs": [
    {
     "data": {
      "image/png": "[encoded data removed]",
      "text/plain": [
       "<Figure size 1440x432 with 1 Axes>"
      ]
     },
     "metadata": {
      "needs_background": "light"
     },
     "output_type": "display_data"
    }
   ],
   "source": [
    "fig, ax = pyplot.subplots(figsize=(20,6))\n",
    "\n",
    "ax.set_title('Technical Debt', fontsize=20)\n",
    "ax.set_ylabel('Points', fontsize=16)\n",
    "ax.set_xlabel('Month', fontsize=16)\n",
    "ax = df_all_metrics['technicalDebt'].plot(fontsize=14)"
   ]
  },
  {
   "cell_type": "code",
   "execution_count": 94,
   "metadata": {},
   "outputs": [],
   "source": [
    "def show_box_plot(feature):\n",
    "  sns.boxplot(data=df_all_metrics[feature], orient='h')\n",
    "\n",
    "def my_describe(feature):\n",
    "  my_data = df_all_metrics[feature]\n",
    "  print(\"Estatísticas dos dados de \" + feature)\n",
    "  print(my_data.describe().round(2))\n",
    "\n",
    "def my_outliers(feature, limite):\n",
    "  my_data = df_all_metrics[feature]\n",
    "  print(\"Outliers dos dados de \" + feature)\n",
    "  print(my_data[my_data > limite])"
   ]
  },
  {
   "cell_type": "code",
   "execution_count": 95,
   "metadata": {},
   "outputs": [],
   "source": [
    "def show_distribution(feature):\n",
    "  ax = sns.distplot(df_all_metrics[feature])\n",
    "  ax.figure.set_size_inches(12, 6)\n",
    "  ax.set_title('Frequency Distribution', fontsize=20)\n",
    "  ax.set_ylabel(feature, fontsize=16)\n",
    "  ax"
   ]
  },
  {
   "cell_type": "markdown",
   "metadata": {},
   "source": [
    "### Box plot of *dependent* variable (y)"
   ]
  },
  {
   "cell_type": "code",
   "execution_count": 96,
   "metadata": {},
   "outputs": [
    {
     "data": {
      "image/png": "[encoded data removed]",
      "text/plain": [
       "<Figure size 432x288 with 1 Axes>"
      ]
     },
     "metadata": {
      "needs_background": "light"
     },
     "output_type": "display_data"
    }
   ],
   "source": [
    "show_box_plot('technicalDebt')"
   ]
  },
  {
   "cell_type": "code",
   "execution_count": 97,
   "metadata": {},
   "outputs": [
    {
     "name": "stdout",
     "output_type": "stream",
     "text": [
      "Estatísticas dos dados de technicalDebt\n",
      "count      32.00\n",
      "mean     1248.13\n",
      "std      1468.19\n",
      "min         0.00\n",
      "25%       112.75\n",
      "50%       703.00\n",
      "75%      1686.50\n",
      "max      5429.00\n",
      "Name: technicalDebt, dtype: float64\n"
     ]
    }
   ],
   "source": [
    "my_describe('technicalDebt')"
   ]
  },
  {
   "cell_type": "code",
   "execution_count": 98,
   "metadata": {},
   "outputs": [
    {
     "name": "stdout",
     "output_type": "stream",
     "text": [
      "Outliers dos dados de technicalDebt\n",
      "12    5429.0\n",
      "30    4455.0\n",
      "Name: technicalDebt, dtype: float64\n"
     ]
    }
   ],
   "source": [
    "my_outliers('technicalDebt', 4000)"
   ]
  },
  {
   "cell_type": "markdown",
   "metadata": {},
   "source": [
    "### Box plot of feature1 (x1)"
   ]
  },
  {
   "cell_type": "code",
   "execution_count": 99,
   "metadata": {},
   "outputs": [],
   "source": [
    "feature1 = 'leadTime'"
   ]
  },
  {
   "cell_type": "code",
   "execution_count": 100,
   "metadata": {},
   "outputs": [
    {
     "data": {
      "image/png": "[encoded data removed]",
      "text/plain": [
       "<Figure size 432x288 with 1 Axes>"
      ]
     },
     "metadata": {
      "needs_background": "light"
     },
     "output_type": "display_data"
    }
   ],
   "source": [
    "show_box_plot(feature1)"
   ]
  },
  {
   "cell_type": "code",
   "execution_count": 101,
   "metadata": {},
   "outputs": [
    {
     "name": "stdout",
     "output_type": "stream",
     "text": [
      "Estatísticas dos dados de leadTime\n",
      "count     32.00\n",
      "mean      77.03\n",
      "std       36.89\n",
      "min       18.00\n",
      "25%       50.75\n",
      "50%       67.00\n",
      "75%      102.00\n",
      "max      179.00\n",
      "Name: leadTime, dtype: float64\n"
     ]
    }
   ],
   "source": [
    "my_describe(feature1)"
   ]
  },
  {
   "cell_type": "code",
   "execution_count": 102,
   "metadata": {},
   "outputs": [
    {
     "name": "stdout",
     "output_type": "stream",
     "text": [
      "Outliers dos dados de leadTime\n",
      "0    179.0\n",
      "Name: leadTime, dtype: float64\n"
     ]
    }
   ],
   "source": [
    "my_outliers(feature1, 160)"
   ]
  },
  {
   "cell_type": "markdown",
   "metadata": {},
   "source": [
    "### Box plot of feature 2 (x2)"
   ]
  },
  {
   "cell_type": "code",
   "execution_count": 103,
   "metadata": {},
   "outputs": [],
   "source": [
    "feature2 = 'complexityPoints'"
   ]
  },
  {
   "cell_type": "code",
   "execution_count": 104,
   "metadata": {},
   "outputs": [
    {
     "data": {
      "image/png": "[encoded data removed]",
      "text/plain": [
       "<Figure size 432x288 with 1 Axes>"
      ]
     },
     "metadata": {
      "needs_background": "light"
     },
     "output_type": "display_data"
    }
   ],
   "source": [
    "show_box_plot(feature2)"
   ]
  },
  {
   "cell_type": "code",
   "execution_count": 105,
   "metadata": {},
   "outputs": [
    {
     "name": "stdout",
     "output_type": "stream",
     "text": [
      "Estatísticas dos dados de complexityPoints\n",
      "count     32.00\n",
      "mean      78.28\n",
      "std      115.16\n",
      "min       10.00\n",
      "25%       23.75\n",
      "50%       42.50\n",
      "75%       96.25\n",
      "max      600.00\n",
      "Name: complexityPoints, dtype: float64\n"
     ]
    }
   ],
   "source": [
    "my_describe(feature2)"
   ]
  },
  {
   "cell_type": "code",
   "execution_count": 106,
   "metadata": {},
   "outputs": [
    {
     "name": "stdout",
     "output_type": "stream",
     "text": [
      "Outliers dos dados de complexityPoints\n",
      "8     350.0\n",
      "30    600.0\n",
      "Name: complexityPoints, dtype: float64\n"
     ]
    }
   ],
   "source": [
    "my_outliers(feature2, 300)"
   ]
  },
  {
   "cell_type": "markdown",
   "metadata": {},
   "source": [
    "### Box plot of feature 3 (x3)"
   ]
  },
  {
   "cell_type": "code",
   "execution_count": 107,
   "metadata": {},
   "outputs": [],
   "source": [
    "feature3 = 'maturity'"
   ]
  },
  {
   "cell_type": "code",
   "execution_count": 108,
   "metadata": {},
   "outputs": [
    {
     "data": {
      "image/png": "[encoded data removed]",
      "text/plain": [
       "<Figure size 432x288 with 1 Axes>"
      ]
     },
     "metadata": {
      "needs_background": "light"
     },
     "output_type": "display_data"
    }
   ],
   "source": [
    "show_box_plot(feature3)"
   ]
  },
  {
   "cell_type": "code",
   "execution_count": 109,
   "metadata": {},
   "outputs": [
    {
     "name": "stdout",
     "output_type": "stream",
     "text": [
      "Estatísticas dos dados de maturity\n",
      "count    32.00\n",
      "mean      0.22\n",
      "std       0.42\n",
      "min       0.00\n",
      "25%       0.00\n",
      "50%       0.00\n",
      "75%       0.00\n",
      "max       1.00\n",
      "Name: maturity, dtype: float64\n"
     ]
    }
   ],
   "source": [
    "my_describe(feature3)"
   ]
  },
  {
   "cell_type": "markdown",
   "metadata": {},
   "source": [
    "### Box plot of feature 4 (x4)"
   ]
  },
  {
   "cell_type": "code",
   "execution_count": 110,
   "metadata": {},
   "outputs": [],
   "source": [
    "feature4 = 'taskGlobalDistance'"
   ]
  },
  {
   "cell_type": "code",
   "execution_count": 111,
   "metadata": {},
   "outputs": [
    {
     "data": {
      "image/png": "[encoded data removed]",
      "text/plain": [
       "<Figure size 432x288 with 1 Axes>"
      ]
     },
     "metadata": {
      "needs_background": "light"
     },
     "output_type": "display_data"
    }
   ],
   "source": [
    "show_box_plot(feature4)"
   ]
  },
  {
   "cell_type": "code",
   "execution_count": 112,
   "metadata": {},
   "outputs": [
    {
     "name": "stdout",
     "output_type": "stream",
     "text": [
      "Estatísticas dos dados de taskGlobalDistance\n",
      "count    32.00\n",
      "mean      3.34\n",
      "std       1.46\n",
      "min       0.00\n",
      "25%       3.46\n",
      "50%       3.46\n",
      "75%       3.46\n",
      "max       6.24\n",
      "Name: taskGlobalDistance, dtype: float64\n"
     ]
    }
   ],
   "source": [
    "my_describe(feature4)"
   ]
  },
  {
   "cell_type": "markdown",
   "metadata": {},
   "source": [
    "### Box plot of feature 5 (x5)"
   ]
  },
  {
   "cell_type": "code",
   "execution_count": 113,
   "metadata": {},
   "outputs": [],
   "source": [
    "feature5 = 'taskScaling'"
   ]
  },
  {
   "cell_type": "code",
   "execution_count": 114,
   "metadata": {},
   "outputs": [
    {
     "data": {
      "image/png": "[encoded data removed]",
      "text/plain": [
       "<Figure size 432x288 with 1 Axes>"
      ]
     },
     "metadata": {
      "needs_background": "light"
     },
     "output_type": "display_data"
    }
   ],
   "source": [
    "show_box_plot(feature5)"
   ]
  },
  {
   "cell_type": "code",
   "execution_count": 115,
   "metadata": {},
   "outputs": [
    {
     "name": "stdout",
     "output_type": "stream",
     "text": [
      "Estatísticas dos dados de taskScaling\n",
      "count    32.00\n",
      "mean      0.15\n",
      "std       0.11\n",
      "min       0.01\n",
      "25%       0.08\n",
      "50%       0.12\n",
      "75%       0.20\n",
      "max       0.47\n",
      "Name: taskScaling, dtype: float64\n"
     ]
    }
   ],
   "source": [
    "my_describe(feature5)"
   ]
  },
  {
   "cell_type": "markdown",
   "metadata": {},
   "source": [
    "### Box plot of feature 6 (x6)"
   ]
  },
  {
   "cell_type": "code",
   "execution_count": 116,
   "metadata": {},
   "outputs": [],
   "source": [
    "feature6 = 'totalDevelopers'"
   ]
  },
  {
   "cell_type": "code",
   "execution_count": 117,
   "metadata": {},
   "outputs": [
    {
     "data": {
      "image/png": "[encoded data removed]",
      "text/plain": [
       "<Figure size 432x288 with 1 Axes>"
      ]
     },
     "metadata": {
      "needs_background": "light"
     },
     "output_type": "display_data"
    }
   ],
   "source": [
    "show_box_plot(feature6)"
   ]
  },
  {
   "cell_type": "code",
   "execution_count": 118,
   "metadata": {},
   "outputs": [
    {
     "name": "stdout",
     "output_type": "stream",
     "text": [
      "Estatísticas dos dados de totalDevelopers\n",
      "count    32.00\n",
      "mean      6.31\n",
      "std       4.24\n",
      "min       2.00\n",
      "25%       4.00\n",
      "50%       6.00\n",
      "75%       7.25\n",
      "max      25.00\n",
      "Name: totalDevelopers, dtype: float64\n"
     ]
    }
   ],
   "source": [
    "my_describe(feature6)"
   ]
  },
  {
   "cell_type": "code",
   "execution_count": 119,
   "metadata": {},
   "outputs": [
    {
     "name": "stdout",
     "output_type": "stream",
     "text": [
      "Outliers dos dados de totalDevelopers\n",
      "0    13.0\n",
      "1    25.0\n",
      "Name: totalDevelopers, dtype: float64\n"
     ]
    }
   ],
   "source": [
    "my_outliers(feature6, 10)"
   ]
  },
  {
   "cell_type": "markdown",
   "metadata": {},
   "source": [
    "### Frequency Distributions of the *Dependent* Variables"
   ]
  },
  {
   "cell_type": "code",
   "execution_count": 120,
   "metadata": {},
   "outputs": [
    {
     "data": {
      "image/png": "[encoded data removed]",
      "text/plain": [
       "<Figure size 864x432 with 1 Axes>"
      ]
     },
     "metadata": {
      "needs_background": "light"
     },
     "output_type": "display_data"
    }
   ],
   "source": [
    "show_distribution('technicalDebt')"
   ]
  },
  {
   "cell_type": "markdown",
   "metadata": {},
   "source": [
    "<p style='font-size: 18px; line-height: 2; margin: 10px 50px; text-align: justify;'>\n",
    "By the Frequency Distribution of the Technical Debt, it can be seen that it does not follow a normal distribution\n",
    "</p>"
   ]
  },
  {
   "cell_type": "markdown",
   "metadata": {},
   "source": [
    "### Frequency Distribution of the feature *LeadTime* (x1)"
   ]
  },
  {
   "cell_type": "code",
   "execution_count": 121,
   "metadata": {},
   "outputs": [
    {
     "data": {
      "image/png": "[encoded data removed]",
      "text/plain": [
       "<Figure size 864x432 with 1 Axes>"
      ]
     },
     "metadata": {
      "needs_background": "light"
     },
     "output_type": "display_data"
    }
   ],
   "source": [
    "show_distribution('leadTime')"
   ]
  },
  {
   "cell_type": "markdown",
   "metadata": {},
   "source": [
    "### Frequency Distribution of the feature *ComplexityPoints* (x2)"
   ]
  },
  {
   "cell_type": "code",
   "execution_count": 122,
   "metadata": {},
   "outputs": [
    {
     "data": {
      "image/png": "[encoded data removed]",
      "text/plain": [
       "<Figure size 864x432 with 1 Axes>"
      ]
     },
     "metadata": {
      "needs_background": "light"
     },
     "output_type": "display_data"
    }
   ],
   "source": [
    "show_distribution('complexityPoints')"
   ]
  },
  {
   "cell_type": "markdown",
   "metadata": {},
   "source": [
    "### Frequency Distribution of the feature *Maturity* (x3)"
   ]
  },
  {
   "cell_type": "code",
   "execution_count": 125,
   "metadata": {},
   "outputs": [],
   "source": [
    "##show_distribution('maturity')"
   ]
  },
  {
   "cell_type": "markdown",
   "metadata": {},
   "source": [
    "### Frequency Distribution of the feature *TaskGlobalDistance* (x4)"
   ]
  },
  {
   "cell_type": "code",
   "execution_count": 126,
   "metadata": {},
   "outputs": [],
   "source": [
    "###?"
   ]
  },
  {
   "cell_type": "markdown",
   "metadata": {},
   "source": [
    "### Frequency Distribution of the feature *TotalDevelopers* (x5)"
   ]
  },
  {
   "cell_type": "code",
   "execution_count": 127,
   "metadata": {},
   "outputs": [
    {
     "data": {
      "image/png": "[encoded data removed]",
      "text/plain": [
       "<Figure size 864x432 with 1 Axes>"
      ]
     },
     "metadata": {
      "needs_background": "light"
     },
     "output_type": "display_data"
    }
   ],
   "source": [
    "show_distribution('totalDevelopers')"
   ]
  },
  {
   "cell_type": "markdown",
   "metadata": {},
   "source": [
    "### Boxplot Technical Debt x Location"
   ]
  },
  {
   "cell_type": "code",
   "execution_count": 128,
   "metadata": {},
   "outputs": [
    {
     "data": {
      "text/plain": [
       "Text(0.5,1,'Boxplot Distribuition Technical Debt x Location')"
      ]
     },
     "execution_count": 128,
     "metadata": {},
     "output_type": "execute_result"
    },
    {
     "data": {
      "image/png": "[encoded data removed]",
      "text/plain": [
       "<Figure size 432x288 with 1 Axes>"
      ]
     },
     "metadata": {
      "needs_background": "light"
     },
     "output_type": "display_data"
    }
   ],
   "source": [
    "sns.boxplot(x='location', y='technicalDebt', data=df_all_metrics).set_title('Boxplot Distribuition Technical Debt x Location')"
   ]
  },
  {
   "cell_type": "markdown",
   "metadata": {},
   "source": [
    "## 1.3 Analyzing the correlations between features (xi) and the dependent variable (y)"
   ]
  },
  {
   "cell_type": "markdown",
   "metadata": {},
   "source": [
    "### 1.3.1 Correlation graph between LeadTime (x1) and Technical Debt (y)"
   ]
  },
  {
   "cell_type": "code",
   "execution_count": 129,
   "metadata": {},
   "outputs": [],
   "source": [
    "arrayLeadTime = df_all_metrics.leadTime.values\n",
    "arrayTechnicalDebt = df_all_metrics.technicalDebt.values"
   ]
  },
  {
   "cell_type": "code",
   "execution_count": 130,
   "metadata": {},
   "outputs": [
    {
     "data": {
      "text/plain": [
       "<seaborn.axisgrid.FacetGrid at 0x116a28e48>"
      ]
     },
     "execution_count": 130,
     "metadata": {},
     "output_type": "execute_result"
    },
    {
     "data": {
      "image/png": "[encoded data removed]",
      "text/plain": [
       "<Figure size 360x360 with 1 Axes>"
      ]
     },
     "metadata": {
      "needs_background": "light"
     },
     "output_type": "display_data"
    }
   ],
   "source": [
    "sns.lmplot(x='leadTime', y='technicalDebt', data=df_all_metrics)"
   ]
  },
  {
   "cell_type": "code",
   "execution_count": 138,
   "metadata": {},
   "outputs": [],
   "source": [
    "def checkSpearmansCorrelations(coef,p, alfa):\n",
    "    print('Spearmans correlation coefficient: %.3f' % coef)\n",
    "    # interpret the significance\n",
    "    if p > alfa:\n",
    "\t    print('Samples are uncorrelated (fail to reject H0) p=%.3f' % p)\n",
    "    else:\n",
    "\t    print('Samples are correlated (reject H0) p=%.3f' % p)\n",
    "\n",
    "        \n",
    "def checkSpearmansCorrelations(coef,p, alfa):\n",
    "    print('Spearmans correlation coefficient: %.3f' % coef)\n",
    "    # interpret the significance\n",
    "    if p > alfa:\n",
    "\t    print('Samples are uncorrelated (fail to reject H0) p=%.3f' % p)\n",
    "    else:\n",
    "\t    print('Samples are correlated (reject H0) p=%.3f' % p)"
   ]
  },
  {
   "cell_type": "markdown",
   "metadata": {},
   "source": [
    "### 1.3.1.1 Calculate spearman's correlation (LeadTime x TD)"
   ]
  },
  {
   "cell_type": "code",
   "execution_count": 135,
   "metadata": {},
   "outputs": [],
   "source": [
    "# calculate spearman's correlation\n",
    "coefLeadTime, pLeadTime = stats.spearmanr(arrayLeadTime, arrayTechnicalDebt)"
   ]
  },
  {
   "cell_type": "code",
   "execution_count": 139,
   "metadata": {},
   "outputs": [],
   "source": [
    "alfa = 0.05"
   ]
  },
  {
   "cell_type": "code",
   "execution_count": 140,
   "metadata": {},
   "outputs": [
    {
     "name": "stdout",
     "output_type": "stream",
     "text": [
      "Spearmans correlation coefficient: 0.486\n",
      "Samples are correlated (reject H0) p=0.005\n"
     ]
    }
   ],
   "source": [
    "checkSpearmansCorrelations(coefLeadTime, pLeadTime, alfa)"
   ]
  },
  {
   "cell_type": "markdown",
   "metadata": {},
   "source": [
    "<p style='font-size: 18px; line-height: 2; margin: 10px 50px; text-align: justify;'>\n",
    "    By analyzing Spearman's coefficient, it can be seen that <u> LeadTime </u> and <u> TD </u> <b> are </b> <u> correlated </u>. As a result, there is a tendency that as LeadTime increases the Technical Debt it tends to increase\n",
    "</p>"
   ]
  },
  {
   "cell_type": "markdown",
   "metadata": {},
   "source": [
    "### 1.3.2 Correlation Graph between ComplexityPoint (x2) and Technical Debt (y)"
   ]
  },
  {
   "cell_type": "code",
   "execution_count": 141,
   "metadata": {},
   "outputs": [],
   "source": [
    "arrayComplexityPoints = df_all_metrics.complexityPoints.values"
   ]
  },
  {
   "cell_type": "code",
   "execution_count": 142,
   "metadata": {},
   "outputs": [
    {
     "data": {
      "text/plain": [
       "<seaborn.axisgrid.FacetGrid at 0x11581e8d0>"
      ]
     },
     "execution_count": 142,
     "metadata": {},
     "output_type": "execute_result"
    },
    {
     "data": {
      "image/png": "[encoded data removed]",
      "text/plain": [
       "<Figure size 360x360 with 1 Axes>"
      ]
     },
     "metadata": {
      "needs_background": "light"
     },
     "output_type": "display_data"
    }
   ],
   "source": [
    "sns.lmplot(x='complexityPoints', y='technicalDebt', data=df_all_metrics)"
   ]
  },
  {
   "cell_type": "markdown",
   "metadata": {},
   "source": [
    "### 1.3.2.1 Calculate spearman's correlation (ComplexityPoints x TD)"
   ]
  },
  {
   "cell_type": "code",
   "execution_count": 143,
   "metadata": {},
   "outputs": [
    {
     "name": "stdout",
     "output_type": "stream",
     "text": [
      "Spearmans correlation coefficient: 0.650\n",
      "Samples are correlated (reject H0) p=0.000\n"
     ]
    }
   ],
   "source": [
    "# calculate spearman's correlation\n",
    "coefComplexityPoints, pComplexityPoints = stats.spearmanr(arrayComplexityPoints, arrayTechnicalDebt)\n",
    "alfa = 0.05\n",
    "checkSpearmansCorrelations(coefComplexityPoints, pComplexityPoints, alfa)"
   ]
  },
  {
   "cell_type": "markdown",
   "metadata": {},
   "source": [
    "<p style='font-size: 18px; line-height: 2; margin: 10px 50px; text-align: justify;'>\n",
    "        By analyzing the Spearman coefficient, it can be seen that <u> ComplexityPoints </u> and <u> TD </u> <b> are </b> <u> correlated </u>. As a result, there is a trend that as ComplexityPoints increases the Technical Debt tends to increase.\n",
    "</p>"
   ]
  },
  {
   "cell_type": "markdown",
   "metadata": {},
   "source": [
    "### 1.3.3 Correlation Graph between Maturity (x3) and Technical Debt (y)"
   ]
  },
  {
   "cell_type": "code",
   "execution_count": 144,
   "metadata": {},
   "outputs": [],
   "source": [
    "arrayMaturity = df_all_metrics.maturity.values"
   ]
  },
  {
   "cell_type": "code",
   "execution_count": 145,
   "metadata": {},
   "outputs": [
    {
     "data": {
      "text/plain": [
       "<seaborn.axisgrid.FacetGrid at 0x118473320>"
      ]
     },
     "execution_count": 145,
     "metadata": {},
     "output_type": "execute_result"
    },
    {
     "data": {
      "image/png": "[encoded data removed]",
      "text/plain": [
       "<Figure size 360x360 with 1 Axes>"
      ]
     },
     "metadata": {
      "needs_background": "light"
     },
     "output_type": "display_data"
    }
   ],
   "source": [
    "sns.lmplot(x='maturity', y='technicalDebt', data=df_all_metrics)"
   ]
  },
  {
   "cell_type": "markdown",
   "metadata": {},
   "source": [
    "### 1.3.3.1 Calculate spearman's correlation (Maturity x TD)"
   ]
  },
  {
   "cell_type": "code",
   "execution_count": 151,
   "metadata": {},
   "outputs": [
    {
     "name": "stdout",
     "output_type": "stream",
     "text": [
      "Spearmans correlation coefficient: 0.192\n",
      "Samples are uncorrelated (fail to reject H0) p=0.291\n",
      "Kendalltau coef analysis\n",
      "Kendal coef 0.16, pvalue 0.284\n"
     ]
    }
   ],
   "source": [
    "# calculate spearman's correlation\n",
    "coefMaturity, pMaturity = stats.spearmanr(arrayMaturity, arrayTechnicalDebt)\n",
    "alfa = 0.05\n",
    "checkSpearmansCorrelations(coefMaturity, pMaturity, alfa)\n",
    "\n",
    "\n",
    "coefMaturityk, pMaturityk = stats.kendalltau(arrayMaturity, arrayTechnicalDebt)\n",
    "print(\"Kendalltau coef analysis\")\n",
    "print(\"Kendal coef {}, pvalue {}\".format(coefMaturityk.round(3), pMaturityk.round(3)))"
   ]
  },
  {
   "cell_type": "markdown",
   "metadata": {},
   "source": [
    "<p style='font-size: 18px; line-height: 2; margin: 10px 50px; text-align: justify;'>\n",
    "        By analyzing Spearman's coefficient, it can be seen that <u> Maturity </u> and <u> TD </u> <b> are NOT </b> <u> correlated </u>.\n",
    "</p>"
   ]
  },
  {
   "cell_type": "markdown",
   "metadata": {},
   "source": [
    "### 1.3.4 Correlation Chart between TaskGlobalDistance (x4) and Technical Debt (y)"
   ]
  },
  {
   "cell_type": "code",
   "execution_count": 152,
   "metadata": {},
   "outputs": [],
   "source": [
    "arrayTaskGlobalDistance = df_all_metrics.taskGlobalDistance.values"
   ]
  },
  {
   "cell_type": "code",
   "execution_count": 153,
   "metadata": {},
   "outputs": [
    {
     "data": {
      "text/plain": [
       "<seaborn.axisgrid.FacetGrid at 0x115ad4908>"
      ]
     },
     "execution_count": 153,
     "metadata": {},
     "output_type": "execute_result"
    },
    {
     "data": {
      "image/png": "[encoded data removed]",
      "text/plain": [
       "<Figure size 360x360 with 1 Axes>"
      ]
     },
     "metadata": {
      "needs_background": "light"
     },
     "output_type": "display_data"
    }
   ],
   "source": [
    "sns.lmplot(x='technicalDebt', y='taskGlobalDistance', data=df_all_metrics)"
   ]
  },
  {
   "cell_type": "markdown",
   "metadata": {},
   "source": [
    "### 1.3.4.1 Calculate spearman's correlation (TaskGlobalDistance x TD)"
   ]
  },
  {
   "cell_type": "code",
   "execution_count": 154,
   "metadata": {},
   "outputs": [
    {
     "name": "stdout",
     "output_type": "stream",
     "text": [
      "Spearmans correlation coefficient: 0.034\n",
      "Samples are uncorrelated (fail to reject H0) p=0.855\n"
     ]
    }
   ],
   "source": [
    "# calculate spearman's correlation\n",
    "coefTaskGlobalDistance, pTaskGlobalDistance = stats.spearmanr(arrayTaskGlobalDistance, arrayTechnicalDebt)\n",
    "alfa = 0.05\n",
    "checkSpearmansCorrelations(coefTaskGlobalDistance, pTaskGlobalDistance, alfa)"
   ]
  },
  {
   "cell_type": "markdown",
   "metadata": {},
   "source": [
    "<p style='font-size: 18px; line-height: 2; margin: 10px 50px; text-align: justify;'>\n",
    "        By analyzing the Spearman coefficient, it can be seen that <u> TaskGlobalDistance </u> and <u> TD </u> <b> are NOT </b> <u> correlated </u>.\n",
    "</p>"
   ]
  },
  {
   "cell_type": "markdown",
   "metadata": {},
   "source": [
    "### 1.3.5 Correlation Graph between totalDevelopers (x5) and Technical Debt (y)"
   ]
  },
  {
   "cell_type": "code",
   "execution_count": 155,
   "metadata": {},
   "outputs": [],
   "source": [
    "arrayTotalDevelopers = df_all_metrics.totalDevelopers.values"
   ]
  },
  {
   "cell_type": "code",
   "execution_count": 156,
   "metadata": {},
   "outputs": [
    {
     "data": {
      "text/plain": [
       "<seaborn.axisgrid.FacetGrid at 0x114302a90>"
      ]
     },
     "execution_count": 156,
     "metadata": {},
     "output_type": "execute_result"
    },
    {
     "data": {
      "image/png": "[encoded data removed]",
      "text/plain": [
       "<Figure size 360x360 with 1 Axes>"
      ]
     },
     "metadata": {
      "needs_background": "light"
     },
     "output_type": "display_data"
    }
   ],
   "source": [
    "sns.lmplot(x='totalDevelopers', y='technicalDebt', data=df_all_metrics)"
   ]
  },
  {
   "cell_type": "markdown",
   "metadata": {},
   "source": [
    "### 1.3.5.1 Calculate spearman's correlation (TotalDevelopers x TD)"
   ]
  },
  {
   "cell_type": "code",
   "execution_count": 157,
   "metadata": {},
   "outputs": [
    {
     "name": "stdout",
     "output_type": "stream",
     "text": [
      "Spearmans correlation coefficient: 0.505\n",
      "Samples are correlated (reject H0) p=0.003\n"
     ]
    }
   ],
   "source": [
    "# calculate spearman's correlation\n",
    "coefTotalDevelopers, pTotalDevelopers = stats.spearmanr(arrayTotalDevelopers, arrayTechnicalDebt)\n",
    "alfa = 0.05\n",
    "checkSpearmansCorrelations(coefTotalDevelopers, pTotalDevelopers, alfa)"
   ]
  },
  {
   "cell_type": "markdown",
   "metadata": {},
   "source": [
    "<p style='font-size: 18px; line-height: 2; margin: 10px 50px; text-align: justify;'>\n",
    "        By analyzing the Spearman coefficient, it can be seen that <u> TotalDevelopers </u> and <u> TD </u> <b> are </b> <u> correlated </u>. As a result, there is a trend that as ComplexityPoints increases the Technical Debt tends to increase.\n",
    "</p>"
   ]
  },
  {
   "cell_type": "markdown",
   "metadata": {},
   "source": [
    "### 1.3.6 Correlation graph between taskScaling and Technical Debt"
   ]
  },
  {
   "cell_type": "code",
   "execution_count": 158,
   "metadata": {},
   "outputs": [],
   "source": [
    "arrayTaskScaling = df_all_metrics.taskScaling.values"
   ]
  },
  {
   "cell_type": "code",
   "execution_count": 159,
   "metadata": {},
   "outputs": [
    {
     "data": {
      "text/plain": [
       "<seaborn.axisgrid.FacetGrid at 0x11807d2b0>"
      ]
     },
     "execution_count": 159,
     "metadata": {},
     "output_type": "execute_result"
    },
    {
     "data": {
      "image/png": "[encoded data removed]",
      "text/plain": [
       "<Figure size 360x360 with 1 Axes>"
      ]
     },
     "metadata": {
      "needs_background": "light"
     },
     "output_type": "display_data"
    }
   ],
   "source": [
    "sns.lmplot(x='taskScaling', y='technicalDebt', data=df_all_metrics)"
   ]
  },
  {
   "cell_type": "markdown",
   "metadata": {},
   "source": [
    "### 1.3.6.1 Calculate spearman's correlation (taskScaling x TD)"
   ]
  },
  {
   "cell_type": "code",
   "execution_count": 160,
   "metadata": {},
   "outputs": [
    {
     "name": "stdout",
     "output_type": "stream",
     "text": [
      "Spearmans correlation coefficient: -0.439\n",
      "Samples are correlated (reject H0) p=0.012\n"
     ]
    }
   ],
   "source": [
    "coefTaskScaling, pTaskScaling = stats.spearmanr(arrayTaskScaling, arrayTechnicalDebt)\n",
    "alfa = 0.05\n",
    "checkSpearmansCorrelations(coefTaskScaling, pTaskScaling, alfa)"
   ]
  },
  {
   "cell_type": "markdown",
   "metadata": {},
   "source": [
    "<p style='font-size: 18px; line-height: 2; margin: 10px 50px; text-align: justify;'>\n",
    "        By analyzing Spearman's coefficient, it can be seen that <u> TaskScaling </u> and <u> TD </u> <b> are </b> <u> correlated </u>.\n",
    "</p>"
   ]
  },
  {
   "cell_type": "markdown",
   "metadata": {},
   "source": [
    "## 1.4 Summary of correlation analysis (Spearman's correlation coefficient)"
   ]
  },
  {
   "cell_type": "markdown",
   "metadata": {},
   "source": [
    "|  Caracterítica     | Dívida Técnica  | Correlacionado |  \n",
    "|--------------------|-----------------|----------------|\n",
    "| LeadTime           | TD              | SIM            |\n",
    "| ComplexityPoints   | TD              | SIM            |\n",
    "| TotalDevelopers    | TD              | SIM            |\n",
    "| TaskScaling        | TD              | SIM            | \n",
    "| Maturity           | TD              | Não            | \n",
    "| TaskGlobalDistance | TD              | Não            |"
   ]
  },
  {
   "cell_type": "code",
   "execution_count": 161,
   "metadata": {},
   "outputs": [],
   "source": [
    "from tabulate import tabulate"
   ]
  },
  {
   "cell_type": "code",
   "execution_count": 162,
   "metadata": {},
   "outputs": [],
   "source": [
    "def showCalcPSpearman(p, alfa):\n",
    "    if p > alfa:\n",
    "        return 'NO'\n",
    "    else:\n",
    "        return 'YES'"
   ]
  },
  {
   "cell_type": "code",
   "execution_count": 163,
   "metadata": {},
   "outputs": [
    {
     "name": "stdout",
     "output_type": "stream",
     "text": [
      "Característica      Dívida Técnica      Spearmans Coef      p  Correlacionado\n",
      "------------------  ----------------  ----------------  -----  ----------------\n",
      "LeadTime            TD                           0.486  0.005  YES\n",
      "ComplexityPoints    TD                           0.65   0      YES\n",
      "TotalDevelopers     TD                           0.505  0.003  YES\n",
      "TaskScaling         TD                          -0.439  0.012  YES\n",
      "Maturity            TD                           0.192  0.291  NO\n",
      "TaskGlobalDistance  TD                           0.034  0.855  NO\n"
     ]
    }
   ],
   "source": [
    "LeadTimeRow = ['LeadTime', 'TD', coefLeadTime.round(3), pLeadTime.round(3), \n",
    "               showCalcPSpearman(pLeadTime, 0.05)]\n",
    "\n",
    "ComplexityPointsRow = ['ComplexityPoints', 'TD', coefComplexityPoints.round(3), pComplexityPoints.round(3),\n",
    "                       showCalcPSpearman(pComplexityPoints, 0.05)]\n",
    "\n",
    "TotalDevelopersRow = ['TotalDevelopers', 'TD', coefTotalDevelopers.round(3), pTotalDevelopers.round(3),\n",
    "                      showCalcPSpearman(pTotalDevelopers, 0.05)]\n",
    "\n",
    "TaskScalingRow = ['TaskScaling', 'TD', coefTaskScaling.round(3), pTaskScaling.round(3), \n",
    "                  showCalcPSpearman(pTaskScaling, 0.05)]\n",
    "\n",
    "MaturityRow = ['Maturity', 'TD', coefMaturity.round(3), pMaturity.round(3), \n",
    "               showCalcPSpearman(pMaturity, 0.05)]\n",
    "\n",
    "TaskGlobalDistanceRow = ['TaskGlobalDistance', 'TD', coefTaskGlobalDistance.round(3), pTaskGlobalDistance.round(3),\n",
    "                         showCalcPSpearman(pTaskGlobalDistance, 0.05)]\n",
    "\n",
    "analysisHeaders = ['Característica', 'Dívida Técnica', 'Spearmans Coef', 'p', 'Correlacionado']\n",
    "\n",
    "print(tabulate([LeadTimeRow, ComplexityPointsRow, TotalDevelopersRow, \n",
    "                TaskScalingRow, MaturityRow, TaskGlobalDistanceRow],\n",
    "               headers=analysisHeaders))"
   ]
  },
  {
   "cell_type": "code",
   "execution_count": 164,
   "metadata": {},
   "outputs": [],
   "source": [
    "import numpy as np"
   ]
  },
  {
   "cell_type": "code",
   "execution_count": 165,
   "metadata": {},
   "outputs": [
    {
     "data": {
      "text/html": [
       "<div>\n",
       "<style scoped>\n",
       "    .dataframe tbody tr th:only-of-type {\n",
       "        vertical-align: middle;\n",
       "    }\n",
       "\n",
       "    .dataframe tbody tr th {\n",
       "        vertical-align: top;\n",
       "    }\n",
       "\n",
       "    .dataframe thead th {\n",
       "        text-align: right;\n",
       "    }\n",
       "</style>\n",
       "<table border=\"1\" class=\"dataframe\">\n",
       "  <thead>\n",
       "    <tr style=\"text-align: right;\">\n",
       "      <th></th>\n",
       "      <th>Correlation</th>\n",
       "      <th>Spearmans Coef</th>\n",
       "      <th>p</th>\n",
       "      <th>Corelated</th>\n",
       "    </tr>\n",
       "  </thead>\n",
       "  <tbody>\n",
       "    <tr>\n",
       "      <th>leadTime</th>\n",
       "      <td>TD</td>\n",
       "      <td>0.486</td>\n",
       "      <td>0.005</td>\n",
       "      <td>YES</td>\n",
       "    </tr>\n",
       "    <tr>\n",
       "      <th>complexityPoints</th>\n",
       "      <td>TD</td>\n",
       "      <td>0.65</td>\n",
       "      <td>0.0</td>\n",
       "      <td>YES</td>\n",
       "    </tr>\n",
       "    <tr>\n",
       "      <th>totalDevelopers</th>\n",
       "      <td>TD</td>\n",
       "      <td>0.505</td>\n",
       "      <td>0.003</td>\n",
       "      <td>YES</td>\n",
       "    </tr>\n",
       "    <tr>\n",
       "      <th>taskScaling</th>\n",
       "      <td>TD</td>\n",
       "      <td>-0.439</td>\n",
       "      <td>0.012</td>\n",
       "      <td>YES</td>\n",
       "    </tr>\n",
       "    <tr>\n",
       "      <th>Maturity</th>\n",
       "      <td>TD</td>\n",
       "      <td>0.192</td>\n",
       "      <td>0.291</td>\n",
       "      <td>NO</td>\n",
       "    </tr>\n",
       "    <tr>\n",
       "      <th>TaskGlobalDistance</th>\n",
       "      <td>TD</td>\n",
       "      <td>0.034</td>\n",
       "      <td>0.855</td>\n",
       "      <td>NO</td>\n",
       "    </tr>\n",
       "  </tbody>\n",
       "</table>\n",
       "</div>"
      ],
      "text/plain": [
       "                   Correlation Spearmans Coef      p Corelated\n",
       "leadTime                    TD          0.486  0.005       YES\n",
       "complexityPoints            TD           0.65    0.0       YES\n",
       "totalDevelopers             TD          0.505  0.003       YES\n",
       "taskScaling                 TD         -0.439  0.012       YES\n",
       "Maturity                    TD          0.192  0.291        NO\n",
       "TaskGlobalDistance          TD          0.034  0.855        NO"
      ]
     },
     "execution_count": 165,
     "metadata": {},
     "output_type": "execute_result"
    }
   ],
   "source": [
    "l1_LeadTimeRow = ['TD', coefLeadTime.round(3), pLeadTime.round(3), showCalcPSpearman(pLeadTime, 0.05)]\n",
    "\n",
    "l2_ComplexityPointsRow = ['TD', coefComplexityPoints.round(3), pComplexityPoints.round(3), \n",
    "\t\t\t\t\t\tshowCalcPSpearman(pComplexityPoints, 0.05)]\n",
    "\n",
    "l3_TotalDevelopersRow = ['TD', coefTotalDevelopers.round(3), pTotalDevelopers.round(3),\n",
    "                      showCalcPSpearman(pTotalDevelopers, 0.05)]\n",
    "\n",
    "l4_TaskScalingRow = ['TD', coefTaskScaling.round(3), pTaskScaling.round(3), \n",
    "                  showCalcPSpearman(pTaskScaling, 0.05)]\n",
    "\n",
    "l5_MaturityRow = ['TD', coefMaturity.round(3), pMaturity.round(3), \n",
    "               showCalcPSpearman(pMaturity, 0.05)]\n",
    "\n",
    "l6_TaskGlobalDistanceRow = ['TD', coefTaskGlobalDistance.round(3), pTaskGlobalDistance.round(3),\n",
    "                         showCalcPSpearman(pTaskGlobalDistance, 0.05)]\n",
    "\n",
    "c_analysisHeaders = ['Correlation', 'Spearmans Coef', 'p', 'Corelated']\n",
    "\n",
    "\n",
    "my_array_spm = np.array([\n",
    "\tl1_LeadTimeRow, \n",
    "\tl2_ComplexityPointsRow, \n",
    "\tl3_TotalDevelopersRow, \n",
    "\tl4_TaskScalingRow, \n",
    "\tl5_MaturityRow, \n",
    "\tl6_TaskGlobalDistanceRow\n",
    "\t])\n",
    "\n",
    "my_index_dw_spm = ['leadTime', 'complexityPoints', 'totalDevelopers', 'taskScaling', 'Maturity', 'TaskGlobalDistance']\n",
    "my_columns_dw_spm = c_analysisHeaders\n",
    "df_my_dw_spm = pd.DataFrame(data=my_array_spm, index=my_index_dw_spm, columns=my_columns_dw_spm)\n",
    "df_my_dw_spm"
   ]
  },
  {
   "cell_type": "code",
   "execution_count": 166,
   "metadata": {},
   "outputs": [],
   "source": [
    "with open('latex/mytable5.tex','w') as tf:\n",
    "    tf.write(df_my_dw_spm.to_latex())"
   ]
  },
  {
   "cell_type": "markdown",
   "metadata": {},
   "source": [
    "# <font color='red' style='font-size: 30px;'>Estimating a Linear Regression Model for Technical Debt </font>\n",
    "<hr style='border: 2px solid red;'>"
   ]
  },
  {
   "cell_type": "markdown",
   "metadata": {},
   "source": [
    "# Linear Regression\n",
    "<hr>\n",
    "\n",
    "<p style='font-size: 20px; line-height: 2; margin: 10px 50px; text-align: justify;'>The regression analysis concerns the study of the dependence of a variable (the <b> dependent </b> variable) in relation to one or more variables, the explanatory variables, in order to estimate and / or predict the average value of the first in terms of the known or fixed values of the second.</p>\n",
    "\n",
    "\n",
    "## scikit-learn (https://scikit-learn.org/stable/)\n",
    "\n",
    "<p style='font-size: 20px; line-height: 2; margin: 10px 50px; text-align: justify;'>The *scikit-learn* is a model of Python to solve problems about *machine learning*.</p>"
   ]
  },
  {
   "cell_type": "markdown",
   "metadata": {},
   "source": [
    "## Importing the *train_test_split* da biblioteca *scikit-learn*\n",
    "\n",
    "https://scikit-learn.org/stable/modules/generated/sklearn.model_selection.train_test_split.html"
   ]
  },
  {
   "cell_type": "code",
   "execution_count": 167,
   "metadata": {},
   "outputs": [],
   "source": [
    "from sklearn.model_selection import train_test_split"
   ]
  },
  {
   "cell_type": "markdown",
   "metadata": {},
   "source": [
    "## Creating a Series (pandas) to store the Technical Debt (TD ) (y)"
   ]
  },
  {
   "cell_type": "code",
   "execution_count": 168,
   "metadata": {},
   "outputs": [
    {
     "data": {
      "text/html": [
       "<div>\n",
       "<style scoped>\n",
       "    .dataframe tbody tr th:only-of-type {\n",
       "        vertical-align: middle;\n",
       "    }\n",
       "\n",
       "    .dataframe tbody tr th {\n",
       "        vertical-align: top;\n",
       "    }\n",
       "\n",
       "    .dataframe thead th {\n",
       "        text-align: right;\n",
       "    }\n",
       "</style>\n",
       "<table border=\"1\" class=\"dataframe\">\n",
       "  <thead>\n",
       "    <tr style=\"text-align: right;\">\n",
       "      <th></th>\n",
       "      <th>uniqueID</th>\n",
       "      <th>ID</th>\n",
       "      <th>location</th>\n",
       "      <th>maturity</th>\n",
       "      <th>totalDevelopers</th>\n",
       "      <th>complexityPoints</th>\n",
       "      <th>start</th>\n",
       "      <th>end</th>\n",
       "      <th>leadTime</th>\n",
       "      <th>technicalDebt</th>\n",
       "      <th>taskScaling</th>\n",
       "      <th>taskGlobalDistance</th>\n",
       "    </tr>\n",
       "  </thead>\n",
       "  <tbody>\n",
       "    <tr>\n",
       "      <th>0</th>\n",
       "      <td>PC:14187</td>\n",
       "      <td>TURK-372</td>\n",
       "      <td>India</td>\n",
       "      <td>0.0</td>\n",
       "      <td>13.0</td>\n",
       "      <td>60.0</td>\n",
       "      <td>2014-08-11 00:00:00</td>\n",
       "      <td>2015-02-06 00:00:00</td>\n",
       "      <td>179.0</td>\n",
       "      <td>796.0</td>\n",
       "      <td>0.216667</td>\n",
       "      <td>1.250000</td>\n",
       "    </tr>\n",
       "    <tr>\n",
       "      <th>1</th>\n",
       "      <td>PC:15448</td>\n",
       "      <td>BHA-328</td>\n",
       "      <td>Virtual</td>\n",
       "      <td>0.0</td>\n",
       "      <td>25.0</td>\n",
       "      <td>170.0</td>\n",
       "      <td>2015-01-19 00:00:00</td>\n",
       "      <td>2015-06-05 00:00:00</td>\n",
       "      <td>137.0</td>\n",
       "      <td>2474.0</td>\n",
       "      <td>0.147059</td>\n",
       "      <td>6.244748</td>\n",
       "    </tr>\n",
       "    <tr>\n",
       "      <th>2</th>\n",
       "      <td>PC:13350</td>\n",
       "      <td>TELSTRA-038</td>\n",
       "      <td>India</td>\n",
       "      <td>0.0</td>\n",
       "      <td>7.0</td>\n",
       "      <td>35.0</td>\n",
       "      <td>2015-02-09 00:00:00</td>\n",
       "      <td>2015-04-02 00:00:00</td>\n",
       "      <td>52.0</td>\n",
       "      <td>202.0</td>\n",
       "      <td>0.200000</td>\n",
       "      <td>3.463991</td>\n",
       "    </tr>\n",
       "  </tbody>\n",
       "</table>\n",
       "</div>"
      ],
      "text/plain": [
       "   uniqueID           ID location  maturity  totalDevelopers  \\\n",
       "0  PC:14187     TURK-372    India       0.0             13.0   \n",
       "1  PC:15448      BHA-328  Virtual       0.0             25.0   \n",
       "2  PC:13350  TELSTRA-038    India       0.0              7.0   \n",
       "\n",
       "   complexityPoints                start                  end  leadTime  \\\n",
       "0              60.0  2014-08-11 00:00:00  2015-02-06 00:00:00     179.0   \n",
       "1             170.0  2015-01-19 00:00:00  2015-06-05 00:00:00     137.0   \n",
       "2              35.0  2015-02-09 00:00:00  2015-04-02 00:00:00      52.0   \n",
       "\n",
       "   technicalDebt  taskScaling  taskGlobalDistance  \n",
       "0          796.0     0.216667            1.250000  \n",
       "1         2474.0     0.147059            6.244748  \n",
       "2          202.0     0.200000            3.463991  "
      ]
     },
     "execution_count": 168,
     "metadata": {},
     "output_type": "execute_result"
    }
   ],
   "source": [
    "df_all_metrics.head(3)"
   ]
  },
  {
   "cell_type": "code",
   "execution_count": 169,
   "metadata": {},
   "outputs": [],
   "source": [
    "y = df_all_metrics.technicalDebt"
   ]
  },
  {
   "cell_type": "code",
   "execution_count": 170,
   "metadata": {},
   "outputs": [
    {
     "data": {
      "text/plain": [
       "count      32.00\n",
       "mean     1248.13\n",
       "std      1468.19\n",
       "min         0.00\n",
       "25%       112.75\n",
       "50%       703.00\n",
       "75%      1686.50\n",
       "max      5429.00\n",
       "Name: technicalDebt, dtype: float64"
      ]
     },
     "execution_count": 170,
     "metadata": {},
     "output_type": "execute_result"
    }
   ],
   "source": [
    "y.describe().round(2)"
   ]
  },
  {
   "cell_type": "code",
   "execution_count": 171,
   "metadata": {},
   "outputs": [
    {
     "data": {
      "text/plain": [
       "{0: 'technicalDebt',\n",
       " 1: 'leadTime',\n",
       " 2: 'complexityPoints',\n",
       " 3: 'totalDevelopers',\n",
       " 4: 'taskScaling',\n",
       " 5: 'maturity',\n",
       " 6: 'taskGlobalDistance'}"
      ]
     },
     "execution_count": 171,
     "metadata": {},
     "output_type": "execute_result"
    }
   ],
   "source": [
    "my_dict = {0:'technicalDebt', 1:'leadTime', 2:'complexityPoints', \n",
    "           3:'totalDevelopers',4:'taskScaling', 5:'maturity', 6:'taskGlobalDistance'}\n",
    "my_dict"
   ]
  },
  {
   "cell_type": "markdown",
   "metadata": {},
   "source": [
    "## Creating a DataFrame (pandas) to store the independent variables (X1, X2, X3, X4)"
   ]
  },
  {
   "cell_type": "code",
   "execution_count": 172,
   "metadata": {},
   "outputs": [],
   "source": [
    "X = df_all_metrics[[my_dict[1], my_dict[2], my_dict[3], my_dict[4]]]"
   ]
  },
  {
   "cell_type": "code",
   "execution_count": 173,
   "metadata": {},
   "outputs": [
    {
     "data": {
      "text/html": [
       "<div>\n",
       "<style scoped>\n",
       "    .dataframe tbody tr th:only-of-type {\n",
       "        vertical-align: middle;\n",
       "    }\n",
       "\n",
       "    .dataframe tbody tr th {\n",
       "        vertical-align: top;\n",
       "    }\n",
       "\n",
       "    .dataframe thead th {\n",
       "        text-align: right;\n",
       "    }\n",
       "</style>\n",
       "<table border=\"1\" class=\"dataframe\">\n",
       "  <thead>\n",
       "    <tr style=\"text-align: right;\">\n",
       "      <th></th>\n",
       "      <th>leadTime</th>\n",
       "      <th>complexityPoints</th>\n",
       "      <th>totalDevelopers</th>\n",
       "      <th>taskScaling</th>\n",
       "    </tr>\n",
       "  </thead>\n",
       "  <tbody>\n",
       "    <tr>\n",
       "      <th>0</th>\n",
       "      <td>179.0</td>\n",
       "      <td>60.0</td>\n",
       "      <td>13.0</td>\n",
       "      <td>0.216667</td>\n",
       "    </tr>\n",
       "    <tr>\n",
       "      <th>1</th>\n",
       "      <td>137.0</td>\n",
       "      <td>170.0</td>\n",
       "      <td>25.0</td>\n",
       "      <td>0.147059</td>\n",
       "    </tr>\n",
       "    <tr>\n",
       "      <th>2</th>\n",
       "      <td>52.0</td>\n",
       "      <td>35.0</td>\n",
       "      <td>7.0</td>\n",
       "      <td>0.200000</td>\n",
       "    </tr>\n",
       "    <tr>\n",
       "      <th>3</th>\n",
       "      <td>39.0</td>\n",
       "      <td>15.0</td>\n",
       "      <td>2.0</td>\n",
       "      <td>0.133333</td>\n",
       "    </tr>\n",
       "    <tr>\n",
       "      <th>4</th>\n",
       "      <td>46.0</td>\n",
       "      <td>25.0</td>\n",
       "      <td>4.0</td>\n",
       "      <td>0.160000</td>\n",
       "    </tr>\n",
       "  </tbody>\n",
       "</table>\n",
       "</div>"
      ],
      "text/plain": [
       "   leadTime  complexityPoints  totalDevelopers  taskScaling\n",
       "0     179.0              60.0             13.0     0.216667\n",
       "1     137.0             170.0             25.0     0.147059\n",
       "2      52.0              35.0              7.0     0.200000\n",
       "3      39.0              15.0              2.0     0.133333\n",
       "4      46.0              25.0              4.0     0.160000"
      ]
     },
     "execution_count": 173,
     "metadata": {},
     "output_type": "execute_result"
    }
   ],
   "source": [
    "X.head(5)"
   ]
  },
  {
   "cell_type": "code",
   "execution_count": 174,
   "metadata": {},
   "outputs": [
    {
     "data": {
      "text/html": [
       "<div>\n",
       "<style scoped>\n",
       "    .dataframe tbody tr th:only-of-type {\n",
       "        vertical-align: middle;\n",
       "    }\n",
       "\n",
       "    .dataframe tbody tr th {\n",
       "        vertical-align: top;\n",
       "    }\n",
       "\n",
       "    .dataframe thead th {\n",
       "        text-align: right;\n",
       "    }\n",
       "</style>\n",
       "<table border=\"1\" class=\"dataframe\">\n",
       "  <thead>\n",
       "    <tr style=\"text-align: right;\">\n",
       "      <th></th>\n",
       "      <th>leadTime</th>\n",
       "      <th>complexityPoints</th>\n",
       "      <th>totalDevelopers</th>\n",
       "      <th>taskScaling</th>\n",
       "    </tr>\n",
       "  </thead>\n",
       "  <tbody>\n",
       "    <tr>\n",
       "      <th>count</th>\n",
       "      <td>32.000</td>\n",
       "      <td>32.000</td>\n",
       "      <td>32.000</td>\n",
       "      <td>32.000</td>\n",
       "    </tr>\n",
       "    <tr>\n",
       "      <th>mean</th>\n",
       "      <td>77.031</td>\n",
       "      <td>78.281</td>\n",
       "      <td>6.312</td>\n",
       "      <td>0.155</td>\n",
       "    </tr>\n",
       "    <tr>\n",
       "      <th>std</th>\n",
       "      <td>36.887</td>\n",
       "      <td>115.162</td>\n",
       "      <td>4.238</td>\n",
       "      <td>0.111</td>\n",
       "    </tr>\n",
       "    <tr>\n",
       "      <th>min</th>\n",
       "      <td>18.000</td>\n",
       "      <td>10.000</td>\n",
       "      <td>2.000</td>\n",
       "      <td>0.013</td>\n",
       "    </tr>\n",
       "    <tr>\n",
       "      <th>25%</th>\n",
       "      <td>50.750</td>\n",
       "      <td>23.750</td>\n",
       "      <td>4.000</td>\n",
       "      <td>0.080</td>\n",
       "    </tr>\n",
       "    <tr>\n",
       "      <th>50%</th>\n",
       "      <td>67.000</td>\n",
       "      <td>42.500</td>\n",
       "      <td>6.000</td>\n",
       "      <td>0.124</td>\n",
       "    </tr>\n",
       "    <tr>\n",
       "      <th>75%</th>\n",
       "      <td>102.000</td>\n",
       "      <td>96.250</td>\n",
       "      <td>7.250</td>\n",
       "      <td>0.200</td>\n",
       "    </tr>\n",
       "    <tr>\n",
       "      <th>max</th>\n",
       "      <td>179.000</td>\n",
       "      <td>600.000</td>\n",
       "      <td>25.000</td>\n",
       "      <td>0.467</td>\n",
       "    </tr>\n",
       "  </tbody>\n",
       "</table>\n",
       "</div>"
      ],
      "text/plain": [
       "       leadTime  complexityPoints  totalDevelopers  taskScaling\n",
       "count    32.000            32.000           32.000       32.000\n",
       "mean     77.031            78.281            6.312        0.155\n",
       "std      36.887           115.162            4.238        0.111\n",
       "min      18.000            10.000            2.000        0.013\n",
       "25%      50.750            23.750            4.000        0.080\n",
       "50%      67.000            42.500            6.000        0.124\n",
       "75%     102.000            96.250            7.250        0.200\n",
       "max     179.000           600.000           25.000        0.467"
      ]
     },
     "execution_count": 174,
     "metadata": {},
     "output_type": "execute_result"
    }
   ],
   "source": [
    "X.describe().round(3)"
   ]
  },
  {
   "cell_type": "markdown",
   "metadata": {},
   "source": [
    "## Creating the dataset of train and test"
   ]
  },
  {
   "cell_type": "code",
   "execution_count": 175,
   "metadata": {},
   "outputs": [],
   "source": [
    "X_train, X_test, y_train, y_test = train_test_split(X, y, test_size=0.3, random_state=1000)"
   ]
  },
  {
   "cell_type": "code",
   "execution_count": 176,
   "metadata": {},
   "outputs": [
    {
     "data": {
      "text/plain": [
       "(22, 4)"
      ]
     },
     "execution_count": 176,
     "metadata": {},
     "output_type": "execute_result"
    }
   ],
   "source": [
    "X_train.shape"
   ]
  },
  {
   "cell_type": "code",
   "execution_count": 177,
   "metadata": {},
   "outputs": [
    {
     "data": {
      "text/plain": [
       "(10, 4)"
      ]
     },
     "execution_count": 177,
     "metadata": {},
     "output_type": "execute_result"
    }
   ],
   "source": [
    "X_test.shape"
   ]
  },
  {
   "cell_type": "code",
   "execution_count": 178,
   "metadata": {},
   "outputs": [
    {
     "data": {
      "text/plain": [
       "(22,)"
      ]
     },
     "execution_count": 178,
     "metadata": {},
     "output_type": "execute_result"
    }
   ],
   "source": [
    "y_train.shape"
   ]
  },
  {
   "cell_type": "code",
   "execution_count": 179,
   "metadata": {},
   "outputs": [
    {
     "data": {
      "text/plain": [
       "(10,)"
      ]
     },
     "execution_count": 179,
     "metadata": {},
     "output_type": "execute_result"
    }
   ],
   "source": [
    "y_test.shape"
   ]
  },
  {
   "cell_type": "markdown",
   "metadata": {},
   "source": [
    "## Linear Regression Fuction with 4 variables\n",
    "Y = B0 + B1x1 + B2x2 + B3x3 + B4x4"
   ]
  },
  {
   "cell_type": "markdown",
   "metadata": {},
   "source": [
    "## Importing *LinearRegression* and *metrics* from *scikit-learn*\n",
    "\n",
    "https://scikit-learn.org/stable/modules/generated/sklearn.linear_model.LinearRegression.html\n",
    "\n",
    "https://scikit-learn.org/stable/modules/classes.html#regression-metrics"
   ]
  },
  {
   "cell_type": "code",
   "execution_count": 180,
   "metadata": {},
   "outputs": [],
   "source": [
    "from sklearn.linear_model import LinearRegression\n",
    "from sklearn import metrics"
   ]
  },
  {
   "cell_type": "markdown",
   "metadata": {},
   "source": [
    "## Instance of class *LinearRegression()*"
   ]
  },
  {
   "cell_type": "code",
   "execution_count": 181,
   "metadata": {},
   "outputs": [],
   "source": [
    "modelo = LinearRegression()"
   ]
  },
  {
   "cell_type": "markdown",
   "metadata": {},
   "source": [
    "## Using the * fit () * method of the \"model\" object to estimate our linear model using the TRAINING data (y_train and X_train)\n",
    "\n",
    "https://scikit-learn.org/stable/modules/generated/sklearn.linear_model.LinearRegression.html#sklearn.linear_model.LinearRegression.fit"
   ]
  },
  {
   "cell_type": "code",
   "execution_count": 182,
   "metadata": {},
   "outputs": [
    {
     "name": "stderr",
     "output_type": "stream",
     "text": [
      "/Library/Frameworks/Python.framework/Versions/3.6/lib/python3.6/site-packages/sklearn/linear_model/base.py:509: RuntimeWarning: internal gelsd driver lwork query error, required iwork dimension not returned. This is likely the result of LAPACK bug 0038, fixed in LAPACK 3.2.2 (released July 21, 2010). Falling back to 'gelss' driver.\n",
      "  linalg.lstsq(X, y)\n"
     ]
    },
    {
     "data": {
      "text/plain": [
       "LinearRegression(copy_X=True, fit_intercept=True, n_jobs=1, normalize=False)"
      ]
     },
     "execution_count": 182,
     "metadata": {},
     "output_type": "execute_result"
    }
   ],
   "source": [
    "modelo.fit(X_train, y_train)"
   ]
  },
  {
   "cell_type": "markdown",
   "metadata": {},
   "source": [
    "## Obtaining the determination coefficient (R²) of the estimated model with the TRAINING data\n",
    "\n",
    "https://scikit-learn.org/stable/modules/generated/sklearn.linear_model.LinearRegression.html#sklearn.linear_model.LinearRegression.score\n",
    "\n",
    "### Determination Coefficient - R²\n",
    "\n",
    "The coefficient of determination (R²) is a summary measure that tells how much the regression line fits the data. It is a value between 0 and 1.\n",
    "\n",
    "$$R^2(y, \\hat{y}) = 1 - \\frac {\\sum_{i=0}^{n-1}(y_i-\\hat{y}_i)^2}{\\sum_{i=0}^{n-1}(y_i-\\bar{y}_i)^2}$$"
   ]
  },
  {
   "cell_type": "code",
   "execution_count": 183,
   "metadata": {},
   "outputs": [
    {
     "name": "stdout",
     "output_type": "stream",
     "text": [
      "R^2 : 0.65\n"
     ]
    }
   ],
   "source": [
    "print('R^2 : {}'.format(modelo.score(X_train, y_train).round(2)))"
   ]
  },
  {
   "cell_type": "markdown",
   "metadata": {},
   "source": [
    "## Generating forecasts for TEST data (X_test) using the * predict () * method of the \"model\" object\n",
    "https://scikit-learn.org/stable/modules/generated/sklearn.linear_model.LinearRegression.html#sklearn.linear_model.LinearRegression.predict"
   ]
  },
  {
   "cell_type": "code",
   "execution_count": 184,
   "metadata": {},
   "outputs": [],
   "source": [
    "y_previsto = modelo.predict(X_test)"
   ]
  },
  {
   "cell_type": "code",
   "execution_count": 185,
   "metadata": {},
   "outputs": [
    {
     "data": {
      "text/plain": [
       "(10,)"
      ]
     },
     "execution_count": 185,
     "metadata": {},
     "output_type": "execute_result"
    }
   ],
   "source": [
    "y_previsto.shape"
   ]
  },
  {
   "cell_type": "markdown",
   "metadata": {},
   "source": [
    "## Get the coefficient of determination (R²) for the predictions of our model\n",
    "\n",
    "https://scikit-learn.org/stable/modules/generated/sklearn.metrics.r2_score.html#sklearn.metrics.r2_score"
   ]
  },
  {
   "cell_type": "code",
   "execution_count": 186,
   "metadata": {},
   "outputs": [
    {
     "name": "stdout",
     "output_type": "stream",
     "text": [
      "Rˆ2 =  0.06\n"
     ]
    }
   ],
   "source": [
    "print('Rˆ2 = ', metrics.r2_score(y_test, y_previsto).round(2))"
   ]
  },
  {
   "cell_type": "markdown",
   "metadata": {},
   "source": [
    "# <font color='red' style='font-size: 30px;'>Getting Punctual Forecasts</font>\n",
    "<hr style='border: 2px solid red;'>"
   ]
  },
  {
   "cell_type": "code",
   "execution_count": 187,
   "metadata": {},
   "outputs": [],
   "source": [
    "import numpy as np"
   ]
  },
  {
   "cell_type": "code",
   "execution_count": 188,
   "metadata": {},
   "outputs": [
    {
     "data": {
      "text/html": [
       "<div>\n",
       "<style scoped>\n",
       "    .dataframe tbody tr th:only-of-type {\n",
       "        vertical-align: middle;\n",
       "    }\n",
       "\n",
       "    .dataframe tbody tr th {\n",
       "        vertical-align: top;\n",
       "    }\n",
       "\n",
       "    .dataframe thead th {\n",
       "        text-align: right;\n",
       "    }\n",
       "</style>\n",
       "<table border=\"1\" class=\"dataframe\">\n",
       "  <thead>\n",
       "    <tr style=\"text-align: right;\">\n",
       "      <th></th>\n",
       "      <th>leadTime</th>\n",
       "      <th>complexityPoints</th>\n",
       "      <th>totalDevelopers</th>\n",
       "      <th>taskScaling</th>\n",
       "    </tr>\n",
       "  </thead>\n",
       "  <tbody>\n",
       "    <tr>\n",
       "      <th>6</th>\n",
       "      <td>95.0</td>\n",
       "      <td>70.0</td>\n",
       "      <td>9.0</td>\n",
       "      <td>0.128571</td>\n",
       "    </tr>\n",
       "    <tr>\n",
       "      <th>26</th>\n",
       "      <td>102.0</td>\n",
       "      <td>110.0</td>\n",
       "      <td>3.0</td>\n",
       "      <td>0.027273</td>\n",
       "    </tr>\n",
       "    <tr>\n",
       "      <th>25</th>\n",
       "      <td>43.0</td>\n",
       "      <td>60.0</td>\n",
       "      <td>3.0</td>\n",
       "      <td>0.050000</td>\n",
       "    </tr>\n",
       "  </tbody>\n",
       "</table>\n",
       "</div>"
      ],
      "text/plain": [
       "    leadTime  complexityPoints  totalDevelopers  taskScaling\n",
       "6       95.0              70.0              9.0     0.128571\n",
       "26     102.0             110.0              3.0     0.027273\n",
       "25      43.0              60.0              3.0     0.050000"
      ]
     },
     "execution_count": 188,
     "metadata": {},
     "output_type": "execute_result"
    }
   ],
   "source": [
    "X_test.head(3)"
   ]
  },
  {
   "cell_type": "code",
   "execution_count": 189,
   "metadata": {},
   "outputs": [
    {
     "data": {
      "text/html": [
       "<div>\n",
       "<style scoped>\n",
       "    .dataframe tbody tr th:only-of-type {\n",
       "        vertical-align: middle;\n",
       "    }\n",
       "\n",
       "    .dataframe tbody tr th {\n",
       "        vertical-align: top;\n",
       "    }\n",
       "\n",
       "    .dataframe thead th {\n",
       "        text-align: right;\n",
       "    }\n",
       "</style>\n",
       "<table border=\"1\" class=\"dataframe\">\n",
       "  <thead>\n",
       "    <tr style=\"text-align: right;\">\n",
       "      <th></th>\n",
       "      <th>leadTime</th>\n",
       "      <th>complexityPoints</th>\n",
       "      <th>totalDevelopers</th>\n",
       "      <th>taskScaling</th>\n",
       "    </tr>\n",
       "  </thead>\n",
       "  <tbody>\n",
       "    <tr>\n",
       "      <th>count</th>\n",
       "      <td>10.000</td>\n",
       "      <td>10.000</td>\n",
       "      <td>10.000</td>\n",
       "      <td>10.000</td>\n",
       "    </tr>\n",
       "    <tr>\n",
       "      <th>mean</th>\n",
       "      <td>70.900</td>\n",
       "      <td>50.500</td>\n",
       "      <td>5.300</td>\n",
       "      <td>0.140</td>\n",
       "    </tr>\n",
       "    <tr>\n",
       "      <th>std</th>\n",
       "      <td>25.736</td>\n",
       "      <td>32.952</td>\n",
       "      <td>2.584</td>\n",
       "      <td>0.083</td>\n",
       "    </tr>\n",
       "    <tr>\n",
       "      <th>min</th>\n",
       "      <td>39.000</td>\n",
       "      <td>15.000</td>\n",
       "      <td>2.000</td>\n",
       "      <td>0.027</td>\n",
       "    </tr>\n",
       "    <tr>\n",
       "      <th>25%</th>\n",
       "      <td>45.500</td>\n",
       "      <td>22.500</td>\n",
       "      <td>3.250</td>\n",
       "      <td>0.108</td>\n",
       "    </tr>\n",
       "    <tr>\n",
       "      <th>50%</th>\n",
       "      <td>74.000</td>\n",
       "      <td>42.500</td>\n",
       "      <td>5.000</td>\n",
       "      <td>0.124</td>\n",
       "    </tr>\n",
       "    <tr>\n",
       "      <th>75%</th>\n",
       "      <td>95.000</td>\n",
       "      <td>67.500</td>\n",
       "      <td>6.000</td>\n",
       "      <td>0.158</td>\n",
       "    </tr>\n",
       "    <tr>\n",
       "      <th>max</th>\n",
       "      <td>102.000</td>\n",
       "      <td>110.000</td>\n",
       "      <td>10.000</td>\n",
       "      <td>0.300</td>\n",
       "    </tr>\n",
       "  </tbody>\n",
       "</table>\n",
       "</div>"
      ],
      "text/plain": [
       "       leadTime  complexityPoints  totalDevelopers  taskScaling\n",
       "count    10.000            10.000           10.000       10.000\n",
       "mean     70.900            50.500            5.300        0.140\n",
       "std      25.736            32.952            2.584        0.083\n",
       "min      39.000            15.000            2.000        0.027\n",
       "25%      45.500            22.500            3.250        0.108\n",
       "50%      74.000            42.500            5.000        0.124\n",
       "75%      95.000            67.500            6.000        0.158\n",
       "max     102.000           110.000           10.000        0.300"
      ]
     },
     "execution_count": 189,
     "metadata": {},
     "output_type": "execute_result"
    }
   ],
   "source": [
    "X_test.describe().round(3)"
   ]
  },
  {
   "cell_type": "markdown",
   "metadata": {},
   "source": [
    "## Input data"
   ]
  },
  {
   "cell_type": "code",
   "execution_count": 190,
   "metadata": {},
   "outputs": [
    {
     "data": {
      "text/html": [
       "<div>\n",
       "<style scoped>\n",
       "    .dataframe tbody tr th:only-of-type {\n",
       "        vertical-align: middle;\n",
       "    }\n",
       "\n",
       "    .dataframe tbody tr th {\n",
       "        vertical-align: top;\n",
       "    }\n",
       "\n",
       "    .dataframe thead th {\n",
       "        text-align: right;\n",
       "    }\n",
       "</style>\n",
       "<table border=\"1\" class=\"dataframe\">\n",
       "  <thead>\n",
       "    <tr style=\"text-align: right;\">\n",
       "      <th></th>\n",
       "      <th>leadTime</th>\n",
       "      <th>complexityPoints</th>\n",
       "      <th>totalDevelopers</th>\n",
       "      <th>taskScaling</th>\n",
       "    </tr>\n",
       "  </thead>\n",
       "  <tbody>\n",
       "    <tr>\n",
       "      <th>6</th>\n",
       "      <td>95.0</td>\n",
       "      <td>70.0</td>\n",
       "      <td>9.0</td>\n",
       "      <td>0.128571</td>\n",
       "    </tr>\n",
       "  </tbody>\n",
       "</table>\n",
       "</div>"
      ],
      "text/plain": [
       "   leadTime  complexityPoints  totalDevelopers  taskScaling\n",
       "6      95.0              70.0              9.0     0.128571"
      ]
     },
     "execution_count": 190,
     "metadata": {},
     "output_type": "execute_result"
    }
   ],
   "source": [
    "entrada = X_test[0:1]\n",
    "entrada"
   ]
  },
  {
   "cell_type": "markdown",
   "metadata": {},
   "source": [
    "## Generating point forecast"
   ]
  },
  {
   "cell_type": "code",
   "execution_count": 191,
   "metadata": {},
   "outputs": [
    {
     "data": {
      "text/plain": [
       "1523.998"
      ]
     },
     "execution_count": 191,
     "metadata": {},
     "output_type": "execute_result"
    }
   ],
   "source": [
    "modelo.predict(entrada)[0].round(3)"
   ]
  },
  {
   "cell_type": "markdown",
   "metadata": {},
   "source": [
    "## Creating a simple simulator"
   ]
  },
  {
   "cell_type": "code",
   "execution_count": 192,
   "metadata": {},
   "outputs": [
    {
     "data": {
      "text/plain": [
       "[[95, 70, 9, 0.128]]"
      ]
     },
     "execution_count": 192,
     "metadata": {},
     "output_type": "execute_result"
    }
   ],
   "source": [
    "x1 = 95\n",
    "x2 = 70\n",
    "x3 = 9\n",
    "x4 = 0.128\n",
    "minha_entrada = [[x1, x2, x3, x4]]\n",
    "minha_entrada"
   ]
  },
  {
   "cell_type": "code",
   "execution_count": 193,
   "metadata": {},
   "outputs": [
    {
     "data": {
      "text/plain": [
       "[[95, 70, 9, 0.128]]"
      ]
     },
     "execution_count": 193,
     "metadata": {},
     "output_type": "execute_result"
    }
   ],
   "source": [
    "minha_entrada"
   ]
  },
  {
   "cell_type": "code",
   "execution_count": 194,
   "metadata": {},
   "outputs": [
    {
     "name": "stdout",
     "output_type": "stream",
     "text": [
      "Com a x1=95, x2=70, x3=9, x4=0.128 a previsão de Dívida Técnica (TD) será de 1525.88 pontos\n"
     ]
    }
   ],
   "source": [
    "print('Com a x1={}, x2={}, x3={}, x4={} a previsão de Dívida Técnica (TD) será de {} pontos'.format\n",
    "      (x1, x2, x3, x4, modelo.predict(minha_entrada)[0].round(2)))"
   ]
  },
  {
   "cell_type": "markdown",
   "metadata": {},
   "source": [
    "# <font color='red' style='font-size: 30px;'>Interpretation of Estimated Coefficients</font>\n",
    "<hr style='border: 2px solid red;'>"
   ]
  },
  {
   "cell_type": "markdown",
   "metadata": {},
   "source": [
    "## Getting the model intercept\n",
    "\n",
    "<p style='font-size: 20px; line-height: 2; margin: 10px 50px; text-align: justify;'>The <b> intercept </b> represents the average effect in $ Y $ (Technical Debt) with all explanatory variables excluded from the model. More simply, the <b> intercept </b> represents the average effect in $ Y $ (Technical Debt) when $ X_1 $ (leadTime), $ X_2 $ (complexityPoints), $ X_3 $ (totalDevelopers), $ X_4 $ (taskScaling) is equal to zero.\n",
    "In other words, it gives us the \"direct\" or \"net\" effect of a unit of variation in $ X_1 $ on the average value of $ Y $, excluding the effects that $ X_2 $, $ X_3 $ and $ X_4 $ can have about the average of $ Y $. Similarly, we can interpret the other regression coefficients. </p>"
   ]
  },
  {
   "cell_type": "markdown",
   "metadata": {},
   "source": [
    "## Confirming the order of the explanatory variables in the DataFrame"
   ]
  },
  {
   "cell_type": "code",
   "execution_count": 195,
   "metadata": {},
   "outputs": [
    {
     "data": {
      "text/plain": [
       "Index(['leadTime', 'complexityPoints', 'totalDevelopers', 'taskScaling'], dtype='object')"
      ]
     },
     "execution_count": 195,
     "metadata": {},
     "output_type": "execute_result"
    }
   ],
   "source": [
    "X.columns"
   ]
  },
  {
   "cell_type": "code",
   "execution_count": 196,
   "metadata": {},
   "outputs": [
    {
     "data": {
      "text/plain": [
       "894.6683937656759"
      ]
     },
     "execution_count": 196,
     "metadata": {},
     "output_type": "execute_result"
    }
   ],
   "source": [
    "modelo.intercept_"
   ]
  },
  {
   "cell_type": "code",
   "execution_count": 197,
   "metadata": {},
   "outputs": [
    {
     "data": {
      "text/plain": [
       "array([ 1.93489284e+00,  5.48273811e+00,  5.39817369e+01, -3.29865356e+03])"
      ]
     },
     "execution_count": 197,
     "metadata": {},
     "output_type": "execute_result"
    }
   ],
   "source": [
    "modelo.coef_"
   ]
  },
  {
   "cell_type": "code",
   "execution_count": 198,
   "metadata": {},
   "outputs": [],
   "source": [
    "my_coeficientes = ['intercepto', 'leadTime', 'complexityPoints', 'totalDevelopers', 'taskScaling']"
   ]
  },
  {
   "cell_type": "markdown",
   "metadata": {},
   "source": [
    "## Creating a list of model variable names"
   ]
  },
  {
   "cell_type": "code",
   "execution_count": 199,
   "metadata": {},
   "outputs": [
    {
     "name": "stdout",
     "output_type": "stream",
     "text": [
      "B0=894.668 B1=1.935  B2=5.483 B3=53.982 B4=-3298.654\n"
     ]
    }
   ],
   "source": [
    "print(\"B0={} B1={}  B2={} B3={} B4={}\".format(\n",
    "    modelo.intercept_.round(3), modelo.coef_[0].round(3), \n",
    "    modelo.coef_[1].round(3), modelo.coef_[2].round(3), \n",
    "    modelo.coef_[3].round(3)))"
   ]
  },
  {
   "cell_type": "markdown",
   "metadata": {},
   "source": [
    "## Creating a dictionary with the coefficients of the model variables"
   ]
  },
  {
   "cell_type": "code",
   "execution_count": 200,
   "metadata": {},
   "outputs": [
    {
     "data": {
      "text/plain": [
       "{'intercepto': 894.668,\n",
       " 'leadTime': 1.935,\n",
       " 'complexityPoints': 5.483,\n",
       " 'totalDevelopers': 53.982,\n",
       " 'taskScaling': -3298.654}"
      ]
     },
     "execution_count": 200,
     "metadata": {},
     "output_type": "execute_result"
    }
   ],
   "source": [
    "dict_coeficientes = {my_coeficientes[0]:modelo.intercept_.round(3), my_coeficientes[1]:modelo.coef_[0].round(3), \n",
    "                     my_coeficientes[2]:modelo.coef_[1].round(3), my_coeficientes[3]:modelo.coef_[2].round(3),\n",
    "                     my_coeficientes[4]:modelo.coef_[3].round(3)}\n",
    "dict_coeficientes"
   ]
  },
  {
   "cell_type": "markdown",
   "metadata": {},
   "source": [
    "## Creating a DataFrame to store model coefficients\n",
    "\n",
    "https://docs.scipy.org/doc/numpy/reference/generated/numpy.append.html?#numpy.append"
   ]
  },
  {
   "cell_type": "code",
   "execution_count": 201,
   "metadata": {},
   "outputs": [
    {
     "data": {
      "text/html": [
       "<div>\n",
       "<style scoped>\n",
       "    .dataframe tbody tr th:only-of-type {\n",
       "        vertical-align: middle;\n",
       "    }\n",
       "\n",
       "    .dataframe tbody tr th {\n",
       "        vertical-align: top;\n",
       "    }\n",
       "\n",
       "    .dataframe thead th {\n",
       "        text-align: right;\n",
       "    }\n",
       "</style>\n",
       "<table border=\"1\" class=\"dataframe\">\n",
       "  <thead>\n",
       "    <tr style=\"text-align: right;\">\n",
       "      <th></th>\n",
       "      <th>valor</th>\n",
       "    </tr>\n",
       "  </thead>\n",
       "  <tbody>\n",
       "    <tr>\n",
       "      <th>intercepto</th>\n",
       "      <td>894.67</td>\n",
       "    </tr>\n",
       "    <tr>\n",
       "      <th>leadTime</th>\n",
       "      <td>1.93</td>\n",
       "    </tr>\n",
       "    <tr>\n",
       "      <th>complexityPoints</th>\n",
       "      <td>5.48</td>\n",
       "    </tr>\n",
       "    <tr>\n",
       "      <th>totalDevelopers</th>\n",
       "      <td>53.98</td>\n",
       "    </tr>\n",
       "    <tr>\n",
       "      <th>taskScaling</th>\n",
       "      <td>-3298.65</td>\n",
       "    </tr>\n",
       "  </tbody>\n",
       "</table>\n",
       "</div>"
      ],
      "text/plain": [
       "                    valor\n",
       "intercepto         894.67\n",
       "leadTime             1.93\n",
       "complexityPoints     5.48\n",
       "totalDevelopers     53.98\n",
       "taskScaling      -3298.65"
      ]
     },
     "execution_count": 201,
     "metadata": {},
     "output_type": "execute_result"
    }
   ],
   "source": [
    "df_my_coeficientes = pd.DataFrame(data=np.append(modelo.intercept_, modelo.coef_), index=my_coeficientes, columns=['valor'])\n",
    "df_my_coeficientes.round(2)"
   ]
  },
  {
   "cell_type": "code",
   "execution_count": 202,
   "metadata": {},
   "outputs": [
    {
     "data": {
      "text/plain": [
       "intercepto           894.67\n",
       "leadTime               1.93\n",
       "complexityPoints       5.48\n",
       "totalDevelopers       53.98\n",
       "taskScaling        -3298.65\n",
       "Name: valor, dtype: float64"
      ]
     },
     "execution_count": 202,
     "metadata": {},
     "output_type": "execute_result"
    }
   ],
   "source": [
    "df_my_coeficientes.round(2).valor"
   ]
  },
  {
   "cell_type": "code",
   "execution_count": 203,
   "metadata": {},
   "outputs": [],
   "source": [
    "with open('latex/mytable6.tex','w') as tf:\n",
    "    tf.write(df_my_coeficientes.to_latex())"
   ]
  },
  {
   "cell_type": "markdown",
   "metadata": {},
   "source": [
    "## Interpretation of Estimated Coefficients\n",
    "\n",
    "<p style = 'font-size: 20px; line-height: 2; margin: 10px 50px; text-align: justify; '>\n",
    "<b> Intercept </b> → Excluding the effect of the explanatory variables ($ X_1 = X_2 = X_3 = X_4 = 0 $) the average effect on the Technical Debt would be <b> 894.67 points </b>.\n",
    "</p>\n",
    "\n",
    "<p style = 'font-size: 20px; line-height: 2; margin: 10px 50px; text-align: justify; '>\n",
    "<b> leadTime </b> → Keeping the values ​​of $ X_2 $ (complexityPoints), $ X_3 $ (totalDevelopers) and $ X_4 $ (taskScaling) constant, the increase of 1 point in Technical Debt (TD) generates a average change in lead time of <b> 1.93 </b>.\n",
    "</p>\n",
    "\n",
    "<p style = 'font-size: 20px; line-height: 2; margin: 10px 50px; text-align: justify; '>\n",
    "<b> complexityPoints </b> → Keeping the values ​​of $ X_1 $ (leadTime), $ X_3 $ (totalDevelopers) and $ X_4 $ (taskScaling) constant, the increase of 1 point in Technical Debt (TD) generates a average variation in complexityPoints of <b> 5.48 </b>.\n",
    "</p>\n",
    "\n",
    "<p style = 'font-size: 20px; line-height: 2; margin: 10px 50px; text-align: justify; '>\n",
    "<b> totalDevelopers </b> → Keeping the values ​​of $ X_1 $ (leadTime), $ X_2 $ (complexityPoints) and $ X_4 $ (taskScaling) constant, the increase of 1 point in Technical Debt (TD) generates a average change in total Developers of <b> 53.98 </b>.\n",
    "</p>\n",
    "\n",
    "<p style = 'font-size: 20px; line-height: 2; margin: 10px 50px; text-align: justify; '>\n",
    "<b> taskScaling </b> → Keeping the values ​​of $ X_1 $ (leadTime), $ X_2 $ (complexityPoints) and $ X_3 $ (totalDevelopers) constant, the increase of 1 point in the Technical Debt (TD) generates a average variation in the taskScaling of <b> -3298.65 </b>.\n",
    "</p>"
   ]
  },
  {
   "cell_type": "code",
   "execution_count": 204,
   "metadata": {},
   "outputs": [
    {
     "name": "stdout",
     "output_type": "stream",
     "text": [
      "Y = 894.668 + 1.935(leadTime) + 5.483(complexityPoints) + 53.982(totalDevelopers) + -3298.654(taskScaling)\n"
     ]
    }
   ],
   "source": [
    "print(\"Y = {} + {}({}) + {}({}) + {}({}) + {}({})\".format(modelo.intercept_.round(3), \n",
    "     dict_coeficientes[my_coeficientes[1]].round(3), my_coeficientes[1], \n",
    "     dict_coeficientes[my_coeficientes[2]].round(3), my_coeficientes[2], \n",
    "     dict_coeficientes[my_coeficientes[3]].round(3), my_coeficientes[3], \n",
    "     dict_coeficientes[my_coeficientes[4]].round(3), my_coeficientes[4]))"
   ]
  },
  {
   "cell_type": "markdown",
   "metadata": {},
   "source": [
    "# <font color='red' style='font-size: 30px;'>Graphical Analysis of Model Predictions </font>\n",
    "<hr style='border: 2px solid red;'>"
   ]
  },
  {
   "cell_type": "markdown",
   "metadata": {},
   "source": [
    "## Generating model predictions for TRAINING data"
   ]
  },
  {
   "cell_type": "code",
   "execution_count": 205,
   "metadata": {},
   "outputs": [],
   "source": [
    "y_previsto_train = modelo.predict(X_train)"
   ]
  },
  {
   "cell_type": "markdown",
   "metadata": {},
   "source": [
    "## Scatter plot between estimated and actual value\n",
    "\n",
    "https://seaborn.pydata.org/generated/seaborn.scatterplot.html"
   ]
  },
  {
   "cell_type": "code",
   "execution_count": 206,
   "metadata": {},
   "outputs": [
    {
     "data": {
      "text/plain": [
       "<matplotlib.axes._subplots.AxesSubplot at 0x115636438>"
      ]
     },
     "execution_count": 206,
     "metadata": {},
     "output_type": "execute_result"
    },
    {
     "data": {
      "image/png": "[encoded data removed]",
      "text/plain": [
       "<Figure size 864x432 with 1 Axes>"
      ]
     },
     "metadata": {
      "needs_background": "light"
     },
     "output_type": "display_data"
    }
   ],
   "source": [
    "ax = sns.scatterplot(x=y_previsto_train, y=y_train)\n",
    "ax.figure.set_size_inches(12, 6)\n",
    "ax.set_title('Previsão X Real', fontsize=18)\n",
    "ax.set_xlabel('Divida Técnica (pontos) - Previsão', fontsize=14)\n",
    "ax.set_ylabel('Dívida Técnica (pontos) - Real', fontsize=14)\n",
    "ax"
   ]
  },
  {
   "cell_type": "markdown",
   "metadata": {},
   "source": [
    "## Getting the waste"
   ]
  },
  {
   "cell_type": "code",
   "execution_count": 207,
   "metadata": {},
   "outputs": [],
   "source": [
    "residuo = y_train - y_previsto_train"
   ]
  },
  {
   "cell_type": "code",
   "execution_count": 208,
   "metadata": {},
   "outputs": [
    {
     "data": {
      "text/plain": [
       "31      59.370669\n",
       "14    1535.639018\n",
       "30    -320.346858\n",
       "17      78.407967\n",
       "2     -703.320102\n",
       "16    -876.067415\n",
       "21    -565.109493\n",
       "22     214.810073\n",
       "10    1971.560116\n",
       "15    -435.031937\n",
       "24     107.676038\n",
       "4     -182.884295\n",
       "9     -412.556608\n",
       "8      -70.353403\n",
       "13    -213.906638\n",
       "28    -345.868425\n",
       "1     -482.261503\n",
       "27       7.434371\n",
       "0     -761.032807\n",
       "7     1241.646798\n",
       "23   -1185.199032\n",
       "19    1337.393468\n",
       "Name: technicalDebt, dtype: float64"
      ]
     },
     "execution_count": 208,
     "metadata": {},
     "output_type": "execute_result"
    }
   ],
   "source": [
    "residuo"
   ]
  },
  {
   "cell_type": "markdown",
   "metadata": {},
   "source": [
    "## Scatter plot between estimated value and waste\n",
    "\n",
    "Informal method of verifying the hypothesis of constant variance of residues (homoscedasticity)"
   ]
  },
  {
   "cell_type": "code",
   "execution_count": 209,
   "metadata": {},
   "outputs": [
    {
     "data": {
      "text/plain": [
       "<matplotlib.axes._subplots.AxesSubplot at 0x115a13668>"
      ]
     },
     "execution_count": 209,
     "metadata": {},
     "output_type": "execute_result"
    },
    {
     "data": {
      "image/png": "[encoded data removed]",
      "text/plain": [
       "<Figure size 1440x576 with 1 Axes>"
      ]
     },
     "metadata": {
      "needs_background": "light"
     },
     "output_type": "display_data"
    }
   ],
   "source": [
    "ax = sns.scatterplot(x=y_previsto_train, y=residuo, s=150)\n",
    "ax.figure.set_size_inches(20, 8)\n",
    "ax.set_title('Resíduos X Previsão', fontsize=18)\n",
    "ax.set_xlabel('Dívida Técnica (pontos) - Previsão', fontsize=14)\n",
    "ax.set_ylabel('Resíduos', fontsize=14)\n",
    "ax"
   ]
  },
  {
   "cell_type": "code",
   "execution_count": 210,
   "metadata": {},
   "outputs": [],
   "source": [
    "from scipy import stats\n",
    "import matplotlib.pyplot as plt\n",
    "import numpy as np"
   ]
  },
  {
   "cell_type": "code",
   "execution_count": 211,
   "metadata": {},
   "outputs": [],
   "source": [
    "nsample = 100\n",
    "np.random.seed(7654321)"
   ]
  },
  {
   "cell_type": "code",
   "execution_count": 212,
   "metadata": {},
   "outputs": [],
   "source": [
    "np.random.seed(7654321)"
   ]
  },
  {
   "cell_type": "code",
   "execution_count": 213,
   "metadata": {},
   "outputs": [
    {
     "data": {
      "text/plain": [
       "pandas.core.series.Series"
      ]
     },
     "execution_count": 213,
     "metadata": {},
     "output_type": "execute_result"
    }
   ],
   "source": [
    "type(residuo)"
   ]
  },
  {
   "cell_type": "code",
   "execution_count": 214,
   "metadata": {},
   "outputs": [
    {
     "data": {
      "image/png": "[encoded data removed]",
      "text/plain": [
       "<Figure size 432x288 with 1 Axes>"
      ]
     },
     "metadata": {
      "needs_background": "light"
     },
     "output_type": "display_data"
    }
   ],
   "source": [
    "ax1 = plt.subplot(233)\n",
    "x = stats.t.rvs(3, size=nsample)\n",
    "res = stats.probplot(x, plot=plt)"
   ]
  },
  {
   "cell_type": "code",
   "execution_count": 215,
   "metadata": {},
   "outputs": [
    {
     "data": {
      "text/plain": [
       "<matplotlib.axes._subplots.AxesSubplot at 0x118360240>"
      ]
     },
     "execution_count": 215,
     "metadata": {},
     "output_type": "execute_result"
    },
    {
     "data": {
      "image/png": "[encoded data removed]",
      "text/plain": [
       "<Figure size 864x432 with 1 Axes>"
      ]
     },
     "metadata": {
      "needs_background": "light"
     },
     "output_type": "display_data"
    }
   ],
   "source": [
    "ax = sns.distplot(residuo)\n",
    "ax.figure.set_size_inches(12, 6)\n",
    "ax.set_title('Distrubuição de Frequências', fontsize=20)\n",
    "ax.set_ylabel(\"Technical Debt\", fontsize=16)\n",
    "ax"
   ]
  },
  {
   "cell_type": "markdown",
   "metadata": {},
   "source": [
    "## Using square waste\n"
   ]
  },
  {
   "cell_type": "code",
   "execution_count": 216,
   "metadata": {},
   "outputs": [
    {
     "data": {
      "text/plain": [
       "<matplotlib.axes._subplots.AxesSubplot at 0x1183cd6d8>"
      ]
     },
     "execution_count": 216,
     "metadata": {},
     "output_type": "execute_result"
    },
    {
     "data": {
      "image/png": "[encoded data removed]",
      "text/plain": [
       "<Figure size 1440x576 with 1 Axes>"
      ]
     },
     "metadata": {
      "needs_background": "light"
     },
     "output_type": "display_data"
    }
   ],
   "source": [
    "ax = sns.scatterplot(x=y_previsto_train, y=residuo**2, s=150)\n",
    "ax.figure.set_size_inches(20, 8)\n",
    "ax.set_title('Resíduos X Previsão', fontsize=18)\n",
    "ax.set_xlabel('Dívida Técnica (pontos) - Previsão', fontsize=14)\n",
    "ax.set_ylabel('Resíduos²', fontsize=14)\n",
    "ax"
   ]
  },
  {
   "cell_type": "markdown",
   "metadata": {},
   "source": [
    "## Plotting the frequency distribution of waste"
   ]
  },
  {
   "cell_type": "code",
   "execution_count": 217,
   "metadata": {},
   "outputs": [
    {
     "data": {
      "text/plain": [
       "<matplotlib.axes._subplots.AxesSubplot at 0x11849c048>"
      ]
     },
     "execution_count": 217,
     "metadata": {},
     "output_type": "execute_result"
    },
    {
     "data": {
      "image/png": "[encoded data removed]",
      "text/plain": [
       "<Figure size 864x432 with 1 Axes>"
      ]
     },
     "metadata": {
      "needs_background": "light"
     },
     "output_type": "display_data"
    }
   ],
   "source": [
    "ax = sns.distplot(residuo)\n",
    "ax.figure.set_size_inches(12, 6)\n",
    "ax.set_title('Distribuição de Frequências dos Resíduos', fontsize=18)\n",
    "ax.set_xlabel('Pontos', fontsize=14)\n",
    "ax"
   ]
  },
  {
   "cell_type": "markdown",
   "metadata": {},
   "source": [
    "# <font color='red' style='font-size: 30px;'>Comparing Models</font>\n",
    "<hr style='border: 2px solid red;'>"
   ]
  },
  {
   "cell_type": "markdown",
   "metadata": {},
   "source": [
    "## Evaluated Data (TD Metrics)"
   ]
  },
  {
   "cell_type": "code",
   "execution_count": 218,
   "metadata": {},
   "outputs": [
    {
     "data": {
      "text/html": [
       "<div>\n",
       "<style scoped>\n",
       "    .dataframe tbody tr th:only-of-type {\n",
       "        vertical-align: middle;\n",
       "    }\n",
       "\n",
       "    .dataframe tbody tr th {\n",
       "        vertical-align: top;\n",
       "    }\n",
       "\n",
       "    .dataframe thead th {\n",
       "        text-align: right;\n",
       "    }\n",
       "</style>\n",
       "<table border=\"1\" class=\"dataframe\">\n",
       "  <thead>\n",
       "    <tr style=\"text-align: right;\">\n",
       "      <th></th>\n",
       "      <th>uniqueID</th>\n",
       "      <th>ID</th>\n",
       "      <th>location</th>\n",
       "      <th>maturity</th>\n",
       "      <th>totalDevelopers</th>\n",
       "      <th>complexityPoints</th>\n",
       "      <th>start</th>\n",
       "      <th>end</th>\n",
       "      <th>leadTime</th>\n",
       "      <th>technicalDebt</th>\n",
       "      <th>taskScaling</th>\n",
       "      <th>taskGlobalDistance</th>\n",
       "    </tr>\n",
       "  </thead>\n",
       "  <tbody>\n",
       "    <tr>\n",
       "      <th>0</th>\n",
       "      <td>PC:14187</td>\n",
       "      <td>TURK-372</td>\n",
       "      <td>India</td>\n",
       "      <td>0.0</td>\n",
       "      <td>13.0</td>\n",
       "      <td>60.0</td>\n",
       "      <td>2014-08-11 00:00:00</td>\n",
       "      <td>2015-02-06 00:00:00</td>\n",
       "      <td>179.0</td>\n",
       "      <td>796.0</td>\n",
       "      <td>0.216667</td>\n",
       "      <td>1.250000</td>\n",
       "    </tr>\n",
       "    <tr>\n",
       "      <th>1</th>\n",
       "      <td>PC:15448</td>\n",
       "      <td>BHA-328</td>\n",
       "      <td>Virtual</td>\n",
       "      <td>0.0</td>\n",
       "      <td>25.0</td>\n",
       "      <td>170.0</td>\n",
       "      <td>2015-01-19 00:00:00</td>\n",
       "      <td>2015-06-05 00:00:00</td>\n",
       "      <td>137.0</td>\n",
       "      <td>2474.0</td>\n",
       "      <td>0.147059</td>\n",
       "      <td>6.244748</td>\n",
       "    </tr>\n",
       "    <tr>\n",
       "      <th>2</th>\n",
       "      <td>PC:13350</td>\n",
       "      <td>TELSTRA-038</td>\n",
       "      <td>India</td>\n",
       "      <td>0.0</td>\n",
       "      <td>7.0</td>\n",
       "      <td>35.0</td>\n",
       "      <td>2015-02-09 00:00:00</td>\n",
       "      <td>2015-04-02 00:00:00</td>\n",
       "      <td>52.0</td>\n",
       "      <td>202.0</td>\n",
       "      <td>0.200000</td>\n",
       "      <td>3.463991</td>\n",
       "    </tr>\n",
       "  </tbody>\n",
       "</table>\n",
       "</div>"
      ],
      "text/plain": [
       "   uniqueID           ID location  maturity  totalDevelopers  \\\n",
       "0  PC:14187     TURK-372    India       0.0             13.0   \n",
       "1  PC:15448      BHA-328  Virtual       0.0             25.0   \n",
       "2  PC:13350  TELSTRA-038    India       0.0              7.0   \n",
       "\n",
       "   complexityPoints                start                  end  leadTime  \\\n",
       "0              60.0  2014-08-11 00:00:00  2015-02-06 00:00:00     179.0   \n",
       "1             170.0  2015-01-19 00:00:00  2015-06-05 00:00:00     137.0   \n",
       "2              35.0  2015-02-09 00:00:00  2015-04-02 00:00:00      52.0   \n",
       "\n",
       "   technicalDebt  taskScaling  taskGlobalDistance  \n",
       "0          796.0     0.216667            1.250000  \n",
       "1         2474.0     0.147059            6.244748  \n",
       "2          202.0     0.200000            3.463991  "
      ]
     },
     "execution_count": 218,
     "metadata": {},
     "output_type": "execute_result"
    }
   ],
   "source": [
    "df_all_metrics.head(3)"
   ]
  },
  {
   "cell_type": "markdown",
   "metadata": {},
   "source": [
    "## Dependent Variable y (TD) "
   ]
  },
  {
   "cell_type": "code",
   "execution_count": 219,
   "metadata": {},
   "outputs": [
    {
     "data": {
      "text/plain": [
       "[796.0, 2474.0, 202.0]"
      ]
     },
     "execution_count": 219,
     "metadata": {},
     "output_type": "execute_result"
    }
   ],
   "source": [
    "y\n",
    "y.tolist()[0:3]"
   ]
  },
  {
   "cell_type": "markdown",
   "metadata": {},
   "source": [
    "## Features (X1, X2, X3, X4) that impacts TD (Y)"
   ]
  },
  {
   "cell_type": "code",
   "execution_count": 220,
   "metadata": {},
   "outputs": [
    {
     "data": {
      "text/plain": [
       "{0: 'technicalDebt',\n",
       " 1: 'leadTime',\n",
       " 2: 'complexityPoints',\n",
       " 3: 'totalDevelopers',\n",
       " 4: 'taskScaling',\n",
       " 5: 'maturity',\n",
       " 6: 'taskGlobalDistance'}"
      ]
     },
     "execution_count": 220,
     "metadata": {},
     "output_type": "execute_result"
    }
   ],
   "source": [
    "my_dict"
   ]
  },
  {
   "cell_type": "code",
   "execution_count": 221,
   "metadata": {},
   "outputs": [
    {
     "data": {
      "text/html": [
       "<div>\n",
       "<style scoped>\n",
       "    .dataframe tbody tr th:only-of-type {\n",
       "        vertical-align: middle;\n",
       "    }\n",
       "\n",
       "    .dataframe tbody tr th {\n",
       "        vertical-align: top;\n",
       "    }\n",
       "\n",
       "    .dataframe thead th {\n",
       "        text-align: right;\n",
       "    }\n",
       "</style>\n",
       "<table border=\"1\" class=\"dataframe\">\n",
       "  <thead>\n",
       "    <tr style=\"text-align: right;\">\n",
       "      <th></th>\n",
       "      <th>leadTime</th>\n",
       "      <th>complexityPoints</th>\n",
       "      <th>totalDevelopers</th>\n",
       "      <th>taskScaling</th>\n",
       "    </tr>\n",
       "  </thead>\n",
       "  <tbody>\n",
       "    <tr>\n",
       "      <th>0</th>\n",
       "      <td>179.0</td>\n",
       "      <td>60.0</td>\n",
       "      <td>13.0</td>\n",
       "      <td>0.216667</td>\n",
       "    </tr>\n",
       "    <tr>\n",
       "      <th>1</th>\n",
       "      <td>137.0</td>\n",
       "      <td>170.0</td>\n",
       "      <td>25.0</td>\n",
       "      <td>0.147059</td>\n",
       "    </tr>\n",
       "    <tr>\n",
       "      <th>2</th>\n",
       "      <td>52.0</td>\n",
       "      <td>35.0</td>\n",
       "      <td>7.0</td>\n",
       "      <td>0.200000</td>\n",
       "    </tr>\n",
       "  </tbody>\n",
       "</table>\n",
       "</div>"
      ],
      "text/plain": [
       "   leadTime  complexityPoints  totalDevelopers  taskScaling\n",
       "0     179.0              60.0             13.0     0.216667\n",
       "1     137.0             170.0             25.0     0.147059\n",
       "2      52.0              35.0              7.0     0.200000"
      ]
     },
     "execution_count": 221,
     "metadata": {},
     "output_type": "execute_result"
    }
   ],
   "source": [
    "X.head(3)"
   ]
  },
  {
   "cell_type": "markdown",
   "metadata": {},
   "source": [
    "## Model 1 (LeadTime)"
   ]
  },
  {
   "cell_type": "code",
   "execution_count": 222,
   "metadata": {},
   "outputs": [],
   "source": [
    "X1 = df_all_metrics[[my_dict[1]]]"
   ]
  },
  {
   "cell_type": "markdown",
   "metadata": {},
   "source": [
    "### Creating train and test dataset\n"
   ]
  },
  {
   "cell_type": "code",
   "execution_count": 223,
   "metadata": {},
   "outputs": [],
   "source": [
    "X1_train, X1_test, y1_train, y1_test = train_test_split(X1, y, test_size=0.3, random_state=1000)"
   ]
  },
  {
   "cell_type": "markdown",
   "metadata": {},
   "source": [
    "### Instance of class *LinearRegression()*\n"
   ]
  },
  {
   "cell_type": "code",
   "execution_count": 224,
   "metadata": {},
   "outputs": [],
   "source": [
    "modelo_1 = LinearRegression()"
   ]
  },
  {
   "cell_type": "markdown",
   "metadata": {},
   "source": [
    "### Using the * fit () * method of the \"model_1\" object to estimate our linear model using the TRAINING data (y1_train and X1_train)"
   ]
  },
  {
   "cell_type": "code",
   "execution_count": 225,
   "metadata": {},
   "outputs": [
    {
     "data": {
      "text/plain": [
       "LinearRegression(copy_X=True, fit_intercept=True, n_jobs=1, normalize=False)"
      ]
     },
     "execution_count": 225,
     "metadata": {},
     "output_type": "execute_result"
    }
   ],
   "source": [
    "modelo_1.fit(X1_train, y1_train)"
   ]
  },
  {
   "cell_type": "markdown",
   "metadata": {},
   "source": [
    "### Getting the determination coefficient (R²) of the new estimated model and comparing it with the result of the previous model"
   ]
  },
  {
   "cell_type": "code",
   "execution_count": 226,
   "metadata": {},
   "outputs": [
    {
     "name": "stdout",
     "output_type": "stream",
     "text": [
      "Modelo com LeadTime\n",
      "R² = 0.16\n",
      "Modelo com as 4 variáveis\n",
      "R² = 0.65\n"
     ]
    }
   ],
   "source": [
    "modelo_1_score = modelo_1.score(X1_train, y1_train).round(2)\n",
    "print('Modelo com LeadTime')\n",
    "print('R² = {}'.format(modelo_1.score(X1_train, y1_train).round(2)))\n",
    "print('Modelo com as 4 variáveis')\n",
    "print('R² = {}'.format(modelo.score(X_train, y_train).round(2)))"
   ]
  },
  {
   "cell_type": "markdown",
   "metadata": {},
   "source": [
    "### Generating forecasts for TEST data (X_test and X1_test) using the * predict () * method of the \"model\" and \"model_2\" objects"
   ]
  },
  {
   "cell_type": "code",
   "execution_count": 227,
   "metadata": {},
   "outputs": [],
   "source": [
    "y_previsto = modelo.predict(X_test)\n",
    "y_previsto_1 = modelo_1.predict(X1_test)"
   ]
  },
  {
   "cell_type": "markdown",
   "metadata": {},
   "source": [
    "### Getting the coefficient of determination (R²) for the predictions of the two models"
   ]
  },
  {
   "cell_type": "code",
   "execution_count": 228,
   "metadata": {},
   "outputs": [
    {
     "name": "stdout",
     "output_type": "stream",
     "text": [
      "Modelo com LeadTime\n",
      "R² = 0.11\n",
      "Modelo com as quatro variáveis\n",
      "R² = 0.06\n"
     ]
    }
   ],
   "source": [
    "modelo_1_metrics_r2_score = metrics.r2_score(y1_test, y_previsto_1).round(2)\n",
    "print('Modelo com LeadTime')\n",
    "print('R² = {}'.format(modelo_1_metrics_r2_score))\n",
    "print('Modelo com as quatro variáveis')\n",
    "print('R² = {}'.format(metrics.r2_score(y_test, y_previsto).round(2)))"
   ]
  },
  {
   "cell_type": "markdown",
   "metadata": {},
   "source": [
    "## Model 2 (LeadTime, complexityPoints)"
   ]
  },
  {
   "cell_type": "code",
   "execution_count": 229,
   "metadata": {},
   "outputs": [
    {
     "data": {
      "text/html": [
       "<div>\n",
       "<style scoped>\n",
       "    .dataframe tbody tr th:only-of-type {\n",
       "        vertical-align: middle;\n",
       "    }\n",
       "\n",
       "    .dataframe tbody tr th {\n",
       "        vertical-align: top;\n",
       "    }\n",
       "\n",
       "    .dataframe thead th {\n",
       "        text-align: right;\n",
       "    }\n",
       "</style>\n",
       "<table border=\"1\" class=\"dataframe\">\n",
       "  <thead>\n",
       "    <tr style=\"text-align: right;\">\n",
       "      <th></th>\n",
       "      <th>leadTime</th>\n",
       "      <th>complexityPoints</th>\n",
       "    </tr>\n",
       "  </thead>\n",
       "  <tbody>\n",
       "    <tr>\n",
       "      <th>0</th>\n",
       "      <td>179.0</td>\n",
       "      <td>60.0</td>\n",
       "    </tr>\n",
       "    <tr>\n",
       "      <th>1</th>\n",
       "      <td>137.0</td>\n",
       "      <td>170.0</td>\n",
       "    </tr>\n",
       "    <tr>\n",
       "      <th>2</th>\n",
       "      <td>52.0</td>\n",
       "      <td>35.0</td>\n",
       "    </tr>\n",
       "  </tbody>\n",
       "</table>\n",
       "</div>"
      ],
      "text/plain": [
       "   leadTime  complexityPoints\n",
       "0     179.0              60.0\n",
       "1     137.0             170.0\n",
       "2      52.0              35.0"
      ]
     },
     "execution_count": 229,
     "metadata": {},
     "output_type": "execute_result"
    }
   ],
   "source": [
    "X2 = df_all_metrics[[my_dict[1], my_dict[2]]]\n",
    "X2.head(3)"
   ]
  },
  {
   "cell_type": "markdown",
   "metadata": {},
   "source": [
    "### Criando os datasets de treino e de teste\n"
   ]
  },
  {
   "cell_type": "code",
   "execution_count": 230,
   "metadata": {},
   "outputs": [],
   "source": [
    "X2_train, X2_test, y2_train, y2_test = train_test_split(X2, y, test_size=0.3, random_state=1000)"
   ]
  },
  {
   "cell_type": "markdown",
   "metadata": {},
   "source": [
    "### Instanciando a classe *LinearRegression()*\n"
   ]
  },
  {
   "cell_type": "code",
   "execution_count": 231,
   "metadata": {},
   "outputs": [],
   "source": [
    "modelo_2 = LinearRegression()"
   ]
  },
  {
   "cell_type": "markdown",
   "metadata": {},
   "source": [
    "### Utilizando o método *fit()* do objeto \"modelo_2\" para estimar nosso modelo linear utilizando os dados de TREINO (y2_train e X2_train)"
   ]
  },
  {
   "cell_type": "code",
   "execution_count": 232,
   "metadata": {},
   "outputs": [
    {
     "data": {
      "text/plain": [
       "LinearRegression(copy_X=True, fit_intercept=True, n_jobs=1, normalize=False)"
      ]
     },
     "execution_count": 232,
     "metadata": {},
     "output_type": "execute_result"
    }
   ],
   "source": [
    "modelo_2.fit(X2_train, y2_train)"
   ]
  },
  {
   "cell_type": "markdown",
   "metadata": {},
   "source": [
    "### Obtendo o coeficiente de determinação (R²) do novo modelo estimado e comparando com o resultado do modelo anterior"
   ]
  },
  {
   "cell_type": "code",
   "execution_count": 233,
   "metadata": {},
   "outputs": [
    {
     "name": "stdout",
     "output_type": "stream",
     "text": [
      "Modelo com LeadTime, complexityPoints\n",
      "R² = 0.6\n",
      "Modelo com as 4 variáveis\n",
      "R² = 0.65\n"
     ]
    }
   ],
   "source": [
    "modelo_2_score = modelo_2.score(X2_train, y2_train).round(2)\n",
    "print('Modelo com LeadTime, complexityPoints')\n",
    "print('R² = {}'.format(modelo_2_score))\n",
    "print('Modelo com as 4 variáveis')\n",
    "print('R² = {}'.format(modelo.score(X_train, y_train).round(2)))"
   ]
  },
  {
   "cell_type": "markdown",
   "metadata": {},
   "source": [
    "### Gerando previsões para os dados de TESTE (X_test e X2_test) utilizando o método *predict()* dos objetos \"modelo\" e \"modelo_2\""
   ]
  },
  {
   "cell_type": "code",
   "execution_count": 234,
   "metadata": {},
   "outputs": [],
   "source": [
    "y_previsto = modelo.predict(X_test)\n",
    "y_previsto_2 = modelo_2.predict(X2_test)"
   ]
  },
  {
   "cell_type": "markdown",
   "metadata": {},
   "source": [
    "### Obtendo o coeficiente de determinação (R²) para as previsões dos dois modelos"
   ]
  },
  {
   "cell_type": "code",
   "execution_count": 235,
   "metadata": {},
   "outputs": [
    {
     "name": "stdout",
     "output_type": "stream",
     "text": [
      "Modelo com LeadTime, ComplexityPontis\n",
      "R² = 0.09\n",
      "Modelo com as quatro variáveis\n",
      "R² = 0.06\n"
     ]
    }
   ],
   "source": [
    "modelo_2_metrics_r2_score = metrics.r2_score(y2_test, y_previsto_2).round(2)\n",
    "print('Modelo com LeadTime, ComplexityPontis')\n",
    "print('R² = {}'.format(modelo_2_metrics_r2_score))\n",
    "print('Modelo com as quatro variáveis')\n",
    "print('R² = {}'.format(metrics.r2_score(y_test, y_previsto).round(2)))"
   ]
  },
  {
   "cell_type": "markdown",
   "metadata": {},
   "source": [
    "## Model 3 (LeadTime, ComplexityPoints, totalDevelopers)"
   ]
  },
  {
   "cell_type": "code",
   "execution_count": 236,
   "metadata": {},
   "outputs": [
    {
     "data": {
      "text/html": [
       "<div>\n",
       "<style scoped>\n",
       "    .dataframe tbody tr th:only-of-type {\n",
       "        vertical-align: middle;\n",
       "    }\n",
       "\n",
       "    .dataframe tbody tr th {\n",
       "        vertical-align: top;\n",
       "    }\n",
       "\n",
       "    .dataframe thead th {\n",
       "        text-align: right;\n",
       "    }\n",
       "</style>\n",
       "<table border=\"1\" class=\"dataframe\">\n",
       "  <thead>\n",
       "    <tr style=\"text-align: right;\">\n",
       "      <th></th>\n",
       "      <th>leadTime</th>\n",
       "      <th>complexityPoints</th>\n",
       "      <th>totalDevelopers</th>\n",
       "    </tr>\n",
       "  </thead>\n",
       "  <tbody>\n",
       "    <tr>\n",
       "      <th>0</th>\n",
       "      <td>179.0</td>\n",
       "      <td>60.0</td>\n",
       "      <td>13.0</td>\n",
       "    </tr>\n",
       "    <tr>\n",
       "      <th>1</th>\n",
       "      <td>137.0</td>\n",
       "      <td>170.0</td>\n",
       "      <td>25.0</td>\n",
       "    </tr>\n",
       "    <tr>\n",
       "      <th>2</th>\n",
       "      <td>52.0</td>\n",
       "      <td>35.0</td>\n",
       "      <td>7.0</td>\n",
       "    </tr>\n",
       "  </tbody>\n",
       "</table>\n",
       "</div>"
      ],
      "text/plain": [
       "   leadTime  complexityPoints  totalDevelopers\n",
       "0     179.0              60.0             13.0\n",
       "1     137.0             170.0             25.0\n",
       "2      52.0              35.0              7.0"
      ]
     },
     "execution_count": 236,
     "metadata": {},
     "output_type": "execute_result"
    }
   ],
   "source": [
    "X3 = df_all_metrics[[my_dict[1], my_dict[2], my_dict[3]]]\n",
    "X3.head(3)"
   ]
  },
  {
   "cell_type": "markdown",
   "metadata": {},
   "source": [
    "### Criando os datasets de treino e de teste\n"
   ]
  },
  {
   "cell_type": "code",
   "execution_count": 237,
   "metadata": {},
   "outputs": [],
   "source": [
    "X3_train, X3_test, y3_train, y3_test = train_test_split(X3, y, test_size=0.3, random_state=1000)"
   ]
  },
  {
   "cell_type": "markdown",
   "metadata": {},
   "source": [
    "### Instanciando a classe *LinearRegression()*\n"
   ]
  },
  {
   "cell_type": "code",
   "execution_count": 238,
   "metadata": {},
   "outputs": [],
   "source": [
    "modelo_3 = LinearRegression()"
   ]
  },
  {
   "cell_type": "markdown",
   "metadata": {},
   "source": [
    "### Utilizando o método *fit()* do objeto \"modelo_3\" para estimar nosso modelo linear utilizando os dados de TREINO (y3_train e X3_train)"
   ]
  },
  {
   "cell_type": "code",
   "execution_count": 239,
   "metadata": {},
   "outputs": [
    {
     "data": {
      "text/plain": [
       "LinearRegression(copy_X=True, fit_intercept=True, n_jobs=1, normalize=False)"
      ]
     },
     "execution_count": 239,
     "metadata": {},
     "output_type": "execute_result"
    }
   ],
   "source": [
    "modelo_3.fit(X3_train, y3_train)"
   ]
  },
  {
   "cell_type": "markdown",
   "metadata": {},
   "source": [
    "### Obtendo o coeficiente de determinação (R²) do novo modelo estimado e comparando com o resultado do modelo anterior"
   ]
  },
  {
   "cell_type": "code",
   "execution_count": 240,
   "metadata": {},
   "outputs": [
    {
     "name": "stdout",
     "output_type": "stream",
     "text": [
      "Modelo com LeadTime, ComplexityPoints, totalDevelopers\n",
      "R² = 0.6\n",
      "Modelo com as 4 variáveis\n",
      "R² = 0.65\n"
     ]
    }
   ],
   "source": [
    "modelo_3_score = modelo_3.score(X3_train, y3_train).round(2)\n",
    "print('Modelo com LeadTime, ComplexityPoints, totalDevelopers')\n",
    "print('R² = {}'.format(modelo_3_score))\n",
    "print('Modelo com as 4 variáveis')\n",
    "print('R² = {}'.format(modelo.score(X_train, y_train).round(2)))"
   ]
  },
  {
   "cell_type": "markdown",
   "metadata": {},
   "source": [
    "### Gerando previsões para os dados de TESTE (X_test e X3_test) utilizando o método *predict()* dos objetos \"modelo\" e \"modelo_3\""
   ]
  },
  {
   "cell_type": "code",
   "execution_count": 241,
   "metadata": {},
   "outputs": [],
   "source": [
    "y_previsto = modelo.predict(X_test)\n",
    "y_previsto_3 = modelo_3.predict(X3_test)"
   ]
  },
  {
   "cell_type": "markdown",
   "metadata": {},
   "source": [
    "### Obtendo o coeficiente de determinação (R²) para as previsões dos dois modelos"
   ]
  },
  {
   "cell_type": "code",
   "execution_count": 242,
   "metadata": {},
   "outputs": [
    {
     "name": "stdout",
     "output_type": "stream",
     "text": [
      "Modelo com LeadTime\n",
      "R² = 0.09\n",
      "Modelo com as quatro variáveis\n",
      "R² = 0.06\n"
     ]
    }
   ],
   "source": [
    "modelo_3_metrics_r2_score = metrics.r2_score(y3_test, y_previsto_3).round(2)\n",
    "print('Modelo com LeadTime')\n",
    "print('R² = {}'.format(modelo_3_metrics_r2_score))\n",
    "print('Modelo com as quatro variáveis')\n",
    "print('R² = {}'.format(metrics.r2_score(y_test, y_previsto).round(2)))"
   ]
  },
  {
   "cell_type": "markdown",
   "metadata": {},
   "source": [
    "## Model 4 (LeadTime, ComplexityPoints, totalDevelopers, taskScaling)"
   ]
  },
  {
   "cell_type": "code",
   "execution_count": 243,
   "metadata": {},
   "outputs": [
    {
     "data": {
      "text/html": [
       "<div>\n",
       "<style scoped>\n",
       "    .dataframe tbody tr th:only-of-type {\n",
       "        vertical-align: middle;\n",
       "    }\n",
       "\n",
       "    .dataframe tbody tr th {\n",
       "        vertical-align: top;\n",
       "    }\n",
       "\n",
       "    .dataframe thead th {\n",
       "        text-align: right;\n",
       "    }\n",
       "</style>\n",
       "<table border=\"1\" class=\"dataframe\">\n",
       "  <thead>\n",
       "    <tr style=\"text-align: right;\">\n",
       "      <th></th>\n",
       "      <th>leadTime</th>\n",
       "      <th>complexityPoints</th>\n",
       "      <th>totalDevelopers</th>\n",
       "      <th>taskScaling</th>\n",
       "    </tr>\n",
       "  </thead>\n",
       "  <tbody>\n",
       "    <tr>\n",
       "      <th>0</th>\n",
       "      <td>179.0</td>\n",
       "      <td>60.0</td>\n",
       "      <td>13.0</td>\n",
       "      <td>0.216667</td>\n",
       "    </tr>\n",
       "    <tr>\n",
       "      <th>1</th>\n",
       "      <td>137.0</td>\n",
       "      <td>170.0</td>\n",
       "      <td>25.0</td>\n",
       "      <td>0.147059</td>\n",
       "    </tr>\n",
       "    <tr>\n",
       "      <th>2</th>\n",
       "      <td>52.0</td>\n",
       "      <td>35.0</td>\n",
       "      <td>7.0</td>\n",
       "      <td>0.200000</td>\n",
       "    </tr>\n",
       "  </tbody>\n",
       "</table>\n",
       "</div>"
      ],
      "text/plain": [
       "   leadTime  complexityPoints  totalDevelopers  taskScaling\n",
       "0     179.0              60.0             13.0     0.216667\n",
       "1     137.0             170.0             25.0     0.147059\n",
       "2      52.0              35.0              7.0     0.200000"
      ]
     },
     "execution_count": 243,
     "metadata": {},
     "output_type": "execute_result"
    }
   ],
   "source": [
    "X4 = df_all_metrics[[my_dict[1], my_dict[2], my_dict[3], my_dict[4]]]\n",
    "X4.head(3)"
   ]
  },
  {
   "cell_type": "markdown",
   "metadata": {},
   "source": [
    "### Criando os datasets de treino e de teste\n"
   ]
  },
  {
   "cell_type": "code",
   "execution_count": 244,
   "metadata": {},
   "outputs": [],
   "source": [
    "X4_train, X4_test, y4_train, y4_test = train_test_split(X4, y, test_size=0.3, random_state=1000)"
   ]
  },
  {
   "cell_type": "markdown",
   "metadata": {},
   "source": [
    "### Instanciando a classe *LinearRegression()*\n"
   ]
  },
  {
   "cell_type": "code",
   "execution_count": 245,
   "metadata": {},
   "outputs": [],
   "source": [
    "modelo_4 = LinearRegression()"
   ]
  },
  {
   "cell_type": "markdown",
   "metadata": {},
   "source": [
    "### Utilizando o método *fit()* do objeto \"modelo_4\" para estimar nosso modelo linear utilizando os dados de TREINO (y4_train e X4_train)"
   ]
  },
  {
   "cell_type": "code",
   "execution_count": 246,
   "metadata": {},
   "outputs": [
    {
     "data": {
      "text/plain": [
       "LinearRegression(copy_X=True, fit_intercept=True, n_jobs=1, normalize=False)"
      ]
     },
     "execution_count": 246,
     "metadata": {},
     "output_type": "execute_result"
    }
   ],
   "source": [
    "modelo_4.fit(X4_train, y4_train)"
   ]
  },
  {
   "cell_type": "markdown",
   "metadata": {},
   "source": [
    "### Obtendo o coeficiente de determinação (R²) do novo modelo estimado e comparando com o resultado do modelo anterior"
   ]
  },
  {
   "cell_type": "code",
   "execution_count": 247,
   "metadata": {},
   "outputs": [
    {
     "name": "stdout",
     "output_type": "stream",
     "text": [
      "Modelo com LeadTime, ComplexityPoints, totalDevelopers, taskScaling\n",
      "R² = 0.65\n"
     ]
    }
   ],
   "source": [
    "modelo_4_score = modelo_4.score(X4_train, y4_train).round(2)\n",
    "print('Modelo com LeadTime, ComplexityPoints, totalDevelopers, taskScaling')\n",
    "print('R² = {}'.format(modelo_4_score))"
   ]
  },
  {
   "cell_type": "markdown",
   "metadata": {},
   "source": [
    "### Gerando previsões para os dados de TESTE (X_test e X4_test) utilizando o método *predict()* dos objetos \"modelo\" e \"modelo_4\""
   ]
  },
  {
   "cell_type": "code",
   "execution_count": 248,
   "metadata": {},
   "outputs": [],
   "source": [
    "y_previsto = modelo.predict(X_test)\n",
    "y_previsto_4 = modelo_4.predict(X4_test)"
   ]
  },
  {
   "cell_type": "markdown",
   "metadata": {},
   "source": [
    "### Obtendo o coeficiente de determinação (R²) para as previsões dos dois modelos"
   ]
  },
  {
   "cell_type": "code",
   "execution_count": 249,
   "metadata": {},
   "outputs": [
    {
     "name": "stdout",
     "output_type": "stream",
     "text": [
      "Modelo com LeadTime, ComplexityPoints, totalDevelopers, taskScaling\n",
      "R² = 0.06\n",
      "Modelo com as quatro variáveis\n",
      "R² = 0.06\n"
     ]
    }
   ],
   "source": [
    "modelo_4_metrics_r2_score = metrics.r2_score(y4_test, y_previsto_4).round(2)\n",
    "print('Modelo com LeadTime, ComplexityPoints, totalDevelopers, taskScaling')\n",
    "print('R² = {}'.format(modelo_4_metrics_r2_score))\n",
    "print('Modelo com as quatro variáveis')\n",
    "print('R² = {}'.format(metrics.r2_score(y_test, y_previsto).round(2)))"
   ]
  },
  {
   "cell_type": "markdown",
   "metadata": {},
   "source": [
    "## Comparing the models"
   ]
  },
  {
   "cell_type": "code",
   "execution_count": 250,
   "metadata": {},
   "outputs": [
    {
     "data": {
      "text/html": [
       "<div>\n",
       "<style scoped>\n",
       "    .dataframe tbody tr th:only-of-type {\n",
       "        vertical-align: middle;\n",
       "    }\n",
       "\n",
       "    .dataframe tbody tr th {\n",
       "        vertical-align: top;\n",
       "    }\n",
       "\n",
       "    .dataframe thead th {\n",
       "        text-align: right;\n",
       "    }\n",
       "</style>\n",
       "<table border=\"1\" class=\"dataframe\">\n",
       "  <thead>\n",
       "    <tr style=\"text-align: right;\">\n",
       "      <th></th>\n",
       "      <th>score</th>\n",
       "      <th>r2_score</th>\n",
       "    </tr>\n",
       "  </thead>\n",
       "  <tbody>\n",
       "    <tr>\n",
       "      <th>modelo_1</th>\n",
       "      <td>0.16</td>\n",
       "      <td>0.11</td>\n",
       "    </tr>\n",
       "    <tr>\n",
       "      <th>modelo_2</th>\n",
       "      <td>0.60</td>\n",
       "      <td>0.09</td>\n",
       "    </tr>\n",
       "    <tr>\n",
       "      <th>modelo_3</th>\n",
       "      <td>0.60</td>\n",
       "      <td>0.09</td>\n",
       "    </tr>\n",
       "    <tr>\n",
       "      <th>modelo_4</th>\n",
       "      <td>0.65</td>\n",
       "      <td>0.06</td>\n",
       "    </tr>\n",
       "  </tbody>\n",
       "</table>\n",
       "</div>"
      ],
      "text/plain": [
       "          score  r2_score\n",
       "modelo_1   0.16      0.11\n",
       "modelo_2   0.60      0.09\n",
       "modelo_3   0.60      0.09\n",
       "modelo_4   0.65      0.06"
      ]
     },
     "execution_count": 250,
     "metadata": {},
     "output_type": "execute_result"
    }
   ],
   "source": [
    "my_data_modelo = np.array([\n",
    "    [modelo_1_score, modelo_1_metrics_r2_score],\n",
    "    [modelo_2_score, modelo_2_metrics_r2_score],\n",
    "    [modelo_3_score, modelo_3_metrics_r2_score],\n",
    "    [modelo_4_score, modelo_4_metrics_r2_score],\n",
    "                   ])\n",
    "my_index_modelo = ['modelo_1', 'modelo_2', 'modelo_3', 'modelo_4']\n",
    "my_columns_modelo = ['score', 'r2_score']\n",
    "pd.DataFrame(data=my_data_modelo, index=my_index_modelo, columns=my_columns_modelo)"
   ]
  },
  {
   "cell_type": "markdown",
   "metadata": {},
   "source": [
    "# <font color='red' style='font-size: 30px;'>Other Regression Metrics </font>\n",
    "<hr style='border: 2px solid red;'>"
   ]
  },
  {
   "cell_type": "markdown",
   "metadata": {},
   "source": [
    "## Regression metrics\n",
    "<hr>\n",
    "\n",
    "fonte: https://scikit-learn.org/stable/modules/model_evaluation.html#regression-metrics\n",
    "\n",
    "Some statistics getting from the regression model are very useful as a criteria for comparing estimated models and selecting the best model. The main regression metrics that scikit-learn makes available for linear models are as follows:\n",
    "\n",
    "### Mean Square Error\n",
    "\n",
    "Média dos quadrados dos erros. Ajustes melhores apresentam $EQM$ mais baixo.\n",
    "\n",
    "$$EQM(y, \\hat{y}) = \\frac 1n\\sum_{i=0}^{n-1}(y_i-\\hat{y}_i)^2$$\n",
    "\n",
    "### Root-mean-square deviation\n",
    "\n",
    "Raíz quadrada da média dos quadrados dos erros. Ajustes melhores apresentam $\\sqrt{EQM}$ mais baixo.\n",
    "\n",
    "$$\\sqrt{EQM(y, \\hat{y})} = \\sqrt{\\frac 1n\\sum_{i=0}^{n-1}(y_i-\\hat{y}_i)^2}$$\n"
   ]
  },
  {
   "cell_type": "markdown",
   "metadata": {},
   "source": [
    "## Getting metrics for model with LeadTime"
   ]
  },
  {
   "cell_type": "code",
   "execution_count": 251,
   "metadata": {},
   "outputs": [
    {
     "data": {
      "text/html": [
       "<div>\n",
       "<style scoped>\n",
       "    .dataframe tbody tr th:only-of-type {\n",
       "        vertical-align: middle;\n",
       "    }\n",
       "\n",
       "    .dataframe tbody tr th {\n",
       "        vertical-align: top;\n",
       "    }\n",
       "\n",
       "    .dataframe thead th {\n",
       "        text-align: right;\n",
       "    }\n",
       "</style>\n",
       "<table border=\"1\" class=\"dataframe\">\n",
       "  <thead>\n",
       "    <tr style=\"text-align: right;\">\n",
       "      <th></th>\n",
       "      <th>Métricas</th>\n",
       "    </tr>\n",
       "  </thead>\n",
       "  <tbody>\n",
       "    <tr>\n",
       "      <th>EQM</th>\n",
       "      <td>2208725.26</td>\n",
       "    </tr>\n",
       "    <tr>\n",
       "      <th>REQM</th>\n",
       "      <td>1486.18</td>\n",
       "    </tr>\n",
       "    <tr>\n",
       "      <th>R²</th>\n",
       "      <td>0.11</td>\n",
       "    </tr>\n",
       "  </tbody>\n",
       "</table>\n",
       "</div>"
      ],
      "text/plain": [
       "        Métricas\n",
       "EQM   2208725.26\n",
       "REQM     1486.18\n",
       "R²          0.11"
      ]
     },
     "execution_count": 251,
     "metadata": {},
     "output_type": "execute_result"
    }
   ],
   "source": [
    "EQM_1 = metrics.mean_squared_error(y1_test, y_previsto_1).round(2)\n",
    "REQM_1 = np.sqrt(metrics.mean_squared_error(y1_test, y_previsto_1)).round(2)\n",
    "R2_1 = metrics.r2_score(y1_test, y_previsto_1).round(2)\n",
    "\n",
    "pd.DataFrame([EQM_1, REQM_1, R2_1], ['EQM', 'REQM', 'R²'], columns=['Métricas'])"
   ]
  },
  {
   "cell_type": "markdown",
   "metadata": {},
   "source": [
    "## Getting metrics for model with LeadTime, ComplexityPoints"
   ]
  },
  {
   "cell_type": "code",
   "execution_count": 252,
   "metadata": {},
   "outputs": [
    {
     "data": {
      "text/html": [
       "<div>\n",
       "<style scoped>\n",
       "    .dataframe tbody tr th:only-of-type {\n",
       "        vertical-align: middle;\n",
       "    }\n",
       "\n",
       "    .dataframe tbody tr th {\n",
       "        vertical-align: top;\n",
       "    }\n",
       "\n",
       "    .dataframe thead th {\n",
       "        text-align: right;\n",
       "    }\n",
       "</style>\n",
       "<table border=\"1\" class=\"dataframe\">\n",
       "  <thead>\n",
       "    <tr style=\"text-align: right;\">\n",
       "      <th></th>\n",
       "      <th>Métricas</th>\n",
       "    </tr>\n",
       "  </thead>\n",
       "  <tbody>\n",
       "    <tr>\n",
       "      <th>EQM</th>\n",
       "      <td>2261796.57</td>\n",
       "    </tr>\n",
       "    <tr>\n",
       "      <th>REQM</th>\n",
       "      <td>1503.93</td>\n",
       "    </tr>\n",
       "    <tr>\n",
       "      <th>R²</th>\n",
       "      <td>0.09</td>\n",
       "    </tr>\n",
       "  </tbody>\n",
       "</table>\n",
       "</div>"
      ],
      "text/plain": [
       "        Métricas\n",
       "EQM   2261796.57\n",
       "REQM     1503.93\n",
       "R²          0.09"
      ]
     },
     "execution_count": 252,
     "metadata": {},
     "output_type": "execute_result"
    }
   ],
   "source": [
    "EQM_2 = metrics.mean_squared_error(y2_test, y_previsto_2).round(2)\n",
    "REQM_2 = np.sqrt(metrics.mean_squared_error(y2_test, y_previsto_2)).round(2)\n",
    "R2_2 = metrics.r2_score(y2_test, y_previsto_2).round(2)\n",
    "\n",
    "pd.DataFrame([EQM_2, REQM_2, R2_2], ['EQM', 'REQM', 'R²'], columns=['Métricas'])"
   ]
  },
  {
   "cell_type": "markdown",
   "metadata": {},
   "source": [
    "## Getting metrics for model with LeadTime, ComplexityPoints, TotalDevelopers"
   ]
  },
  {
   "cell_type": "code",
   "execution_count": 253,
   "metadata": {},
   "outputs": [
    {
     "data": {
      "text/html": [
       "<div>\n",
       "<style scoped>\n",
       "    .dataframe tbody tr th:only-of-type {\n",
       "        vertical-align: middle;\n",
       "    }\n",
       "\n",
       "    .dataframe tbody tr th {\n",
       "        vertical-align: top;\n",
       "    }\n",
       "\n",
       "    .dataframe thead th {\n",
       "        text-align: right;\n",
       "    }\n",
       "</style>\n",
       "<table border=\"1\" class=\"dataframe\">\n",
       "  <thead>\n",
       "    <tr style=\"text-align: right;\">\n",
       "      <th></th>\n",
       "      <th>Métricas</th>\n",
       "    </tr>\n",
       "  </thead>\n",
       "  <tbody>\n",
       "    <tr>\n",
       "      <th>EQM</th>\n",
       "      <td>2253371.63</td>\n",
       "    </tr>\n",
       "    <tr>\n",
       "      <th>REQM</th>\n",
       "      <td>1501.12</td>\n",
       "    </tr>\n",
       "    <tr>\n",
       "      <th>R²</th>\n",
       "      <td>0.09</td>\n",
       "    </tr>\n",
       "  </tbody>\n",
       "</table>\n",
       "</div>"
      ],
      "text/plain": [
       "        Métricas\n",
       "EQM   2253371.63\n",
       "REQM     1501.12\n",
       "R²          0.09"
      ]
     },
     "execution_count": 253,
     "metadata": {},
     "output_type": "execute_result"
    }
   ],
   "source": [
    "EQM_3 = metrics.mean_squared_error(y3_test, y_previsto_3).round(2)\n",
    "REQM_3 = np.sqrt(metrics.mean_squared_error(y3_test, y_previsto_3)).round(2)\n",
    "R2_3 = metrics.r2_score(y3_test, y_previsto_3).round(2)\n",
    "\n",
    "pd.DataFrame([EQM_3, REQM_3, R2_3], ['EQM', 'REQM', 'R²'], columns=['Métricas'])"
   ]
  },
  {
   "cell_type": "markdown",
   "metadata": {},
   "source": [
    "## Getting metrics for model with LeadTime, ComplexityPoints, TotalDevelopers e TaskScaling"
   ]
  },
  {
   "cell_type": "code",
   "execution_count": 254,
   "metadata": {},
   "outputs": [
    {
     "data": {
      "text/html": [
       "<div>\n",
       "<style scoped>\n",
       "    .dataframe tbody tr th:only-of-type {\n",
       "        vertical-align: middle;\n",
       "    }\n",
       "\n",
       "    .dataframe tbody tr th {\n",
       "        vertical-align: top;\n",
       "    }\n",
       "\n",
       "    .dataframe thead th {\n",
       "        text-align: right;\n",
       "    }\n",
       "</style>\n",
       "<table border=\"1\" class=\"dataframe\">\n",
       "  <thead>\n",
       "    <tr style=\"text-align: right;\">\n",
       "      <th></th>\n",
       "      <th>Métricas</th>\n",
       "    </tr>\n",
       "  </thead>\n",
       "  <tbody>\n",
       "    <tr>\n",
       "      <th>EQM</th>\n",
       "      <td>2324809.84</td>\n",
       "    </tr>\n",
       "    <tr>\n",
       "      <th>REQM</th>\n",
       "      <td>1524.73</td>\n",
       "    </tr>\n",
       "    <tr>\n",
       "      <th>R²</th>\n",
       "      <td>0.06</td>\n",
       "    </tr>\n",
       "  </tbody>\n",
       "</table>\n",
       "</div>"
      ],
      "text/plain": [
       "        Métricas\n",
       "EQM   2324809.84\n",
       "REQM     1524.73\n",
       "R²          0.06"
      ]
     },
     "execution_count": 254,
     "metadata": {},
     "output_type": "execute_result"
    }
   ],
   "source": [
    "EQM_4 = metrics.mean_squared_error(y4_test, y_previsto_4).round(2)\n",
    "REQM_4 = np.sqrt(metrics.mean_squared_error(y4_test, y_previsto_4)).round(2)\n",
    "R2_4 = metrics.r2_score(y4_test, y_previsto_4).round(2)\n",
    "\n",
    "pd.DataFrame([EQM_4, REQM_4, R2_4], ['EQM', 'REQM', 'R²'], columns=['Métricas'])"
   ]
  },
  {
   "cell_type": "markdown",
   "metadata": {},
   "source": [
    "## Comparing Metrics"
   ]
  },
  {
   "cell_type": "code",
   "execution_count": 255,
   "metadata": {},
   "outputs": [
    {
     "data": {
      "text/html": [
       "<div>\n",
       "<style scoped>\n",
       "    .dataframe tbody tr th:only-of-type {\n",
       "        vertical-align: middle;\n",
       "    }\n",
       "\n",
       "    .dataframe tbody tr th {\n",
       "        vertical-align: top;\n",
       "    }\n",
       "\n",
       "    .dataframe thead th {\n",
       "        text-align: right;\n",
       "    }\n",
       "</style>\n",
       "<table border=\"1\" class=\"dataframe\">\n",
       "  <thead>\n",
       "    <tr style=\"text-align: right;\">\n",
       "      <th></th>\n",
       "      <th>EQM</th>\n",
       "      <th>REQM</th>\n",
       "      <th>R²</th>\n",
       "    </tr>\n",
       "  </thead>\n",
       "  <tbody>\n",
       "    <tr>\n",
       "      <th>modelo1</th>\n",
       "      <td>2208725.26</td>\n",
       "      <td>1486.18</td>\n",
       "      <td>0.11</td>\n",
       "    </tr>\n",
       "    <tr>\n",
       "      <th>modelo2</th>\n",
       "      <td>2261796.57</td>\n",
       "      <td>1503.93</td>\n",
       "      <td>0.09</td>\n",
       "    </tr>\n",
       "    <tr>\n",
       "      <th>modelo3</th>\n",
       "      <td>2253371.63</td>\n",
       "      <td>1501.12</td>\n",
       "      <td>0.09</td>\n",
       "    </tr>\n",
       "    <tr>\n",
       "      <th>modelo4</th>\n",
       "      <td>2324809.84</td>\n",
       "      <td>1524.73</td>\n",
       "      <td>0.06</td>\n",
       "    </tr>\n",
       "  </tbody>\n",
       "</table>\n",
       "</div>"
      ],
      "text/plain": [
       "                EQM     REQM    R²\n",
       "modelo1  2208725.26  1486.18  0.11\n",
       "modelo2  2261796.57  1503.93  0.09\n",
       "modelo3  2253371.63  1501.12  0.09\n",
       "modelo4  2324809.84  1524.73  0.06"
      ]
     },
     "execution_count": 255,
     "metadata": {},
     "output_type": "execute_result"
    }
   ],
   "source": [
    "my_data_metricas = np.array([\n",
    "    [EQM_1, REQM_1, R2_1], \n",
    "    [EQM_2, REQM_2, R2_2], \n",
    "    [EQM_3, REQM_3, R2_3], \n",
    "    [EQM_4, REQM_4, R2_4], \n",
    "    ])\n",
    "my_index_metricas = ['modelo1', 'modelo2', 'modelo3', 'modelo4']\n",
    "my_columns_metricas = ['EQM', 'REQM', 'R²']\n",
    "\n",
    "df_my_metricas = pd.DataFrame(data=my_data_metricas, index=my_index_metricas, columns=my_columns_metricas)\n",
    "df_my_metricas"
   ]
  },
  {
   "cell_type": "markdown",
   "metadata": {},
   "source": [
    "## Wilcoxon"
   ]
  },
  {
   "cell_type": "code",
   "execution_count": 256,
   "metadata": {},
   "outputs": [],
   "source": [
    "# Wilcoxon signed-rank test\n",
    "# The Wilcoxon signed-rank test tests the null hypothesis that two related paired samples come from the same distribution. \n",
    "# In particular, it tests whether the distribution of the differences x - y is symmetric about zero. \n",
    "# It is a non-parametric version of the paired T-test.\n",
    "\n",
    "from numpy.random import seed\n",
    "from numpy.random import randn\n",
    "from scipy.stats import wilcoxon"
   ]
  },
  {
   "cell_type": "code",
   "execution_count": 257,
   "metadata": {},
   "outputs": [],
   "source": [
    "def checkWilcoxonSingedRank(data1, data2, alpha=0.05):\n",
    "  stat, p = wilcoxon(data1, data2)\n",
    "  print('Statistics=%.3f, p=%.3f' % (stat, p))\n",
    "\n",
    "  # interpret\n",
    "  if p > alpha:\n",
    "    print('Same distribution (fail to reject H0)')\n",
    "  else:\n",
    "    print('Different distribution (reject H0)')\n",
    "  return stat.round(3), p.round(3)"
   ]
  },
  {
   "cell_type": "code",
   "execution_count": 258,
   "metadata": {},
   "outputs": [
    {
     "name": "stdout",
     "output_type": "stream",
     "text": [
      "leadTime\n",
      "Statistics=39.000, p=0.000\n",
      "Different distribution (reject H0)\n",
      "(39.0, 0.0)\n",
      "---\n",
      "complexityPoints\n",
      "Statistics=17.000, p=0.000\n",
      "Different distribution (reject H0)\n",
      "(17.0, 0.0)\n",
      "---\n",
      "totalDevelopers\n",
      "Statistics=3.000, p=0.000\n",
      "Different distribution (reject H0)\n",
      "(3.0, 0.0)\n",
      "---\n",
      "taskScaling\n",
      "Statistics=1.000, p=0.000\n",
      "Different distribution (reject H0)\n",
      "(1.0, 0.0)\n",
      "---\n"
     ]
    }
   ],
   "source": [
    "for i in range(1,5):\n",
    "  print(my_dict[i])\n",
    "  print(checkWilcoxonSingedRank(df_all_metrics[my_dict[i]].values, df_all_metrics.technicalDebt.values))\n",
    "  print(\"---\")"
   ]
  },
  {
   "cell_type": "markdown",
   "metadata": {},
   "source": [
    "## Durbin_Watson"
   ]
  },
  {
   "cell_type": "code",
   "execution_count": 259,
   "metadata": {},
   "outputs": [],
   "source": [
    "from statsmodels.regression.linear_model import OLS\n",
    "from statsmodels.stats.stattools import durbin_watson"
   ]
  },
  {
   "cell_type": "code",
   "execution_count": 260,
   "metadata": {},
   "outputs": [],
   "source": [
    "def dw(data):\n",
    "    ols_res = OLS(data, np.ones(len(data))).fit()\n",
    "    return durbin_watson(ols_res.resid)"
   ]
  },
  {
   "cell_type": "code",
   "execution_count": 261,
   "metadata": {},
   "outputs": [
    {
     "name": "stdout",
     "output_type": "stream",
     "text": [
      "dw of range=2.041158 technicalDebt\n"
     ]
    }
   ],
   "source": [
    "print(\"dw of range=%f technicalDebt\" % dw(df_all_metrics.technicalDebt.values))"
   ]
  },
  {
   "cell_type": "code",
   "execution_count": 262,
   "metadata": {},
   "outputs": [
    {
     "name": "stdout",
     "output_type": "stream",
     "text": [
      "dw of leadTime is 1.614\n",
      "dw of complexityPoints is 2.155\n",
      "dw of totalDevelopers is 1.23\n",
      "dw of taskScaling is 1.727\n"
     ]
    }
   ],
   "source": [
    "for each in range(1,5):\n",
    "    print(\"dw of \" + my_dict[each] + \" is\", dw(df_all_metrics[my_dict[each]].values).round(3))"
   ]
  },
  {
   "cell_type": "code",
   "execution_count": 263,
   "metadata": {},
   "outputs": [
    {
     "data": {
      "text/html": [
       "<div>\n",
       "<style scoped>\n",
       "    .dataframe tbody tr th:only-of-type {\n",
       "        vertical-align: middle;\n",
       "    }\n",
       "\n",
       "    .dataframe tbody tr th {\n",
       "        vertical-align: top;\n",
       "    }\n",
       "\n",
       "    .dataframe thead th {\n",
       "        text-align: right;\n",
       "    }\n",
       "</style>\n",
       "<table border=\"1\" class=\"dataframe\">\n",
       "  <thead>\n",
       "    <tr style=\"text-align: right;\">\n",
       "      <th></th>\n",
       "      <th>value</th>\n",
       "    </tr>\n",
       "  </thead>\n",
       "  <tbody>\n",
       "    <tr>\n",
       "      <th>leadTime</th>\n",
       "      <td>1.614</td>\n",
       "    </tr>\n",
       "    <tr>\n",
       "      <th>complexityPoints</th>\n",
       "      <td>2.155</td>\n",
       "    </tr>\n",
       "    <tr>\n",
       "      <th>totalDevelopers</th>\n",
       "      <td>1.230</td>\n",
       "    </tr>\n",
       "    <tr>\n",
       "      <th>taskScaling</th>\n",
       "      <td>1.727</td>\n",
       "    </tr>\n",
       "  </tbody>\n",
       "</table>\n",
       "</div>"
      ],
      "text/plain": [
       "                  value\n",
       "leadTime          1.614\n",
       "complexityPoints  2.155\n",
       "totalDevelopers   1.230\n",
       "taskScaling       1.727"
      ]
     },
     "execution_count": 263,
     "metadata": {},
     "output_type": "execute_result"
    }
   ],
   "source": [
    "my_array_dw = np.array([\n",
    "\t[1.614], \n",
    "\t[2.155], \n",
    "\t[1.23], \n",
    "\t[1.727]\n",
    "\t])\n",
    "my_index_dw = ['leadTime', 'complexityPoints', 'totalDevelopers', 'taskScaling']\n",
    "my_columns_dw = ['value']\n",
    "\n",
    "df_my_dw = pd.DataFrame(data=my_array_dw , index=my_index_dw , columns=my_columns_dw)\n",
    "df_my_dw"
   ]
  },
  {
   "cell_type": "code",
   "execution_count": 264,
   "metadata": {},
   "outputs": [
    {
     "data": {
      "text/html": [
       "\n",
       "        <script>\n",
       "            function code_toggle_4795548301640144317() {\n",
       "                $('div.cell.code_cell.rendered.selected').find('div.input').toggle();\n",
       "            }\n",
       "\n",
       "            \n",
       "        </script>\n",
       "\n",
       "        <a href=\"javascript:code_toggle_4795548301640144317()\">Toggle show/hide</a>\n",
       "    "
      ],
      "text/plain": [
       "<IPython.core.display.HTML object>"
      ]
     },
     "execution_count": 264,
     "metadata": {},
     "output_type": "execute_result"
    }
   ],
   "source": [
    "with open('latex/mytable2.tex','w') as tf:\n",
    "    tf.write(df_my_dw.to_latex())\n",
    "hide_toggle()"
   ]
  },
  {
   "cell_type": "markdown",
   "metadata": {},
   "source": [
    "## Testing Multicollinearity"
   ]
  },
  {
   "cell_type": "code",
   "execution_count": 265,
   "metadata": {},
   "outputs": [],
   "source": [
    "import statsmodels.formula.api as smf"
   ]
  },
  {
   "cell_type": "markdown",
   "metadata": {},
   "source": [
    "### Use formula in statasmodels:"
   ]
  },
  {
   "cell_type": "code",
   "execution_count": 266,
   "metadata": {},
   "outputs": [],
   "source": [
    "# import warnings\n",
    "# warnings.simplefilter(action='ignore', category=FutureWarning)\n",
    "from sklearn.linear_model import LinearRegression\n",
    "\n",
    "def sklearn_vif(exogs, data):\n",
    "\n",
    "    # initialize dictionaries\n",
    "    vif_dict, tolerance_dict = {}, {}\n",
    "\n",
    "    # form input data for each exogenous variable\n",
    "    for exog in exogs:\n",
    "        not_exog = [i for i in exogs if i != exog]\n",
    "        X, y = data[not_exog], data[exog]\n",
    "\n",
    "        # extract r-squared from the fit\n",
    "        r_squared = LinearRegression().fit(X, y).score(X, y)\n",
    "\n",
    "        # calculate VIF\n",
    "        vif = 1/(1 - r_squared)\n",
    "        vif_dict[exog] = vif\n",
    "\n",
    "        # calculate tolerance\n",
    "        tolerance = 1 - r_squared\n",
    "        tolerance_dict[exog] = tolerance\n",
    "\n",
    "    # return VIF DataFrame\n",
    "    df_vif = pd.DataFrame({'VIF': vif_dict, 'Tolerance': tolerance_dict})\n",
    "\n",
    "    return df_vif"
   ]
  },
  {
   "cell_type": "markdown",
   "metadata": {},
   "source": [
    "## Testing multicollinearity - Modelo 2"
   ]
  },
  {
   "cell_type": "code",
   "execution_count": 267,
   "metadata": {},
   "outputs": [],
   "source": [
    "my_df_tm_modelo2 = df_all_metrics[[my_dict[0], my_dict[1], my_dict[2]]]\n",
    "exogs_modelo2 = ['leadTime', 'complexityPoints']"
   ]
  },
  {
   "cell_type": "code",
   "execution_count": 268,
   "metadata": {},
   "outputs": [
    {
     "data": {
      "text/html": [
       "<div>\n",
       "<style scoped>\n",
       "    .dataframe tbody tr th:only-of-type {\n",
       "        vertical-align: middle;\n",
       "    }\n",
       "\n",
       "    .dataframe tbody tr th {\n",
       "        vertical-align: top;\n",
       "    }\n",
       "\n",
       "    .dataframe thead th {\n",
       "        text-align: right;\n",
       "    }\n",
       "</style>\n",
       "<table border=\"1\" class=\"dataframe\">\n",
       "  <thead>\n",
       "    <tr style=\"text-align: right;\">\n",
       "      <th></th>\n",
       "      <th>VIF</th>\n",
       "      <th>Tolerance</th>\n",
       "    </tr>\n",
       "  </thead>\n",
       "  <tbody>\n",
       "    <tr>\n",
       "      <th>complexityPoints</th>\n",
       "      <td>1.122237</td>\n",
       "      <td>0.891078</td>\n",
       "    </tr>\n",
       "    <tr>\n",
       "      <th>leadTime</th>\n",
       "      <td>1.122237</td>\n",
       "      <td>0.891078</td>\n",
       "    </tr>\n",
       "  </tbody>\n",
       "</table>\n",
       "</div>"
      ],
      "text/plain": [
       "                       VIF  Tolerance\n",
       "complexityPoints  1.122237   0.891078\n",
       "leadTime          1.122237   0.891078"
      ]
     },
     "execution_count": 268,
     "metadata": {},
     "output_type": "execute_result"
    }
   ],
   "source": [
    "df_vif_modelo2 = sklearn_vif(exogs=exogs_modelo2, data=my_df_tm_modelo2)\n",
    "df_vif_modelo2"
   ]
  },
  {
   "cell_type": "markdown",
   "metadata": {},
   "source": [
    "## Testing multicollinearity - Modelo 3"
   ]
  },
  {
   "cell_type": "code",
   "execution_count": 269,
   "metadata": {},
   "outputs": [],
   "source": [
    "my_df_tm_modelo3 = df_all_metrics[[my_dict[0], my_dict[1], my_dict[2], my_dict[3]]]\n",
    "exogs_modelo3 = ['leadTime', 'complexityPoints', 'totalDevelopers']"
   ]
  },
  {
   "cell_type": "code",
   "execution_count": 270,
   "metadata": {},
   "outputs": [
    {
     "data": {
      "text/html": [
       "<div>\n",
       "<style scoped>\n",
       "    .dataframe tbody tr th:only-of-type {\n",
       "        vertical-align: middle;\n",
       "    }\n",
       "\n",
       "    .dataframe tbody tr th {\n",
       "        vertical-align: top;\n",
       "    }\n",
       "\n",
       "    .dataframe thead th {\n",
       "        text-align: right;\n",
       "    }\n",
       "</style>\n",
       "<table border=\"1\" class=\"dataframe\">\n",
       "  <thead>\n",
       "    <tr style=\"text-align: right;\">\n",
       "      <th></th>\n",
       "      <th>VIF</th>\n",
       "      <th>Tolerance</th>\n",
       "    </tr>\n",
       "  </thead>\n",
       "  <tbody>\n",
       "    <tr>\n",
       "      <th>complexityPoints</th>\n",
       "      <td>1.142512</td>\n",
       "      <td>0.875264</td>\n",
       "    </tr>\n",
       "    <tr>\n",
       "      <th>leadTime</th>\n",
       "      <td>1.602167</td>\n",
       "      <td>0.624155</td>\n",
       "    </tr>\n",
       "    <tr>\n",
       "      <th>totalDevelopers</th>\n",
       "      <td>1.565316</td>\n",
       "      <td>0.638849</td>\n",
       "    </tr>\n",
       "  </tbody>\n",
       "</table>\n",
       "</div>"
      ],
      "text/plain": [
       "                       VIF  Tolerance\n",
       "complexityPoints  1.142512   0.875264\n",
       "leadTime          1.602167   0.624155\n",
       "totalDevelopers   1.565316   0.638849"
      ]
     },
     "execution_count": 270,
     "metadata": {},
     "output_type": "execute_result"
    }
   ],
   "source": [
    "df_vif_modelo3 = sklearn_vif(exogs=exogs_modelo3, data=my_df_tm_modelo3)\n",
    "df_vif_modelo3"
   ]
  },
  {
   "cell_type": "markdown",
   "metadata": {},
   "source": [
    "## Testing multicollinearity - Modelo 4"
   ]
  },
  {
   "cell_type": "code",
   "execution_count": 271,
   "metadata": {},
   "outputs": [],
   "source": [
    "my_df_tm_modelo4 = df_all_metrics[[my_dict[0], my_dict[1], my_dict[2], my_dict[3], my_dict[4]]]\n",
    "exogs_modelo4 = ['leadTime', 'complexityPoints', 'totalDevelopers', 'taskScaling']"
   ]
  },
  {
   "cell_type": "code",
   "execution_count": 272,
   "metadata": {},
   "outputs": [
    {
     "data": {
      "text/html": [
       "<div>\n",
       "<style scoped>\n",
       "    .dataframe tbody tr th:only-of-type {\n",
       "        vertical-align: middle;\n",
       "    }\n",
       "\n",
       "    .dataframe tbody tr th {\n",
       "        vertical-align: top;\n",
       "    }\n",
       "\n",
       "    .dataframe thead th {\n",
       "        text-align: right;\n",
       "    }\n",
       "</style>\n",
       "<table border=\"1\" class=\"dataframe\">\n",
       "  <thead>\n",
       "    <tr style=\"text-align: right;\">\n",
       "      <th></th>\n",
       "      <th>VIF</th>\n",
       "      <th>Tolerance</th>\n",
       "    </tr>\n",
       "  </thead>\n",
       "  <tbody>\n",
       "    <tr>\n",
       "      <th>complexityPoints</th>\n",
       "      <td>1.496794</td>\n",
       "      <td>0.668094</td>\n",
       "    </tr>\n",
       "    <tr>\n",
       "      <th>leadTime</th>\n",
       "      <td>1.764050</td>\n",
       "      <td>0.566877</td>\n",
       "    </tr>\n",
       "    <tr>\n",
       "      <th>taskScaling</th>\n",
       "      <td>1.511341</td>\n",
       "      <td>0.661664</td>\n",
       "    </tr>\n",
       "    <tr>\n",
       "      <th>totalDevelopers</th>\n",
       "      <td>1.823810</td>\n",
       "      <td>0.548303</td>\n",
       "    </tr>\n",
       "  </tbody>\n",
       "</table>\n",
       "</div>"
      ],
      "text/plain": [
       "                       VIF  Tolerance\n",
       "complexityPoints  1.496794   0.668094\n",
       "leadTime          1.764050   0.566877\n",
       "taskScaling       1.511341   0.661664\n",
       "totalDevelopers   1.823810   0.548303"
      ]
     },
     "execution_count": 272,
     "metadata": {},
     "output_type": "execute_result"
    }
   ],
   "source": [
    "df_vif_modelo4 = sklearn_vif(exogs=exogs_modelo4, data=my_df_tm_modelo4)\n",
    "df_vif_modelo4"
   ]
  },
  {
   "cell_type": "code",
   "execution_count": 273,
   "metadata": {},
   "outputs": [
    {
     "data": {
      "text/html": [
       "\n",
       "        <script>\n",
       "            function code_toggle_2237889084440094532() {\n",
       "                $('div.cell.code_cell.rendered.selected').find('div.input').toggle();\n",
       "            }\n",
       "\n",
       "            \n",
       "        </script>\n",
       "\n",
       "        <a href=\"javascript:code_toggle_2237889084440094532()\">Toggle show/hide</a>\n",
       "    "
      ],
      "text/plain": [
       "<IPython.core.display.HTML object>"
      ]
     },
     "execution_count": 273,
     "metadata": {},
     "output_type": "execute_result"
    }
   ],
   "source": [
    "vl1_modelo1 = [1, '', '', '']\t\t\t\n",
    "\n",
    "vl2_modelo2 = [df_vif_modelo2.VIF[\"leadTime\"].round(3), df_vif_modelo2.VIF[\"complexityPoints\"].round(3), '','']\n",
    "\n",
    "vl3_modelo3 = [df_vif_modelo3.VIF[\"leadTime\"].round(3), df_vif_modelo3.VIF[\"complexityPoints\"].round(3), df_vif_modelo3.VIF[\"totalDevelopers\"].round(3), '']\n",
    "\n",
    "vl4_modelo4 = [df_vif_modelo4.VIF[\"leadTime\"].round(3), df_vif_modelo4.VIF[\"complexityPoints\"].round(3), \n",
    "df_vif_modelo4.VIF[\"totalDevelopers\"].round(3), df_vif_modelo4.VIF[\"taskScaling\"].round(3)]\n",
    "\n",
    "tl1_modelo1\t= [1, '', '', '']\n",
    "\n",
    "tl2_modelo2\t= [df_vif_modelo2.Tolerance[\"leadTime\"].round(3),df_vif_modelo2.Tolerance[\"complexityPoints\"].round(3), '','']\n",
    "\n",
    "tl3_modelo3\t= [df_vif_modelo3.Tolerance[\"leadTime\"].round(3), \tdf_vif_modelo3.Tolerance[\"complexityPoints\"].round(3), \t\t\t\t\t\t\t\tdf_vif_modelo3.Tolerance[\"totalDevelopers\"].round(3), '']\n",
    "\n",
    "tl4_modelo4\t= [df_vif_modelo4.Tolerance[\"leadTime\"].round(3), df_vif_modelo4.Tolerance[\"complexityPoints\"].round(3), \n",
    "\t\t\t\t\t\tdf_vif_modelo4.Tolerance[\"totalDevelopers\"].round(3), df_vif_modelo4.Tolerance[\"taskScaling\"].round(3)]\n",
    "\n",
    "hide_toggle()"
   ]
  },
  {
   "cell_type": "code",
   "execution_count": 274,
   "metadata": {},
   "outputs": [
    {
     "name": "stdout",
     "output_type": "stream",
     "text": [
      "VIF\n"
     ]
    },
    {
     "data": {
      "text/html": [
       "\n",
       "        <script>\n",
       "            function code_toggle_4728390019942602397() {\n",
       "                $('div.cell.code_cell.rendered.selected').find('div.input').toggle();\n",
       "            }\n",
       "\n",
       "            \n",
       "        </script>\n",
       "\n",
       "        <a href=\"javascript:code_toggle_4728390019942602397()\">Toggle show/hide</a>\n",
       "    "
      ],
      "text/plain": [
       "<IPython.core.display.HTML object>"
      ]
     },
     "execution_count": 274,
     "metadata": {},
     "output_type": "execute_result"
    }
   ],
   "source": [
    "my_array_dw_vif = np.array([\n",
    "\tvl1_modelo1, \n",
    "\tvl2_modelo2, \n",
    "\tvl3_modelo3, \n",
    "\tvl4_modelo4\n",
    "\t])\n",
    "\n",
    "my_index_dw_vif = ['modelo1', 'modelo2', 'modelo3', 'modelo4']\n",
    "\n",
    "my_columns_dw_vif = ['leadTime', 'complexityPoints', 'totalDevelopers', 'taskScaling']\n",
    "\n",
    "df_my_dw_vif = pd.DataFrame(data=my_array_dw_vif, index=my_index_dw_vif, columns=my_columns_dw_vif)\n",
    "print(\"VIF\")\n",
    "df_my_dw_vif\n",
    "hide_toggle()"
   ]
  },
  {
   "cell_type": "code",
   "execution_count": 275,
   "metadata": {},
   "outputs": [
    {
     "data": {
      "text/html": [
       "\n",
       "        <script>\n",
       "            function code_toggle_2089323062273064456() {\n",
       "                $('div.cell.code_cell.rendered.selected').find('div.input').toggle();\n",
       "            }\n",
       "\n",
       "            \n",
       "        </script>\n",
       "\n",
       "        <a href=\"javascript:code_toggle_2089323062273064456()\">Toggle show/hide</a>\n",
       "    "
      ],
      "text/plain": [
       "<IPython.core.display.HTML object>"
      ]
     },
     "execution_count": 275,
     "metadata": {},
     "output_type": "execute_result"
    }
   ],
   "source": [
    "with open('latex/mytable3.tex','w') as tf:\n",
    "    tf.write(df_my_dw_vif.to_latex())\n",
    "hide_toggle()"
   ]
  },
  {
   "cell_type": "code",
   "execution_count": 276,
   "metadata": {},
   "outputs": [
    {
     "name": "stdout",
     "output_type": "stream",
     "text": [
      "Tolerance\n"
     ]
    },
    {
     "data": {
      "text/html": [
       "\n",
       "        <script>\n",
       "            function code_toggle_1333000437927560521() {\n",
       "                $('div.cell.code_cell.rendered.selected').find('div.input').toggle();\n",
       "            }\n",
       "\n",
       "            \n",
       "        </script>\n",
       "\n",
       "        <a href=\"javascript:code_toggle_1333000437927560521()\">Toggle show/hide</a>\n",
       "    "
      ],
      "text/plain": [
       "<IPython.core.display.HTML object>"
      ]
     },
     "execution_count": 276,
     "metadata": {},
     "output_type": "execute_result"
    }
   ],
   "source": [
    "my_array_dw_t = np.array([\n",
    "\ttl1_modelo1, \n",
    "\ttl2_modelo2, \n",
    "\ttl3_modelo3, \n",
    "\ttl4_modelo4\n",
    "\t])\n",
    "my_index_dw_t = ['modelo1', 'modelo2', 'modelo3', 'modelo4']\n",
    "my_columns_dw_t = ['leadTime', 'complexityPoints', 'totalDevelopers', 'taskScaling']\n",
    "df_my_dw_t = pd.DataFrame(data=my_array_dw_t , index=my_index_dw_t , columns=my_columns_dw_t)\n",
    "print(\"Tolerance\")\n",
    "df_my_dw_t\n",
    "hide_toggle()"
   ]
  },
  {
   "cell_type": "code",
   "execution_count": 277,
   "metadata": {},
   "outputs": [
    {
     "data": {
      "text/html": [
       "\n",
       "        <script>\n",
       "            function code_toggle_6975285740822515146() {\n",
       "                $('div.cell.code_cell.rendered.selected').find('div.input').toggle();\n",
       "            }\n",
       "\n",
       "            \n",
       "        </script>\n",
       "\n",
       "        <a href=\"javascript:code_toggle_6975285740822515146()\">Toggle show/hide</a>\n",
       "    "
      ],
      "text/plain": [
       "<IPython.core.display.HTML object>"
      ]
     },
     "execution_count": 277,
     "metadata": {},
     "output_type": "execute_result"
    }
   ],
   "source": [
    "with open('latex/mytable4.tex','w') as tf:\n",
    "    tf.write(df_my_dw_t.to_latex())\n",
    "hide_toggle()"
   ]
  },
  {
   "cell_type": "markdown",
   "metadata": {},
   "source": [
    "## Testing homoscedasticity"
   ]
  },
  {
   "cell_type": "code",
   "execution_count": 278,
   "metadata": {},
   "outputs": [],
   "source": [
    "import numpy as np\n",
    "from sklearn.linear_model import LinearRegression\n",
    "from scipy.stats.distributions import chi2"
   ]
  },
  {
   "cell_type": "code",
   "execution_count": 279,
   "metadata": {},
   "outputs": [],
   "source": [
    "def breusch_pagan_test(x, y):\n",
    "    '''\n",
    "    Breusch-Pagan test for heteroskedasticity in a linear regression model:\n",
    "    H_0 = No heteroskedasticity.\n",
    "    H_1 = Heteroskedasticity is present.\n",
    "\n",
    "    Inputs:\n",
    "    x = a numpy.ndarray containing the predictor variables. Shape = (nSamples, nPredictors).\n",
    "    y = a 1D numpy.ndarray containing the response variable. Shape = (nSamples, ).\n",
    "\n",
    "    Outputs a list containing three elements:\n",
    "    1. the Breusch-Pagan test statistic.\n",
    "    2. the p-value for the test.\n",
    "    3. the test result.\n",
    "    '''\n",
    "\n",
    "    if y.ndim != 1:\n",
    "        raise SystemExit('Error: y has more than 1 dimension.')\n",
    "    if x.shape[0] != y.shape[0]:\n",
    "        raise SystemExit('Error: the number of samples differs between x and y.')\n",
    "    else:\n",
    "        n_samples = y.shape[0]\n",
    "\n",
    "    # fit an OLS linear model to y using x:\n",
    "    lm = LinearRegression()\n",
    "    lm.fit(x, y)\n",
    "\n",
    "    # calculate the squared errors:\n",
    "    err = (y - lm.predict(x))**2\n",
    "\n",
    "    # fit an auxiliary regression to the squared errors:\n",
    "    # why?: to estimate the variance in err explained by x\n",
    "    lm.fit(x, err)\n",
    "    pred_err = lm.predict(x)\n",
    "    del lm\n",
    "\n",
    "    # calculate the coefficient of determination:\n",
    "    ss_tot = sum((err - np.mean(err))**2)\n",
    "    ss_res = sum((err - pred_err)**2)\n",
    "    r2 = 1 - (ss_res / ss_tot)\n",
    "    del err, pred_err, ss_res, ss_tot\n",
    "\n",
    "    # calculate the Lagrange multiplier:\n",
    "    LM = n_samples * r2\n",
    "    del r2\n",
    "\n",
    "    # calculate p-value. degrees of freedom = number of predictors.\n",
    "    # this is equivalent to (p - 1) parameter restrictions in Wikipedia entry.\n",
    "    pval = chi2(LM, x.shape[1])\n",
    "\n",
    "    #if pval <= 0.01:\n",
    "     #   test_result = 'Heteroskedasticity present at 99% CI.'\n",
    "    #elif pval <= 0.05:\n",
    "        #test_result = 'Heteroskedasticity present at 95% CI.'\n",
    "    #else:\n",
    "        #test_result = 'No significant heteroskedasticity.'\n",
    "    test_result = '?'\n",
    "    return [LM, pval, test_result]\n"
   ]
  },
  {
   "cell_type": "code",
   "execution_count": 280,
   "metadata": {},
   "outputs": [],
   "source": [
    "my_y = my_df_tm_modelo4[[my_dict[0]]]"
   ]
  },
  {
   "cell_type": "code",
   "execution_count": 281,
   "metadata": {},
   "outputs": [],
   "source": [
    "my_y_series = my_y.technicalDebt"
   ]
  },
  {
   "cell_type": "code",
   "execution_count": 282,
   "metadata": {},
   "outputs": [],
   "source": [
    "my_X = my_df_tm_modelo4[['leadTime', 'complexityPoints', 'totalDevelopers', 'taskScaling']]"
   ]
  },
  {
   "cell_type": "code",
   "execution_count": 283,
   "metadata": {},
   "outputs": [
    {
     "data": {
      "text/plain": [
       "[2.3261542987377553,\n",
       " <scipy.stats._distn_infrastructure.rv_frozen at 0x115a2b748>,\n",
       " '?']"
      ]
     },
     "execution_count": 283,
     "metadata": {},
     "output_type": "execute_result"
    }
   ],
   "source": [
    "breusch_pagan_test(my_X.values, my_y_series.values)"
   ]
  },
  {
   "cell_type": "markdown",
   "metadata": {},
   "source": [
    "## Testing normality\n",
    "\n",
    "<p>\n",
    "The normal distribution of residuals is tested by visually checking the normal P-P plot. The points on the plot remain close to the diagonal line, which means residuals are normally distributed. So, we do not violate the assumption of normality.\n",
    "</p>"
   ]
  },
  {
   "cell_type": "code",
   "execution_count": 284,
   "metadata": {},
   "outputs": [
    {
     "data": {
      "image/png": "[encoded data removed]",
      "text/plain": [
       "<Figure size 432x288 with 1 Axes>"
      ]
     },
     "metadata": {
      "needs_background": "light"
     },
     "output_type": "display_data"
    }
   ],
   "source": [
    "import statsmodels.api as sm\n",
    "from matplotlib import pyplot as plt\n",
    "import scipy.stats as stats\n",
    "\n",
    "# example 5\n",
    "import numpy as np\n",
    "x = residuo.values \n",
    "y = y_previsto_train\n",
    "pp_x = sm.ProbPlot(x, fit=True)\n",
    "pp_y = sm.ProbPlot(y, fit=True)\n",
    "fig = pp_x.qqplot(line='45', other=pp_y)\n",
    "h = plt.title('qqplot - compare residuo x y_previsto')\n",
    "plt.show()"
   ]
  },
  {
   "cell_type": "code",
   "execution_count": 285,
   "metadata": {},
   "outputs": [
    {
     "data": {
      "image/png": "[encoded data removed]",
      "text/plain": [
       "<Figure size 432x288 with 1 Axes>"
      ]
     },
     "metadata": {
      "needs_background": "light"
     },
     "output_type": "display_data"
    },
    {
     "data": {
      "image/png": "[encoded data removed]",
      "text/plain": [
       "<Figure size 432x288 with 1 Axes>"
      ]
     },
     "metadata": {
      "needs_background": "light"
     },
     "output_type": "display_data"
    }
   ],
   "source": [
    "# example 7\n",
    "x = residuo.values \n",
    "y = y_previsto_train\n",
    "pp_x = sm.ProbPlot(x, fit=True)\n",
    "pp_y = sm.ProbPlot(y, fit=True)\n",
    "fig = pp_y.ppplot(line='45', other=pp_x)\n",
    "h = plt.title('ppplot - compare residuo x y_previsto, other=pp_x')\n",
    "\n",
    "fig = pp_x.ppplot(line='45', other=pp_y)\n",
    "h = plt.title('ppplot - compare residuo x y_previsto, other=pp_y')\n",
    "plt.show()"
   ]
  },
  {
   "cell_type": "code",
   "execution_count": 286,
   "metadata": {},
   "outputs": [
    {
     "data": {
      "text/plain": [
       "array([   59.37066873,  1535.63901796,  -320.34685819,    78.40796687,\n",
       "        -703.32010189,  -876.0674148 ,  -565.10949271,   214.8100728 ,\n",
       "        1971.56011564,  -435.03193745,   107.67603779,  -182.88429535,\n",
       "        -412.55660813,   -70.35340307,  -213.90663823,  -345.8684254 ,\n",
       "        -482.2615027 ,     7.43437083,  -761.0328069 ,  1241.64679812,\n",
       "       -1185.19903164,  1337.39346773])"
      ]
     },
     "execution_count": 286,
     "metadata": {},
     "output_type": "execute_result"
    }
   ],
   "source": [
    "residuo.values"
   ]
  },
  {
   "cell_type": "code",
   "execution_count": 287,
   "metadata": {},
   "outputs": [
    {
     "data": {
      "text/plain": [
       "array([ 883.62933127, 1793.36098204, 4775.34685819,  -41.40796687,\n",
       "        905.32010189,  910.0674148 , 1441.10949271,   45.1899272 ,\n",
       "       1862.43988436,  439.23193745, 1007.32396221,  808.88429535,\n",
       "        432.55660813, 3340.35340307,  879.90663823, 1238.8684254 ,\n",
       "       2956.2615027 , 1635.56562917, 1557.0328069 , 1843.35320188,\n",
       "       1318.19903164,  318.60653227])"
      ]
     },
     "execution_count": 287,
     "metadata": {},
     "output_type": "execute_result"
    }
   ],
   "source": [
    "y_previsto_train"
   ]
  },
  {
   "cell_type": "code",
   "execution_count": 288,
   "metadata": {},
   "outputs": [
    {
     "data": {
      "text/plain": [
       "array([9.430e+02, 3.329e+03, 4.455e+03, 3.700e+01, 2.020e+02, 3.400e+01,\n",
       "       8.760e+02, 2.600e+02, 3.834e+03, 4.200e+00, 1.115e+03, 6.260e+02,\n",
       "       2.000e+01, 3.270e+03, 6.660e+02, 8.930e+02, 2.474e+03, 1.643e+03,\n",
       "       7.960e+02, 3.085e+03, 1.330e+02, 1.656e+03])"
      ]
     },
     "execution_count": 288,
     "metadata": {},
     "output_type": "execute_result"
    }
   ],
   "source": [
    "y_train.values"
   ]
  },
  {
   "cell_type": "code",
   "execution_count": null,
   "metadata": {},
   "outputs": [],
   "source": []
  }
 ],
 "metadata": {
  "kernelspec": {
   "display_name": "Python 3",
   "language": "python",
   "name": "python3"
  },
  "language_info": {
   "codemirror_mode": {
    "name": "ipython",
    "version": 3
   },
   "file_extension": ".py",
   "mimetype": "text/x-python",
   "name": "python",
   "nbconvert_exporter": "python",
   "pygments_lexer": "ipython3",
   "version": "3.6.3"
  }
 },
 "nbformat": 4,
 "nbformat_minor": 2
}
