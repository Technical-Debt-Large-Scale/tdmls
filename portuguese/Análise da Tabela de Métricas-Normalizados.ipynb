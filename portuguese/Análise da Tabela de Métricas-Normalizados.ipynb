{
 "cells": [
  {
   "cell_type": "code",
   "execution_count": 142,
   "metadata": {
    "scrolled": true
   },
   "outputs": [],
   "source": [
    "%%capture\n",
    "%run 'main.py'"
   ]
  },
  {
   "cell_type": "markdown",
   "metadata": {},
   "source": [
    "# 1. O Dataset e o Projeto\n",
    "\n",
    "## Descrição \n",
    "<p>Análise dos dados referentes as métricas do projeto X de Dívida Técnica da Ericson. The archival data was collected from 33 product customization tasks (PCs) of this studied project between 2013 and 2016.\n",
    "</p>\n",
    "\n",
    "## Dados\n",
    "<ul>\n",
    "    <li>Tabela de Métricas</li>\n",
    "    <li>Tabela do site India</li>\n",
    "    <li>Tabela do site Sweden</li>\n",
    "    <li>Tabela do site Italy</li>\n",
    "    <li>Tabela do site USA</li>\n",
    "</ul>"
   ]
  },
  {
   "cell_type": "markdown",
   "metadata": {},
   "source": [
    "### Importando bibliotecas extras (geração de gráficos e análises estatísticas)"
   ]
  },
  {
   "cell_type": "code",
   "execution_count": 143,
   "metadata": {},
   "outputs": [],
   "source": [
    "# importando o pyplot\n",
    "from matplotlib import pyplot\n",
    "# importando o stats \n",
    "from scipy import stats"
   ]
  },
  {
   "cell_type": "code",
   "execution_count": 144,
   "metadata": {},
   "outputs": [
    {
     "name": "stdout",
     "output_type": "stream",
     "text": [
      "<class 'pandas.core.frame.DataFrame'>\n",
      "Int64Index: 32 entries, 0 to 31\n",
      "Data columns (total 12 columns):\n",
      "uniqueID              32 non-null object\n",
      "ID                    32 non-null object\n",
      "location              32 non-null object\n",
      "maturity              32 non-null float64\n",
      "totalDevelopers       32 non-null float64\n",
      "complexityPoints      32 non-null float64\n",
      "start                 32 non-null object\n",
      "end                   32 non-null object\n",
      "leadTime              32 non-null float64\n",
      "technicalDebt         32 non-null float64\n",
      "taskScaling           32 non-null float64\n",
      "taskGlobalDistance    32 non-null float64\n",
      "dtypes: float64(7), object(5)\n",
      "memory usage: 4.5+ KB\n"
     ]
    }
   ],
   "source": [
    "# 1. Tabela de Métricas\n",
    "df_all_metrics.info()"
   ]
  },
  {
   "cell_type": "markdown",
   "metadata": {},
   "source": [
    "## 1.1 Amostra de Dados"
   ]
  },
  {
   "cell_type": "code",
   "execution_count": 145,
   "metadata": {},
   "outputs": [
    {
     "data": {
      "text/html": [
       "<div>\n",
       "<style scoped>\n",
       "    .dataframe tbody tr th:only-of-type {\n",
       "        vertical-align: middle;\n",
       "    }\n",
       "\n",
       "    .dataframe tbody tr th {\n",
       "        vertical-align: top;\n",
       "    }\n",
       "\n",
       "    .dataframe thead th {\n",
       "        text-align: right;\n",
       "    }\n",
       "</style>\n",
       "<table border=\"1\" class=\"dataframe\">\n",
       "  <thead>\n",
       "    <tr style=\"text-align: right;\">\n",
       "      <th></th>\n",
       "      <th>uniqueID</th>\n",
       "      <th>ID</th>\n",
       "      <th>location</th>\n",
       "      <th>maturity</th>\n",
       "      <th>totalDevelopers</th>\n",
       "      <th>complexityPoints</th>\n",
       "      <th>start</th>\n",
       "      <th>end</th>\n",
       "      <th>leadTime</th>\n",
       "      <th>technicalDebt</th>\n",
       "      <th>taskScaling</th>\n",
       "      <th>taskGlobalDistance</th>\n",
       "    </tr>\n",
       "  </thead>\n",
       "  <tbody>\n",
       "    <tr>\n",
       "      <th>0</th>\n",
       "      <td>PC:14187</td>\n",
       "      <td>TURK-372</td>\n",
       "      <td>India</td>\n",
       "      <td>4.0</td>\n",
       "      <td>13.0</td>\n",
       "      <td>60.0</td>\n",
       "      <td>2014-08-11 00:00:00</td>\n",
       "      <td>2015-02-06 00:00:00</td>\n",
       "      <td>179.0</td>\n",
       "      <td>796.0</td>\n",
       "      <td>0.216667</td>\n",
       "      <td>1.250000</td>\n",
       "    </tr>\n",
       "    <tr>\n",
       "      <th>1</th>\n",
       "      <td>PC:15448</td>\n",
       "      <td>BHA-328</td>\n",
       "      <td>Virtual</td>\n",
       "      <td>4.0</td>\n",
       "      <td>25.0</td>\n",
       "      <td>170.0</td>\n",
       "      <td>2015-01-19 00:00:00</td>\n",
       "      <td>2015-06-05 00:00:00</td>\n",
       "      <td>137.0</td>\n",
       "      <td>2474.0</td>\n",
       "      <td>0.147059</td>\n",
       "      <td>6.244748</td>\n",
       "    </tr>\n",
       "    <tr>\n",
       "      <th>2</th>\n",
       "      <td>PC:13350</td>\n",
       "      <td>TELSTRA-038</td>\n",
       "      <td>India</td>\n",
       "      <td>4.0</td>\n",
       "      <td>7.0</td>\n",
       "      <td>35.0</td>\n",
       "      <td>2015-02-09 00:00:00</td>\n",
       "      <td>2015-04-02 00:00:00</td>\n",
       "      <td>52.0</td>\n",
       "      <td>202.0</td>\n",
       "      <td>0.200000</td>\n",
       "      <td>3.463991</td>\n",
       "    </tr>\n",
       "    <tr>\n",
       "      <th>3</th>\n",
       "      <td>PC:13708</td>\n",
       "      <td>TURK-362</td>\n",
       "      <td>India</td>\n",
       "      <td>4.0</td>\n",
       "      <td>2.0</td>\n",
       "      <td>15.0</td>\n",
       "      <td>2015-04-27 00:00:00</td>\n",
       "      <td>2015-06-05 00:00:00</td>\n",
       "      <td>39.0</td>\n",
       "      <td>0.0</td>\n",
       "      <td>0.133333</td>\n",
       "      <td>3.463991</td>\n",
       "    </tr>\n",
       "    <tr>\n",
       "      <th>4</th>\n",
       "      <td>PC:13756</td>\n",
       "      <td>IDEA-173</td>\n",
       "      <td>India</td>\n",
       "      <td>4.0</td>\n",
       "      <td>4.0</td>\n",
       "      <td>25.0</td>\n",
       "      <td>2015-04-27 00:00:00</td>\n",
       "      <td>2015-06-12 00:00:00</td>\n",
       "      <td>46.0</td>\n",
       "      <td>626.0</td>\n",
       "      <td>0.160000</td>\n",
       "      <td>3.463991</td>\n",
       "    </tr>\n",
       "  </tbody>\n",
       "</table>\n",
       "</div>"
      ],
      "text/plain": [
       "   uniqueID           ID location  maturity  totalDevelopers  \\\n",
       "0  PC:14187     TURK-372    India       4.0             13.0   \n",
       "1  PC:15448      BHA-328  Virtual       4.0             25.0   \n",
       "2  PC:13350  TELSTRA-038    India       4.0              7.0   \n",
       "3  PC:13708     TURK-362    India       4.0              2.0   \n",
       "4  PC:13756     IDEA-173    India       4.0              4.0   \n",
       "\n",
       "   complexityPoints                start                  end  leadTime  \\\n",
       "0              60.0  2014-08-11 00:00:00  2015-02-06 00:00:00     179.0   \n",
       "1             170.0  2015-01-19 00:00:00  2015-06-05 00:00:00     137.0   \n",
       "2              35.0  2015-02-09 00:00:00  2015-04-02 00:00:00      52.0   \n",
       "3              15.0  2015-04-27 00:00:00  2015-06-05 00:00:00      39.0   \n",
       "4              25.0  2015-04-27 00:00:00  2015-06-12 00:00:00      46.0   \n",
       "\n",
       "   technicalDebt  taskScaling  taskGlobalDistance  \n",
       "0          796.0     0.216667            1.250000  \n",
       "1         2474.0     0.147059            6.244748  \n",
       "2          202.0     0.200000            3.463991  \n",
       "3            0.0     0.133333            3.463991  \n",
       "4          626.0     0.160000            3.463991  "
      ]
     },
     "execution_count": 145,
     "metadata": {},
     "output_type": "execute_result"
    }
   ],
   "source": [
    "df_all_metrics.head(5)"
   ]
  },
  {
   "cell_type": "code",
   "execution_count": 146,
   "metadata": {},
   "outputs": [],
   "source": [
    "location = df_all_metrics.location.unique()"
   ]
  },
  {
   "cell_type": "code",
   "execution_count": 147,
   "metadata": {},
   "outputs": [
    {
     "name": "stdout",
     "output_type": "stream",
     "text": [
      "Countries evaluated in the case study: \n",
      "India\n",
      "Virtual\n",
      "Italy\n",
      "USA\n",
      "Sweden\n"
     ]
    }
   ],
   "source": [
    "print(\"Countries evaluated in the case study: \")\n",
    "for each in location:\n",
    "    print(each)"
   ]
  },
  {
   "cell_type": "markdown",
   "metadata": {},
   "source": [
    "## 1.2 Estatísticas da Tabela de Métricas"
   ]
  },
  {
   "cell_type": "code",
   "execution_count": 148,
   "metadata": {},
   "outputs": [
    {
     "data": {
      "text/html": [
       "<div>\n",
       "<style scoped>\n",
       "    .dataframe tbody tr th:only-of-type {\n",
       "        vertical-align: middle;\n",
       "    }\n",
       "\n",
       "    .dataframe tbody tr th {\n",
       "        vertical-align: top;\n",
       "    }\n",
       "\n",
       "    .dataframe thead th {\n",
       "        text-align: right;\n",
       "    }\n",
       "</style>\n",
       "<table border=\"1\" class=\"dataframe\">\n",
       "  <thead>\n",
       "    <tr style=\"text-align: right;\">\n",
       "      <th></th>\n",
       "      <th>maturity</th>\n",
       "      <th>totalDevelopers</th>\n",
       "      <th>complexityPoints</th>\n",
       "      <th>leadTime</th>\n",
       "      <th>technicalDebt</th>\n",
       "      <th>taskScaling</th>\n",
       "      <th>taskGlobalDistance</th>\n",
       "    </tr>\n",
       "  </thead>\n",
       "  <tbody>\n",
       "    <tr>\n",
       "      <th>count</th>\n",
       "      <td>32.00</td>\n",
       "      <td>32.00</td>\n",
       "      <td>32.00</td>\n",
       "      <td>32.00</td>\n",
       "      <td>32.00</td>\n",
       "      <td>32.00</td>\n",
       "      <td>32.00</td>\n",
       "    </tr>\n",
       "    <tr>\n",
       "      <th>mean</th>\n",
       "      <td>3.00</td>\n",
       "      <td>6.31</td>\n",
       "      <td>78.28</td>\n",
       "      <td>77.03</td>\n",
       "      <td>1248.13</td>\n",
       "      <td>0.15</td>\n",
       "      <td>3.34</td>\n",
       "    </tr>\n",
       "    <tr>\n",
       "      <th>std</th>\n",
       "      <td>1.68</td>\n",
       "      <td>4.24</td>\n",
       "      <td>115.16</td>\n",
       "      <td>36.89</td>\n",
       "      <td>1468.19</td>\n",
       "      <td>0.11</td>\n",
       "      <td>1.46</td>\n",
       "    </tr>\n",
       "    <tr>\n",
       "      <th>min</th>\n",
       "      <td>0.00</td>\n",
       "      <td>2.00</td>\n",
       "      <td>10.00</td>\n",
       "      <td>18.00</td>\n",
       "      <td>0.00</td>\n",
       "      <td>0.01</td>\n",
       "      <td>0.00</td>\n",
       "    </tr>\n",
       "    <tr>\n",
       "      <th>25%</th>\n",
       "      <td>2.00</td>\n",
       "      <td>4.00</td>\n",
       "      <td>23.75</td>\n",
       "      <td>50.75</td>\n",
       "      <td>112.75</td>\n",
       "      <td>0.08</td>\n",
       "      <td>3.46</td>\n",
       "    </tr>\n",
       "    <tr>\n",
       "      <th>50%</th>\n",
       "      <td>4.00</td>\n",
       "      <td>6.00</td>\n",
       "      <td>42.50</td>\n",
       "      <td>67.00</td>\n",
       "      <td>703.00</td>\n",
       "      <td>0.12</td>\n",
       "      <td>3.46</td>\n",
       "    </tr>\n",
       "    <tr>\n",
       "      <th>75%</th>\n",
       "      <td>4.00</td>\n",
       "      <td>7.25</td>\n",
       "      <td>96.25</td>\n",
       "      <td>102.00</td>\n",
       "      <td>1686.50</td>\n",
       "      <td>0.20</td>\n",
       "      <td>3.46</td>\n",
       "    </tr>\n",
       "    <tr>\n",
       "      <th>max</th>\n",
       "      <td>4.00</td>\n",
       "      <td>25.00</td>\n",
       "      <td>600.00</td>\n",
       "      <td>179.00</td>\n",
       "      <td>5429.00</td>\n",
       "      <td>0.47</td>\n",
       "      <td>6.24</td>\n",
       "    </tr>\n",
       "  </tbody>\n",
       "</table>\n",
       "</div>"
      ],
      "text/plain": [
       "       maturity  totalDevelopers  complexityPoints  leadTime  technicalDebt  \\\n",
       "count     32.00            32.00             32.00     32.00          32.00   \n",
       "mean       3.00             6.31             78.28     77.03        1248.13   \n",
       "std        1.68             4.24            115.16     36.89        1468.19   \n",
       "min        0.00             2.00             10.00     18.00           0.00   \n",
       "25%        2.00             4.00             23.75     50.75         112.75   \n",
       "50%        4.00             6.00             42.50     67.00         703.00   \n",
       "75%        4.00             7.25             96.25    102.00        1686.50   \n",
       "max        4.00            25.00            600.00    179.00        5429.00   \n",
       "\n",
       "       taskScaling  taskGlobalDistance  \n",
       "count        32.00               32.00  \n",
       "mean          0.15                3.34  \n",
       "std           0.11                1.46  \n",
       "min           0.01                0.00  \n",
       "25%           0.08                3.46  \n",
       "50%           0.12                3.46  \n",
       "75%           0.20                3.46  \n",
       "max           0.47                6.24  "
      ]
     },
     "execution_count": 148,
     "metadata": {},
     "output_type": "execute_result"
    }
   ],
   "source": [
    "df_all_metrics.describe().round(2)"
   ]
  },
  {
   "cell_type": "markdown",
   "metadata": {},
   "source": [
    "### Matriz de correlação\n",
    "\n",
    "<p style='font-size: 18px; line-height: 2; margin: 10px 50px; text-align: justify;'>O <b>coeficiente de correlação</b> é uma medida de associação linear entre duas variáveis e situa-se entre <b>-1</b> e <b>+1</b> sendo que <b>-1</b> indica associação negativa perfeita e <b>+1</b> indica associação positiva perfeita.</p>"
   ]
  },
  {
   "cell_type": "code",
   "execution_count": 149,
   "metadata": {},
   "outputs": [
    {
     "data": {
      "text/html": [
       "<div>\n",
       "<style scoped>\n",
       "    .dataframe tbody tr th:only-of-type {\n",
       "        vertical-align: middle;\n",
       "    }\n",
       "\n",
       "    .dataframe tbody tr th {\n",
       "        vertical-align: top;\n",
       "    }\n",
       "\n",
       "    .dataframe thead th {\n",
       "        text-align: right;\n",
       "    }\n",
       "</style>\n",
       "<table border=\"1\" class=\"dataframe\">\n",
       "  <thead>\n",
       "    <tr style=\"text-align: right;\">\n",
       "      <th></th>\n",
       "      <th>maturity</th>\n",
       "      <th>totalDevelopers</th>\n",
       "      <th>complexityPoints</th>\n",
       "      <th>leadTime</th>\n",
       "      <th>technicalDebt</th>\n",
       "      <th>taskScaling</th>\n",
       "      <th>taskGlobalDistance</th>\n",
       "    </tr>\n",
       "  </thead>\n",
       "  <tbody>\n",
       "    <tr>\n",
       "      <th>maturity</th>\n",
       "      <td>1.0000</td>\n",
       "      <td>0.3162</td>\n",
       "      <td>-0.2918</td>\n",
       "      <td>0.0119</td>\n",
       "      <td>-0.0476</td>\n",
       "      <td>0.5259</td>\n",
       "      <td>0.2134</td>\n",
       "    </tr>\n",
       "    <tr>\n",
       "      <th>totalDevelopers</th>\n",
       "      <td>0.3162</td>\n",
       "      <td>1.0000</td>\n",
       "      <td>0.2966</td>\n",
       "      <td>0.5913</td>\n",
       "      <td>0.3433</td>\n",
       "      <td>0.0765</td>\n",
       "      <td>0.2219</td>\n",
       "    </tr>\n",
       "    <tr>\n",
       "      <th>complexityPoints</th>\n",
       "      <td>-0.2918</td>\n",
       "      <td>0.2966</td>\n",
       "      <td>1.0000</td>\n",
       "      <td>0.3300</td>\n",
       "      <td>0.6088</td>\n",
       "      <td>-0.4695</td>\n",
       "      <td>-0.2742</td>\n",
       "    </tr>\n",
       "    <tr>\n",
       "      <th>leadTime</th>\n",
       "      <td>0.0119</td>\n",
       "      <td>0.5913</td>\n",
       "      <td>0.3300</td>\n",
       "      <td>1.0000</td>\n",
       "      <td>0.4088</td>\n",
       "      <td>-0.2425</td>\n",
       "      <td>-0.1703</td>\n",
       "    </tr>\n",
       "    <tr>\n",
       "      <th>technicalDebt</th>\n",
       "      <td>-0.0476</td>\n",
       "      <td>0.3433</td>\n",
       "      <td>0.6088</td>\n",
       "      <td>0.4088</td>\n",
       "      <td>1.0000</td>\n",
       "      <td>-0.4190</td>\n",
       "      <td>-0.0258</td>\n",
       "    </tr>\n",
       "    <tr>\n",
       "      <th>taskScaling</th>\n",
       "      <td>0.5259</td>\n",
       "      <td>0.0765</td>\n",
       "      <td>-0.4695</td>\n",
       "      <td>-0.2425</td>\n",
       "      <td>-0.4190</td>\n",
       "      <td>1.0000</td>\n",
       "      <td>0.2017</td>\n",
       "    </tr>\n",
       "    <tr>\n",
       "      <th>taskGlobalDistance</th>\n",
       "      <td>0.2134</td>\n",
       "      <td>0.2219</td>\n",
       "      <td>-0.2742</td>\n",
       "      <td>-0.1703</td>\n",
       "      <td>-0.0258</td>\n",
       "      <td>0.2017</td>\n",
       "      <td>1.0000</td>\n",
       "    </tr>\n",
       "  </tbody>\n",
       "</table>\n",
       "</div>"
      ],
      "text/plain": [
       "                    maturity  totalDevelopers  complexityPoints  leadTime  \\\n",
       "maturity              1.0000           0.3162           -0.2918    0.0119   \n",
       "totalDevelopers       0.3162           1.0000            0.2966    0.5913   \n",
       "complexityPoints     -0.2918           0.2966            1.0000    0.3300   \n",
       "leadTime              0.0119           0.5913            0.3300    1.0000   \n",
       "technicalDebt        -0.0476           0.3433            0.6088    0.4088   \n",
       "taskScaling           0.5259           0.0765           -0.4695   -0.2425   \n",
       "taskGlobalDistance    0.2134           0.2219           -0.2742   -0.1703   \n",
       "\n",
       "                    technicalDebt  taskScaling  taskGlobalDistance  \n",
       "maturity                  -0.0476       0.5259              0.2134  \n",
       "totalDevelopers            0.3433       0.0765              0.2219  \n",
       "complexityPoints           0.6088      -0.4695             -0.2742  \n",
       "leadTime                   0.4088      -0.2425             -0.1703  \n",
       "technicalDebt              1.0000      -0.4190             -0.0258  \n",
       "taskScaling               -0.4190       1.0000              0.2017  \n",
       "taskGlobalDistance        -0.0258       0.2017              1.0000  "
      ]
     },
     "execution_count": 149,
     "metadata": {},
     "output_type": "execute_result"
    }
   ],
   "source": [
    "df_all_metrics.corr().round(4)"
   ]
  },
  {
   "cell_type": "markdown",
   "metadata": {},
   "source": [
    "<p style='font-size: 18px; line-height: 2; margin: 10px 50px; text-align: justify;'>\n",
    "The most common correlation coefficient is the Pearson correlation, that uses p or r, measuring the degree of correlation, which is \n",
    "sensitive only to a linear relationship between two variables, however, it was chosen Spearmans rank correlation that have been developed \n",
    "to be more robust than Pearsons, that is, more sensitive to nonlinear relationships, because TD does not follow a Normal Distribution.    \n",
    "   </p>"
   ]
  },
  {
   "cell_type": "markdown",
   "metadata": {},
   "source": [
    "<p style='font-size: 18px; line-height: 2; margin: 10px 50px; text-align: justify;'>\n",
    "    Pela matriz de correlação, considerando a variável <b>technicalDebt</b>, pode-se perceber que as features <b>totalDevelopers</b>, <b>complexityPoints</b>, <b>leadTime</b> e <b>taskScaling</b> podem ter um bom nível de correlação\n",
    "</p>"
   ]
  },
  {
   "cell_type": "code",
   "execution_count": 150,
   "metadata": {},
   "outputs": [
    {
     "data": {
      "image/png": "[encoded data removed]",
      "text/plain": [
       "<Figure size 1260x1260 with 56 Axes>"
      ]
     },
     "metadata": {
      "needs_background": "light"
     },
     "output_type": "display_data"
    }
   ],
   "source": [
    "sns.pairplot(df_all_metrics)\n",
    "plt.show()"
   ]
  },
  {
   "cell_type": "markdown",
   "metadata": {},
   "source": [
    "### Plotando a variável *dependente* (y)\n",
    "(pontos de Dívida Técnica ao longo da evolução (em dias) do software)"
   ]
  },
  {
   "cell_type": "code",
   "execution_count": 151,
   "metadata": {},
   "outputs": [
    {
     "data": {
      "image/png": "[encoded data removed]",
      "text/plain": [
       "<Figure size 1440x432 with 1 Axes>"
      ]
     },
     "metadata": {
      "needs_background": "light"
     },
     "output_type": "display_data"
    }
   ],
   "source": [
    "fig, ax = pyplot.subplots(figsize=(20,6))\n",
    "\n",
    "ax.set_title('Dívida Técnica', fontsize=20)\n",
    "ax.set_ylabel('Pontos', fontsize=16)\n",
    "ax.set_xlabel('Meses', fontsize=16)\n",
    "ax = df_all_metrics['technicalDebt'].plot(fontsize=14)"
   ]
  },
  {
   "cell_type": "code",
   "execution_count": 152,
   "metadata": {},
   "outputs": [],
   "source": [
    "def show_box_plot(feature):\n",
    "  sns.boxplot(data=df_all_metrics[feature], orient='h')\n",
    "\n",
    "def my_describe(feature):\n",
    "  my_data = df_all_metrics[feature]\n",
    "  print(\"Estatísticas dos dados de \" + feature)\n",
    "  print(my_data.describe().round(2))\n",
    "\n",
    "def my_outliers(feature, limite):\n",
    "  my_data = df_all_metrics[feature]\n",
    "  print(\"Outliers dos dados de \" + feature)\n",
    "  print(my_data[my_data > limite])"
   ]
  },
  {
   "cell_type": "code",
   "execution_count": 153,
   "metadata": {},
   "outputs": [],
   "source": [
    "def show_distribution(feature):\n",
    "  ax = sns.distplot(df_all_metrics[feature])\n",
    "  ax.figure.set_size_inches(12, 6)\n",
    "  ax.set_title('Distrubuição de Frequências', fontsize=20)\n",
    "  ax.set_ylabel(feature, fontsize=16)\n",
    "  ax"
   ]
  },
  {
   "cell_type": "markdown",
   "metadata": {},
   "source": [
    "### Box plot da variável *dependente* (y)"
   ]
  },
  {
   "cell_type": "code",
   "execution_count": 154,
   "metadata": {},
   "outputs": [
    {
     "data": {
      "image/png": "[encoded data removed]",
      "text/plain": [
       "<Figure size 432x288 with 1 Axes>"
      ]
     },
     "metadata": {
      "needs_background": "light"
     },
     "output_type": "display_data"
    }
   ],
   "source": [
    "show_box_plot('technicalDebt')"
   ]
  },
  {
   "cell_type": "code",
   "execution_count": 155,
   "metadata": {},
   "outputs": [
    {
     "name": "stdout",
     "output_type": "stream",
     "text": [
      "Estatísticas dos dados de technicalDebt\n",
      "count      32.00\n",
      "mean     1248.13\n",
      "std      1468.19\n",
      "min         0.00\n",
      "25%       112.75\n",
      "50%       703.00\n",
      "75%      1686.50\n",
      "max      5429.00\n",
      "Name: technicalDebt, dtype: float64\n"
     ]
    }
   ],
   "source": [
    "my_describe('technicalDebt')"
   ]
  },
  {
   "cell_type": "code",
   "execution_count": 156,
   "metadata": {},
   "outputs": [
    {
     "name": "stdout",
     "output_type": "stream",
     "text": [
      "Outliers dos dados de technicalDebt\n",
      "12    5429.0\n",
      "30    4455.0\n",
      "Name: technicalDebt, dtype: float64\n"
     ]
    }
   ],
   "source": [
    "my_outliers('technicalDebt', 4000)"
   ]
  },
  {
   "cell_type": "markdown",
   "metadata": {},
   "source": [
    "### Box plot da feature1 (x1)"
   ]
  },
  {
   "cell_type": "code",
   "execution_count": 157,
   "metadata": {},
   "outputs": [],
   "source": [
    "feature1 = 'leadTime'"
   ]
  },
  {
   "cell_type": "code",
   "execution_count": 158,
   "metadata": {},
   "outputs": [
    {
     "data": {
      "image/png": "[encoded data removed]",
      "text/plain": [
       "<Figure size 432x288 with 1 Axes>"
      ]
     },
     "metadata": {
      "needs_background": "light"
     },
     "output_type": "display_data"
    }
   ],
   "source": [
    "show_box_plot(feature1)"
   ]
  },
  {
   "cell_type": "code",
   "execution_count": 159,
   "metadata": {},
   "outputs": [
    {
     "name": "stdout",
     "output_type": "stream",
     "text": [
      "Estatísticas dos dados de leadTime\n",
      "count     32.00\n",
      "mean      77.03\n",
      "std       36.89\n",
      "min       18.00\n",
      "25%       50.75\n",
      "50%       67.00\n",
      "75%      102.00\n",
      "max      179.00\n",
      "Name: leadTime, dtype: float64\n"
     ]
    }
   ],
   "source": [
    "my_describe(feature1)"
   ]
  },
  {
   "cell_type": "code",
   "execution_count": 160,
   "metadata": {},
   "outputs": [
    {
     "name": "stdout",
     "output_type": "stream",
     "text": [
      "Outliers dos dados de leadTime\n",
      "0    179.0\n",
      "Name: leadTime, dtype: float64\n"
     ]
    }
   ],
   "source": [
    "my_outliers(feature1, 160)"
   ]
  },
  {
   "cell_type": "markdown",
   "metadata": {},
   "source": [
    "### Box plot da feature 2 (x2)"
   ]
  },
  {
   "cell_type": "code",
   "execution_count": 161,
   "metadata": {},
   "outputs": [],
   "source": [
    "feature2 = 'complexityPoints'"
   ]
  },
  {
   "cell_type": "code",
   "execution_count": 162,
   "metadata": {},
   "outputs": [
    {
     "data": {
      "image/png": "[encoded data removed]",
      "text/plain": [
       "<Figure size 432x288 with 1 Axes>"
      ]
     },
     "metadata": {
      "needs_background": "light"
     },
     "output_type": "display_data"
    }
   ],
   "source": [
    "show_box_plot(feature2)"
   ]
  },
  {
   "cell_type": "code",
   "execution_count": 163,
   "metadata": {},
   "outputs": [
    {
     "name": "stdout",
     "output_type": "stream",
     "text": [
      "Estatísticas dos dados de complexityPoints\n",
      "count     32.00\n",
      "mean      78.28\n",
      "std      115.16\n",
      "min       10.00\n",
      "25%       23.75\n",
      "50%       42.50\n",
      "75%       96.25\n",
      "max      600.00\n",
      "Name: complexityPoints, dtype: float64\n"
     ]
    }
   ],
   "source": [
    "my_describe(feature2)"
   ]
  },
  {
   "cell_type": "code",
   "execution_count": 164,
   "metadata": {},
   "outputs": [
    {
     "name": "stdout",
     "output_type": "stream",
     "text": [
      "Outliers dos dados de complexityPoints\n",
      "8     350.0\n",
      "30    600.0\n",
      "Name: complexityPoints, dtype: float64\n"
     ]
    }
   ],
   "source": [
    "my_outliers(feature2, 300)"
   ]
  },
  {
   "cell_type": "markdown",
   "metadata": {},
   "source": [
    "### Box plot da feature 3 (x3)"
   ]
  },
  {
   "cell_type": "code",
   "execution_count": 165,
   "metadata": {},
   "outputs": [],
   "source": [
    "feature3 = 'maturity'"
   ]
  },
  {
   "cell_type": "code",
   "execution_count": 166,
   "metadata": {},
   "outputs": [
    {
     "data": {
      "image/png": "[encoded data removed]",
      "text/plain": [
       "<Figure size 432x288 with 1 Axes>"
      ]
     },
     "metadata": {
      "needs_background": "light"
     },
     "output_type": "display_data"
    }
   ],
   "source": [
    "show_box_plot(feature3)"
   ]
  },
  {
   "cell_type": "code",
   "execution_count": 167,
   "metadata": {},
   "outputs": [
    {
     "name": "stdout",
     "output_type": "stream",
     "text": [
      "Estatísticas dos dados de maturity\n",
      "count    32.00\n",
      "mean      3.00\n",
      "std       1.68\n",
      "min       0.00\n",
      "25%       2.00\n",
      "50%       4.00\n",
      "75%       4.00\n",
      "max       4.00\n",
      "Name: maturity, dtype: float64\n"
     ]
    }
   ],
   "source": [
    "my_describe(feature3)"
   ]
  },
  {
   "cell_type": "markdown",
   "metadata": {},
   "source": [
    "### Box plot da feature 4 (x4)"
   ]
  },
  {
   "cell_type": "code",
   "execution_count": 168,
   "metadata": {},
   "outputs": [],
   "source": [
    "feature4 = 'taskGlobalDistance'"
   ]
  },
  {
   "cell_type": "code",
   "execution_count": 169,
   "metadata": {},
   "outputs": [
    {
     "data": {
      "image/png": "[encoded data removed]",
      "text/plain": [
       "<Figure size 432x288 with 1 Axes>"
      ]
     },
     "metadata": {
      "needs_background": "light"
     },
     "output_type": "display_data"
    }
   ],
   "source": [
    "show_box_plot(feature4)"
   ]
  },
  {
   "cell_type": "code",
   "execution_count": 170,
   "metadata": {},
   "outputs": [
    {
     "name": "stdout",
     "output_type": "stream",
     "text": [
      "Estatísticas dos dados de taskGlobalDistance\n",
      "count    32.00\n",
      "mean      3.34\n",
      "std       1.46\n",
      "min       0.00\n",
      "25%       3.46\n",
      "50%       3.46\n",
      "75%       3.46\n",
      "max       6.24\n",
      "Name: taskGlobalDistance, dtype: float64\n"
     ]
    }
   ],
   "source": [
    "my_describe(feature4)"
   ]
  },
  {
   "cell_type": "markdown",
   "metadata": {},
   "source": [
    "### Box plot da feature 5 (x5)"
   ]
  },
  {
   "cell_type": "code",
   "execution_count": 171,
   "metadata": {},
   "outputs": [],
   "source": [
    "feature5 = 'taskScaling'"
   ]
  },
  {
   "cell_type": "code",
   "execution_count": 172,
   "metadata": {},
   "outputs": [
    {
     "data": {
      "image/png": "[encoded data removed]",
      "text/plain": [
       "<Figure size 432x288 with 1 Axes>"
      ]
     },
     "metadata": {
      "needs_background": "light"
     },
     "output_type": "display_data"
    }
   ],
   "source": [
    "show_box_plot(feature5)"
   ]
  },
  {
   "cell_type": "code",
   "execution_count": 173,
   "metadata": {},
   "outputs": [
    {
     "name": "stdout",
     "output_type": "stream",
     "text": [
      "Estatísticas dos dados de taskScaling\n",
      "count    32.00\n",
      "mean      0.15\n",
      "std       0.11\n",
      "min       0.01\n",
      "25%       0.08\n",
      "50%       0.12\n",
      "75%       0.20\n",
      "max       0.47\n",
      "Name: taskScaling, dtype: float64\n"
     ]
    }
   ],
   "source": [
    "my_describe(feature5)"
   ]
  },
  {
   "cell_type": "markdown",
   "metadata": {},
   "source": [
    "### Box plot da feature 6 (x6)"
   ]
  },
  {
   "cell_type": "code",
   "execution_count": 174,
   "metadata": {},
   "outputs": [],
   "source": [
    "feature6 = 'totalDevelopers'"
   ]
  },
  {
   "cell_type": "code",
   "execution_count": 175,
   "metadata": {},
   "outputs": [
    {
     "data": {
      "image/png": "[encoded data removed]",
      "text/plain": [
       "<Figure size 432x288 with 1 Axes>"
      ]
     },
     "metadata": {
      "needs_background": "light"
     },
     "output_type": "display_data"
    }
   ],
   "source": [
    "show_box_plot(feature6)"
   ]
  },
  {
   "cell_type": "code",
   "execution_count": 176,
   "metadata": {},
   "outputs": [
    {
     "name": "stdout",
     "output_type": "stream",
     "text": [
      "Estatísticas dos dados de totalDevelopers\n",
      "count    32.00\n",
      "mean      6.31\n",
      "std       4.24\n",
      "min       2.00\n",
      "25%       4.00\n",
      "50%       6.00\n",
      "75%       7.25\n",
      "max      25.00\n",
      "Name: totalDevelopers, dtype: float64\n"
     ]
    }
   ],
   "source": [
    "my_describe(feature6)"
   ]
  },
  {
   "cell_type": "code",
   "execution_count": 177,
   "metadata": {},
   "outputs": [
    {
     "name": "stdout",
     "output_type": "stream",
     "text": [
      "Outliers dos dados de totalDevelopers\n",
      "0    13.0\n",
      "1    25.0\n",
      "Name: totalDevelopers, dtype: float64\n"
     ]
    }
   ],
   "source": [
    "my_outliers(feature6, 10)"
   ]
  },
  {
   "cell_type": "markdown",
   "metadata": {},
   "source": [
    "### Distribuição de frequências da variável *dependente* (y)"
   ]
  },
  {
   "cell_type": "code",
   "execution_count": 178,
   "metadata": {},
   "outputs": [
    {
     "data": {
      "image/png": "[encoded data removed]",
      "text/plain": [
       "<Figure size 864x432 with 1 Axes>"
      ]
     },
     "metadata": {
      "needs_background": "light"
     },
     "output_type": "display_data"
    }
   ],
   "source": [
    "show_distribution('technicalDebt')"
   ]
  },
  {
   "cell_type": "markdown",
   "metadata": {},
   "source": [
    "<p style='font-size: 18px; line-height: 2; margin: 10px 50px; text-align: justify;'>\n",
    "    Pela Distribuição de Frequências da Dívida Técnica, pode-se perceber que ela não segue uma distribuição normal\n",
    "</p>"
   ]
  },
  {
   "cell_type": "markdown",
   "metadata": {},
   "source": [
    "### Distribuição de frequências da feature *LeadTime* (x1)"
   ]
  },
  {
   "cell_type": "code",
   "execution_count": 179,
   "metadata": {},
   "outputs": [
    {
     "data": {
      "image/png": "[encoded data removed]",
      "text/plain": [
       "<Figure size 864x432 with 1 Axes>"
      ]
     },
     "metadata": {
      "needs_background": "light"
     },
     "output_type": "display_data"
    }
   ],
   "source": [
    "show_distribution('leadTime')"
   ]
  },
  {
   "cell_type": "markdown",
   "metadata": {},
   "source": [
    "### Distribuição de frequências da feature *ComplexityPoints* (x2)"
   ]
  },
  {
   "cell_type": "code",
   "execution_count": 180,
   "metadata": {},
   "outputs": [
    {
     "data": {
      "image/png": "[encoded data removed]",
      "text/plain": [
       "<Figure size 864x432 with 1 Axes>"
      ]
     },
     "metadata": {
      "needs_background": "light"
     },
     "output_type": "display_data"
    }
   ],
   "source": [
    "show_distribution('complexityPoints')"
   ]
  },
  {
   "cell_type": "markdown",
   "metadata": {},
   "source": [
    "### Distribuição de frequências da feature *Maturity* (x3)"
   ]
  },
  {
   "cell_type": "code",
   "execution_count": 181,
   "metadata": {},
   "outputs": [
    {
     "data": {
      "image/png": "[encoded data removed]",
      "text/plain": [
       "<Figure size 864x432 with 1 Axes>"
      ]
     },
     "metadata": {
      "needs_background": "light"
     },
     "output_type": "display_data"
    }
   ],
   "source": [
    "show_distribution('maturity')"
   ]
  },
  {
   "cell_type": "markdown",
   "metadata": {},
   "source": [
    "### Distribuição de frequências da feature *TaskGlobalDistance* (x4)"
   ]
  },
  {
   "cell_type": "code",
   "execution_count": 182,
   "metadata": {},
   "outputs": [],
   "source": [
    "###?"
   ]
  },
  {
   "cell_type": "markdown",
   "metadata": {},
   "source": [
    "### Distribuição de frequências da feature *TotalDevelopers* (x5)"
   ]
  },
  {
   "cell_type": "code",
   "execution_count": 183,
   "metadata": {},
   "outputs": [
    {
     "data": {
      "image/png": "[encoded data removed]",
      "text/plain": [
       "<Figure size 864x432 with 1 Axes>"
      ]
     },
     "metadata": {
      "needs_background": "light"
     },
     "output_type": "display_data"
    }
   ],
   "source": [
    "show_distribution('totalDevelopers')"
   ]
  },
  {
   "cell_type": "markdown",
   "metadata": {},
   "source": [
    "### Boxplot Technical Debt x Location"
   ]
  },
  {
   "cell_type": "code",
   "execution_count": 184,
   "metadata": {},
   "outputs": [
    {
     "data": {
      "text/plain": [
       "Text(0.5,1,'Boxplot Distribuition Technical Debt x Location')"
      ]
     },
     "execution_count": 184,
     "metadata": {},
     "output_type": "execute_result"
    },
    {
     "data": {
      "image/png": "[encoded data removed]",
      "text/plain": [
       "<Figure size 432x288 with 1 Axes>"
      ]
     },
     "metadata": {
      "needs_background": "light"
     },
     "output_type": "display_data"
    }
   ],
   "source": [
    "sns.boxplot(x='location', y='technicalDebt', data=df_all_metrics).set_title('Boxplot Distribuition Technical Debt x Location')"
   ]
  },
  {
   "cell_type": "markdown",
   "metadata": {},
   "source": [
    "## 1.3 Analisando as correlações entre as features (xi) e a variável dependente (y)"
   ]
  },
  {
   "cell_type": "markdown",
   "metadata": {},
   "source": [
    "### 1.3.1 Gráfico de Correlação entre LeadTime (x1) e Technical Debt (y)"
   ]
  },
  {
   "cell_type": "code",
   "execution_count": 185,
   "metadata": {},
   "outputs": [],
   "source": [
    "arrayLeadTime = df_all_metrics.leadTime.values\n",
    "arrayTechnicalDebt = df_all_metrics.technicalDebt.values"
   ]
  },
  {
   "cell_type": "code",
   "execution_count": 186,
   "metadata": {},
   "outputs": [
    {
     "data": {
      "image/png": "[encoded data removed]",
      "text/plain": [
       "<Figure size 432x288 with 1 Axes>"
      ]
     },
     "metadata": {
      "needs_background": "light"
     },
     "output_type": "display_data"
    }
   ],
   "source": [
    "# plot\n",
    "pyplot.scatter(arrayLeadTime, arrayTechnicalDebt)\n",
    "pyplot.show()"
   ]
  },
  {
   "cell_type": "code",
   "execution_count": 187,
   "metadata": {},
   "outputs": [
    {
     "data": {
      "text/plain": [
       "<seaborn.axisgrid.FacetGrid at 0x114eb31d0>"
      ]
     },
     "execution_count": 187,
     "metadata": {},
     "output_type": "execute_result"
    },
    {
     "data": {
      "image/png": "[encoded data removed]",
      "text/plain": [
       "<Figure size 360x360 with 1 Axes>"
      ]
     },
     "metadata": {
      "needs_background": "light"
     },
     "output_type": "display_data"
    }
   ],
   "source": [
    "sns.lmplot(x='leadTime', y='technicalDebt', data=df_all_metrics)"
   ]
  },
  {
   "cell_type": "code",
   "execution_count": 188,
   "metadata": {},
   "outputs": [],
   "source": [
    "def checkSpearmansCorrelations(coef,p, alfa):\n",
    "    print('Spearmans correlation coefficient: %.3f' % coef)\n",
    "    # interpret the significance\n",
    "    if p > alfa:\n",
    "\t    print('Samples are uncorrelated (fail to reject H0) p=%.3f' % p)\n",
    "    else:\n",
    "\t    print('Samples are correlated (reject H0) p=%.3f' % p)"
   ]
  },
  {
   "cell_type": "markdown",
   "metadata": {},
   "source": [
    "### 1.3.1.1 Calculate spearman's correlation (LeadTime x TD)"
   ]
  },
  {
   "cell_type": "code",
   "execution_count": 189,
   "metadata": {},
   "outputs": [
    {
     "data": {
      "text/plain": [
       "SpearmanrResult(correlation=0.48587185407612227, pvalue=0.004814195878751078)"
      ]
     },
     "execution_count": 189,
     "metadata": {},
     "output_type": "execute_result"
    }
   ],
   "source": [
    "stats.spearmanr(arrayLeadTime, arrayTechnicalDebt)"
   ]
  },
  {
   "cell_type": "code",
   "execution_count": 190,
   "metadata": {},
   "outputs": [
    {
     "data": {
      "text/plain": [
       "scipy.stats.stats.SpearmanrResult"
      ]
     },
     "execution_count": 190,
     "metadata": {},
     "output_type": "execute_result"
    }
   ],
   "source": [
    "type(stats.spearmanr(arrayLeadTime, arrayTechnicalDebt))"
   ]
  },
  {
   "cell_type": "code",
   "execution_count": 191,
   "metadata": {},
   "outputs": [],
   "source": [
    "# calculate spearman's correlation\n",
    "coefLeadTime, pLeadTime = stats.spearmanr(arrayLeadTime, arrayTechnicalDebt)"
   ]
  },
  {
   "cell_type": "code",
   "execution_count": 192,
   "metadata": {},
   "outputs": [],
   "source": [
    "alfa = 0.05"
   ]
  },
  {
   "cell_type": "code",
   "execution_count": 193,
   "metadata": {},
   "outputs": [
    {
     "name": "stdout",
     "output_type": "stream",
     "text": [
      "Spearmans correlation coefficient: 0.486\n",
      "Samples are correlated (reject H0) p=0.005\n"
     ]
    }
   ],
   "source": [
    "checkSpearmansCorrelations(coefLeadTime, pLeadTime, alfa)"
   ]
  },
  {
   "cell_type": "markdown",
   "metadata": {},
   "source": [
    "<p style='font-size: 18px; line-height: 2; margin: 10px 50px; text-align: justify;'>\n",
    "    Pela análise do coeficiente de Spearman, pode-se perceber que <u>LeadTime</u> e <u>TD</u> <b>são</b> <u>correlacionados</u>. Com isso, existe uma tendência de que na medida que o LeadTime aumenta a Dívida Técnica tende a aumentar\n",
    "</p>"
   ]
  },
  {
   "cell_type": "markdown",
   "metadata": {},
   "source": [
    "### 1.3.2 Gráfico de Correlação entre ComplexityPoint (x2) e Technical Debt (y)"
   ]
  },
  {
   "cell_type": "code",
   "execution_count": 194,
   "metadata": {},
   "outputs": [],
   "source": [
    "arrayComplexityPoints = df_all_metrics.complexityPoints.values"
   ]
  },
  {
   "cell_type": "code",
   "execution_count": 195,
   "metadata": {},
   "outputs": [
    {
     "data": {
      "image/png": "[encoded data removed]",
      "text/plain": [
       "<Figure size 432x288 with 1 Axes>"
      ]
     },
     "metadata": {
      "needs_background": "light"
     },
     "output_type": "display_data"
    }
   ],
   "source": [
    "# plot\n",
    "pyplot.scatter(arrayComplexityPoints, arrayTechnicalDebt)\n",
    "pyplot.show()"
   ]
  },
  {
   "cell_type": "code",
   "execution_count": 196,
   "metadata": {},
   "outputs": [
    {
     "data": {
      "text/plain": [
       "<seaborn.axisgrid.FacetGrid at 0x116c463c8>"
      ]
     },
     "execution_count": 196,
     "metadata": {},
     "output_type": "execute_result"
    },
    {
     "data": {
      "image/png": "[encoded data removed]",
      "text/plain": [
       "<Figure size 360x360 with 1 Axes>"
      ]
     },
     "metadata": {
      "needs_background": "light"
     },
     "output_type": "display_data"
    }
   ],
   "source": [
    "sns.lmplot(x='complexityPoints', y='technicalDebt', data=df_all_metrics)"
   ]
  },
  {
   "cell_type": "markdown",
   "metadata": {},
   "source": [
    "### 1.3.2.1 Calculate spearman's correlation (ComplexityPoints x TD)"
   ]
  },
  {
   "cell_type": "code",
   "execution_count": 197,
   "metadata": {},
   "outputs": [
    {
     "name": "stdout",
     "output_type": "stream",
     "text": [
      "Spearmans correlation coefficient: 0.650\n",
      "Samples are correlated (reject H0) p=0.000\n"
     ]
    }
   ],
   "source": [
    "# calculate spearman's correlation\n",
    "coefComplexityPoints, pComplexityPoints = stats.spearmanr(arrayComplexityPoints, arrayTechnicalDebt)\n",
    "alfa = 0.05\n",
    "checkSpearmansCorrelations(coefComplexityPoints, pComplexityPoints, alfa)"
   ]
  },
  {
   "cell_type": "markdown",
   "metadata": {},
   "source": [
    "<p style='font-size: 18px; line-height: 2; margin: 10px 50px; text-align: justify;'>\n",
    "        Pela análise do coeficiente de Spearman, pode-se perceber que <u>ComplexityPoints</u> e <u>TD</u> <b>são</b> <u>correlacionados</u>. Com isso, existe uma tendência de que na medida que o ComplexityPoints aumenta a Dívida Técnica tende a aumentar.\n",
    "</p>"
   ]
  },
  {
   "cell_type": "markdown",
   "metadata": {},
   "source": [
    "### 1.3.3 Gráfico de Correlação entre Maturity (x3) e Technical Debt (y)"
   ]
  },
  {
   "cell_type": "code",
   "execution_count": 198,
   "metadata": {},
   "outputs": [],
   "source": [
    "arrayMaturity = df_all_metrics.maturity.values"
   ]
  },
  {
   "cell_type": "code",
   "execution_count": 199,
   "metadata": {},
   "outputs": [
    {
     "data": {
      "image/png": "[encoded data removed]",
      "text/plain": [
       "<Figure size 432x288 with 1 Axes>"
      ]
     },
     "metadata": {
      "needs_background": "light"
     },
     "output_type": "display_data"
    }
   ],
   "source": [
    "# plot\n",
    "pyplot.scatter(arrayMaturity, arrayTechnicalDebt)\n",
    "pyplot.show()"
   ]
  },
  {
   "cell_type": "code",
   "execution_count": 200,
   "metadata": {},
   "outputs": [
    {
     "data": {
      "text/plain": [
       "<seaborn.axisgrid.FacetGrid at 0x117c992e8>"
      ]
     },
     "execution_count": 200,
     "metadata": {},
     "output_type": "execute_result"
    },
    {
     "data": {
      "image/png": "[encoded data removed]",
      "text/plain": [
       "<Figure size 360x360 with 1 Axes>"
      ]
     },
     "metadata": {
      "needs_background": "light"
     },
     "output_type": "display_data"
    }
   ],
   "source": [
    "sns.lmplot(x='maturity', y='technicalDebt', data=df_all_metrics)"
   ]
  },
  {
   "cell_type": "markdown",
   "metadata": {},
   "source": [
    "### 1.3.3.1 Calculate spearman's correlation (Maturity x TD)"
   ]
  },
  {
   "cell_type": "code",
   "execution_count": 201,
   "metadata": {},
   "outputs": [
    {
     "name": "stdout",
     "output_type": "stream",
     "text": [
      "Spearmans correlation coefficient: -0.135\n",
      "Samples are uncorrelated (fail to reject H0) p=0.462\n"
     ]
    }
   ],
   "source": [
    "# calculate spearman's correlation\n",
    "coefMaturity, pMaturity = stats.spearmanr(arrayMaturity, arrayTechnicalDebt)\n",
    "alfa = 0.05\n",
    "checkSpearmansCorrelations(coefMaturity, pMaturity, alfa)"
   ]
  },
  {
   "cell_type": "markdown",
   "metadata": {},
   "source": [
    "<p style='font-size: 18px; line-height: 2; margin: 10px 50px; text-align: justify;'>\n",
    "        Pela análise do coeficiente de Spearman, pode-se perceber que <u>Maturity</u> e <u>TD</u> <b>NÃO são</b> <u>correlacionados</u>.\n",
    "</p>"
   ]
  },
  {
   "cell_type": "markdown",
   "metadata": {},
   "source": [
    "### 1.3.4 Gráfico de Correlação entre TaskGlobalDistance (x4) e Technical Debt (y)"
   ]
  },
  {
   "cell_type": "code",
   "execution_count": 202,
   "metadata": {},
   "outputs": [],
   "source": [
    "arrayTaskGlobalDistance = df_all_metrics.taskGlobalDistance.values"
   ]
  },
  {
   "cell_type": "code",
   "execution_count": 203,
   "metadata": {},
   "outputs": [
    {
     "data": {
      "image/png": "[encoded data removed]",
      "text/plain": [
       "<Figure size 432x288 with 1 Axes>"
      ]
     },
     "metadata": {
      "needs_background": "light"
     },
     "output_type": "display_data"
    }
   ],
   "source": [
    "# plot\n",
    "pyplot.scatter(arrayTechnicalDebt, arrayTaskGlobalDistance)\n",
    "pyplot.show()"
   ]
  },
  {
   "cell_type": "code",
   "execution_count": 204,
   "metadata": {},
   "outputs": [
    {
     "data": {
      "text/plain": [
       "<seaborn.axisgrid.FacetGrid at 0x1172f7be0>"
      ]
     },
     "execution_count": 204,
     "metadata": {},
     "output_type": "execute_result"
    },
    {
     "data": {
      "image/png": "[encoded data removed]",
      "text/plain": [
       "<Figure size 360x360 with 1 Axes>"
      ]
     },
     "metadata": {
      "needs_background": "light"
     },
     "output_type": "display_data"
    }
   ],
   "source": [
    "sns.lmplot(x='technicalDebt', y='taskGlobalDistance', data=df_all_metrics)"
   ]
  },
  {
   "cell_type": "markdown",
   "metadata": {},
   "source": [
    "### 1.3.4.1 Calculate spearman's correlation (TaskGlobalDistance x TD)"
   ]
  },
  {
   "cell_type": "code",
   "execution_count": 205,
   "metadata": {},
   "outputs": [
    {
     "name": "stdout",
     "output_type": "stream",
     "text": [
      "Spearmans correlation coefficient: 0.034\n",
      "Samples are uncorrelated (fail to reject H0) p=0.855\n"
     ]
    }
   ],
   "source": [
    "# calculate spearman's correlation\n",
    "coefTaskGlobalDistance, pTaskGlobalDistance = stats.spearmanr(arrayTaskGlobalDistance, arrayTechnicalDebt)\n",
    "alfa = 0.05\n",
    "checkSpearmansCorrelations(coefTaskGlobalDistance, pTaskGlobalDistance, alfa)"
   ]
  },
  {
   "cell_type": "markdown",
   "metadata": {},
   "source": [
    "<p style='font-size: 18px; line-height: 2; margin: 10px 50px; text-align: justify;'>\n",
    "        Pela análise do coeficiente de Spearman, pode-se perceber que <u>TaskGlobalDistance</u> e <u>TD</u> <b>NÃO são</b> <u>correlacionados</u>.\n",
    "</p>"
   ]
  },
  {
   "cell_type": "markdown",
   "metadata": {},
   "source": [
    "### 1.3.5 Gráfico de Correlação entre totalDevelopers (x5) e Technical Debt (y)"
   ]
  },
  {
   "cell_type": "code",
   "execution_count": 206,
   "metadata": {},
   "outputs": [],
   "source": [
    "arrayTotalDevelopers = df_all_metrics.totalDevelopers.values"
   ]
  },
  {
   "cell_type": "code",
   "execution_count": 207,
   "metadata": {},
   "outputs": [
    {
     "data": {
      "image/png": "[encoded data removed]",
      "text/plain": [
       "<Figure size 432x288 with 1 Axes>"
      ]
     },
     "metadata": {
      "needs_background": "light"
     },
     "output_type": "display_data"
    }
   ],
   "source": [
    "# plot\n",
    "pyplot.scatter(arrayTotalDevelopers, arrayTechnicalDebt)\n",
    "pyplot.show()\n"
   ]
  },
  {
   "cell_type": "markdown",
   "metadata": {},
   "source": [
    "### 1.3.5.1 Calculate spearman's correlation (TotalDevelopers x TD)"
   ]
  },
  {
   "cell_type": "code",
   "execution_count": 208,
   "metadata": {},
   "outputs": [
    {
     "data": {
      "text/plain": [
       "<seaborn.axisgrid.FacetGrid at 0x1157dfda0>"
      ]
     },
     "execution_count": 208,
     "metadata": {},
     "output_type": "execute_result"
    },
    {
     "data": {
      "image/png": "[encoded data removed]",
      "text/plain": [
       "<Figure size 360x360 with 1 Axes>"
      ]
     },
     "metadata": {
      "needs_background": "light"
     },
     "output_type": "display_data"
    }
   ],
   "source": [
    "sns.lmplot(x='totalDevelopers', y='technicalDebt', data=df_all_metrics)"
   ]
  },
  {
   "cell_type": "code",
   "execution_count": 209,
   "metadata": {},
   "outputs": [
    {
     "name": "stdout",
     "output_type": "stream",
     "text": [
      "Spearmans correlation coefficient: 0.505\n",
      "Samples are correlated (reject H0) p=0.003\n"
     ]
    }
   ],
   "source": [
    "# calculate spearman's correlation\n",
    "coefTotalDevelopers, pTotalDevelopers = stats.spearmanr(arrayTotalDevelopers, arrayTechnicalDebt)\n",
    "alfa = 0.05\n",
    "checkSpearmansCorrelations(coefTotalDevelopers, pTotalDevelopers, alfa)"
   ]
  },
  {
   "cell_type": "markdown",
   "metadata": {},
   "source": [
    "<p style='font-size: 18px; line-height: 2; margin: 10px 50px; text-align: justify;'>\n",
    "        Pela análise do coeficiente de Spearman, pode-se perceber que <u>TotalDevelopers</u> e <u>TD</u> <b>são</b> <u>correlacionados</u>. Com isso, existe uma tendência de que na medida que o ComplexityPoints aumenta a Dívida Técnica tende a aumentar.\n",
    "</p>"
   ]
  },
  {
   "cell_type": "markdown",
   "metadata": {},
   "source": [
    "### 1.3.6 Gráfico de Correlação entre taskScaling e Technical Debt"
   ]
  },
  {
   "cell_type": "code",
   "execution_count": 210,
   "metadata": {},
   "outputs": [],
   "source": [
    "arrayTaskScaling = df_all_metrics.taskScaling.values"
   ]
  },
  {
   "cell_type": "code",
   "execution_count": 211,
   "metadata": {},
   "outputs": [
    {
     "data": {
      "image/png": "[encoded data removed]",
      "text/plain": [
       "<Figure size 432x288 with 1 Axes>"
      ]
     },
     "metadata": {
      "needs_background": "light"
     },
     "output_type": "display_data"
    }
   ],
   "source": [
    "# plot\n",
    "pyplot.scatter(arrayTaskScaling, arrayTechnicalDebt)\n",
    "pyplot.show()"
   ]
  },
  {
   "cell_type": "code",
   "execution_count": 212,
   "metadata": {},
   "outputs": [
    {
     "data": {
      "text/plain": [
       "<seaborn.axisgrid.FacetGrid at 0x1165499b0>"
      ]
     },
     "execution_count": 212,
     "metadata": {},
     "output_type": "execute_result"
    },
    {
     "data": {
      "image/png": "[encoded data removed]",
      "text/plain": [
       "<Figure size 360x360 with 1 Axes>"
      ]
     },
     "metadata": {
      "needs_background": "light"
     },
     "output_type": "display_data"
    }
   ],
   "source": [
    "sns.lmplot(x='taskScaling', y='technicalDebt', data=df_all_metrics)"
   ]
  },
  {
   "cell_type": "markdown",
   "metadata": {},
   "source": [
    "### 1.3.6.1 Calculate spearman's correlation (taskScaling x TD)"
   ]
  },
  {
   "cell_type": "code",
   "execution_count": 213,
   "metadata": {},
   "outputs": [
    {
     "name": "stdout",
     "output_type": "stream",
     "text": [
      "Spearmans correlation coefficient: -0.439\n",
      "Samples are correlated (reject H0) p=0.012\n"
     ]
    }
   ],
   "source": [
    "coefTaskScaling, pTaskScaling = stats.spearmanr(arrayTaskScaling, arrayTechnicalDebt)\n",
    "alfa = 0.05\n",
    "checkSpearmansCorrelations(coefTaskScaling, pTaskScaling, alfa)"
   ]
  },
  {
   "cell_type": "markdown",
   "metadata": {},
   "source": [
    "<p style='font-size: 18px; line-height: 2; margin: 10px 50px; text-align: justify;'>\n",
    "        Pela análise do coeficiente de Spearman, pode-se perceber que <u>TaskScaling</u> e <u>TD</u> <b>são</b> <u>correlacionados</u>. \n",
    "</p>"
   ]
  },
  {
   "cell_type": "markdown",
   "metadata": {},
   "source": [
    "## 1.4 Resumo da análise de correlação (Spearman's correlation coefficient)"
   ]
  },
  {
   "cell_type": "markdown",
   "metadata": {},
   "source": [
    "|  Caracterítica     | Dívida Técnica  | Correlacionado |  \n",
    "|--------------------|-----------------|----------------|\n",
    "| LeadTime           | TD              | SIM            |\n",
    "| ComplexityPoints   | TD              | SIM            |\n",
    "| TotalDevelopers    | TD              | SIM            |\n",
    "| TaskScaling        | TD              | SIM            | \n",
    "| Maturity           | TD              | Não            | \n",
    "| TaskGlobalDistance | TD              | Não            |"
   ]
  },
  {
   "cell_type": "code",
   "execution_count": 214,
   "metadata": {},
   "outputs": [],
   "source": [
    "from tabulate import tabulate"
   ]
  },
  {
   "cell_type": "code",
   "execution_count": 215,
   "metadata": {},
   "outputs": [],
   "source": [
    "def showCalcPSpearman(p, alfa):\n",
    "    if p > alfa:\n",
    "        return 'NÃO'\n",
    "    else:\n",
    "        return 'SIM'"
   ]
  },
  {
   "cell_type": "code",
   "execution_count": 216,
   "metadata": {},
   "outputs": [
    {
     "name": "stdout",
     "output_type": "stream",
     "text": [
      "Característica      Dívida Técnica      Spearmans Coef      p  Correlacionado\n",
      "------------------  ----------------  ----------------  -----  ----------------\n",
      "LeadTime            TD                           0.486  0.005  SIM\n",
      "ComplexityPoints    TD                           0.65   0      SIM\n",
      "TotalDevelopers     TD                           0.505  0.003  SIM\n",
      "TaskScaling         TD                          -0.439  0.012  SIM\n",
      "Maturity            TD                          -0.135  0.462  NÃO\n",
      "TaskGlobalDistance  TD                           0.034  0.855  NÃO\n"
     ]
    }
   ],
   "source": [
    "LeadTimeRow = ['LeadTime', 'TD', coefLeadTime.round(3), pLeadTime.round(3), \n",
    "               showCalcPSpearman(pLeadTime, 0.05)]\n",
    "\n",
    "ComplexityPointsRow = ['ComplexityPoints', 'TD', coefComplexityPoints.round(3), pComplexityPoints.round(3),\n",
    "                       showCalcPSpearman(pComplexityPoints, 0.05)]\n",
    "\n",
    "TotalDevelopersRow = ['TotalDevelopers', 'TD', coefTotalDevelopers.round(3), pTotalDevelopers.round(3),\n",
    "                      showCalcPSpearman(pTotalDevelopers, 0.05)]\n",
    "\n",
    "TaskScalingRow = ['TaskScaling', 'TD', coefTaskScaling.round(3), pTaskScaling.round(3), \n",
    "                  showCalcPSpearman(pTaskScaling, 0.05)]\n",
    "\n",
    "MaturityRow = ['Maturity', 'TD', coefMaturity.round(3), pMaturity.round(3), \n",
    "               showCalcPSpearman(pMaturity, 0.05)]\n",
    "\n",
    "TaskGlobalDistanceRow = ['TaskGlobalDistance', 'TD', coefTaskGlobalDistance.round(3), pTaskGlobalDistance.round(3),\n",
    "                         showCalcPSpearman(pTaskGlobalDistance, 0.05)]\n",
    "\n",
    "analysisHeaders = ['Característica', 'Dívida Técnica', 'Spearmans Coef', 'p', 'Correlacionado']\n",
    "\n",
    "print(tabulate([LeadTimeRow, ComplexityPointsRow, TotalDevelopersRow, \n",
    "                TaskScalingRow, MaturityRow, TaskGlobalDistanceRow],\n",
    "               headers=analysisHeaders))"
   ]
  },
  {
   "cell_type": "markdown",
   "metadata": {},
   "source": [
    "## 1.5 Normalização dos dados"
   ]
  },
  {
   "cell_type": "code",
   "execution_count": 217,
   "metadata": {},
   "outputs": [
    {
     "data": {
      "text/html": [
       "<div>\n",
       "<style scoped>\n",
       "    .dataframe tbody tr th:only-of-type {\n",
       "        vertical-align: middle;\n",
       "    }\n",
       "\n",
       "    .dataframe tbody tr th {\n",
       "        vertical-align: top;\n",
       "    }\n",
       "\n",
       "    .dataframe thead th {\n",
       "        text-align: right;\n",
       "    }\n",
       "</style>\n",
       "<table border=\"1\" class=\"dataframe\">\n",
       "  <thead>\n",
       "    <tr style=\"text-align: right;\">\n",
       "      <th></th>\n",
       "      <th>technicalDebt</th>\n",
       "      <th>leadTime</th>\n",
       "      <th>complexityPoints</th>\n",
       "      <th>totalDevelopers</th>\n",
       "      <th>taskScaling</th>\n",
       "      <th>maturity</th>\n",
       "      <th>taskGlobalDistance</th>\n",
       "    </tr>\n",
       "  </thead>\n",
       "  <tbody>\n",
       "    <tr>\n",
       "      <th>0</th>\n",
       "      <td>796.0</td>\n",
       "      <td>179.0</td>\n",
       "      <td>60.0</td>\n",
       "      <td>13.0</td>\n",
       "      <td>0.216667</td>\n",
       "      <td>4.0</td>\n",
       "      <td>1.250000</td>\n",
       "    </tr>\n",
       "    <tr>\n",
       "      <th>1</th>\n",
       "      <td>2474.0</td>\n",
       "      <td>137.0</td>\n",
       "      <td>170.0</td>\n",
       "      <td>25.0</td>\n",
       "      <td>0.147059</td>\n",
       "      <td>4.0</td>\n",
       "      <td>6.244748</td>\n",
       "    </tr>\n",
       "    <tr>\n",
       "      <th>2</th>\n",
       "      <td>202.0</td>\n",
       "      <td>52.0</td>\n",
       "      <td>35.0</td>\n",
       "      <td>7.0</td>\n",
       "      <td>0.200000</td>\n",
       "      <td>4.0</td>\n",
       "      <td>3.463991</td>\n",
       "    </tr>\n",
       "  </tbody>\n",
       "</table>\n",
       "</div>"
      ],
      "text/plain": [
       "   technicalDebt  leadTime  complexityPoints  totalDevelopers  taskScaling  \\\n",
       "0          796.0     179.0              60.0             13.0     0.216667   \n",
       "1         2474.0     137.0             170.0             25.0     0.147059   \n",
       "2          202.0      52.0              35.0              7.0     0.200000   \n",
       "\n",
       "   maturity  taskGlobalDistance  \n",
       "0       4.0            1.250000  \n",
       "1       4.0            6.244748  \n",
       "2       4.0            3.463991  "
      ]
     },
     "execution_count": 217,
     "metadata": {},
     "output_type": "execute_result"
    }
   ],
   "source": [
    "df_my_all_metrics = df_all_metrics[['technicalDebt', 'leadTime', 'complexityPoints', 'totalDevelopers', 'taskScaling', 'maturity', 'taskGlobalDistance']]\n",
    "df_my_all_metrics.head(3)"
   ]
  },
  {
   "cell_type": "code",
   "execution_count": 218,
   "metadata": {},
   "outputs": [
    {
     "data": {
      "text/plain": [
       "{0: 'technicalDebt',\n",
       " 1: 'leadTime',\n",
       " 2: 'complexityPoints',\n",
       " 3: 'totalDevelopers',\n",
       " 4: 'taskScaling',\n",
       " 5: 'maturity',\n",
       " 6: 'taskGlobalDistance'}"
      ]
     },
     "execution_count": 218,
     "metadata": {},
     "output_type": "execute_result"
    }
   ],
   "source": [
    "my_dict = {0:'technicalDebt', 1:'leadTime', 2:'complexityPoints', \n",
    "           3:'totalDevelopers',4:'taskScaling', 5:'maturity', 6:'taskGlobalDistance'}\n",
    "my_dict"
   ]
  },
  {
   "cell_type": "code",
   "execution_count": 219,
   "metadata": {},
   "outputs": [],
   "source": [
    "import pandas as pd\n",
    "from sklearn import preprocessing"
   ]
  },
  {
   "cell_type": "code",
   "execution_count": 220,
   "metadata": {},
   "outputs": [],
   "source": [
    "x = df_my_all_metrics.values #returns a numpy array"
   ]
  },
  {
   "cell_type": "code",
   "execution_count": 221,
   "metadata": {},
   "outputs": [],
   "source": [
    "min_max_scaler = preprocessing.MinMaxScaler()"
   ]
  },
  {
   "cell_type": "code",
   "execution_count": 222,
   "metadata": {},
   "outputs": [],
   "source": [
    "x_scaled = min_max_scaler.fit_transform(x)"
   ]
  },
  {
   "cell_type": "code",
   "execution_count": 223,
   "metadata": {},
   "outputs": [],
   "source": [
    "df_my_all_metrics_normalized = pd.DataFrame(x_scaled)"
   ]
  },
  {
   "cell_type": "code",
   "execution_count": 224,
   "metadata": {},
   "outputs": [
    {
     "data": {
      "text/html": [
       "<div>\n",
       "<style scoped>\n",
       "    .dataframe tbody tr th:only-of-type {\n",
       "        vertical-align: middle;\n",
       "    }\n",
       "\n",
       "    .dataframe tbody tr th {\n",
       "        vertical-align: top;\n",
       "    }\n",
       "\n",
       "    .dataframe thead th {\n",
       "        text-align: right;\n",
       "    }\n",
       "</style>\n",
       "<table border=\"1\" class=\"dataframe\">\n",
       "  <thead>\n",
       "    <tr style=\"text-align: right;\">\n",
       "      <th></th>\n",
       "      <th>0</th>\n",
       "      <th>1</th>\n",
       "      <th>2</th>\n",
       "      <th>3</th>\n",
       "      <th>4</th>\n",
       "      <th>5</th>\n",
       "      <th>6</th>\n",
       "    </tr>\n",
       "  </thead>\n",
       "  <tbody>\n",
       "    <tr>\n",
       "      <th>0</th>\n",
       "      <td>0.146620</td>\n",
       "      <td>1.00000</td>\n",
       "      <td>0.084746</td>\n",
       "      <td>0.478261</td>\n",
       "      <td>0.448529</td>\n",
       "      <td>1.0</td>\n",
       "      <td>0.200168</td>\n",
       "    </tr>\n",
       "    <tr>\n",
       "      <th>1</th>\n",
       "      <td>0.455701</td>\n",
       "      <td>0.73913</td>\n",
       "      <td>0.271186</td>\n",
       "      <td>1.000000</td>\n",
       "      <td>0.294983</td>\n",
       "      <td>1.0</td>\n",
       "      <td>1.000000</td>\n",
       "    </tr>\n",
       "    <tr>\n",
       "      <th>2</th>\n",
       "      <td>0.037208</td>\n",
       "      <td>0.21118</td>\n",
       "      <td>0.042373</td>\n",
       "      <td>0.217391</td>\n",
       "      <td>0.411765</td>\n",
       "      <td>1.0</td>\n",
       "      <td>0.554705</td>\n",
       "    </tr>\n",
       "  </tbody>\n",
       "</table>\n",
       "</div>"
      ],
      "text/plain": [
       "          0        1         2         3         4    5         6\n",
       "0  0.146620  1.00000  0.084746  0.478261  0.448529  1.0  0.200168\n",
       "1  0.455701  0.73913  0.271186  1.000000  0.294983  1.0  1.000000\n",
       "2  0.037208  0.21118  0.042373  0.217391  0.411765  1.0  0.554705"
      ]
     },
     "execution_count": 224,
     "metadata": {},
     "output_type": "execute_result"
    }
   ],
   "source": [
    "df_my_all_metrics_normalized.head(3)"
   ]
  },
  {
   "cell_type": "code",
   "execution_count": 225,
   "metadata": {},
   "outputs": [],
   "source": [
    "df_my_all_metrics_normalized.rename(columns=my_dict, inplace=True)"
   ]
  },
  {
   "cell_type": "code",
   "execution_count": 226,
   "metadata": {},
   "outputs": [
    {
     "data": {
      "text/html": [
       "<div>\n",
       "<style scoped>\n",
       "    .dataframe tbody tr th:only-of-type {\n",
       "        vertical-align: middle;\n",
       "    }\n",
       "\n",
       "    .dataframe tbody tr th {\n",
       "        vertical-align: top;\n",
       "    }\n",
       "\n",
       "    .dataframe thead th {\n",
       "        text-align: right;\n",
       "    }\n",
       "</style>\n",
       "<table border=\"1\" class=\"dataframe\">\n",
       "  <thead>\n",
       "    <tr style=\"text-align: right;\">\n",
       "      <th></th>\n",
       "      <th>technicalDebt</th>\n",
       "      <th>leadTime</th>\n",
       "      <th>complexityPoints</th>\n",
       "      <th>totalDevelopers</th>\n",
       "      <th>taskScaling</th>\n",
       "      <th>maturity</th>\n",
       "      <th>taskGlobalDistance</th>\n",
       "    </tr>\n",
       "  </thead>\n",
       "  <tbody>\n",
       "    <tr>\n",
       "      <th>0</th>\n",
       "      <td>0.146620</td>\n",
       "      <td>1.000000</td>\n",
       "      <td>0.084746</td>\n",
       "      <td>0.478261</td>\n",
       "      <td>0.448529</td>\n",
       "      <td>1.0</td>\n",
       "      <td>0.200168</td>\n",
       "    </tr>\n",
       "    <tr>\n",
       "      <th>1</th>\n",
       "      <td>0.455701</td>\n",
       "      <td>0.739130</td>\n",
       "      <td>0.271186</td>\n",
       "      <td>1.000000</td>\n",
       "      <td>0.294983</td>\n",
       "      <td>1.0</td>\n",
       "      <td>1.000000</td>\n",
       "    </tr>\n",
       "    <tr>\n",
       "      <th>2</th>\n",
       "      <td>0.037208</td>\n",
       "      <td>0.211180</td>\n",
       "      <td>0.042373</td>\n",
       "      <td>0.217391</td>\n",
       "      <td>0.411765</td>\n",
       "      <td>1.0</td>\n",
       "      <td>0.554705</td>\n",
       "    </tr>\n",
       "    <tr>\n",
       "      <th>3</th>\n",
       "      <td>0.000000</td>\n",
       "      <td>0.130435</td>\n",
       "      <td>0.008475</td>\n",
       "      <td>0.000000</td>\n",
       "      <td>0.264706</td>\n",
       "      <td>1.0</td>\n",
       "      <td>0.554705</td>\n",
       "    </tr>\n",
       "    <tr>\n",
       "      <th>4</th>\n",
       "      <td>0.115307</td>\n",
       "      <td>0.173913</td>\n",
       "      <td>0.025424</td>\n",
       "      <td>0.086957</td>\n",
       "      <td>0.323529</td>\n",
       "      <td>1.0</td>\n",
       "      <td>0.554705</td>\n",
       "    </tr>\n",
       "  </tbody>\n",
       "</table>\n",
       "</div>"
      ],
      "text/plain": [
       "   technicalDebt  leadTime  complexityPoints  totalDevelopers  taskScaling  \\\n",
       "0       0.146620  1.000000          0.084746         0.478261     0.448529   \n",
       "1       0.455701  0.739130          0.271186         1.000000     0.294983   \n",
       "2       0.037208  0.211180          0.042373         0.217391     0.411765   \n",
       "3       0.000000  0.130435          0.008475         0.000000     0.264706   \n",
       "4       0.115307  0.173913          0.025424         0.086957     0.323529   \n",
       "\n",
       "   maturity  taskGlobalDistance  \n",
       "0       1.0            0.200168  \n",
       "1       1.0            1.000000  \n",
       "2       1.0            0.554705  \n",
       "3       1.0            0.554705  \n",
       "4       1.0            0.554705  "
      ]
     },
     "execution_count": 226,
     "metadata": {},
     "output_type": "execute_result"
    }
   ],
   "source": [
    "df_my_all_metrics_normalized.head(5)"
   ]
  },
  {
   "cell_type": "markdown",
   "metadata": {},
   "source": [
    "### Estatísticas da Tabela de Métricas Normalizada"
   ]
  },
  {
   "cell_type": "code",
   "execution_count": 227,
   "metadata": {},
   "outputs": [
    {
     "data": {
      "text/html": [
       "<div>\n",
       "<style scoped>\n",
       "    .dataframe tbody tr th:only-of-type {\n",
       "        vertical-align: middle;\n",
       "    }\n",
       "\n",
       "    .dataframe tbody tr th {\n",
       "        vertical-align: top;\n",
       "    }\n",
       "\n",
       "    .dataframe thead th {\n",
       "        text-align: right;\n",
       "    }\n",
       "</style>\n",
       "<table border=\"1\" class=\"dataframe\">\n",
       "  <thead>\n",
       "    <tr style=\"text-align: right;\">\n",
       "      <th></th>\n",
       "      <th>technicalDebt</th>\n",
       "      <th>leadTime</th>\n",
       "      <th>complexityPoints</th>\n",
       "      <th>totalDevelopers</th>\n",
       "      <th>taskScaling</th>\n",
       "      <th>maturity</th>\n",
       "      <th>taskGlobalDistance</th>\n",
       "    </tr>\n",
       "  </thead>\n",
       "  <tbody>\n",
       "    <tr>\n",
       "      <th>count</th>\n",
       "      <td>32.000</td>\n",
       "      <td>32.000</td>\n",
       "      <td>32.000</td>\n",
       "      <td>32.000</td>\n",
       "      <td>32.000</td>\n",
       "      <td>32.000</td>\n",
       "      <td>32.000</td>\n",
       "    </tr>\n",
       "    <tr>\n",
       "      <th>mean</th>\n",
       "      <td>0.230</td>\n",
       "      <td>0.367</td>\n",
       "      <td>0.116</td>\n",
       "      <td>0.188</td>\n",
       "      <td>0.312</td>\n",
       "      <td>0.750</td>\n",
       "      <td>0.535</td>\n",
       "    </tr>\n",
       "    <tr>\n",
       "      <th>std</th>\n",
       "      <td>0.270</td>\n",
       "      <td>0.229</td>\n",
       "      <td>0.195</td>\n",
       "      <td>0.184</td>\n",
       "      <td>0.244</td>\n",
       "      <td>0.421</td>\n",
       "      <td>0.234</td>\n",
       "    </tr>\n",
       "    <tr>\n",
       "      <th>min</th>\n",
       "      <td>0.000</td>\n",
       "      <td>0.000</td>\n",
       "      <td>0.000</td>\n",
       "      <td>0.000</td>\n",
       "      <td>0.000</td>\n",
       "      <td>0.000</td>\n",
       "      <td>0.000</td>\n",
       "    </tr>\n",
       "    <tr>\n",
       "      <th>25%</th>\n",
       "      <td>0.021</td>\n",
       "      <td>0.203</td>\n",
       "      <td>0.023</td>\n",
       "      <td>0.087</td>\n",
       "      <td>0.147</td>\n",
       "      <td>0.500</td>\n",
       "      <td>0.555</td>\n",
       "    </tr>\n",
       "    <tr>\n",
       "      <th>50%</th>\n",
       "      <td>0.129</td>\n",
       "      <td>0.304</td>\n",
       "      <td>0.055</td>\n",
       "      <td>0.174</td>\n",
       "      <td>0.245</td>\n",
       "      <td>1.000</td>\n",
       "      <td>0.555</td>\n",
       "    </tr>\n",
       "    <tr>\n",
       "      <th>75%</th>\n",
       "      <td>0.311</td>\n",
       "      <td>0.522</td>\n",
       "      <td>0.146</td>\n",
       "      <td>0.228</td>\n",
       "      <td>0.412</td>\n",
       "      <td>1.000</td>\n",
       "      <td>0.555</td>\n",
       "    </tr>\n",
       "    <tr>\n",
       "      <th>max</th>\n",
       "      <td>1.000</td>\n",
       "      <td>1.000</td>\n",
       "      <td>1.000</td>\n",
       "      <td>1.000</td>\n",
       "      <td>1.000</td>\n",
       "      <td>1.000</td>\n",
       "      <td>1.000</td>\n",
       "    </tr>\n",
       "  </tbody>\n",
       "</table>\n",
       "</div>"
      ],
      "text/plain": [
       "       technicalDebt  leadTime  complexityPoints  totalDevelopers  \\\n",
       "count         32.000    32.000            32.000           32.000   \n",
       "mean           0.230     0.367             0.116            0.188   \n",
       "std            0.270     0.229             0.195            0.184   \n",
       "min            0.000     0.000             0.000            0.000   \n",
       "25%            0.021     0.203             0.023            0.087   \n",
       "50%            0.129     0.304             0.055            0.174   \n",
       "75%            0.311     0.522             0.146            0.228   \n",
       "max            1.000     1.000             1.000            1.000   \n",
       "\n",
       "       taskScaling  maturity  taskGlobalDistance  \n",
       "count       32.000    32.000              32.000  \n",
       "mean         0.312     0.750               0.535  \n",
       "std          0.244     0.421               0.234  \n",
       "min          0.000     0.000               0.000  \n",
       "25%          0.147     0.500               0.555  \n",
       "50%          0.245     1.000               0.555  \n",
       "75%          0.412     1.000               0.555  \n",
       "max          1.000     1.000               1.000  "
      ]
     },
     "execution_count": 227,
     "metadata": {},
     "output_type": "execute_result"
    }
   ],
   "source": [
    "df_my_all_metrics_normalized.describe().round(3)"
   ]
  },
  {
   "cell_type": "code",
   "execution_count": 228,
   "metadata": {},
   "outputs": [
    {
     "data": {
      "text/html": [
       "<div>\n",
       "<style scoped>\n",
       "    .dataframe tbody tr th:only-of-type {\n",
       "        vertical-align: middle;\n",
       "    }\n",
       "\n",
       "    .dataframe tbody tr th {\n",
       "        vertical-align: top;\n",
       "    }\n",
       "\n",
       "    .dataframe thead th {\n",
       "        text-align: right;\n",
       "    }\n",
       "</style>\n",
       "<table border=\"1\" class=\"dataframe\">\n",
       "  <thead>\n",
       "    <tr style=\"text-align: right;\">\n",
       "      <th></th>\n",
       "      <th>technicalDebt</th>\n",
       "      <th>leadTime</th>\n",
       "      <th>complexityPoints</th>\n",
       "      <th>totalDevelopers</th>\n",
       "      <th>taskScaling</th>\n",
       "      <th>maturity</th>\n",
       "      <th>taskGlobalDistance</th>\n",
       "    </tr>\n",
       "  </thead>\n",
       "  <tbody>\n",
       "    <tr>\n",
       "      <th>technicalDebt</th>\n",
       "      <td>1.0000</td>\n",
       "      <td>0.4088</td>\n",
       "      <td>0.6088</td>\n",
       "      <td>0.3433</td>\n",
       "      <td>-0.4190</td>\n",
       "      <td>-0.0476</td>\n",
       "      <td>-0.0258</td>\n",
       "    </tr>\n",
       "    <tr>\n",
       "      <th>leadTime</th>\n",
       "      <td>0.4088</td>\n",
       "      <td>1.0000</td>\n",
       "      <td>0.3300</td>\n",
       "      <td>0.5913</td>\n",
       "      <td>-0.2425</td>\n",
       "      <td>0.0119</td>\n",
       "      <td>-0.1703</td>\n",
       "    </tr>\n",
       "    <tr>\n",
       "      <th>complexityPoints</th>\n",
       "      <td>0.6088</td>\n",
       "      <td>0.3300</td>\n",
       "      <td>1.0000</td>\n",
       "      <td>0.2966</td>\n",
       "      <td>-0.4695</td>\n",
       "      <td>-0.2918</td>\n",
       "      <td>-0.2742</td>\n",
       "    </tr>\n",
       "    <tr>\n",
       "      <th>totalDevelopers</th>\n",
       "      <td>0.3433</td>\n",
       "      <td>0.5913</td>\n",
       "      <td>0.2966</td>\n",
       "      <td>1.0000</td>\n",
       "      <td>0.0765</td>\n",
       "      <td>0.3162</td>\n",
       "      <td>0.2219</td>\n",
       "    </tr>\n",
       "    <tr>\n",
       "      <th>taskScaling</th>\n",
       "      <td>-0.4190</td>\n",
       "      <td>-0.2425</td>\n",
       "      <td>-0.4695</td>\n",
       "      <td>0.0765</td>\n",
       "      <td>1.0000</td>\n",
       "      <td>0.5259</td>\n",
       "      <td>0.2017</td>\n",
       "    </tr>\n",
       "    <tr>\n",
       "      <th>maturity</th>\n",
       "      <td>-0.0476</td>\n",
       "      <td>0.0119</td>\n",
       "      <td>-0.2918</td>\n",
       "      <td>0.3162</td>\n",
       "      <td>0.5259</td>\n",
       "      <td>1.0000</td>\n",
       "      <td>0.2134</td>\n",
       "    </tr>\n",
       "    <tr>\n",
       "      <th>taskGlobalDistance</th>\n",
       "      <td>-0.0258</td>\n",
       "      <td>-0.1703</td>\n",
       "      <td>-0.2742</td>\n",
       "      <td>0.2219</td>\n",
       "      <td>0.2017</td>\n",
       "      <td>0.2134</td>\n",
       "      <td>1.0000</td>\n",
       "    </tr>\n",
       "  </tbody>\n",
       "</table>\n",
       "</div>"
      ],
      "text/plain": [
       "                    technicalDebt  leadTime  complexityPoints  \\\n",
       "technicalDebt              1.0000    0.4088            0.6088   \n",
       "leadTime                   0.4088    1.0000            0.3300   \n",
       "complexityPoints           0.6088    0.3300            1.0000   \n",
       "totalDevelopers            0.3433    0.5913            0.2966   \n",
       "taskScaling               -0.4190   -0.2425           -0.4695   \n",
       "maturity                  -0.0476    0.0119           -0.2918   \n",
       "taskGlobalDistance        -0.0258   -0.1703           -0.2742   \n",
       "\n",
       "                    totalDevelopers  taskScaling  maturity  taskGlobalDistance  \n",
       "technicalDebt                0.3433      -0.4190   -0.0476             -0.0258  \n",
       "leadTime                     0.5913      -0.2425    0.0119             -0.1703  \n",
       "complexityPoints             0.2966      -0.4695   -0.2918             -0.2742  \n",
       "totalDevelopers              1.0000       0.0765    0.3162              0.2219  \n",
       "taskScaling                  0.0765       1.0000    0.5259              0.2017  \n",
       "maturity                     0.3162       0.5259    1.0000              0.2134  \n",
       "taskGlobalDistance           0.2219       0.2017    0.2134              1.0000  "
      ]
     },
     "execution_count": 228,
     "metadata": {},
     "output_type": "execute_result"
    }
   ],
   "source": [
    "df_my_all_metrics_normalized.corr().round(4)"
   ]
  },
  {
   "cell_type": "code",
   "execution_count": 229,
   "metadata": {},
   "outputs": [],
   "source": [
    "def show_my_scatter(feature):\n",
    "  # plot\n",
    "  pyplot.scatter(df_my_all_metrics_normalized[feature].values, df_my_all_metrics_normalized.technicalDebt.values)\n",
    "  pyplot.show()\n",
    "\n",
    "def show_my_lmplot(feature):\n",
    "  sns.lmplot(x=feature, y='technicalDebt', data=df_my_all_metrics_normalized)"
   ]
  },
  {
   "cell_type": "code",
   "execution_count": 230,
   "metadata": {},
   "outputs": [],
   "source": [
    "def calculate_spearman(feature):\n",
    "  # calculate spearman's correlation\n",
    "  coef, p = stats.spearmanr(df_my_all_metrics_normalized[feature].values,  df_my_all_metrics_normalized.technicalDebt.values)\n",
    "  alfa = 0.05\n",
    "  checkSpearmansCorrelations(coef, p, alfa)\n",
    "  return coef.round(4), p.round(4)"
   ]
  },
  {
   "cell_type": "markdown",
   "metadata": {},
   "source": [
    "### 1.5.1 Gráfico de Correlação entre LeadTime (x1) e Technical Debt (y)"
   ]
  },
  {
   "cell_type": "code",
   "execution_count": 231,
   "metadata": {},
   "outputs": [
    {
     "name": "stdout",
     "output_type": "stream",
     "text": [
      "Spearmans correlation coefficient: 0.486\n",
      "Samples are correlated (reject H0) p=0.005\n"
     ]
    },
    {
     "data": {
      "image/png": "[encoded data removed]",
      "text/plain": [
       "<Figure size 360x360 with 1 Axes>"
      ]
     },
     "metadata": {
      "needs_background": "light"
     },
     "output_type": "display_data"
    }
   ],
   "source": [
    "feature1 = my_dict[1]\n",
    "show_my_lmplot(feature1)\n",
    "coefLeadTimeNormalized, pLeadTimeNormalized = calculate_spearman(feature1)"
   ]
  },
  {
   "cell_type": "markdown",
   "metadata": {},
   "source": [
    "### 1.5.2 Gráfico de Correlação entre complexyPoint (x2) e Technical Debt (y)"
   ]
  },
  {
   "cell_type": "code",
   "execution_count": 232,
   "metadata": {},
   "outputs": [
    {
     "name": "stdout",
     "output_type": "stream",
     "text": [
      "Spearmans correlation coefficient: 0.650\n",
      "Samples are correlated (reject H0) p=0.000\n"
     ]
    },
    {
     "data": {
      "image/png": "[encoded data removed]",
      "text/plain": [
       "<Figure size 360x360 with 1 Axes>"
      ]
     },
     "metadata": {
      "needs_background": "light"
     },
     "output_type": "display_data"
    }
   ],
   "source": [
    "feature2 = my_dict[2]\n",
    "show_my_lmplot(feature2)\n",
    "coefComplexityPointsNormalized, pComplexityPointsNormalized = calculate_spearman(feature2)"
   ]
  },
  {
   "cell_type": "markdown",
   "metadata": {},
   "source": [
    "### 1.5.3 Gráfico de Correlação entre totalDevlopers (x3) e Technical Debt (y)"
   ]
  },
  {
   "cell_type": "code",
   "execution_count": 233,
   "metadata": {},
   "outputs": [
    {
     "name": "stdout",
     "output_type": "stream",
     "text": [
      "Spearmans correlation coefficient: 0.505\n",
      "Samples are correlated (reject H0) p=0.003\n"
     ]
    },
    {
     "data": {
      "image/png": "[encoded data removed]",
      "text/plain": [
       "<Figure size 360x360 with 1 Axes>"
      ]
     },
     "metadata": {
      "needs_background": "light"
     },
     "output_type": "display_data"
    }
   ],
   "source": [
    "feature3 = my_dict[3]\n",
    "show_my_lmplot(feature3)\n",
    "coefTotalDevelopersNormalized, pTotalDevelopersNormalized = calculate_spearman(feature3)"
   ]
  },
  {
   "cell_type": "markdown",
   "metadata": {},
   "source": [
    "### 1.5.4 Gráfico de Correlação entre taskScaling (x4) e Technical Debt (y)"
   ]
  },
  {
   "cell_type": "code",
   "execution_count": 234,
   "metadata": {},
   "outputs": [
    {
     "name": "stdout",
     "output_type": "stream",
     "text": [
      "Spearmans correlation coefficient: -0.439\n",
      "Samples are correlated (reject H0) p=0.012\n"
     ]
    },
    {
     "data": {
      "image/png": "[encoded data removed]",
      "text/plain": [
       "<Figure size 360x360 with 1 Axes>"
      ]
     },
     "metadata": {
      "needs_background": "light"
     },
     "output_type": "display_data"
    }
   ],
   "source": [
    "feature4 = my_dict[4]\n",
    "show_my_lmplot(feature4)\n",
    "coefTaskScalingNormalized, pTaskScalingNormalized = calculate_spearman(feature4)"
   ]
  },
  {
   "cell_type": "markdown",
   "metadata": {},
   "source": [
    "### 1.5.5 Gráfico de Correlação entre maturity (x5) e Technical Debt (y)"
   ]
  },
  {
   "cell_type": "code",
   "execution_count": 235,
   "metadata": {},
   "outputs": [
    {
     "name": "stdout",
     "output_type": "stream",
     "text": [
      "Spearmans correlation coefficient: -0.135\n",
      "Samples are uncorrelated (fail to reject H0) p=0.462\n"
     ]
    },
    {
     "data": {
      "image/png": "[encoded data removed]",
      "text/plain": [
       "<Figure size 360x360 with 1 Axes>"
      ]
     },
     "metadata": {
      "needs_background": "light"
     },
     "output_type": "display_data"
    }
   ],
   "source": [
    "feature5 = my_dict[5]\n",
    "show_my_lmplot(feature5)\n",
    "coefMaturityNormalized, pMaturityNormalized = calculate_spearman(feature5)"
   ]
  },
  {
   "cell_type": "markdown",
   "metadata": {},
   "source": [
    "### 1.5.6 Gráfico de Correlação entre taskGlobalDistance (x6) e Technical Debt (y)"
   ]
  },
  {
   "cell_type": "code",
   "execution_count": 236,
   "metadata": {},
   "outputs": [
    {
     "name": "stdout",
     "output_type": "stream",
     "text": [
      "Spearmans correlation coefficient: 0.034\n",
      "Samples are uncorrelated (fail to reject H0) p=0.855\n"
     ]
    },
    {
     "data": {
      "image/png": "[encoded data removed]",
      "text/plain": [
       "<Figure size 360x360 with 1 Axes>"
      ]
     },
     "metadata": {
      "needs_background": "light"
     },
     "output_type": "display_data"
    }
   ],
   "source": [
    "feature6 = my_dict[6]\n",
    "show_my_lmplot(feature6)\n",
    "coefTaskGlobalDistanceNormalized, pTaskGlobalDistanceNormalized = calculate_spearman(feature6)"
   ]
  },
  {
   "cell_type": "code",
   "execution_count": 237,
   "metadata": {},
   "outputs": [],
   "source": [
    "from tabulate import tabulate\n",
    "def showCalcPSpearman(p, alfa):\n",
    "    if p > alfa:\n",
    "        return 'NÃO'\n",
    "    else:\n",
    "        return 'SIM'"
   ]
  },
  {
   "cell_type": "code",
   "execution_count": 238,
   "metadata": {},
   "outputs": [
    {
     "name": "stdout",
     "output_type": "stream",
     "text": [
      "Característica      Dívida Técnica      Spearmans Coef      p  Correlacionado\n",
      "------------------  ----------------  ----------------  -----  ----------------\n",
      "LeadTime            TD                           0.486  0.005  SIM\n",
      "ComplexityPoints    TD                           0.65   0      SIM\n",
      "TotalDevelopers     TD                           0.505  0.003  SIM\n",
      "TaskScaling         TD                          -0.439  0.012  SIM\n",
      "Maturity            TD                          -0.135  0.462  NÃO\n",
      "TaskGlobalDistance  TD                           0.034  0.855  NÃO\n"
     ]
    }
   ],
   "source": [
    "LeadTimeRow = ['LeadTime', 'TD', coefLeadTimeNormalized.round(3), pLeadTimeNormalized.round(3), \n",
    "               showCalcPSpearman(pLeadTimeNormalized, 0.05)]\n",
    "\n",
    "ComplexityPointsRow = ['ComplexityPoints', 'TD', coefComplexityPointsNormalized.round(3), \n",
    "                       pComplexityPointsNormalized.round(3),\n",
    "                       showCalcPSpearman(pComplexityPointsNormalized, 0.05)]\n",
    "\n",
    "TotalDevelopersRow = ['TotalDevelopers', 'TD', coefTotalDevelopersNormalized, pTotalDevelopersNormalized.round(3),\n",
    "                      showCalcPSpearman(pTotalDevelopersNormalized, 0.05)]\n",
    "\n",
    "TaskScalingRow = ['TaskScaling', 'TD', coefTaskScalingNormalized.round(3), pTaskScalingNormalized.round(3), \n",
    "                  showCalcPSpearman(pTaskScalingNormalized, 0.05)]\n",
    "\n",
    "MaturityRow = ['Maturity', 'TD', coefMaturityNormalized.round(3), pMaturityNormalized.round(3), \n",
    "               showCalcPSpearman(pMaturityNormalized, 0.05)]\n",
    "\n",
    "TaskGlobalDistanceRow = ['TaskGlobalDistance', 'TD', coefTaskGlobalDistanceNormalized.round(3), \n",
    "                         pTaskGlobalDistanceNormalized.round(3),\n",
    "                         showCalcPSpearman(pTaskGlobalDistanceNormalized, 0.05)]\n",
    "\n",
    "analysisHeaders = ['Característica', 'Dívida Técnica', 'Spearmans Coef', 'p', 'Correlacionado']\n",
    "\n",
    "print(tabulate([LeadTimeRow, ComplexityPointsRow, TotalDevelopersRow, \n",
    "                TaskScalingRow, MaturityRow, TaskGlobalDistanceRow],\n",
    "               headers=analysisHeaders))"
   ]
  },
  {
   "cell_type": "code",
   "execution_count": 239,
   "metadata": {},
   "outputs": [
    {
     "data": {
      "text/plain": [
       "Index(['technicalDebt', 'leadTime', 'complexityPoints', 'totalDevelopers',\n",
       "       'taskScaling', 'maturity', 'taskGlobalDistance'],\n",
       "      dtype='object')"
      ]
     },
     "execution_count": 239,
     "metadata": {},
     "output_type": "execute_result"
    }
   ],
   "source": [
    "df_my_all_metrics_normalized.columns"
   ]
  },
  {
   "cell_type": "code",
   "execution_count": 240,
   "metadata": {},
   "outputs": [
    {
     "data": {
      "text/plain": [
       "{0: 'technicalDebt',\n",
       " 1: 'leadTime',\n",
       " 2: 'complexityPoints',\n",
       " 3: 'totalDevelopers',\n",
       " 4: 'taskScaling',\n",
       " 5: 'maturity',\n",
       " 6: 'taskGlobalDistance'}"
      ]
     },
     "execution_count": 240,
     "metadata": {},
     "output_type": "execute_result"
    }
   ],
   "source": [
    "my_dict"
   ]
  },
  {
   "cell_type": "markdown",
   "metadata": {},
   "source": [
    "### 1.6 Wilcoxon singed-rank test"
   ]
  },
  {
   "cell_type": "code",
   "execution_count": 241,
   "metadata": {},
   "outputs": [],
   "source": [
    "# Wilcoxon signed-rank test\n",
    "# The Wilcoxon signed-rank test tests the null hypothesis that two related paired samples come from the same distribution. \n",
    "# In particular, it tests whether the distribution of the differences x - y is symmetric about zero. \n",
    "# It is a non-parametric version of the paired T-test.\n",
    "\n",
    "from numpy.random import seed\n",
    "from numpy.random import randn\n",
    "from scipy.stats import wilcoxon"
   ]
  },
  {
   "cell_type": "code",
   "execution_count": 242,
   "metadata": {},
   "outputs": [],
   "source": [
    "def checkWilcoxonSingedRank(data1, data2, alpha=0.05):\n",
    "  stat, p = wilcoxon(data1, data2)\n",
    "  print('Statistics=%.3f, p=%.3f' % (stat, p))\n",
    "\n",
    "  # interpret\n",
    "  if p > alpha:\n",
    "    print('Same distribution (fail to reject H0)')\n",
    "  else:\n",
    "    print('Different distribution (reject H0)')\n",
    "  return stat.round(3), p.round(3)"
   ]
  },
  {
   "cell_type": "code",
   "execution_count": 243,
   "metadata": {},
   "outputs": [
    {
     "name": "stdout",
     "output_type": "stream",
     "text": [
      "leadTime\n",
      "Statistics=119.000, p=0.007\n",
      "Different distribution (reject H0)\n",
      "(119.0, 0.007)\n",
      "---\n",
      "complexityPoints\n",
      "Statistics=114.000, p=0.005\n",
      "Different distribution (reject H0)\n",
      "(114.0, 0.005)\n",
      "---\n",
      "totalDevelopers\n",
      "Statistics=229.000, p=0.710\n",
      "Same distribution (fail to reject H0)\n",
      "(229.0, 0.71)\n",
      "---\n",
      "taskScaling\n",
      "Statistics=197.000, p=0.210\n",
      "Same distribution (fail to reject H0)\n",
      "(197.0, 0.21)\n",
      "---\n"
     ]
    }
   ],
   "source": [
    "for i in range(1,5):\n",
    "  print(my_dict[i])\n",
    "  print(checkWilcoxonSingedRank(df_my_all_metrics_normalized[my_dict[i]].values, df_my_all_metrics_normalized.technicalDebt.values))\n",
    "  print(\"---\")  \n"
   ]
  },
  {
   "cell_type": "markdown",
   "metadata": {},
   "source": [
    "### 1.7 Testing independence (durbin_watson)"
   ]
  },
  {
   "cell_type": "code",
   "execution_count": 244,
   "metadata": {},
   "outputs": [],
   "source": [
    "from statsmodels.regression.linear_model import OLS\n",
    "import numpy as np\n",
    "from statsmodels.stats.stattools import durbin_watson"
   ]
  },
  {
   "cell_type": "code",
   "execution_count": 245,
   "metadata": {},
   "outputs": [],
   "source": [
    "def dw(data):\n",
    "    ols_res = OLS(data, np.ones(len(data))).fit()\n",
    "    return durbin_watson(ols_res.resid)"
   ]
  },
  {
   "cell_type": "code",
   "execution_count": 246,
   "metadata": {},
   "outputs": [
    {
     "name": "stdout",
     "output_type": "stream",
     "text": [
      "dw of range=2.041158 technicalDebt\n"
     ]
    }
   ],
   "source": [
    "print(\"dw of range=%f technicalDebt\" % dw(df_my_all_metrics_normalized.technicalDebt.values))"
   ]
  },
  {
   "cell_type": "code",
   "execution_count": 247,
   "metadata": {},
   "outputs": [
    {
     "name": "stdout",
     "output_type": "stream",
     "text": [
      "dw of leadTime is 1.614\n",
      "dw of complexityPoints is 2.155\n",
      "dw of totalDevelopers is 1.23\n",
      "dw of taskScaling is 1.727\n"
     ]
    }
   ],
   "source": [
    "for each in range(1,5):\n",
    "    print(\"dw of \" + my_dict[each] + \" is\", dw(df_my_all_metrics_normalized[my_dict[each]].values).round(3))"
   ]
  },
  {
   "cell_type": "markdown",
   "metadata": {},
   "source": [
    "# <font color='red' style='font-size: 30px;'>Estimando um Modelo de Regressão Linear para o TD</font>\n",
    "<hr style='border: 2px solid red;'>"
   ]
  },
  {
   "cell_type": "markdown",
   "metadata": {},
   "source": [
    "# Regresão Linear\n",
    "<hr>\n",
    "\n",
    "<p style='font-size: 20px; line-height: 2; margin: 10px 50px; text-align: justify;'>A análise de regressão diz respeito ao estudo da dependência de uma variável (a variável <b>dependente</b>) em relação a uma ou mais variáveis, as variáveis explanatórias, visando estimar e/ou prever o valor médio da primeira em termos dos valores conhecidos ou fixados das segundas.</p>\n",
    "\n",
    "\n",
    "## scikit-learn (https://scikit-learn.org/stable/)\n",
    "\n",
    "<p style='font-size: 20px; line-height: 2; margin: 10px 50px; text-align: justify;'>O *scikit-learn* é um módulo Python especializado em soluções para *machine learning*.</p>"
   ]
  },
  {
   "cell_type": "markdown",
   "metadata": {},
   "source": [
    "## Importando o *train_test_split* da biblioteca *scikit-learn*\n",
    "\n",
    "https://scikit-learn.org/stable/modules/generated/sklearn.model_selection.train_test_split.html"
   ]
  },
  {
   "cell_type": "code",
   "execution_count": 248,
   "metadata": {},
   "outputs": [],
   "source": [
    "from sklearn.model_selection import train_test_split"
   ]
  },
  {
   "cell_type": "markdown",
   "metadata": {},
   "source": [
    "## Criando uma Series (pandas) para armazenar a Dívida Técnica (TD ) (y)"
   ]
  },
  {
   "cell_type": "code",
   "execution_count": 249,
   "metadata": {},
   "outputs": [
    {
     "data": {
      "text/html": [
       "<div>\n",
       "<style scoped>\n",
       "    .dataframe tbody tr th:only-of-type {\n",
       "        vertical-align: middle;\n",
       "    }\n",
       "\n",
       "    .dataframe tbody tr th {\n",
       "        vertical-align: top;\n",
       "    }\n",
       "\n",
       "    .dataframe thead th {\n",
       "        text-align: right;\n",
       "    }\n",
       "</style>\n",
       "<table border=\"1\" class=\"dataframe\">\n",
       "  <thead>\n",
       "    <tr style=\"text-align: right;\">\n",
       "      <th></th>\n",
       "      <th>uniqueID</th>\n",
       "      <th>ID</th>\n",
       "      <th>location</th>\n",
       "      <th>maturity</th>\n",
       "      <th>totalDevelopers</th>\n",
       "      <th>complexityPoints</th>\n",
       "      <th>start</th>\n",
       "      <th>end</th>\n",
       "      <th>leadTime</th>\n",
       "      <th>technicalDebt</th>\n",
       "      <th>taskScaling</th>\n",
       "      <th>taskGlobalDistance</th>\n",
       "    </tr>\n",
       "  </thead>\n",
       "  <tbody>\n",
       "    <tr>\n",
       "      <th>0</th>\n",
       "      <td>PC:14187</td>\n",
       "      <td>TURK-372</td>\n",
       "      <td>India</td>\n",
       "      <td>4.0</td>\n",
       "      <td>13.0</td>\n",
       "      <td>60.0</td>\n",
       "      <td>2014-08-11 00:00:00</td>\n",
       "      <td>2015-02-06 00:00:00</td>\n",
       "      <td>179.0</td>\n",
       "      <td>796.0</td>\n",
       "      <td>0.216667</td>\n",
       "      <td>1.250000</td>\n",
       "    </tr>\n",
       "    <tr>\n",
       "      <th>1</th>\n",
       "      <td>PC:15448</td>\n",
       "      <td>BHA-328</td>\n",
       "      <td>Virtual</td>\n",
       "      <td>4.0</td>\n",
       "      <td>25.0</td>\n",
       "      <td>170.0</td>\n",
       "      <td>2015-01-19 00:00:00</td>\n",
       "      <td>2015-06-05 00:00:00</td>\n",
       "      <td>137.0</td>\n",
       "      <td>2474.0</td>\n",
       "      <td>0.147059</td>\n",
       "      <td>6.244748</td>\n",
       "    </tr>\n",
       "    <tr>\n",
       "      <th>2</th>\n",
       "      <td>PC:13350</td>\n",
       "      <td>TELSTRA-038</td>\n",
       "      <td>India</td>\n",
       "      <td>4.0</td>\n",
       "      <td>7.0</td>\n",
       "      <td>35.0</td>\n",
       "      <td>2015-02-09 00:00:00</td>\n",
       "      <td>2015-04-02 00:00:00</td>\n",
       "      <td>52.0</td>\n",
       "      <td>202.0</td>\n",
       "      <td>0.200000</td>\n",
       "      <td>3.463991</td>\n",
       "    </tr>\n",
       "  </tbody>\n",
       "</table>\n",
       "</div>"
      ],
      "text/plain": [
       "   uniqueID           ID location  maturity  totalDevelopers  \\\n",
       "0  PC:14187     TURK-372    India       4.0             13.0   \n",
       "1  PC:15448      BHA-328  Virtual       4.0             25.0   \n",
       "2  PC:13350  TELSTRA-038    India       4.0              7.0   \n",
       "\n",
       "   complexityPoints                start                  end  leadTime  \\\n",
       "0              60.0  2014-08-11 00:00:00  2015-02-06 00:00:00     179.0   \n",
       "1             170.0  2015-01-19 00:00:00  2015-06-05 00:00:00     137.0   \n",
       "2              35.0  2015-02-09 00:00:00  2015-04-02 00:00:00      52.0   \n",
       "\n",
       "   technicalDebt  taskScaling  taskGlobalDistance  \n",
       "0          796.0     0.216667            1.250000  \n",
       "1         2474.0     0.147059            6.244748  \n",
       "2          202.0     0.200000            3.463991  "
      ]
     },
     "execution_count": 249,
     "metadata": {},
     "output_type": "execute_result"
    }
   ],
   "source": [
    "df_all_metrics.head(3)"
   ]
  },
  {
   "cell_type": "code",
   "execution_count": 250,
   "metadata": {},
   "outputs": [],
   "source": [
    "y = df_all_metrics.technicalDebt"
   ]
  },
  {
   "cell_type": "code",
   "execution_count": 251,
   "metadata": {},
   "outputs": [
    {
     "data": {
      "text/plain": [
       "{0: 'technicalDebt',\n",
       " 1: 'leadTime',\n",
       " 2: 'complexityPoints',\n",
       " 3: 'totalDevelopers',\n",
       " 4: 'taskScaling',\n",
       " 5: 'maturity',\n",
       " 6: 'taskGlobalDistance'}"
      ]
     },
     "execution_count": 251,
     "metadata": {},
     "output_type": "execute_result"
    }
   ],
   "source": [
    "my_dict"
   ]
  },
  {
   "cell_type": "markdown",
   "metadata": {},
   "source": [
    "## Criando um DataFrame (pandas) para armazenar as variáveis explicativas (X)"
   ]
  },
  {
   "cell_type": "code",
   "execution_count": 252,
   "metadata": {},
   "outputs": [],
   "source": [
    "X = df_all_metrics[[my_dict[1], my_dict[2], my_dict[3], my_dict[4]]]"
   ]
  },
  {
   "cell_type": "code",
   "execution_count": 253,
   "metadata": {},
   "outputs": [
    {
     "data": {
      "text/html": [
       "<div>\n",
       "<style scoped>\n",
       "    .dataframe tbody tr th:only-of-type {\n",
       "        vertical-align: middle;\n",
       "    }\n",
       "\n",
       "    .dataframe tbody tr th {\n",
       "        vertical-align: top;\n",
       "    }\n",
       "\n",
       "    .dataframe thead th {\n",
       "        text-align: right;\n",
       "    }\n",
       "</style>\n",
       "<table border=\"1\" class=\"dataframe\">\n",
       "  <thead>\n",
       "    <tr style=\"text-align: right;\">\n",
       "      <th></th>\n",
       "      <th>leadTime</th>\n",
       "      <th>complexityPoints</th>\n",
       "      <th>totalDevelopers</th>\n",
       "      <th>taskScaling</th>\n",
       "    </tr>\n",
       "  </thead>\n",
       "  <tbody>\n",
       "    <tr>\n",
       "      <th>0</th>\n",
       "      <td>179.0</td>\n",
       "      <td>60.0</td>\n",
       "      <td>13.0</td>\n",
       "      <td>0.216667</td>\n",
       "    </tr>\n",
       "    <tr>\n",
       "      <th>1</th>\n",
       "      <td>137.0</td>\n",
       "      <td>170.0</td>\n",
       "      <td>25.0</td>\n",
       "      <td>0.147059</td>\n",
       "    </tr>\n",
       "    <tr>\n",
       "      <th>2</th>\n",
       "      <td>52.0</td>\n",
       "      <td>35.0</td>\n",
       "      <td>7.0</td>\n",
       "      <td>0.200000</td>\n",
       "    </tr>\n",
       "    <tr>\n",
       "      <th>3</th>\n",
       "      <td>39.0</td>\n",
       "      <td>15.0</td>\n",
       "      <td>2.0</td>\n",
       "      <td>0.133333</td>\n",
       "    </tr>\n",
       "    <tr>\n",
       "      <th>4</th>\n",
       "      <td>46.0</td>\n",
       "      <td>25.0</td>\n",
       "      <td>4.0</td>\n",
       "      <td>0.160000</td>\n",
       "    </tr>\n",
       "  </tbody>\n",
       "</table>\n",
       "</div>"
      ],
      "text/plain": [
       "   leadTime  complexityPoints  totalDevelopers  taskScaling\n",
       "0     179.0              60.0             13.0     0.216667\n",
       "1     137.0             170.0             25.0     0.147059\n",
       "2      52.0              35.0              7.0     0.200000\n",
       "3      39.0              15.0              2.0     0.133333\n",
       "4      46.0              25.0              4.0     0.160000"
      ]
     },
     "execution_count": 253,
     "metadata": {},
     "output_type": "execute_result"
    }
   ],
   "source": [
    "X.head(5)"
   ]
  },
  {
   "cell_type": "markdown",
   "metadata": {},
   "source": [
    "## Criando os datasets de treino e de teste"
   ]
  },
  {
   "cell_type": "code",
   "execution_count": 254,
   "metadata": {},
   "outputs": [],
   "source": [
    "X_train, X_test, y_train, y_test = train_test_split(X, y, test_size=0.3)"
   ]
  },
  {
   "cell_type": "code",
   "execution_count": 255,
   "metadata": {},
   "outputs": [
    {
     "data": {
      "text/plain": [
       "(22, 4)"
      ]
     },
     "execution_count": 255,
     "metadata": {},
     "output_type": "execute_result"
    }
   ],
   "source": [
    "X_train.shape"
   ]
  },
  {
   "cell_type": "code",
   "execution_count": 256,
   "metadata": {},
   "outputs": [
    {
     "data": {
      "text/plain": [
       "(10, 4)"
      ]
     },
     "execution_count": 256,
     "metadata": {},
     "output_type": "execute_result"
    }
   ],
   "source": [
    "X_test.shape"
   ]
  },
  {
   "cell_type": "code",
   "execution_count": 257,
   "metadata": {},
   "outputs": [
    {
     "data": {
      "text/plain": [
       "(22,)"
      ]
     },
     "execution_count": 257,
     "metadata": {},
     "output_type": "execute_result"
    }
   ],
   "source": [
    "y_train.shape"
   ]
  },
  {
   "cell_type": "code",
   "execution_count": 258,
   "metadata": {},
   "outputs": [
    {
     "data": {
      "text/plain": [
       "(10,)"
      ]
     },
     "execution_count": 258,
     "metadata": {},
     "output_type": "execute_result"
    }
   ],
   "source": [
    "y_test.shape"
   ]
  },
  {
   "cell_type": "markdown",
   "metadata": {},
   "source": [
    "## Função de Regressão com 4 variáveis\n",
    "Y = B0 + B1x1 + B2x2 + B3x3 + B4x4"
   ]
  },
  {
   "cell_type": "markdown",
   "metadata": {},
   "source": [
    "## Importando *LinearRegression* e *metrics* da biblioteca *scikit-learn*\n",
    "\n",
    "https://scikit-learn.org/stable/modules/generated/sklearn.linear_model.LinearRegression.html\n",
    "\n",
    "https://scikit-learn.org/stable/modules/classes.html#regression-metrics"
   ]
  },
  {
   "cell_type": "code",
   "execution_count": 259,
   "metadata": {},
   "outputs": [],
   "source": [
    "from sklearn.linear_model import LinearRegression\n",
    "from sklearn import metrics"
   ]
  },
  {
   "cell_type": "markdown",
   "metadata": {},
   "source": [
    "## Instanciando a classe *LinearRegression()*"
   ]
  },
  {
   "cell_type": "code",
   "execution_count": 260,
   "metadata": {},
   "outputs": [],
   "source": [
    "modelo = LinearRegression()"
   ]
  },
  {
   "cell_type": "code",
   "execution_count": 261,
   "metadata": {},
   "outputs": [
    {
     "data": {
      "text/plain": [
       "LinearRegression(copy_X=True, fit_intercept=True, n_jobs=1, normalize=False)"
      ]
     },
     "execution_count": 261,
     "metadata": {},
     "output_type": "execute_result"
    }
   ],
   "source": [
    "modelo"
   ]
  },
  {
   "cell_type": "markdown",
   "metadata": {},
   "source": [
    "## Utilizando o método *fit()* do objeto \"modelo\" para estimar nosso modelo linear utilizando os dados de TREINO (y_train e X_train)\n",
    "\n",
    "https://scikit-learn.org/stable/modules/generated/sklearn.linear_model.LinearRegression.html#sklearn.linear_model.LinearRegression.fit"
   ]
  },
  {
   "cell_type": "code",
   "execution_count": 262,
   "metadata": {},
   "outputs": [
    {
     "data": {
      "text/plain": [
       "LinearRegression(copy_X=True, fit_intercept=True, n_jobs=1, normalize=False)"
      ]
     },
     "execution_count": 262,
     "metadata": {},
     "output_type": "execute_result"
    }
   ],
   "source": [
    "modelo.fit(X_train, y_train)"
   ]
  },
  {
   "cell_type": "markdown",
   "metadata": {},
   "source": [
    "## Obtendo o coeficiente de determinação (R²) do modelo estimado com os dados de TREINO\n",
    "\n",
    "https://scikit-learn.org/stable/modules/generated/sklearn.linear_model.LinearRegression.html#sklearn.linear_model.LinearRegression.score\n",
    "\n",
    "### Coeficiente de Determinação - R²\n",
    "\n",
    "O coeficiente de determinação (R²) é uma medida resumida que diz quanto a linha de regressão ajusta-se aos dados. É um valor entra 0 e 1.\n",
    "\n",
    "$$R^2(y, \\hat{y}) = 1 - \\frac {\\sum_{i=0}^{n-1}(y_i-\\hat{y}_i)^2}{\\sum_{i=0}^{n-1}(y_i-\\bar{y}_i)^2}$$"
   ]
  },
  {
   "cell_type": "code",
   "execution_count": 263,
   "metadata": {},
   "outputs": [
    {
     "name": "stdout",
     "output_type": "stream",
     "text": [
      "R^2 : 0.69\n"
     ]
    }
   ],
   "source": [
    "print('R^2 : {}'.format(modelo.score(X_train, y_train).round(2)))"
   ]
  },
  {
   "cell_type": "markdown",
   "metadata": {},
   "source": [
    "## Gerando previsões para os dados de TESTE (X_test) utilizando o método *predict()* do objeto \"modelo\"\n",
    "\n",
    "https://scikit-learn.org/stable/modules/generated/sklearn.linear_model.LinearRegression.html#sklearn.linear_model.LinearRegression.predict"
   ]
  },
  {
   "cell_type": "code",
   "execution_count": 264,
   "metadata": {},
   "outputs": [],
   "source": [
    "y_previsto = modelo.predict(X_test)"
   ]
  },
  {
   "cell_type": "code",
   "execution_count": 265,
   "metadata": {},
   "outputs": [
    {
     "data": {
      "text/plain": [
       "array([ 530.00241383,  834.06943524,  201.05670553, 1239.93900135,\n",
       "       1467.33554762,  471.40756714,  693.71674562,  505.77113383,\n",
       "        607.15167052,  401.23564115])"
      ]
     },
     "execution_count": 265,
     "metadata": {},
     "output_type": "execute_result"
    }
   ],
   "source": [
    "y_previsto"
   ]
  },
  {
   "cell_type": "code",
   "execution_count": 266,
   "metadata": {},
   "outputs": [
    {
     "data": {
      "text/plain": [
       "(10,)"
      ]
     },
     "execution_count": 266,
     "metadata": {},
     "output_type": "execute_result"
    }
   ],
   "source": [
    "y_previsto.shape"
   ]
  },
  {
   "cell_type": "markdown",
   "metadata": {},
   "source": [
    "## Obtendo o coeficiente de determinação (R²) para as previsões do nosso modelo\n",
    "\n",
    "https://scikit-learn.org/stable/modules/generated/sklearn.metrics.r2_score.html#sklearn.metrics.r2_score"
   ]
  },
  {
   "cell_type": "code",
   "execution_count": 267,
   "metadata": {},
   "outputs": [
    {
     "name": "stdout",
     "output_type": "stream",
     "text": [
      "Rˆ2 =  0.02\n"
     ]
    }
   ],
   "source": [
    "print('Rˆ2 = ', metrics.r2_score(y_test, y_previsto).round(2))"
   ]
  },
  {
   "cell_type": "markdown",
   "metadata": {},
   "source": [
    "# <font color='red' style='font-size: 30px;'>Obtendo Previsões Pontuais</font>\n",
    "<hr style='border: 2px solid red;'>"
   ]
  },
  {
   "cell_type": "code",
   "execution_count": 268,
   "metadata": {},
   "outputs": [
    {
     "data": {
      "text/html": [
       "<div>\n",
       "<style scoped>\n",
       "    .dataframe tbody tr th:only-of-type {\n",
       "        vertical-align: middle;\n",
       "    }\n",
       "\n",
       "    .dataframe tbody tr th {\n",
       "        vertical-align: top;\n",
       "    }\n",
       "\n",
       "    .dataframe thead th {\n",
       "        text-align: right;\n",
       "    }\n",
       "</style>\n",
       "<table border=\"1\" class=\"dataframe\">\n",
       "  <thead>\n",
       "    <tr style=\"text-align: right;\">\n",
       "      <th></th>\n",
       "      <th>leadTime</th>\n",
       "      <th>complexityPoints</th>\n",
       "      <th>totalDevelopers</th>\n",
       "      <th>taskScaling</th>\n",
       "    </tr>\n",
       "  </thead>\n",
       "  <tbody>\n",
       "    <tr>\n",
       "      <th>24</th>\n",
       "      <td>60.0</td>\n",
       "      <td>30.0</td>\n",
       "      <td>3.0</td>\n",
       "      <td>0.100000</td>\n",
       "    </tr>\n",
       "    <tr>\n",
       "      <th>12</th>\n",
       "      <td>95.0</td>\n",
       "      <td>50.0</td>\n",
       "      <td>6.0</td>\n",
       "      <td>0.120000</td>\n",
       "    </tr>\n",
       "    <tr>\n",
       "      <th>9</th>\n",
       "      <td>18.0</td>\n",
       "      <td>10.0</td>\n",
       "      <td>2.0</td>\n",
       "      <td>0.200000</td>\n",
       "    </tr>\n",
       "    <tr>\n",
       "      <th>14</th>\n",
       "      <td>116.0</td>\n",
       "      <td>100.0</td>\n",
       "      <td>6.0</td>\n",
       "      <td>0.060000</td>\n",
       "    </tr>\n",
       "    <tr>\n",
       "      <th>7</th>\n",
       "      <td>67.0</td>\n",
       "      <td>110.0</td>\n",
       "      <td>9.0</td>\n",
       "      <td>0.081818</td>\n",
       "    </tr>\n",
       "    <tr>\n",
       "      <th>16</th>\n",
       "      <td>58.0</td>\n",
       "      <td>25.0</td>\n",
       "      <td>3.0</td>\n",
       "      <td>0.120000</td>\n",
       "    </tr>\n",
       "    <tr>\n",
       "      <th>2</th>\n",
       "      <td>52.0</td>\n",
       "      <td>35.0</td>\n",
       "      <td>7.0</td>\n",
       "      <td>0.200000</td>\n",
       "    </tr>\n",
       "    <tr>\n",
       "      <th>13</th>\n",
       "      <td>123.0</td>\n",
       "      <td>25.0</td>\n",
       "      <td>5.0</td>\n",
       "      <td>0.200000</td>\n",
       "    </tr>\n",
       "    <tr>\n",
       "      <th>29</th>\n",
       "      <td>39.0</td>\n",
       "      <td>35.0</td>\n",
       "      <td>4.0</td>\n",
       "      <td>0.114286</td>\n",
       "    </tr>\n",
       "    <tr>\n",
       "      <th>18</th>\n",
       "      <td>53.0</td>\n",
       "      <td>20.0</td>\n",
       "      <td>5.0</td>\n",
       "      <td>0.250000</td>\n",
       "    </tr>\n",
       "  </tbody>\n",
       "</table>\n",
       "</div>"
      ],
      "text/plain": [
       "    leadTime  complexityPoints  totalDevelopers  taskScaling\n",
       "24      60.0              30.0              3.0     0.100000\n",
       "12      95.0              50.0              6.0     0.120000\n",
       "9       18.0              10.0              2.0     0.200000\n",
       "14     116.0             100.0              6.0     0.060000\n",
       "7       67.0             110.0              9.0     0.081818\n",
       "16      58.0              25.0              3.0     0.120000\n",
       "2       52.0              35.0              7.0     0.200000\n",
       "13     123.0              25.0              5.0     0.200000\n",
       "29      39.0              35.0              4.0     0.114286\n",
       "18      53.0              20.0              5.0     0.250000"
      ]
     },
     "execution_count": 268,
     "metadata": {},
     "output_type": "execute_result"
    }
   ],
   "source": [
    "X_test"
   ]
  },
  {
   "cell_type": "code",
   "execution_count": 269,
   "metadata": {},
   "outputs": [
    {
     "data": {
      "text/html": [
       "<div>\n",
       "<style scoped>\n",
       "    .dataframe tbody tr th:only-of-type {\n",
       "        vertical-align: middle;\n",
       "    }\n",
       "\n",
       "    .dataframe tbody tr th {\n",
       "        vertical-align: top;\n",
       "    }\n",
       "\n",
       "    .dataframe thead th {\n",
       "        text-align: right;\n",
       "    }\n",
       "</style>\n",
       "<table border=\"1\" class=\"dataframe\">\n",
       "  <thead>\n",
       "    <tr style=\"text-align: right;\">\n",
       "      <th></th>\n",
       "      <th>leadTime</th>\n",
       "      <th>complexityPoints</th>\n",
       "      <th>totalDevelopers</th>\n",
       "      <th>taskScaling</th>\n",
       "    </tr>\n",
       "  </thead>\n",
       "  <tbody>\n",
       "    <tr>\n",
       "      <th>count</th>\n",
       "      <td>10.000</td>\n",
       "      <td>10.000</td>\n",
       "      <td>10.000</td>\n",
       "      <td>10.000</td>\n",
       "    </tr>\n",
       "    <tr>\n",
       "      <th>mean</th>\n",
       "      <td>68.100</td>\n",
       "      <td>44.000</td>\n",
       "      <td>5.000</td>\n",
       "      <td>0.145</td>\n",
       "    </tr>\n",
       "    <tr>\n",
       "      <th>std</th>\n",
       "      <td>33.408</td>\n",
       "      <td>33.895</td>\n",
       "      <td>2.108</td>\n",
       "      <td>0.063</td>\n",
       "    </tr>\n",
       "    <tr>\n",
       "      <th>min</th>\n",
       "      <td>18.000</td>\n",
       "      <td>10.000</td>\n",
       "      <td>2.000</td>\n",
       "      <td>0.060</td>\n",
       "    </tr>\n",
       "    <tr>\n",
       "      <th>25%</th>\n",
       "      <td>52.250</td>\n",
       "      <td>25.000</td>\n",
       "      <td>3.250</td>\n",
       "      <td>0.104</td>\n",
       "    </tr>\n",
       "    <tr>\n",
       "      <th>50%</th>\n",
       "      <td>59.000</td>\n",
       "      <td>32.500</td>\n",
       "      <td>5.000</td>\n",
       "      <td>0.120</td>\n",
       "    </tr>\n",
       "    <tr>\n",
       "      <th>75%</th>\n",
       "      <td>88.000</td>\n",
       "      <td>46.250</td>\n",
       "      <td>6.000</td>\n",
       "      <td>0.200</td>\n",
       "    </tr>\n",
       "    <tr>\n",
       "      <th>max</th>\n",
       "      <td>123.000</td>\n",
       "      <td>110.000</td>\n",
       "      <td>9.000</td>\n",
       "      <td>0.250</td>\n",
       "    </tr>\n",
       "  </tbody>\n",
       "</table>\n",
       "</div>"
      ],
      "text/plain": [
       "       leadTime  complexityPoints  totalDevelopers  taskScaling\n",
       "count    10.000            10.000           10.000       10.000\n",
       "mean     68.100            44.000            5.000        0.145\n",
       "std      33.408            33.895            2.108        0.063\n",
       "min      18.000            10.000            2.000        0.060\n",
       "25%      52.250            25.000            3.250        0.104\n",
       "50%      59.000            32.500            5.000        0.120\n",
       "75%      88.000            46.250            6.000        0.200\n",
       "max     123.000           110.000            9.000        0.250"
      ]
     },
     "execution_count": 269,
     "metadata": {},
     "output_type": "execute_result"
    }
   ],
   "source": [
    "X_test.describe().round(3)"
   ]
  },
  {
   "cell_type": "markdown",
   "metadata": {},
   "source": [
    "## Dados de entrada"
   ]
  },
  {
   "cell_type": "code",
   "execution_count": 270,
   "metadata": {},
   "outputs": [
    {
     "data": {
      "text/html": [
       "<div>\n",
       "<style scoped>\n",
       "    .dataframe tbody tr th:only-of-type {\n",
       "        vertical-align: middle;\n",
       "    }\n",
       "\n",
       "    .dataframe tbody tr th {\n",
       "        vertical-align: top;\n",
       "    }\n",
       "\n",
       "    .dataframe thead th {\n",
       "        text-align: right;\n",
       "    }\n",
       "</style>\n",
       "<table border=\"1\" class=\"dataframe\">\n",
       "  <thead>\n",
       "    <tr style=\"text-align: right;\">\n",
       "      <th></th>\n",
       "      <th>leadTime</th>\n",
       "      <th>complexityPoints</th>\n",
       "      <th>totalDevelopers</th>\n",
       "      <th>taskScaling</th>\n",
       "    </tr>\n",
       "  </thead>\n",
       "  <tbody>\n",
       "    <tr>\n",
       "      <th>24</th>\n",
       "      <td>60.0</td>\n",
       "      <td>30.0</td>\n",
       "      <td>3.0</td>\n",
       "      <td>0.1</td>\n",
       "    </tr>\n",
       "  </tbody>\n",
       "</table>\n",
       "</div>"
      ],
      "text/plain": [
       "    leadTime  complexityPoints  totalDevelopers  taskScaling\n",
       "24      60.0              30.0              3.0          0.1"
      ]
     },
     "execution_count": 270,
     "metadata": {},
     "output_type": "execute_result"
    }
   ],
   "source": [
    "entrada = X_test[0:1]\n",
    "entrada"
   ]
  },
  {
   "cell_type": "markdown",
   "metadata": {},
   "source": [
    "## Gerando previsão pontual"
   ]
  },
  {
   "cell_type": "code",
   "execution_count": 271,
   "metadata": {},
   "outputs": [
    {
     "data": {
      "text/plain": [
       "530.002"
      ]
     },
     "execution_count": 271,
     "metadata": {},
     "output_type": "execute_result"
    }
   ],
   "source": [
    "modelo.predict(entrada)[0].round(3)"
   ]
  },
  {
   "cell_type": "markdown",
   "metadata": {},
   "source": [
    "## Criando um simulador simples"
   ]
  },
  {
   "cell_type": "code",
   "execution_count": 272,
   "metadata": {},
   "outputs": [
    {
     "data": {
      "text/plain": [
       "[[130, 100, 8, 0.08]]"
      ]
     },
     "execution_count": 272,
     "metadata": {},
     "output_type": "execute_result"
    }
   ],
   "source": [
    "x1 = 130\n",
    "x2 = 100\n",
    "x3 = 8\n",
    "x4 = 0.08\n",
    "minha_entrada = [[x1, x2, x3, x4]]\n",
    "minha_entrada"
   ]
  },
  {
   "cell_type": "code",
   "execution_count": 273,
   "metadata": {},
   "outputs": [
    {
     "data": {
      "text/plain": [
       "[[130, 100, 8, 0.08]]"
      ]
     },
     "execution_count": 273,
     "metadata": {},
     "output_type": "execute_result"
    }
   ],
   "source": [
    "minha_entrada"
   ]
  },
  {
   "cell_type": "code",
   "execution_count": 274,
   "metadata": {},
   "outputs": [
    {
     "name": "stdout",
     "output_type": "stream",
     "text": [
      "Com a x1=130, x2=100, x3=8, x4=0.08 a previsão de Dívida Técnica (TD) será de 1346.03 \n"
     ]
    }
   ],
   "source": [
    "print('Com a x1={}, x2={}, x3={}, x4={} a previsão de Dívida Técnica (TD) será de {} '.format\n",
    "      (x1, x2, x3, x4, modelo.predict(minha_entrada)[0].round(2)))"
   ]
  },
  {
   "cell_type": "markdown",
   "metadata": {},
   "source": [
    "# <font color='red' style='font-size: 30px;'>Interpretação dos Coeficientes Estimados</font>\n",
    "<hr style='border: 2px solid red;'>"
   ]
  },
  {
   "cell_type": "code",
   "execution_count": 275,
   "metadata": {},
   "outputs": [
    {
     "data": {
      "text/plain": [
       "{0: 'technicalDebt',\n",
       " 1: 'leadTime',\n",
       " 2: 'complexityPoints',\n",
       " 3: 'totalDevelopers',\n",
       " 4: 'taskScaling',\n",
       " 5: 'maturity',\n",
       " 6: 'taskGlobalDistance'}"
      ]
     },
     "execution_count": 275,
     "metadata": {},
     "output_type": "execute_result"
    }
   ],
   "source": [
    "my_dict"
   ]
  },
  {
   "cell_type": "markdown",
   "metadata": {},
   "source": [
    "## Obtendo o intercepto do modelo\n",
    "\n",
    "<p style='font-size: 20px; line-height: 2; margin: 10px 50px; text-align: justify;'>O <b>intercepto</b> representa o efeito médio em $Y$ (Dívida Técnica) tendo todas as variáveis explicativas excluídas do modelo. De forma mais simples, o <b>intercepto</b> representa o efeito médio em $Y$ (Dívida Técnica) quando $X_1$ (leadTime), $X_2$ (complexityPoints), $X_3$ (totalDevelopers), $X_4$ (taskScaling) são iguais a zero.\n",
    "Em outras palavras, ele nos dá o efeito \"direto\" ou \"líquido\" de uma unidade de variação em $X_1$ sobre o valor médio de $Y$, excluídos os efeitos que $X_2$, $X_3$ e $X_4$ possam ter sobre a média de $Y$. De modo análogo podemos interpretar os demais coeficientes de regressão.</p>"
   ]
  },
  {
   "cell_type": "markdown",
   "metadata": {},
   "source": [
    "## Confirmando a ordem das variáveis explicativas no DataFrame"
   ]
  },
  {
   "cell_type": "code",
   "execution_count": 276,
   "metadata": {},
   "outputs": [
    {
     "data": {
      "text/plain": [
       "Index(['leadTime', 'complexityPoints', 'totalDevelopers', 'taskScaling'], dtype='object')"
      ]
     },
     "execution_count": 276,
     "metadata": {},
     "output_type": "execute_result"
    }
   ],
   "source": [
    "X.columns"
   ]
  },
  {
   "cell_type": "markdown",
   "metadata": {},
   "source": [
    "## Criando uma lista com os nomes das variáveis do modelo"
   ]
  },
  {
   "cell_type": "code",
   "execution_count": 277,
   "metadata": {},
   "outputs": [],
   "source": [
    "my_coeficientes = ['intercepto', 'leadTime', 'complexityPoints', 'totalDevelopers', 'taskScaling']"
   ]
  },
  {
   "cell_type": "code",
   "execution_count": 278,
   "metadata": {},
   "outputs": [
    {
     "name": "stdout",
     "output_type": "stream",
     "text": [
      "intercepto leadTime complexityPoints totalDevelopers taskScaling\n"
     ]
    }
   ],
   "source": [
    "print( my_coeficientes[0], my_coeficientes[1], \n",
    "    my_coeficientes[2], my_coeficientes[3],\n",
    "    my_coeficientes[4])"
   ]
  },
  {
   "cell_type": "code",
   "execution_count": 279,
   "metadata": {},
   "outputs": [
    {
     "name": "stdout",
     "output_type": "stream",
     "text": [
      "B0=260.928 B1=0.108  B2=6.528 B3=65.161 B4=-1287.048\n"
     ]
    }
   ],
   "source": [
    "print(\"B0={} B1={}  B2={} B3={} B4={}\".format(\n",
    "    modelo.intercept_.round(3), modelo.coef_[0].round(3), \n",
    "    modelo.coef_[1].round(3), modelo.coef_[2].round(3), \n",
    "    modelo.coef_[3].round(3)))"
   ]
  },
  {
   "cell_type": "markdown",
   "metadata": {},
   "source": [
    "## Criando um dicionário com os coeficientes das variáveis do modelo"
   ]
  },
  {
   "cell_type": "code",
   "execution_count": 280,
   "metadata": {},
   "outputs": [
    {
     "data": {
      "text/plain": [
       "{'intercepto': 260.928,\n",
       " 'leadTime': 0.108,\n",
       " 'complexityPoints': 6.528,\n",
       " 'totalDevelopers': 65.161,\n",
       " 'taskScaling': -1287.048}"
      ]
     },
     "execution_count": 280,
     "metadata": {},
     "output_type": "execute_result"
    }
   ],
   "source": [
    "dict_coeficientes = {my_coeficientes[0]:modelo.intercept_.round(3), my_coeficientes[1]:modelo.coef_[0].round(3), \n",
    "                     my_coeficientes[2]:modelo.coef_[1].round(3), my_coeficientes[3]:modelo.coef_[2].round(3),\n",
    "                     my_coeficientes[4]:modelo.coef_[3].round(3)}\n",
    "dict_coeficientes"
   ]
  },
  {
   "cell_type": "markdown",
   "metadata": {},
   "source": [
    "## Criando um DataFrame para armazenar os coeficientes do modelo\n",
    "\n",
    "https://docs.scipy.org/doc/numpy/reference/generated/numpy.append.html?#numpy.append"
   ]
  },
  {
   "cell_type": "code",
   "execution_count": 281,
   "metadata": {},
   "outputs": [
    {
     "data": {
      "text/html": [
       "<div>\n",
       "<style scoped>\n",
       "    .dataframe tbody tr th:only-of-type {\n",
       "        vertical-align: middle;\n",
       "    }\n",
       "\n",
       "    .dataframe tbody tr th {\n",
       "        vertical-align: top;\n",
       "    }\n",
       "\n",
       "    .dataframe thead th {\n",
       "        text-align: right;\n",
       "    }\n",
       "</style>\n",
       "<table border=\"1\" class=\"dataframe\">\n",
       "  <thead>\n",
       "    <tr style=\"text-align: right;\">\n",
       "      <th></th>\n",
       "      <th>parêmetros</th>\n",
       "    </tr>\n",
       "  </thead>\n",
       "  <tbody>\n",
       "    <tr>\n",
       "      <th>intercepto</th>\n",
       "      <td>260.927994</td>\n",
       "    </tr>\n",
       "    <tr>\n",
       "      <th>leadTime</th>\n",
       "      <td>0.107783</td>\n",
       "    </tr>\n",
       "    <tr>\n",
       "      <th>complexityPoints</th>\n",
       "      <td>6.527665</td>\n",
       "    </tr>\n",
       "    <tr>\n",
       "      <th>totalDevelopers</th>\n",
       "      <td>65.160760</td>\n",
       "    </tr>\n",
       "    <tr>\n",
       "      <th>taskScaling</th>\n",
       "      <td>-1287.047739</td>\n",
       "    </tr>\n",
       "  </tbody>\n",
       "</table>\n",
       "</div>"
      ],
      "text/plain": [
       "                   parêmetros\n",
       "intercepto         260.927994\n",
       "leadTime             0.107783\n",
       "complexityPoints     6.527665\n",
       "totalDevelopers     65.160760\n",
       "taskScaling      -1287.047739"
      ]
     },
     "execution_count": 281,
     "metadata": {},
     "output_type": "execute_result"
    }
   ],
   "source": [
    "pd.DataFrame(data=np.append(modelo.intercept_, modelo.coef_), index=my_coeficientes, columns=['parêmetros'])"
   ]
  },
  {
   "cell_type": "markdown",
   "metadata": {},
   "source": [
    "## Interpretação dos Coeficientes Estimados\n",
    "\n",
    "<p style='font-size: 20px; line-height: 2; margin: 10px 50px; text-align: justify;'>\n",
    "<b>Intercepto</b> → Excluindo o efeito das variáveis explicativas ($X_1=X_2=X_3=X_4=0$) o efeito médio na Dívida Técnica seria de <b>636,865 pontos</b>.\n",
    "</p>\n",
    "\n",
    "<p style='font-size: 20px; line-height: 2; margin: 10px 50px; text-align: justify;'>\n",
    "<b>leadTime</b> → Mantendo-se os valores de $X_2$ (complexityPoints), $X_3$ (totalDevelopers) e $X_4$ (taskScaling) constantes, o acréscimo de 1 ponto na Dívida Técnica (TD) gera uma variação média no leadTime de <b>-0,099</b>.\n",
    "</p>\n",
    "\n",
    "<p style='font-size: 20px; line-height: 2; margin: 10px 50px; text-align: justify;'>\n",
    "<b>complexityPoints</b> → Mantendo-se os valores de $X_1$ (leadTime), $X_3$ (totalDevelopers) e $X_4$ (taskScaling) constantes, o acréscimo de 1 ponto na Dívida Técnica (TD) gera uma variação média no complexityPoints de <b>6,167</b>.\n",
    "</p>\n",
    "\n",
    "<p style='font-size: 20px; line-height: 2; margin: 10px 50px; text-align: justify;'>\n",
    "<b>totalDevelopers</b> → Mantendo-se os valores de $X_1$ (leadTime), $X_2$ (complexityPoints) e $X_4$ (taskScaling) constantes, o acréscimo de 1 ponto na Dívida Técnica (TD) gera uma variação média no totalDevelopers de <b>55,799</b>.\n",
    "</p>\n",
    "\n",
    "<p style='font-size: 20px; line-height: 2; margin: 10px 50px; text-align: justify;'>\n",
    "<b>taskScaling</b> → Mantendo-se os valores de $X_1$ (leadTime), $X_2$ (complexityPoints) e $X_3$ (totalDevelopers) constantes, o acréscimo de 1 ponto na Dívida Técnica (TD) gera uma variação média no taskScaling de <b>-2740,08</b>.\n",
    "</p>"
   ]
  },
  {
   "cell_type": "code",
   "execution_count": 282,
   "metadata": {},
   "outputs": [
    {
     "name": "stdout",
     "output_type": "stream",
     "text": [
      "Y = 260.928 + 0.108(leadTime) + 6.528(complexityPoints) + 65.161(totalDevelopers) + -1287.048(taskScaling)\n"
     ]
    }
   ],
   "source": [
    "print(\"Y = {} + {}({}) + {}({}) + {}({}) + {}({})\".format(modelo.intercept_.round(3), \n",
    "     dict_coeficientes[my_coeficientes[1]].round(3), my_coeficientes[1], \n",
    "     dict_coeficientes[my_coeficientes[2]].round(3), my_coeficientes[2], \n",
    "     dict_coeficientes[my_coeficientes[3]].round(3), my_coeficientes[3], \n",
    "     dict_coeficientes[my_coeficientes[4]].round(3), my_coeficientes[4]))"
   ]
  }
 ],
 "metadata": {
  "kernelspec": {
   "display_name": "Python 3",
   "language": "python",
   "name": "python3"
  },
  "language_info": {
   "codemirror_mode": {
    "name": "ipython",
    "version": 3
   },
   "file_extension": ".py",
   "mimetype": "text/x-python",
   "name": "python",
   "nbconvert_exporter": "python",
   "pygments_lexer": "ipython3",
   "version": "3.6.3"
  }
 },
 "nbformat": 4,
 "nbformat_minor": 2
}
