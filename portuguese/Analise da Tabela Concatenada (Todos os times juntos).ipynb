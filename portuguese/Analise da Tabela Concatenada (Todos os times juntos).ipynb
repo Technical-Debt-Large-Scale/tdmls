{
 "cells": [
  {
   "cell_type": "code",
   "execution_count": 1,
   "metadata": {},
   "outputs": [],
   "source": [
    "%%capture\n",
    "%run 'main.py'"
   ]
  },
  {
   "cell_type": "markdown",
   "metadata": {},
   "source": [
    "# 6. Análise da Tabela Concatenada com Todos os Times"
   ]
  },
  {
   "cell_type": "code",
   "execution_count": 2,
   "metadata": {},
   "outputs": [
    {
     "name": "stdout",
     "output_type": "stream",
     "text": [
      "<class 'pandas.core.frame.DataFrame'>\n",
      "RangeIndex: 217 entries, 0 to 216\n",
      "Data columns (total 7 columns):\n",
      "taskID             217 non-null object\n",
      "employeeID         214 non-null object\n",
      "employeeName       217 non-null object\n",
      "team               205 non-null object\n",
      "role               205 non-null object\n",
      "experienceYears    211 non-null object\n",
      "country            217 non-null object\n",
      "dtypes: object(7)\n",
      "memory usage: 11.9+ KB\n"
     ]
    }
   ],
   "source": [
    "df_all_teams.info()"
   ]
  },
  {
   "cell_type": "markdown",
   "metadata": {},
   "source": [
    "## 6.1 Amostra dos dados"
   ]
  },
  {
   "cell_type": "code",
   "execution_count": 3,
   "metadata": {},
   "outputs": [
    {
     "data": {
      "text/html": [
       "<div>\n",
       "<style scoped>\n",
       "    .dataframe tbody tr th:only-of-type {\n",
       "        vertical-align: middle;\n",
       "    }\n",
       "\n",
       "    .dataframe tbody tr th {\n",
       "        vertical-align: top;\n",
       "    }\n",
       "\n",
       "    .dataframe thead th {\n",
       "        text-align: right;\n",
       "    }\n",
       "</style>\n",
       "<table border=\"1\" class=\"dataframe\">\n",
       "  <thead>\n",
       "    <tr style=\"text-align: right;\">\n",
       "      <th></th>\n",
       "      <th>taskID</th>\n",
       "      <th>employeeID</th>\n",
       "      <th>employeeName</th>\n",
       "      <th>team</th>\n",
       "      <th>role</th>\n",
       "      <th>experienceYears</th>\n",
       "      <th>country</th>\n",
       "    </tr>\n",
       "  </thead>\n",
       "  <tbody>\n",
       "    <tr>\n",
       "      <th>0</th>\n",
       "      <td>TURK-372I</td>\n",
       "      <td>23477969</td>\n",
       "      <td>Employee-Indian#0</td>\n",
       "      <td>EGI 1</td>\n",
       "      <td>Developer</td>\n",
       "      <td>0,03</td>\n",
       "      <td>Indian</td>\n",
       "    </tr>\n",
       "    <tr>\n",
       "      <th>1</th>\n",
       "      <td>TURK-372I</td>\n",
       "      <td>23481147</td>\n",
       "      <td>Employee-Indian#1</td>\n",
       "      <td>EGI 2</td>\n",
       "      <td>Developer</td>\n",
       "      <td>0,03</td>\n",
       "      <td>Indian</td>\n",
       "    </tr>\n",
       "    <tr>\n",
       "      <th>2</th>\n",
       "      <td>TURK-372I</td>\n",
       "      <td>23427308</td>\n",
       "      <td>Employee-Indian#2</td>\n",
       "      <td>EGI 2</td>\n",
       "      <td>Developer</td>\n",
       "      <td>0,03</td>\n",
       "      <td>Indian</td>\n",
       "    </tr>\n",
       "    <tr>\n",
       "      <th>3</th>\n",
       "      <td>TURK-372I</td>\n",
       "      <td>23453687</td>\n",
       "      <td>Employee-Indian#3</td>\n",
       "      <td>EGI 1</td>\n",
       "      <td>Developer</td>\n",
       "      <td>0,03</td>\n",
       "      <td>Indian</td>\n",
       "    </tr>\n",
       "    <tr>\n",
       "      <th>4</th>\n",
       "      <td>TURK-372I</td>\n",
       "      <td>23460099</td>\n",
       "      <td>Employee-Indian#4</td>\n",
       "      <td>EGI 1</td>\n",
       "      <td>Developer</td>\n",
       "      <td>0,03</td>\n",
       "      <td>Indian</td>\n",
       "    </tr>\n",
       "    <tr>\n",
       "      <th>5</th>\n",
       "      <td>TURK-372I</td>\n",
       "      <td>23459812</td>\n",
       "      <td>Employee-Indian#5</td>\n",
       "      <td>EGI 2</td>\n",
       "      <td>Developer</td>\n",
       "      <td>0,03</td>\n",
       "      <td>Indian</td>\n",
       "    </tr>\n",
       "    <tr>\n",
       "      <th>6</th>\n",
       "      <td>TURK-372I</td>\n",
       "      <td>23453382</td>\n",
       "      <td>Employee-Indian#6</td>\n",
       "      <td>EGI 1</td>\n",
       "      <td>Design lead</td>\n",
       "      <td>0,03</td>\n",
       "      <td>Indian</td>\n",
       "    </tr>\n",
       "    <tr>\n",
       "      <th>7</th>\n",
       "      <td>TURK-372I</td>\n",
       "      <td>23475641</td>\n",
       "      <td>Employee-Indian#7</td>\n",
       "      <td>EGI 2</td>\n",
       "      <td>Developer</td>\n",
       "      <td>0,03</td>\n",
       "      <td>Indian</td>\n",
       "    </tr>\n",
       "    <tr>\n",
       "      <th>8</th>\n",
       "      <td>TURK-372I</td>\n",
       "      <td>1</td>\n",
       "      <td>Employee-Indian#8</td>\n",
       "      <td>NaN</td>\n",
       "      <td>NaN</td>\n",
       "      <td>0,03</td>\n",
       "      <td>Indian</td>\n",
       "    </tr>\n",
       "    <tr>\n",
       "      <th>9</th>\n",
       "      <td>BHA-328I</td>\n",
       "      <td>23042827</td>\n",
       "      <td>Employee-Indian#9</td>\n",
       "      <td>EGI 3</td>\n",
       "      <td>Developer</td>\n",
       "      <td>0,13</td>\n",
       "      <td>Indian</td>\n",
       "    </tr>\n",
       "  </tbody>\n",
       "</table>\n",
       "</div>"
      ],
      "text/plain": [
       "      taskID employeeID       employeeName   team         role  \\\n",
       "0  TURK-372I   23477969  Employee-Indian#0  EGI 1    Developer   \n",
       "1  TURK-372I   23481147  Employee-Indian#1  EGI 2    Developer   \n",
       "2  TURK-372I   23427308  Employee-Indian#2  EGI 2    Developer   \n",
       "3  TURK-372I   23453687  Employee-Indian#3  EGI 1    Developer   \n",
       "4  TURK-372I   23460099  Employee-Indian#4  EGI 1    Developer   \n",
       "5  TURK-372I   23459812  Employee-Indian#5  EGI 2    Developer   \n",
       "6  TURK-372I   23453382  Employee-Indian#6  EGI 1  Design lead   \n",
       "7  TURK-372I   23475641  Employee-Indian#7  EGI 2    Developer   \n",
       "8  TURK-372I          1  Employee-Indian#8    NaN          NaN   \n",
       "9   BHA-328I   23042827  Employee-Indian#9  EGI 3    Developer   \n",
       "\n",
       "  experienceYears country  \n",
       "0            0,03  Indian  \n",
       "1            0,03  Indian  \n",
       "2            0,03  Indian  \n",
       "3            0,03  Indian  \n",
       "4            0,03  Indian  \n",
       "5            0,03  Indian  \n",
       "6            0,03  Indian  \n",
       "7            0,03  Indian  \n",
       "8            0,03  Indian  \n",
       "9            0,13  Indian  "
      ]
     },
     "execution_count": 3,
     "metadata": {},
     "output_type": "execute_result"
    }
   ],
   "source": [
    "df_all_teams.head(10)"
   ]
  },
  {
   "cell_type": "code",
   "execution_count": 4,
   "metadata": {},
   "outputs": [
    {
     "name": "stdout",
     "output_type": "stream",
     "text": [
      "Amount of rows with NaN is 15\n"
     ]
    },
    {
     "data": {
      "text/plain": [
       "taskID              0\n",
       "employeeID          3\n",
       "employeeName        0\n",
       "team               12\n",
       "role               12\n",
       "experienceYears     6\n",
       "country             0\n",
       "dtype: int64"
      ]
     },
     "execution_count": 4,
     "metadata": {},
     "output_type": "execute_result"
    }
   ],
   "source": [
    "print(\"Amount of rows with NaN is {}\".format(len(df_all_teams_NaN)))\n",
    "\n",
    "df_all_teams.isnull().sum()"
   ]
  },
  {
   "cell_type": "markdown",
   "metadata": {},
   "source": [
    "## 6.1.1 Dados limpos (após remoção de dados inválidos - registros com valores NaN)"
   ]
  },
  {
   "cell_type": "code",
   "execution_count": 5,
   "metadata": {},
   "outputs": [
    {
     "data": {
      "text/html": [
       "<div>\n",
       "<style scoped>\n",
       "    .dataframe tbody tr th:only-of-type {\n",
       "        vertical-align: middle;\n",
       "    }\n",
       "\n",
       "    .dataframe tbody tr th {\n",
       "        vertical-align: top;\n",
       "    }\n",
       "\n",
       "    .dataframe thead th {\n",
       "        text-align: right;\n",
       "    }\n",
       "</style>\n",
       "<table border=\"1\" class=\"dataframe\">\n",
       "  <thead>\n",
       "    <tr style=\"text-align: right;\">\n",
       "      <th></th>\n",
       "      <th>taskID</th>\n",
       "      <th>employeeID</th>\n",
       "      <th>employeeName</th>\n",
       "      <th>team</th>\n",
       "      <th>role</th>\n",
       "      <th>experienceYears</th>\n",
       "      <th>country</th>\n",
       "    </tr>\n",
       "  </thead>\n",
       "  <tbody>\n",
       "    <tr>\n",
       "      <th>0</th>\n",
       "      <td>TURK-372I</td>\n",
       "      <td>23477969</td>\n",
       "      <td>Employee-Indian#0</td>\n",
       "      <td>EGI 1</td>\n",
       "      <td>Developer</td>\n",
       "      <td>0.03</td>\n",
       "      <td>Indian</td>\n",
       "    </tr>\n",
       "    <tr>\n",
       "      <th>1</th>\n",
       "      <td>TURK-372I</td>\n",
       "      <td>23481147</td>\n",
       "      <td>Employee-Indian#1</td>\n",
       "      <td>EGI 2</td>\n",
       "      <td>Developer</td>\n",
       "      <td>0.03</td>\n",
       "      <td>Indian</td>\n",
       "    </tr>\n",
       "    <tr>\n",
       "      <th>2</th>\n",
       "      <td>TURK-372I</td>\n",
       "      <td>23427308</td>\n",
       "      <td>Employee-Indian#2</td>\n",
       "      <td>EGI 2</td>\n",
       "      <td>Developer</td>\n",
       "      <td>0.03</td>\n",
       "      <td>Indian</td>\n",
       "    </tr>\n",
       "    <tr>\n",
       "      <th>3</th>\n",
       "      <td>TURK-372I</td>\n",
       "      <td>23453687</td>\n",
       "      <td>Employee-Indian#3</td>\n",
       "      <td>EGI 1</td>\n",
       "      <td>Developer</td>\n",
       "      <td>0.03</td>\n",
       "      <td>Indian</td>\n",
       "    </tr>\n",
       "    <tr>\n",
       "      <th>4</th>\n",
       "      <td>TURK-372I</td>\n",
       "      <td>23460099</td>\n",
       "      <td>Employee-Indian#4</td>\n",
       "      <td>EGI 1</td>\n",
       "      <td>Developer</td>\n",
       "      <td>0.03</td>\n",
       "      <td>Indian</td>\n",
       "    </tr>\n",
       "    <tr>\n",
       "      <th>5</th>\n",
       "      <td>TURK-372I</td>\n",
       "      <td>23459812</td>\n",
       "      <td>Employee-Indian#5</td>\n",
       "      <td>EGI 2</td>\n",
       "      <td>Developer</td>\n",
       "      <td>0.03</td>\n",
       "      <td>Indian</td>\n",
       "    </tr>\n",
       "    <tr>\n",
       "      <th>6</th>\n",
       "      <td>TURK-372I</td>\n",
       "      <td>23453382</td>\n",
       "      <td>Employee-Indian#6</td>\n",
       "      <td>EGI 1</td>\n",
       "      <td>Design lead</td>\n",
       "      <td>0.03</td>\n",
       "      <td>Indian</td>\n",
       "    </tr>\n",
       "    <tr>\n",
       "      <th>7</th>\n",
       "      <td>TURK-372I</td>\n",
       "      <td>23475641</td>\n",
       "      <td>Employee-Indian#7</td>\n",
       "      <td>EGI 2</td>\n",
       "      <td>Developer</td>\n",
       "      <td>0.03</td>\n",
       "      <td>Indian</td>\n",
       "    </tr>\n",
       "    <tr>\n",
       "      <th>9</th>\n",
       "      <td>BHA-328I</td>\n",
       "      <td>23042827</td>\n",
       "      <td>Employee-Indian#9</td>\n",
       "      <td>EGI 3</td>\n",
       "      <td>Developer</td>\n",
       "      <td>0.13</td>\n",
       "      <td>Indian</td>\n",
       "    </tr>\n",
       "    <tr>\n",
       "      <th>10</th>\n",
       "      <td>BHA-328I</td>\n",
       "      <td>23483074</td>\n",
       "      <td>Employee-Indian#10</td>\n",
       "      <td>EGI 3</td>\n",
       "      <td>Developer</td>\n",
       "      <td>0.14</td>\n",
       "      <td>Indian</td>\n",
       "    </tr>\n",
       "  </tbody>\n",
       "</table>\n",
       "</div>"
      ],
      "text/plain": [
       "       taskID employeeID        employeeName   team         role  \\\n",
       "0   TURK-372I   23477969   Employee-Indian#0  EGI 1    Developer   \n",
       "1   TURK-372I   23481147   Employee-Indian#1  EGI 2    Developer   \n",
       "2   TURK-372I   23427308   Employee-Indian#2  EGI 2    Developer   \n",
       "3   TURK-372I   23453687   Employee-Indian#3  EGI 1    Developer   \n",
       "4   TURK-372I   23460099   Employee-Indian#4  EGI 1    Developer   \n",
       "5   TURK-372I   23459812   Employee-Indian#5  EGI 2    Developer   \n",
       "6   TURK-372I   23453382   Employee-Indian#6  EGI 1  Design lead   \n",
       "7   TURK-372I   23475641   Employee-Indian#7  EGI 2    Developer   \n",
       "9    BHA-328I   23042827   Employee-Indian#9  EGI 3    Developer   \n",
       "10   BHA-328I   23483074  Employee-Indian#10  EGI 3    Developer   \n",
       "\n",
       "    experienceYears country  \n",
       "0              0.03  Indian  \n",
       "1              0.03  Indian  \n",
       "2              0.03  Indian  \n",
       "3              0.03  Indian  \n",
       "4              0.03  Indian  \n",
       "5              0.03  Indian  \n",
       "6              0.03  Indian  \n",
       "7              0.03  Indian  \n",
       "9              0.13  Indian  \n",
       "10             0.14  Indian  "
      ]
     },
     "execution_count": 5,
     "metadata": {},
     "output_type": "execute_result"
    }
   ],
   "source": [
    "df_all_teams_cleaned.head(10)"
   ]
  },
  {
   "cell_type": "code",
   "execution_count": 6,
   "metadata": {},
   "outputs": [
    {
     "data": {
      "text/html": [
       "<div>\n",
       "<style scoped>\n",
       "    .dataframe tbody tr th:only-of-type {\n",
       "        vertical-align: middle;\n",
       "    }\n",
       "\n",
       "    .dataframe tbody tr th {\n",
       "        vertical-align: top;\n",
       "    }\n",
       "\n",
       "    .dataframe thead th {\n",
       "        text-align: right;\n",
       "    }\n",
       "</style>\n",
       "<table border=\"1\" class=\"dataframe\">\n",
       "  <thead>\n",
       "    <tr style=\"text-align: right;\">\n",
       "      <th></th>\n",
       "      <th>experienceYears</th>\n",
       "    </tr>\n",
       "  </thead>\n",
       "  <tbody>\n",
       "    <tr>\n",
       "      <th>count</th>\n",
       "      <td>202.00</td>\n",
       "    </tr>\n",
       "    <tr>\n",
       "      <th>mean</th>\n",
       "      <td>1.52</td>\n",
       "    </tr>\n",
       "    <tr>\n",
       "      <th>std</th>\n",
       "      <td>2.58</td>\n",
       "    </tr>\n",
       "    <tr>\n",
       "      <th>min</th>\n",
       "      <td>0.00</td>\n",
       "    </tr>\n",
       "    <tr>\n",
       "      <th>25%</th>\n",
       "      <td>0.40</td>\n",
       "    </tr>\n",
       "    <tr>\n",
       "      <th>50%</th>\n",
       "      <td>0.79</td>\n",
       "    </tr>\n",
       "    <tr>\n",
       "      <th>75%</th>\n",
       "      <td>1.26</td>\n",
       "    </tr>\n",
       "    <tr>\n",
       "      <th>max</th>\n",
       "      <td>15.00</td>\n",
       "    </tr>\n",
       "  </tbody>\n",
       "</table>\n",
       "</div>"
      ],
      "text/plain": [
       "       experienceYears\n",
       "count           202.00\n",
       "mean              1.52\n",
       "std               2.58\n",
       "min               0.00\n",
       "25%               0.40\n",
       "50%               0.79\n",
       "75%               1.26\n",
       "max              15.00"
      ]
     },
     "execution_count": 6,
     "metadata": {},
     "output_type": "execute_result"
    }
   ],
   "source": [
    "df_all_teams_cleaned.describe().round(2)"
   ]
  },
  {
   "cell_type": "markdown",
   "metadata": {},
   "source": [
    "### 6.1.1.1 Quantidade de TaskID"
   ]
  },
  {
   "cell_type": "code",
   "execution_count": 7,
   "metadata": {},
   "outputs": [
    {
     "data": {
      "text/plain": [
       "BHA-328I       20\n",
       "VOICE-438      10\n",
       "VOICE-436S      9\n",
       "WIND-206        9\n",
       "VOICE-454I      8\n",
       "CHTT-036        8\n",
       "TURK-372I       8\n",
       "VOICE-407       7\n",
       "TELSTRA-038     7\n",
       "VOICE-447I      7\n",
       "TELSTRA-039     6\n",
       "VOICE-563       6\n",
       "IND-176         6\n",
       "VOICE-526       6\n",
       "CIN-296         6\n",
       "CIN-300         6\n",
       "CIN-301         5\n",
       "VOICE-562I      5\n",
       "VOICE-516       5\n",
       "TURK-372S       5\n",
       "VOICE-419       4\n",
       "ZAINK-066I      4\n",
       "ZAINK-069       4\n",
       "IDEA-173        4\n",
       "BHA-328T        4\n",
       "BHA-300         4\n",
       "VOICE-465       3\n",
       "ZAINK-057       3\n",
       "VOICE-553       3\n",
       "FTML-066        3\n",
       "VOICE-458       3\n",
       "WATA-070        3\n",
       "VOICE-453       3\n",
       "TURK-362        2\n",
       "VOICE-555S      2\n",
       "TURK-394        2\n",
       "VOICE-555I      1\n",
       "VOICE-562S      1\n",
       "Name: taskID, dtype: int64"
      ]
     },
     "execution_count": 7,
     "metadata": {},
     "output_type": "execute_result"
    }
   ],
   "source": [
    "df_all_teams_cleaned.taskID.value_counts()"
   ]
  },
  {
   "cell_type": "code",
   "execution_count": 24,
   "metadata": {},
   "outputs": [
    {
     "data": {
      "text/plain": [
       "202"
      ]
     },
     "execution_count": 24,
     "metadata": {},
     "output_type": "execute_result"
    }
   ],
   "source": [
    "df_all_teams_cleaned.taskID.value_counts().sum()"
   ]
  },
  {
   "cell_type": "markdown",
   "metadata": {},
   "source": [
    "### 6.1.1.2 TaskID Agrupados por Ano de Experiência"
   ]
  },
  {
   "cell_type": "code",
   "execution_count": 8,
   "metadata": {},
   "outputs": [
    {
     "data": {
      "text/html": [
       "<div>\n",
       "<style scoped>\n",
       "    .dataframe tbody tr th:only-of-type {\n",
       "        vertical-align: middle;\n",
       "    }\n",
       "\n",
       "    .dataframe tbody tr th {\n",
       "        vertical-align: top;\n",
       "    }\n",
       "\n",
       "    .dataframe thead th {\n",
       "        text-align: right;\n",
       "    }\n",
       "</style>\n",
       "<table border=\"1\" class=\"dataframe\">\n",
       "  <thead>\n",
       "    <tr style=\"text-align: right;\">\n",
       "      <th></th>\n",
       "      <th>experienceYears</th>\n",
       "    </tr>\n",
       "    <tr>\n",
       "      <th>taskID</th>\n",
       "      <th></th>\n",
       "    </tr>\n",
       "  </thead>\n",
       "  <tbody>\n",
       "    <tr>\n",
       "      <th>TURK-372I</th>\n",
       "      <td>0.03</td>\n",
       "    </tr>\n",
       "    <tr>\n",
       "      <th>VOICE-454I</th>\n",
       "      <td>0.18</td>\n",
       "    </tr>\n",
       "    <tr>\n",
       "      <th>TURK-362</th>\n",
       "      <td>0.24</td>\n",
       "    </tr>\n",
       "    <tr>\n",
       "      <th>VOICE-438</th>\n",
       "      <td>0.34</td>\n",
       "    </tr>\n",
       "    <tr>\n",
       "      <th>BHA-328I</th>\n",
       "      <td>0.40</td>\n",
       "    </tr>\n",
       "    <tr>\n",
       "      <th>TELSTRA-038</th>\n",
       "      <td>0.48</td>\n",
       "    </tr>\n",
       "    <tr>\n",
       "      <th>ZAINK-066I</th>\n",
       "      <td>0.49</td>\n",
       "    </tr>\n",
       "    <tr>\n",
       "      <th>IDEA-173</th>\n",
       "      <td>0.61</td>\n",
       "    </tr>\n",
       "    <tr>\n",
       "      <th>VOICE-447I</th>\n",
       "      <td>0.67</td>\n",
       "    </tr>\n",
       "    <tr>\n",
       "      <th>VOICE-516</th>\n",
       "      <td>0.67</td>\n",
       "    </tr>\n",
       "    <tr>\n",
       "      <th>TELSTRA-039</th>\n",
       "      <td>0.72</td>\n",
       "    </tr>\n",
       "    <tr>\n",
       "      <th>WIND-206</th>\n",
       "      <td>0.73</td>\n",
       "    </tr>\n",
       "    <tr>\n",
       "      <th>ZAINK-057</th>\n",
       "      <td>0.73</td>\n",
       "    </tr>\n",
       "    <tr>\n",
       "      <th>TURK-372S</th>\n",
       "      <td>0.74</td>\n",
       "    </tr>\n",
       "    <tr>\n",
       "      <th>CIN-301</th>\n",
       "      <td>0.80</td>\n",
       "    </tr>\n",
       "    <tr>\n",
       "      <th>VOICE-563</th>\n",
       "      <td>0.81</td>\n",
       "    </tr>\n",
       "    <tr>\n",
       "      <th>TURK-394</th>\n",
       "      <td>0.84</td>\n",
       "    </tr>\n",
       "    <tr>\n",
       "      <th>VOICE-419</th>\n",
       "      <td>0.90</td>\n",
       "    </tr>\n",
       "    <tr>\n",
       "      <th>CHTT-036</th>\n",
       "      <td>0.90</td>\n",
       "    </tr>\n",
       "    <tr>\n",
       "      <th>VOICE-562I</th>\n",
       "      <td>1.05</td>\n",
       "    </tr>\n",
       "    <tr>\n",
       "      <th>IND-176</th>\n",
       "      <td>1.06</td>\n",
       "    </tr>\n",
       "    <tr>\n",
       "      <th>VOICE-526</th>\n",
       "      <td>1.15</td>\n",
       "    </tr>\n",
       "    <tr>\n",
       "      <th>CIN-296</th>\n",
       "      <td>1.30</td>\n",
       "    </tr>\n",
       "    <tr>\n",
       "      <th>CIN-300</th>\n",
       "      <td>1.36</td>\n",
       "    </tr>\n",
       "    <tr>\n",
       "      <th>FTML-066</th>\n",
       "      <td>1.42</td>\n",
       "    </tr>\n",
       "    <tr>\n",
       "      <th>BHA-328T</th>\n",
       "      <td>1.56</td>\n",
       "    </tr>\n",
       "    <tr>\n",
       "      <th>ZAINK-069</th>\n",
       "      <td>1.57</td>\n",
       "    </tr>\n",
       "    <tr>\n",
       "      <th>VOICE-555I</th>\n",
       "      <td>1.59</td>\n",
       "    </tr>\n",
       "    <tr>\n",
       "      <th>WATA-070</th>\n",
       "      <td>2.94</td>\n",
       "    </tr>\n",
       "    <tr>\n",
       "      <th>VOICE-436S</th>\n",
       "      <td>3.32</td>\n",
       "    </tr>\n",
       "    <tr>\n",
       "      <th>BHA-300</th>\n",
       "      <td>3.44</td>\n",
       "    </tr>\n",
       "    <tr>\n",
       "      <th>VOICE-407</th>\n",
       "      <td>3.70</td>\n",
       "    </tr>\n",
       "    <tr>\n",
       "      <th>VOICE-453</th>\n",
       "      <td>6.90</td>\n",
       "    </tr>\n",
       "    <tr>\n",
       "      <th>VOICE-458</th>\n",
       "      <td>6.98</td>\n",
       "    </tr>\n",
       "    <tr>\n",
       "      <th>VOICE-553</th>\n",
       "      <td>7.04</td>\n",
       "    </tr>\n",
       "    <tr>\n",
       "      <th>VOICE-465</th>\n",
       "      <td>7.04</td>\n",
       "    </tr>\n",
       "    <tr>\n",
       "      <th>VOICE-555S</th>\n",
       "      <td>7.50</td>\n",
       "    </tr>\n",
       "    <tr>\n",
       "      <th>VOICE-562S</th>\n",
       "      <td>10.00</td>\n",
       "    </tr>\n",
       "  </tbody>\n",
       "</table>\n",
       "</div>"
      ],
      "text/plain": [
       "             experienceYears\n",
       "taskID                      \n",
       "TURK-372I               0.03\n",
       "VOICE-454I              0.18\n",
       "TURK-362                0.24\n",
       "VOICE-438               0.34\n",
       "BHA-328I                0.40\n",
       "TELSTRA-038             0.48\n",
       "ZAINK-066I              0.49\n",
       "IDEA-173                0.61\n",
       "VOICE-447I              0.67\n",
       "VOICE-516               0.67\n",
       "TELSTRA-039             0.72\n",
       "WIND-206                0.73\n",
       "ZAINK-057               0.73\n",
       "TURK-372S               0.74\n",
       "CIN-301                 0.80\n",
       "VOICE-563               0.81\n",
       "TURK-394                0.84\n",
       "VOICE-419               0.90\n",
       "CHTT-036                0.90\n",
       "VOICE-562I              1.05\n",
       "IND-176                 1.06\n",
       "VOICE-526               1.15\n",
       "CIN-296                 1.30\n",
       "CIN-300                 1.36\n",
       "FTML-066                1.42\n",
       "BHA-328T                1.56\n",
       "ZAINK-069               1.57\n",
       "VOICE-555I              1.59\n",
       "WATA-070                2.94\n",
       "VOICE-436S              3.32\n",
       "BHA-300                 3.44\n",
       "VOICE-407               3.70\n",
       "VOICE-453               6.90\n",
       "VOICE-458               6.98\n",
       "VOICE-553               7.04\n",
       "VOICE-465               7.04\n",
       "VOICE-555S              7.50\n",
       "VOICE-562S             10.00"
      ]
     },
     "execution_count": 8,
     "metadata": {},
     "output_type": "execute_result"
    }
   ],
   "source": [
    "df_all_teams_cleaned_byTaskID.sort_values(by=['experienceYears']).round(2)"
   ]
  },
  {
   "cell_type": "code",
   "execution_count": 9,
   "metadata": {},
   "outputs": [
    {
     "data": {
      "text/plain": [
       "array([<matplotlib.axes._subplots.AxesSubplot object at 0x117955b38>],\n",
       "      dtype=object)"
      ]
     },
     "execution_count": 9,
     "metadata": {},
     "output_type": "execute_result"
    },
    {
     "data": {
      "image/png": "[encoded data removed]",
      "text/plain": [
       "<Figure size 432x288 with 1 Axes>"
      ]
     },
     "metadata": {
      "needs_background": "light"
     },
     "output_type": "display_data"
    }
   ],
   "source": [
    "df_all_teams_cleaned.experienceYears.plot(kind='hist',subplots=True,sharex=True,sharey=True,title='Histogram Experience by Country')"
   ]
  },
  {
   "cell_type": "code",
   "execution_count": 10,
   "metadata": {},
   "outputs": [
    {
     "data": {
      "text/plain": [
       "country\n",
       "Indian    0.706490\n",
       "Italy     2.616364\n",
       "Sweden    3.146500\n",
       "USA       6.989167\n",
       "Name: experienceYears, dtype: float64"
      ]
     },
     "execution_count": 10,
     "metadata": {},
     "output_type": "execute_result"
    }
   ],
   "source": [
    "mean_experienceYears_by_country"
   ]
  },
  {
   "cell_type": "code",
   "execution_count": 11,
   "metadata": {},
   "outputs": [
    {
     "data": {
      "text/plain": [
       "Text(0.5,1,'Boxplot Mean Development Experience Year by Country')"
      ]
     },
     "execution_count": 11,
     "metadata": {},
     "output_type": "execute_result"
    },
    {
     "data": {
      "image/png": "[encoded data removed]",
      "text/plain": [
       "<Figure size 432x288 with 1 Axes>"
      ]
     },
     "metadata": {
      "needs_background": "light"
     },
     "output_type": "display_data"
    }
   ],
   "source": [
    "sns.boxplot(mean_experienceYears_by_country).set_title('Boxplot Mean Development Experience Year by Country')"
   ]
  },
  {
   "cell_type": "code",
   "execution_count": 12,
   "metadata": {},
   "outputs": [
    {
     "data": {
      "text/plain": [
       "Text(0.5,1,'Boxplot Development Experience Year by Country')"
      ]
     },
     "execution_count": 12,
     "metadata": {},
     "output_type": "execute_result"
    },
    {
     "data": {
      "image/png": "[encoded data removed]",
      "text/plain": [
       "<Figure size 432x288 with 1 Axes>"
      ]
     },
     "metadata": {
      "needs_background": "light"
     },
     "output_type": "display_data"
    }
   ],
   "source": [
    "sns.boxplot(x='country', y='experienceYears', data=df_all_teams_cleaned).set_title('Boxplot Development Experience Year by Country')"
   ]
  }
 ],
 "metadata": {
  "kernelspec": {
   "display_name": "Python 3",
   "language": "python",
   "name": "python3"
  },
  "language_info": {
   "codemirror_mode": {
    "name": "ipython",
    "version": 3
   },
   "file_extension": ".py",
   "mimetype": "text/x-python",
   "name": "python",
   "nbconvert_exporter": "python",
   "pygments_lexer": "ipython3",
   "version": "3.6.3"
  }
 },
 "nbformat": 4,
 "nbformat_minor": 2
}
