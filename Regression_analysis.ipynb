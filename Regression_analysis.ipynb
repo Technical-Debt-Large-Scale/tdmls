{
 "cells": [
  {
   "cell_type": "markdown",
   "metadata": {},
   "source": [
    "# All steps to reproduce the Process of Hierarchical Regression Analysis"
   ]
  },
  {
   "cell_type": "code",
   "execution_count": 1,
   "metadata": {},
   "outputs": [],
   "source": [
    "%%capture\n",
    "%run 'main.py'\n",
    "\n",
    "# importando o pyplot\n",
    "from matplotlib import pyplot\n",
    "# importando o stats \n",
    "from scipy import stats"
   ]
  },
  {
   "cell_type": "markdown",
   "metadata": {},
   "source": [
    "## 1. Dataset"
   ]
  },
  {
   "cell_type": "code",
   "execution_count": 2,
   "metadata": {},
   "outputs": [
    {
     "data": {
      "text/html": [
       "<div>\n",
       "<style scoped>\n",
       "    .dataframe tbody tr th:only-of-type {\n",
       "        vertical-align: middle;\n",
       "    }\n",
       "\n",
       "    .dataframe tbody tr th {\n",
       "        vertical-align: top;\n",
       "    }\n",
       "\n",
       "    .dataframe thead th {\n",
       "        text-align: right;\n",
       "    }\n",
       "</style>\n",
       "<table border=\"1\" class=\"dataframe\">\n",
       "  <thead>\n",
       "    <tr style=\"text-align: right;\">\n",
       "      <th></th>\n",
       "      <th>uniqueID</th>\n",
       "      <th>ID</th>\n",
       "      <th>location</th>\n",
       "      <th>maturity</th>\n",
       "      <th>totalDevelopers</th>\n",
       "      <th>complexityPoints</th>\n",
       "      <th>start</th>\n",
       "      <th>end</th>\n",
       "      <th>leadTime</th>\n",
       "      <th>technicalDebt</th>\n",
       "      <th>taskScaling</th>\n",
       "      <th>taskGlobalDistance</th>\n",
       "    </tr>\n",
       "  </thead>\n",
       "  <tbody>\n",
       "    <tr>\n",
       "      <th>0</th>\n",
       "      <td>14187</td>\n",
       "      <td>t1</td>\n",
       "      <td>India</td>\n",
       "      <td>4.0</td>\n",
       "      <td>13.0</td>\n",
       "      <td>60.0</td>\n",
       "      <td>2014-08-11 00:00:00</td>\n",
       "      <td>2015-02-06 00:00:00</td>\n",
       "      <td>179.0</td>\n",
       "      <td>796.0</td>\n",
       "      <td>0.216667</td>\n",
       "      <td>1.250000</td>\n",
       "    </tr>\n",
       "    <tr>\n",
       "      <th>1</th>\n",
       "      <td>15448</td>\n",
       "      <td>b1b3</td>\n",
       "      <td>Virtual</td>\n",
       "      <td>4.0</td>\n",
       "      <td>25.0</td>\n",
       "      <td>170.0</td>\n",
       "      <td>2015-01-19 00:00:00</td>\n",
       "      <td>2015-06-05 00:00:00</td>\n",
       "      <td>137.0</td>\n",
       "      <td>2474.0</td>\n",
       "      <td>0.147059</td>\n",
       "      <td>6.244748</td>\n",
       "    </tr>\n",
       "    <tr>\n",
       "      <th>2</th>\n",
       "      <td>13350</td>\n",
       "      <td>tl1</td>\n",
       "      <td>India</td>\n",
       "      <td>4.0</td>\n",
       "      <td>7.0</td>\n",
       "      <td>35.0</td>\n",
       "      <td>2015-02-09 00:00:00</td>\n",
       "      <td>2015-04-02 00:00:00</td>\n",
       "      <td>52.0</td>\n",
       "      <td>202.0</td>\n",
       "      <td>0.200000</td>\n",
       "      <td>3.463991</td>\n",
       "    </tr>\n",
       "  </tbody>\n",
       "</table>\n",
       "</div>"
      ],
      "text/plain": [
       "   uniqueID    ID location  maturity  totalDevelopers  complexityPoints  \\\n",
       "0     14187    t1    India       4.0             13.0              60.0   \n",
       "1     15448  b1b3  Virtual       4.0             25.0             170.0   \n",
       "2     13350   tl1    India       4.0              7.0              35.0   \n",
       "\n",
       "                 start                  end  leadTime  technicalDebt  \\\n",
       "0  2014-08-11 00:00:00  2015-02-06 00:00:00     179.0          796.0   \n",
       "1  2015-01-19 00:00:00  2015-06-05 00:00:00     137.0         2474.0   \n",
       "2  2015-02-09 00:00:00  2015-04-02 00:00:00      52.0          202.0   \n",
       "\n",
       "   taskScaling  taskGlobalDistance  \n",
       "0     0.216667            1.250000  \n",
       "1     0.147059            6.244748  \n",
       "2     0.200000            3.463991  "
      ]
     },
     "execution_count": 2,
     "metadata": {},
     "output_type": "execute_result"
    }
   ],
   "source": [
    "# 1. Tabela de Métricas\n",
    "df_all_metrics.head(3)"
   ]
  },
  {
   "cell_type": "markdown",
   "metadata": {},
   "source": [
    "## 2. Box-plot about TD values group by located"
   ]
  },
  {
   "cell_type": "code",
   "execution_count": 3,
   "metadata": {},
   "outputs": [
    {
     "data": {
      "text/plain": [
       "Text(0.5,1,'Boxplot Distribuition Technical Debt x Location')"
      ]
     },
     "execution_count": 3,
     "metadata": {},
     "output_type": "execute_result"
    },
    {
     "data": {
      "image/png": "[encoded data removed]",
      "text/plain": [
       "<Figure size 432x288 with 1 Axes>"
      ]
     },
     "metadata": {
      "needs_background": "light"
     },
     "output_type": "display_data"
    }
   ],
   "source": [
    "sns.boxplot(x='location', y='technicalDebt', data=df_all_metrics).set_title('Boxplot Distribuition Technical Debt x Location')"
   ]
  },
  {
   "cell_type": "markdown",
   "metadata": {},
   "source": [
    "## 3. Check correlations among factors and TD"
   ]
  },
  {
   "cell_type": "markdown",
   "metadata": {},
   "source": [
    "### Correlation Matrix"
   ]
  },
  {
   "cell_type": "code",
   "execution_count": 4,
   "metadata": {},
   "outputs": [
    {
     "data": {
      "text/html": [
       "<div>\n",
       "<style scoped>\n",
       "    .dataframe tbody tr th:only-of-type {\n",
       "        vertical-align: middle;\n",
       "    }\n",
       "\n",
       "    .dataframe tbody tr th {\n",
       "        vertical-align: top;\n",
       "    }\n",
       "\n",
       "    .dataframe thead th {\n",
       "        text-align: right;\n",
       "    }\n",
       "</style>\n",
       "<table border=\"1\" class=\"dataframe\">\n",
       "  <thead>\n",
       "    <tr style=\"text-align: right;\">\n",
       "      <th></th>\n",
       "      <th>uniqueID</th>\n",
       "      <th>maturity</th>\n",
       "      <th>totalDevelopers</th>\n",
       "      <th>complexityPoints</th>\n",
       "      <th>leadTime</th>\n",
       "      <th>technicalDebt</th>\n",
       "      <th>taskScaling</th>\n",
       "      <th>taskGlobalDistance</th>\n",
       "    </tr>\n",
       "  </thead>\n",
       "  <tbody>\n",
       "    <tr>\n",
       "      <th>uniqueID</th>\n",
       "      <td>1.0000</td>\n",
       "      <td>-0.1308</td>\n",
       "      <td>-0.0864</td>\n",
       "      <td>0.0430</td>\n",
       "      <td>-0.1769</td>\n",
       "      <td>0.0258</td>\n",
       "      <td>0.0525</td>\n",
       "      <td>0.3865</td>\n",
       "    </tr>\n",
       "    <tr>\n",
       "      <th>maturity</th>\n",
       "      <td>-0.1308</td>\n",
       "      <td>1.0000</td>\n",
       "      <td>0.3162</td>\n",
       "      <td>-0.2918</td>\n",
       "      <td>0.0119</td>\n",
       "      <td>-0.0476</td>\n",
       "      <td>0.5259</td>\n",
       "      <td>0.2134</td>\n",
       "    </tr>\n",
       "    <tr>\n",
       "      <th>totalDevelopers</th>\n",
       "      <td>-0.0864</td>\n",
       "      <td>0.3162</td>\n",
       "      <td>1.0000</td>\n",
       "      <td>0.2966</td>\n",
       "      <td>0.5913</td>\n",
       "      <td>0.3433</td>\n",
       "      <td>0.0765</td>\n",
       "      <td>0.2219</td>\n",
       "    </tr>\n",
       "    <tr>\n",
       "      <th>complexityPoints</th>\n",
       "      <td>0.0430</td>\n",
       "      <td>-0.2918</td>\n",
       "      <td>0.2966</td>\n",
       "      <td>1.0000</td>\n",
       "      <td>0.3300</td>\n",
       "      <td>0.6088</td>\n",
       "      <td>-0.4695</td>\n",
       "      <td>-0.2742</td>\n",
       "    </tr>\n",
       "    <tr>\n",
       "      <th>leadTime</th>\n",
       "      <td>-0.1769</td>\n",
       "      <td>0.0119</td>\n",
       "      <td>0.5913</td>\n",
       "      <td>0.3300</td>\n",
       "      <td>1.0000</td>\n",
       "      <td>0.4088</td>\n",
       "      <td>-0.2425</td>\n",
       "      <td>-0.1703</td>\n",
       "    </tr>\n",
       "    <tr>\n",
       "      <th>technicalDebt</th>\n",
       "      <td>0.0258</td>\n",
       "      <td>-0.0476</td>\n",
       "      <td>0.3433</td>\n",
       "      <td>0.6088</td>\n",
       "      <td>0.4088</td>\n",
       "      <td>1.0000</td>\n",
       "      <td>-0.4190</td>\n",
       "      <td>-0.0258</td>\n",
       "    </tr>\n",
       "    <tr>\n",
       "      <th>taskScaling</th>\n",
       "      <td>0.0525</td>\n",
       "      <td>0.5259</td>\n",
       "      <td>0.0765</td>\n",
       "      <td>-0.4695</td>\n",
       "      <td>-0.2425</td>\n",
       "      <td>-0.4190</td>\n",
       "      <td>1.0000</td>\n",
       "      <td>0.2017</td>\n",
       "    </tr>\n",
       "    <tr>\n",
       "      <th>taskGlobalDistance</th>\n",
       "      <td>0.3865</td>\n",
       "      <td>0.2134</td>\n",
       "      <td>0.2219</td>\n",
       "      <td>-0.2742</td>\n",
       "      <td>-0.1703</td>\n",
       "      <td>-0.0258</td>\n",
       "      <td>0.2017</td>\n",
       "      <td>1.0000</td>\n",
       "    </tr>\n",
       "  </tbody>\n",
       "</table>\n",
       "</div>"
      ],
      "text/plain": [
       "                    uniqueID  maturity  totalDevelopers  complexityPoints  \\\n",
       "uniqueID              1.0000   -0.1308          -0.0864            0.0430   \n",
       "maturity             -0.1308    1.0000           0.3162           -0.2918   \n",
       "totalDevelopers      -0.0864    0.3162           1.0000            0.2966   \n",
       "complexityPoints      0.0430   -0.2918           0.2966            1.0000   \n",
       "leadTime             -0.1769    0.0119           0.5913            0.3300   \n",
       "technicalDebt         0.0258   -0.0476           0.3433            0.6088   \n",
       "taskScaling           0.0525    0.5259           0.0765           -0.4695   \n",
       "taskGlobalDistance    0.3865    0.2134           0.2219           -0.2742   \n",
       "\n",
       "                    leadTime  technicalDebt  taskScaling  taskGlobalDistance  \n",
       "uniqueID             -0.1769         0.0258       0.0525              0.3865  \n",
       "maturity              0.0119        -0.0476       0.5259              0.2134  \n",
       "totalDevelopers       0.5913         0.3433       0.0765              0.2219  \n",
       "complexityPoints      0.3300         0.6088      -0.4695             -0.2742  \n",
       "leadTime              1.0000         0.4088      -0.2425             -0.1703  \n",
       "technicalDebt         0.4088         1.0000      -0.4190             -0.0258  \n",
       "taskScaling          -0.2425        -0.4190       1.0000              0.2017  \n",
       "taskGlobalDistance   -0.1703        -0.0258       0.2017              1.0000  "
      ]
     },
     "execution_count": 4,
     "metadata": {},
     "output_type": "execute_result"
    }
   ],
   "source": [
    "df_all_metrics.corr().round(4)"
   ]
  },
  {
   "cell_type": "markdown",
   "metadata": {},
   "source": [
    "### Testing Linearity: Scatter Plot"
   ]
  },
  {
   "cell_type": "code",
   "execution_count": 5,
   "metadata": {},
   "outputs": [
    {
     "data": {
      "text/plain": [
       "<seaborn.axisgrid.PairGrid at 0x117ff7550>"
      ]
     },
     "execution_count": 5,
     "metadata": {},
     "output_type": "execute_result"
    },
    {
     "data": {
      "image/png": "[encoded data removed]",
      "text/plain": [
       "<Figure size 1080x180 with 6 Axes>"
      ]
     },
     "metadata": {
      "needs_background": "light"
     },
     "output_type": "display_data"
    }
   ],
   "source": [
    "ax = sns.pairplot(df_all_metrics, y_vars='technicalDebt', x_vars=['maturity', 'totalDevelopers', 'complexityPoints', \n",
    "                                                                  'leadTime', 'taskScaling', 'taskGlobalDistance'])\n",
    "ax.fig.suptitle('', fontsize=20, y=1.05)\n",
    "ax"
   ]
  },
  {
   "cell_type": "markdown",
   "metadata": {},
   "source": [
    "### Spearman's Coeficient"
   ]
  },
  {
   "cell_type": "code",
   "execution_count": 6,
   "metadata": {},
   "outputs": [
    {
     "name": "stdout",
     "output_type": "stream",
     "text": [
      "Lead Time x Technical Debt\n",
      "SpearmanrResult(correlation=0.48587185407612227, pvalue=0.004814195878751078)\n",
      "\n",
      "Task Complexity x Technical Debt\n",
      "SpearmanrResult(correlation=0.6498748363481108, pvalue=5.689214652268194e-05)\n",
      "\n",
      "Total Developers x Technical Debt\n",
      "SpearmanrResult(correlation=0.5049990019693433, pvalue=0.0032000488729230416)\n",
      "\n",
      "Task Scaling x Technical Debt\n",
      "SpearmanrResult(correlation=-0.43922598272476504, pvalue=0.011900668916364508)\n"
     ]
    }
   ],
   "source": [
    "arrayTechnicalDebt = df_all_metrics.technicalDebt.values\n",
    "\n",
    "arrayLeadTime = df_all_metrics.leadTime.values\n",
    "print(\"Lead Time x Technical Debt\")\n",
    "print(stats.spearmanr(arrayLeadTime, arrayTechnicalDebt))\n",
    "print(\"\")\n",
    "\n",
    "arrayComplexityPoints = df_all_metrics.complexityPoints.values\n",
    "print(\"Task Complexity x Technical Debt\")\n",
    "print(stats.spearmanr(arrayComplexityPoints, arrayTechnicalDebt))\n",
    "print(\"\")\n",
    "\n",
    "arrayTotalDevelopers = df_all_metrics.totalDevelopers.values\n",
    "print(\"Total Developers x Technical Debt\")\n",
    "print(stats.spearmanr(arrayTotalDevelopers, arrayTechnicalDebt))\n",
    "print(\"\")\n",
    "\n",
    "arrayTaskScaling = df_all_metrics.taskScaling.values\n",
    "print(\"Task Scaling x Technical Debt\")\n",
    "print(stats.spearmanr(arrayTaskScaling, arrayTechnicalDebt))"
   ]
  },
  {
   "cell_type": "code",
   "execution_count": 7,
   "metadata": {},
   "outputs": [],
   "source": [
    "# Dictionary with set of variables\n",
    "my_dict = {0:'technicalDebt', 1:'leadTime', 2:'complexityPoints', \n",
    "           3:'totalDevelopers',4:'taskScaling', 5:'maturity', 6:'taskGlobalDistance'}\n",
    "\n",
    "# Independent variable\n",
    "y = df_all_metrics.technicalDebt\n",
    "\n",
    "# Dependents variables\n",
    "X = df_all_metrics[[my_dict[1], my_dict[2], my_dict[3], my_dict[4]]]"
   ]
  },
  {
   "cell_type": "markdown",
   "metadata": {},
   "source": [
    "## 4. Testing Normality\n",
    "\n",
    "<p>\n",
    "The normal distribution of residuals is tested by visually checking the normal P-P plot. The points on the plot remain close to the diagonal line, which means residuals are normally distributed. So, we do not violate the assumption of normality.\n",
    "</p>"
   ]
  },
  {
   "cell_type": "code",
   "execution_count": 8,
   "metadata": {},
   "outputs": [
    {
     "name": "stderr",
     "output_type": "stream",
     "text": [
      "/Library/Frameworks/Python.framework/Versions/3.6/lib/python3.6/site-packages/sklearn/linear_model/base.py:509: RuntimeWarning: internal gelsd driver lwork query error, required iwork dimension not returned. This is likely the result of LAPACK bug 0038, fixed in LAPACK 3.2.2 (released July 21, 2010). Falling back to 'gelss' driver.\n",
      "  linalg.lstsq(X, y)\n"
     ]
    },
    {
     "data": {
      "image/png": "[encoded data removed]",
      "text/plain": [
       "<Figure size 432x288 with 1 Axes>"
      ]
     },
     "metadata": {
      "needs_background": "light"
     },
     "output_type": "display_data"
    },
    {
     "data": {
      "image/png": "[encoded data removed]",
      "text/plain": [
       "<Figure size 432x288 with 1 Axes>"
      ]
     },
     "metadata": {
      "needs_background": "light"
     },
     "output_type": "display_data"
    }
   ],
   "source": [
    "import statsmodels.api as sm\n",
    "from matplotlib import pyplot as plt\n",
    "import scipy.stats as stats\n",
    "\n",
    "from sklearn.linear_model import LinearRegression\n",
    "from sklearn import metrics\n",
    "from sklearn.model_selection import train_test_split\n",
    "\n",
    "# print(\"Creating the dataset of train and test\")\n",
    "X_train, X_test, y_train, y_test = train_test_split(X, y, test_size=0.3, random_state=1000)\n",
    "\n",
    "#Linear regression\n",
    "modelo = LinearRegression()\n",
    "modelo.fit(X_train, y_train)\n",
    "\n",
    "y_previsto_train = modelo.predict(X_train)\n",
    "\n",
    "residuo = y_train - y_previsto_train\n",
    "\n",
    "tn_x = residuo.values \n",
    "tn_y = y_previsto_train\n",
    "\n",
    "pp_x = sm.ProbPlot(tn_x, fit=True)\n",
    "pp_y = sm.ProbPlot(tn_y, fit=True)\n",
    "\n",
    "fig = pp_y.ppplot(line='45', other=pp_x)\n",
    "h = plt.title('Dependent Variable: technical debt')\n",
    "\n",
    "fig = pp_x.ppplot(line='45', other=pp_y)\n",
    "h = plt.title('ppplot - compare residuo x y_expected, other=pp_y')\n",
    "plt.show()"
   ]
  },
  {
   "cell_type": "markdown",
   "metadata": {},
   "source": [
    "## 5. No auto-correlation\n",
    "\n",
    "### Durbin_Watson"
   ]
  },
  {
   "cell_type": "code",
   "execution_count": 9,
   "metadata": {},
   "outputs": [
    {
     "name": "stdout",
     "output_type": "stream",
     "text": [
      "dw of technicalDebt is 2.041\n",
      "dw of leadTime is 1.614\n",
      "dw of complexityPoints is 2.155\n",
      "dw of totalDevelopers is 1.23\n",
      "dw of taskScaling is 1.727\n"
     ]
    },
    {
     "data": {
      "text/html": [
       "<div>\n",
       "<style scoped>\n",
       "    .dataframe tbody tr th:only-of-type {\n",
       "        vertical-align: middle;\n",
       "    }\n",
       "\n",
       "    .dataframe tbody tr th {\n",
       "        vertical-align: top;\n",
       "    }\n",
       "\n",
       "    .dataframe thead th {\n",
       "        text-align: right;\n",
       "    }\n",
       "</style>\n",
       "<table border=\"1\" class=\"dataframe\">\n",
       "  <thead>\n",
       "    <tr style=\"text-align: right;\">\n",
       "      <th></th>\n",
       "      <th>value</th>\n",
       "    </tr>\n",
       "  </thead>\n",
       "  <tbody>\n",
       "    <tr>\n",
       "      <th>technical debt</th>\n",
       "      <td>2.041</td>\n",
       "    </tr>\n",
       "    <tr>\n",
       "      <th>lead time</th>\n",
       "      <td>1.614</td>\n",
       "    </tr>\n",
       "    <tr>\n",
       "      <th>task complexity</th>\n",
       "      <td>2.155</td>\n",
       "    </tr>\n",
       "    <tr>\n",
       "      <th>total Developers</th>\n",
       "      <td>1.230</td>\n",
       "    </tr>\n",
       "    <tr>\n",
       "      <th>task Scaling</th>\n",
       "      <td>1.727</td>\n",
       "    </tr>\n",
       "  </tbody>\n",
       "</table>\n",
       "</div>"
      ],
      "text/plain": [
       "                  value\n",
       "technical debt    2.041\n",
       "lead time         1.614\n",
       "task complexity   2.155\n",
       "total Developers  1.230\n",
       "task Scaling      1.727"
      ]
     },
     "execution_count": 9,
     "metadata": {},
     "output_type": "execute_result"
    }
   ],
   "source": [
    "from statsmodels.regression.linear_model import OLS\n",
    "from statsmodels.stats.stattools import durbin_watson\n",
    "\n",
    "import numpy as np\n",
    "\n",
    "def dw(data):\n",
    "    ols_res = OLS(data, np.ones(len(data))).fit()\n",
    "    return durbin_watson(ols_res.resid)\n",
    "\n",
    "#print(\"dw of range=%f technicalDebt\" % dw(df_all_metrics.technicalDebt.values))\n",
    "\n",
    "for each in range(0,5):\n",
    "    print(\"dw of \" + my_dict[each] + \" is\", dw(df_all_metrics[my_dict[each]].values).round(3))\n",
    "    \n",
    "    my_array_dw = np.array([\n",
    "    [2.041],\n",
    "\t[1.614], \n",
    "\t[2.155], \n",
    "\t[1.23], \n",
    "\t[1.727]\n",
    "\t])\n",
    "my_index_dw = ['technical debt', 'lead time', 'task complexity', 'total Developers', 'task Scaling']\n",
    "my_columns_dw = ['value']\n",
    "\n",
    "df_my_dw = pd.DataFrame(data=my_array_dw , index=my_index_dw , columns=my_columns_dw)\n",
    "df_my_dw    "
   ]
  },
  {
   "cell_type": "markdown",
   "metadata": {},
   "source": [
    "## 6. Testing Homescedascity"
   ]
  },
  {
   "cell_type": "code",
   "execution_count": 10,
   "metadata": {},
   "outputs": [
    {
     "name": "stdout",
     "output_type": "stream",
     "text": [
      "Perform a Breusch-Pagan test.\n"
     ]
    },
    {
     "data": {
      "text/plain": [
       "[('Lagrange multiplier statistic', 2.3261542987377517),\n",
       " ('p-value', 0.6760114026390507),\n",
       " ('f-value', 0.5291373984536129),\n",
       " ('f p-value', 0.7152904901671338)]"
      ]
     },
     "execution_count": 10,
     "metadata": {},
     "output_type": "execute_result"
    }
   ],
   "source": [
    "# Breusch-Pagan Test\n",
    "\n",
    "# import smf to process regression model\n",
    "import statsmodels.formula.api as smf\n",
    "\n",
    "# 1. Data (y, x1, x2, x3, x4)\n",
    "my_df_tm_modelo = df_all_metrics[[my_dict[0], my_dict[1], my_dict[2], my_dict[3], my_dict[4]]]\n",
    "df_bp = my_df_tm_modelo[['technicalDebt', 'leadTime', 'complexityPoints', 'totalDevelopers', 'taskScaling']]\n",
    "\n",
    "# 2. fit regression model\n",
    "fit = smf.ols('technicalDebt ~ leadTime+complexityPoints+totalDevelopers+taskScaling', data=df_bp).fit()\n",
    "\n",
    "#fit.summary()\n",
    "\n",
    "print(\"Perform a Breusch-Pagan test.\")\n",
    "\n",
    "# import lzip and sms\n",
    "from statsmodels.compat import lzip\n",
    "import statsmodels.stats.api as sms\n",
    "\n",
    "names = ['Lagrange multiplier statistic', 'p-value', 'f-value', 'f p-value']\n",
    "\n",
    "# 3. perform Bresuch-Pagan test \n",
    "test = sms.het_breuschpagan(fit.resid, fit.model.exog)\n",
    "\n",
    "lzip(names, test)"
   ]
  },
  {
   "cell_type": "markdown",
   "metadata": {},
   "source": [
    "<h3> A Breusch-Pagan test uses the following null and alternative hypotheses: </h3>\n",
    "\n",
    "<p>\n",
    " The null hypothesis (H0): Homoscedasticity is present.  \n",
    "    \n",
    " The alternative hypothesis: (Ha): Homoscedasticity is not present (i.e. heteroscedasticity exists)\n",
    "\n",
    "\n",
    " In this dataset, the Lagrange multiplier statistic for the test is 2.326 \n",
    " and the corresponding p-value is 0.676. \n",
    " Because this p-value is not less than 0.05, we fail to reject the null hypothesis. \n",
    "</p>"
   ]
  },
  {
   "cell_type": "markdown",
   "metadata": {},
   "source": [
    "## 7. Testing Multicolinearity"
   ]
  },
  {
   "cell_type": "code",
   "execution_count": 11,
   "metadata": {},
   "outputs": [
    {
     "data": {
      "text/html": [
       "<div>\n",
       "<style scoped>\n",
       "    .dataframe tbody tr th:only-of-type {\n",
       "        vertical-align: middle;\n",
       "    }\n",
       "\n",
       "    .dataframe tbody tr th {\n",
       "        vertical-align: top;\n",
       "    }\n",
       "\n",
       "    .dataframe thead th {\n",
       "        text-align: right;\n",
       "    }\n",
       "</style>\n",
       "<table border=\"1\" class=\"dataframe\">\n",
       "  <thead>\n",
       "    <tr style=\"text-align: right;\">\n",
       "      <th></th>\n",
       "      <th>VIF</th>\n",
       "      <th>Tolerance</th>\n",
       "    </tr>\n",
       "  </thead>\n",
       "  <tbody>\n",
       "    <tr>\n",
       "      <th>complexityPoints</th>\n",
       "      <td>1.496794</td>\n",
       "      <td>0.668094</td>\n",
       "    </tr>\n",
       "    <tr>\n",
       "      <th>leadTime</th>\n",
       "      <td>1.764050</td>\n",
       "      <td>0.566877</td>\n",
       "    </tr>\n",
       "    <tr>\n",
       "      <th>taskScaling</th>\n",
       "      <td>1.511341</td>\n",
       "      <td>0.661664</td>\n",
       "    </tr>\n",
       "    <tr>\n",
       "      <th>totalDevelopers</th>\n",
       "      <td>1.823810</td>\n",
       "      <td>0.548303</td>\n",
       "    </tr>\n",
       "  </tbody>\n",
       "</table>\n",
       "</div>"
      ],
      "text/plain": [
       "                       VIF  Tolerance\n",
       "complexityPoints  1.496794   0.668094\n",
       "leadTime          1.764050   0.566877\n",
       "taskScaling       1.511341   0.661664\n",
       "totalDevelopers   1.823810   0.548303"
      ]
     },
     "execution_count": 11,
     "metadata": {},
     "output_type": "execute_result"
    }
   ],
   "source": [
    "import statsmodels.formula.api as smf\n",
    "\n",
    "# import warnings\n",
    "# warnings.simplefilter(action='ignore', category=FutureWarning)\n",
    "from sklearn.linear_model import LinearRegression\n",
    "\n",
    "def sklearn_vif(exogs, data):\n",
    "\n",
    "    # initialize dictionaries\n",
    "    vif_dict, tolerance_dict = {}, {}\n",
    "\n",
    "    # form input data for each exogenous variable\n",
    "    for exog in exogs:\n",
    "        not_exog = [i for i in exogs if i != exog]\n",
    "        X, y = data[not_exog], data[exog]\n",
    "\n",
    "        # extract r-squared from the fit\n",
    "        r_squared = LinearRegression().fit(X, y).score(X, y)\n",
    "\n",
    "        # calculate VIF\n",
    "        vif = 1/(1 - r_squared)\n",
    "        vif_dict[exog] = vif\n",
    "\n",
    "        # calculate tolerance\n",
    "        tolerance = 1 - r_squared\n",
    "        tolerance_dict[exog] = tolerance\n",
    "\n",
    "    # return VIF DataFrame\n",
    "    df_vif = pd.DataFrame({'VIF': vif_dict, 'Tolerance': tolerance_dict})\n",
    "\n",
    "    return df_vif\n",
    "\n",
    "my_df_tm_modelo4 = df_all_metrics[[my_dict[0], my_dict[1], my_dict[2], my_dict[3], my_dict[4]]]\n",
    "exogs_modelo4 = ['leadTime', 'complexityPoints', 'totalDevelopers', 'taskScaling']\n",
    "\n",
    "df_vif_modelo4 = sklearn_vif(exogs=exogs_modelo4, data=my_df_tm_modelo4)\n",
    "df_vif_modelo4"
   ]
  },
  {
   "cell_type": "markdown",
   "metadata": {},
   "source": [
    "## 7. Final Regression Model"
   ]
  },
  {
   "cell_type": "code",
   "execution_count": 12,
   "metadata": {},
   "outputs": [
    {
     "name": "stdout",
     "output_type": "stream",
     "text": [
      "y = B0 + B1X1 + B2X2 + B3X3 + B4X4\n",
      "B0=894.668 B1=1.935  B2=5.483 B3=53.982 B4=-3298.654\n",
      "\n",
      "Y = 894.668 + 1.935(leadTime) + 5.483(complexityPoints) + 53.982(totalDevelopers) + -3298.654(taskScaling)\n"
     ]
    }
   ],
   "source": [
    "my_coeficientes = ['intercepto', 'leadTime', 'complexityPoints', 'totalDevelopers', 'taskScaling']\n",
    "\n",
    "print(\"y = B0 + B1X1 + B2X2 + B3X3 + B4X4\")\n",
    "\n",
    "print(\"B0={} B1={}  B2={} B3={} B4={}\".format(\n",
    "    modelo.intercept_.round(3), modelo.coef_[0].round(3), \n",
    "    modelo.coef_[1].round(3), modelo.coef_[2].round(3), \n",
    "    modelo.coef_[3].round(3)))\n",
    "\n",
    "dict_coeficientes = {my_coeficientes[0]:modelo.intercept_.round(3), my_coeficientes[1]:modelo.coef_[0].round(3), \n",
    "                     my_coeficientes[2]:modelo.coef_[1].round(3), my_coeficientes[3]:modelo.coef_[2].round(3),\n",
    "                     my_coeficientes[4]:modelo.coef_[3].round(3)}\n",
    "dict_coeficientes\n",
    "\n",
    "print(\"\")\n",
    "\n",
    "print(\"Y = {} + {}({}) + {}({}) + {}({}) + {}({})\".format(modelo.intercept_.round(3), \n",
    "     dict_coeficientes[my_coeficientes[1]].round(3), my_coeficientes[1], \n",
    "     dict_coeficientes[my_coeficientes[2]].round(3), my_coeficientes[2], \n",
    "     dict_coeficientes[my_coeficientes[3]].round(3), my_coeficientes[3], \n",
    "     dict_coeficientes[my_coeficientes[4]].round(3), my_coeficientes[4]))"
   ]
  },
  {
   "cell_type": "code",
   "execution_count": null,
   "metadata": {},
   "outputs": [],
   "source": []
  }
 ],
 "metadata": {
  "kernelspec": {
   "display_name": "Python 3",
   "language": "python",
   "name": "python3"
  },
  "language_info": {
   "codemirror_mode": {
    "name": "ipython",
    "version": 3
   },
   "file_extension": ".py",
   "mimetype": "text/x-python",
   "name": "python",
   "nbconvert_exporter": "python",
   "pygments_lexer": "ipython3",
   "version": "3.6.3"
  }
 },
 "nbformat": 4,
 "nbformat_minor": 2
}
